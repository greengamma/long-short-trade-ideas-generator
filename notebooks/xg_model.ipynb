{
 "cells": [
  {
   "cell_type": "markdown",
   "id": "9487ff65-55c4-4903-98a4-c93f42cba4bc",
   "metadata": {},
   "source": [
    "### 0. Imports"
   ]
  },
  {
   "cell_type": "code",
   "execution_count": 4,
   "id": "9dc1519d-1a12-4b83-bb4a-53118a31f4e8",
   "metadata": {},
   "outputs": [],
   "source": [
    "import pandas as pd\n",
    "import numpy as np\n",
    "import seaborn as sns\n",
    "import pandas_ta as ta\n",
    "import datetime\n",
    "from xgboost import XGBRegressor, plot_importance, plot_tree\n",
    "from sklearn.metrics import mean_squared_error, mean_absolute_error"
   ]
  },
  {
   "cell_type": "markdown",
   "id": "fad5f496-01bb-43ab-affc-11a2d6a97dec",
   "metadata": {},
   "source": [
    "### 1. Read data into Dataframe"
   ]
  },
  {
   "cell_type": "code",
   "execution_count": 81,
   "id": "0f30ff22-e493-437b-9cc1-dfe499283a36",
   "metadata": {
    "tags": []
   },
   "outputs": [],
   "source": [
    "df = pd.read_csv('../../long_short_local/raw_data/cleaned_data.csv')"
   ]
  },
  {
   "cell_type": "markdown",
   "id": "ca3e6221-6e72-496e-80d0-3cc6029add16",
   "metadata": {},
   "source": [
    "### 2. Prepare data"
   ]
  },
  {
   "cell_type": "markdown",
   "id": "879cf715-a1d2-4a5d-addd-a92327ee2629",
   "metadata": {},
   "source": [
    "#### 2.1 Add SMA (simple moving average)"
   ]
  },
  {
   "cell_type": "code",
   "execution_count": 82,
   "id": "8907e4ab-8db5-41fa-bfee-8654fd949ef3",
   "metadata": {
    "tags": []
   },
   "outputs": [],
   "source": [
    "# convert 'Date' column to datetime values\n",
    "df['Date'] = pd.to_datetime(df['Date'].str[:10])"
   ]
  },
  {
   "cell_type": "code",
   "execution_count": 8,
   "id": "aa130af5-82fc-4cc0-b0ea-01229f36e9d7",
   "metadata": {
    "collapsed": true,
    "jupyter": {
     "outputs_hidden": true
    },
    "tags": []
   },
   "outputs": [
    {
     "name": "stdout",
     "output_type": "stream",
     "text": [
      "Empty DataFrame\n",
      "Columns: []\n",
      "Index: []\n",
      "Empty DataFrame\n",
      "Columns: []\n",
      "Index: []\n",
      "Empty DataFrame\n",
      "Columns: []\n",
      "Index: []\n",
      "Empty DataFrame\n",
      "Columns: []\n",
      "Index: []\n",
      "Empty DataFrame\n",
      "Columns: []\n",
      "Index: []\n",
      "Empty DataFrame\n",
      "Columns: []\n",
      "Index: []\n",
      "Empty DataFrame\n",
      "Columns: []\n",
      "Index: []\n",
      "Empty DataFrame\n",
      "Columns: []\n",
      "Index: []\n",
      "Empty DataFrame\n",
      "Columns: []\n",
      "Index: []\n",
      "Empty DataFrame\n",
      "Columns: []\n",
      "Index: []\n",
      "Empty DataFrame\n",
      "Columns: []\n",
      "Index: []\n",
      "Empty DataFrame\n",
      "Columns: []\n",
      "Index: []\n",
      "Empty DataFrame\n",
      "Columns: []\n",
      "Index: []\n",
      "Empty DataFrame\n",
      "Columns: []\n",
      "Index: []\n",
      "Empty DataFrame\n",
      "Columns: []\n",
      "Index: []\n"
     ]
    }
   ],
   "source": [
    "# iterate over the list of columns to compute SMA\n",
    "for ratio in df.columns:\n",
    "    sma10 = pd.DataFrame(ta.sma(df[[ratio]], length=10))\n",
    "    print(sma10.head(2))\n",
    "    #new_df = pd.concat([new_df, sma10], axis=1, ignore_index=False)\n",
    "    "
   ]
  },
  {
   "cell_type": "code",
   "execution_count": 272,
   "id": "94028518-b185-4918-908b-879f11e06568",
   "metadata": {},
   "outputs": [],
   "source": [
    "df = pd.read_csv('../../long_short_local/raw_data/cleaned_data.csv')"
   ]
  },
  {
   "cell_type": "code",
   "execution_count": 273,
   "id": "81b4a1ec-667c-4eca-ad78-4fbedb4f63f0",
   "metadata": {},
   "outputs": [],
   "source": [
    "# convert 'Date' column to datetime values\n",
    "df['Date'] = pd.to_datetime(df['Date'].str[:10])"
   ]
  },
  {
   "cell_type": "code",
   "execution_count": 274,
   "id": "41169a3e-bdb9-443b-8971-bb74c0b83f6d",
   "metadata": {},
   "outputs": [],
   "source": [
    "sma_10_df_prep = pd.DataFrame(df['Date'])\n",
    "\n",
    "for ratio in df.columns:\n",
    "    test_df = df[['Date', ratio]]\n",
    "    sma10 = pd.DataFrame(ta.sma(test_df[ratio], length=10))\n",
    "    loop_df = pd.concat([test_df, sma10], axis=1, ignore_index=False)\n",
    "    loop_df.rename(columns={'SMA_10': f'{ratio}_SMA_10'}, inplace=True)\n",
    "    sma_10_df_prep = pd.concat([sma_10_df_prep, loop_df], axis=1, ignore_index=False)"
   ]
  },
  {
   "cell_type": "code",
   "execution_count": 275,
   "id": "d11c0af5-50df-4db3-be6c-0a68e6ea4f27",
   "metadata": {
    "tags": []
   },
   "outputs": [],
   "source": [
    "sma_10_df = sma_10_df_prep.iloc[:, 3:]  "
   ]
  },
  {
   "cell_type": "code",
   "execution_count": 276,
   "id": "d19e33f3-b82c-4ceb-b8c3-520a4cf08444",
   "metadata": {
    "tags": []
   },
   "outputs": [
    {
     "data": {
      "text/html": [
       "<div>\n",
       "<style scoped>\n",
       "    .dataframe tbody tr th:only-of-type {\n",
       "        vertical-align: middle;\n",
       "    }\n",
       "\n",
       "    .dataframe tbody tr th {\n",
       "        vertical-align: top;\n",
       "    }\n",
       "\n",
       "    .dataframe thead th {\n",
       "        text-align: right;\n",
       "    }\n",
       "</style>\n",
       "<table border=\"1\" class=\"dataframe\">\n",
       "  <thead>\n",
       "    <tr style=\"text-align: right;\">\n",
       "      <th></th>\n",
       "      <th>Date</th>\n",
       "      <th>TEL_BIO</th>\n",
       "      <th>TEL_BIO_SMA_10</th>\n",
       "      <th>Date</th>\n",
       "      <th>ADP_SYK</th>\n",
       "      <th>ADP_SYK_SMA_10</th>\n",
       "      <th>Date</th>\n",
       "      <th>ON_MU</th>\n",
       "      <th>ON_MU_SMA_10</th>\n",
       "      <th>Date</th>\n",
       "      <th>...</th>\n",
       "      <th>IT_NEM_SMA_10</th>\n",
       "      <th>Date</th>\n",
       "      <th>NRG_NEM</th>\n",
       "      <th>NRG_NEM_SMA_10</th>\n",
       "      <th>Date</th>\n",
       "      <th>SCHW_NEM</th>\n",
       "      <th>SCHW_NEM_SMA_10</th>\n",
       "      <th>Date</th>\n",
       "      <th>TT_NEM</th>\n",
       "      <th>TT_NEM_SMA_10</th>\n",
       "    </tr>\n",
       "  </thead>\n",
       "  <tbody>\n",
       "    <tr>\n",
       "      <th>121</th>\n",
       "      <td>2022-08-17</td>\n",
       "      <td>0.258362</td>\n",
       "      <td>0.249195</td>\n",
       "      <td>2022-08-17</td>\n",
       "      <td>1.177302</td>\n",
       "      <td>1.153486</td>\n",
       "      <td>2022-08-17</td>\n",
       "      <td>1.108244</td>\n",
       "      <td>1.084810</td>\n",
       "      <td>2022-08-17</td>\n",
       "      <td>...</td>\n",
       "      <td>6.665816</td>\n",
       "      <td>2022-08-17</td>\n",
       "      <td>0.948998</td>\n",
       "      <td>0.887402</td>\n",
       "      <td>2022-08-17</td>\n",
       "      <td>1.680624</td>\n",
       "      <td>1.585070</td>\n",
       "      <td>2022-08-17</td>\n",
       "      <td>3.706459</td>\n",
       "      <td>3.517020</td>\n",
       "    </tr>\n",
       "    <tr>\n",
       "      <th>122</th>\n",
       "      <td>2022-08-18</td>\n",
       "      <td>0.263737</td>\n",
       "      <td>0.250940</td>\n",
       "      <td>2022-08-18</td>\n",
       "      <td>1.181579</td>\n",
       "      <td>1.157752</td>\n",
       "      <td>2022-08-18</td>\n",
       "      <td>1.163068</td>\n",
       "      <td>1.096182</td>\n",
       "      <td>2022-08-18</td>\n",
       "      <td>...</td>\n",
       "      <td>6.723600</td>\n",
       "      <td>2022-08-18</td>\n",
       "      <td>0.974692</td>\n",
       "      <td>0.898432</td>\n",
       "      <td>2022-08-18</td>\n",
       "      <td>1.696528</td>\n",
       "      <td>1.602817</td>\n",
       "      <td>2022-08-18</td>\n",
       "      <td>3.739306</td>\n",
       "      <td>3.548923</td>\n",
       "    </tr>\n",
       "    <tr>\n",
       "      <th>123</th>\n",
       "      <td>2022-08-19</td>\n",
       "      <td>0.264347</td>\n",
       "      <td>0.252804</td>\n",
       "      <td>2022-08-19</td>\n",
       "      <td>1.191070</td>\n",
       "      <td>1.162304</td>\n",
       "      <td>2022-08-19</td>\n",
       "      <td>1.198645</td>\n",
       "      <td>1.107769</td>\n",
       "      <td>2022-08-19</td>\n",
       "      <td>...</td>\n",
       "      <td>6.771206</td>\n",
       "      <td>2022-08-19</td>\n",
       "      <td>0.986676</td>\n",
       "      <td>0.911193</td>\n",
       "      <td>2022-08-19</td>\n",
       "      <td>1.696761</td>\n",
       "      <td>1.618167</td>\n",
       "      <td>2022-08-19</td>\n",
       "      <td>3.760855</td>\n",
       "      <td>3.580269</td>\n",
       "    </tr>\n",
       "    <tr>\n",
       "      <th>124</th>\n",
       "      <td>2022-08-22</td>\n",
       "      <td>0.259488</td>\n",
       "      <td>0.254014</td>\n",
       "      <td>2022-08-22</td>\n",
       "      <td>1.207346</td>\n",
       "      <td>1.168640</td>\n",
       "      <td>2022-08-22</td>\n",
       "      <td>1.179901</td>\n",
       "      <td>1.116174</td>\n",
       "      <td>2022-08-22</td>\n",
       "      <td>...</td>\n",
       "      <td>6.803587</td>\n",
       "      <td>2022-08-22</td>\n",
       "      <td>0.960748</td>\n",
       "      <td>0.920756</td>\n",
       "      <td>2022-08-22</td>\n",
       "      <td>1.655637</td>\n",
       "      <td>1.631353</td>\n",
       "      <td>2022-08-22</td>\n",
       "      <td>3.642857</td>\n",
       "      <td>3.596207</td>\n",
       "    </tr>\n",
       "    <tr>\n",
       "      <th>125</th>\n",
       "      <td>2022-08-23</td>\n",
       "      <td>0.262075</td>\n",
       "      <td>0.255071</td>\n",
       "      <td>2022-08-23</td>\n",
       "      <td>1.223818</td>\n",
       "      <td>1.174809</td>\n",
       "      <td>2022-08-23</td>\n",
       "      <td>1.219254</td>\n",
       "      <td>1.131456</td>\n",
       "      <td>2022-08-23</td>\n",
       "      <td>...</td>\n",
       "      <td>6.838608</td>\n",
       "      <td>2022-08-23</td>\n",
       "      <td>0.946443</td>\n",
       "      <td>0.930787</td>\n",
       "      <td>2022-08-23</td>\n",
       "      <td>1.646064</td>\n",
       "      <td>1.644033</td>\n",
       "      <td>2022-08-23</td>\n",
       "      <td>3.557072</td>\n",
       "      <td>3.610744</td>\n",
       "    </tr>\n",
       "  </tbody>\n",
       "</table>\n",
       "<p>5 rows × 45 columns</p>\n",
       "</div>"
      ],
      "text/plain": [
       "          Date   TEL_BIO  TEL_BIO_SMA_10       Date   ADP_SYK  ADP_SYK_SMA_10  \\\n",
       "121 2022-08-17  0.258362        0.249195 2022-08-17  1.177302        1.153486   \n",
       "122 2022-08-18  0.263737        0.250940 2022-08-18  1.181579        1.157752   \n",
       "123 2022-08-19  0.264347        0.252804 2022-08-19  1.191070        1.162304   \n",
       "124 2022-08-22  0.259488        0.254014 2022-08-22  1.207346        1.168640   \n",
       "125 2022-08-23  0.262075        0.255071 2022-08-23  1.223818        1.174809   \n",
       "\n",
       "          Date     ON_MU  ON_MU_SMA_10       Date  ...  IT_NEM_SMA_10  \\\n",
       "121 2022-08-17  1.108244      1.084810 2022-08-17  ...       6.665816   \n",
       "122 2022-08-18  1.163068      1.096182 2022-08-18  ...       6.723600   \n",
       "123 2022-08-19  1.198645      1.107769 2022-08-19  ...       6.771206   \n",
       "124 2022-08-22  1.179901      1.116174 2022-08-22  ...       6.803587   \n",
       "125 2022-08-23  1.219254      1.131456 2022-08-23  ...       6.838608   \n",
       "\n",
       "          Date   NRG_NEM  NRG_NEM_SMA_10       Date  SCHW_NEM  \\\n",
       "121 2022-08-17  0.948998        0.887402 2022-08-17  1.680624   \n",
       "122 2022-08-18  0.974692        0.898432 2022-08-18  1.696528   \n",
       "123 2022-08-19  0.986676        0.911193 2022-08-19  1.696761   \n",
       "124 2022-08-22  0.960748        0.920756 2022-08-22  1.655637   \n",
       "125 2022-08-23  0.946443        0.930787 2022-08-23  1.646064   \n",
       "\n",
       "     SCHW_NEM_SMA_10       Date    TT_NEM  TT_NEM_SMA_10  \n",
       "121         1.585070 2022-08-17  3.706459       3.517020  \n",
       "122         1.602817 2022-08-18  3.739306       3.548923  \n",
       "123         1.618167 2022-08-19  3.760855       3.580269  \n",
       "124         1.631353 2022-08-22  3.642857       3.596207  \n",
       "125         1.644033 2022-08-23  3.557072       3.610744  \n",
       "\n",
       "[5 rows x 45 columns]"
      ]
     },
     "execution_count": 276,
     "metadata": {},
     "output_type": "execute_result"
    }
   ],
   "source": [
    "sma_10_df.tail()"
   ]
  },
  {
   "cell_type": "code",
   "execution_count": 278,
   "id": "99a93922-57dd-4c45-a054-19588fc38bca",
   "metadata": {
    "tags": []
   },
   "outputs": [
    {
     "data": {
      "text/html": [
       "<div>\n",
       "<style scoped>\n",
       "    .dataframe tbody tr th:only-of-type {\n",
       "        vertical-align: middle;\n",
       "    }\n",
       "\n",
       "    .dataframe tbody tr th {\n",
       "        vertical-align: top;\n",
       "    }\n",
       "\n",
       "    .dataframe thead th {\n",
       "        text-align: right;\n",
       "    }\n",
       "</style>\n",
       "<table border=\"1\" class=\"dataframe\">\n",
       "  <thead>\n",
       "    <tr style=\"text-align: right;\">\n",
       "      <th></th>\n",
       "      <th>Date</th>\n",
       "      <th>TEL_BIO</th>\n",
       "      <th>TEL_BIO_SMA_10</th>\n",
       "    </tr>\n",
       "  </thead>\n",
       "  <tbody>\n",
       "    <tr>\n",
       "      <th>0</th>\n",
       "      <td>2022-02-23</td>\n",
       "      <td>0.239509</td>\n",
       "      <td>NaN</td>\n",
       "    </tr>\n",
       "    <tr>\n",
       "      <th>1</th>\n",
       "      <td>2022-02-24</td>\n",
       "      <td>0.234301</td>\n",
       "      <td>NaN</td>\n",
       "    </tr>\n",
       "    <tr>\n",
       "      <th>2</th>\n",
       "      <td>2022-02-25</td>\n",
       "      <td>0.223696</td>\n",
       "      <td>NaN</td>\n",
       "    </tr>\n",
       "    <tr>\n",
       "      <th>3</th>\n",
       "      <td>2022-02-28</td>\n",
       "      <td>0.225564</td>\n",
       "      <td>NaN</td>\n",
       "    </tr>\n",
       "    <tr>\n",
       "      <th>4</th>\n",
       "      <td>2022-03-01</td>\n",
       "      <td>0.217456</td>\n",
       "      <td>NaN</td>\n",
       "    </tr>\n",
       "    <tr>\n",
       "      <th>...</th>\n",
       "      <td>...</td>\n",
       "      <td>...</td>\n",
       "      <td>...</td>\n",
       "    </tr>\n",
       "    <tr>\n",
       "      <th>121</th>\n",
       "      <td>2022-08-17</td>\n",
       "      <td>0.258362</td>\n",
       "      <td>0.249195</td>\n",
       "    </tr>\n",
       "    <tr>\n",
       "      <th>122</th>\n",
       "      <td>2022-08-18</td>\n",
       "      <td>0.263737</td>\n",
       "      <td>0.250940</td>\n",
       "    </tr>\n",
       "    <tr>\n",
       "      <th>123</th>\n",
       "      <td>2022-08-19</td>\n",
       "      <td>0.264347</td>\n",
       "      <td>0.252804</td>\n",
       "    </tr>\n",
       "    <tr>\n",
       "      <th>124</th>\n",
       "      <td>2022-08-22</td>\n",
       "      <td>0.259488</td>\n",
       "      <td>0.254014</td>\n",
       "    </tr>\n",
       "    <tr>\n",
       "      <th>125</th>\n",
       "      <td>2022-08-23</td>\n",
       "      <td>0.262075</td>\n",
       "      <td>0.255071</td>\n",
       "    </tr>\n",
       "  </tbody>\n",
       "</table>\n",
       "<p>126 rows × 3 columns</p>\n",
       "</div>"
      ],
      "text/plain": [
       "          Date   TEL_BIO  TEL_BIO_SMA_10\n",
       "0   2022-02-23  0.239509             NaN\n",
       "1   2022-02-24  0.234301             NaN\n",
       "2   2022-02-25  0.223696             NaN\n",
       "3   2022-02-28  0.225564             NaN\n",
       "4   2022-03-01  0.217456             NaN\n",
       "..         ...       ...             ...\n",
       "121 2022-08-17  0.258362        0.249195\n",
       "122 2022-08-18  0.263737        0.250940\n",
       "123 2022-08-19  0.264347        0.252804\n",
       "124 2022-08-22  0.259488        0.254014\n",
       "125 2022-08-23  0.262075        0.255071\n",
       "\n",
       "[126 rows x 3 columns]"
      ]
     },
     "execution_count": 278,
     "metadata": {},
     "output_type": "execute_result"
    }
   ],
   "source": [
    "sma_10_df.iloc[:, :3]"
   ]
  },
  {
   "cell_type": "code",
   "execution_count": 260,
   "id": "20fdc13d-bc23-4165-9074-d5e6703a49de",
   "metadata": {},
   "outputs": [],
   "source": [
    "sma_10_df.set_index('Date', inplace=True)"
   ]
  },
  {
   "cell_type": "code",
   "execution_count": 285,
   "id": "6621b521-3a6d-4e28-8f09-37573f93c8c1",
   "metadata": {
    "tags": []
   },
   "outputs": [
    {
     "data": {
      "image/png": "[encoded data removed]",
      "text/plain": [
       "<Figure size 432x288 with 1 Axes>"
      ]
     },
     "metadata": {
      "needs_background": "light"
     },
     "output_type": "display_data"
    }
   ],
   "source": [
    "sns.lineplot(data=sma_10_df.iloc[:, 18:21]);"
   ]
  },
  {
   "cell_type": "markdown",
   "id": "0f7ce6fb-9210-4bb9-8e5f-76c4a3d1c27e",
   "metadata": {},
   "source": [
    "DO NOT CHANGE !"
   ]
  },
  {
   "cell_type": "code",
   "execution_count": 97,
   "id": "9c1cbfff-507d-4e13-a4f4-c9fced791632",
   "metadata": {},
   "outputs": [
    {
     "data": {
      "image/png": "[encoded data removed]",
      "text/plain": [
       "<Figure size 432x288 with 1 Axes>"
      ]
     },
     "metadata": {
      "needs_background": "light"
     },
     "output_type": "display_data"
    }
   ],
   "source": [
    "df = pd.read_csv('../../long_short_local/raw_data/cleaned_data.csv')\n",
    "# convert 'Date' column to datetime values\n",
    "df['Date'] = pd.to_datetime(df['Date'].str[:10])\n",
    "\n",
    "test_df = df[['Date', 'TEL_BIO']]\n",
    "sma10 = pd.DataFrame(ta.sma(test_df[\"TEL_BIO\"], length=10))\n",
    "tel_bio_df = pd.concat([test_df, sma10], axis=1, ignore_index=False)\n",
    "tel_bio_df.set_index('Date', inplace=True)\n",
    "sns.lineplot(data=tel_bio_df);"
   ]
  },
  {
   "cell_type": "markdown",
   "id": "d3b7312c-3c7c-4e72-9459-e84506b56b47",
   "metadata": {},
   "source": [
    "DO NOT CHANGE !"
   ]
  },
  {
   "cell_type": "code",
   "execution_count": null,
   "id": "93037f5a-72ae-45d0-be55-2b22e9e96cfd",
   "metadata": {},
   "outputs": [],
   "source": []
  },
  {
   "cell_type": "code",
   "execution_count": null,
   "id": "5488f05b-11d4-4a39-8e92-20bf6d291d2e",
   "metadata": {},
   "outputs": [],
   "source": []
  },
  {
   "cell_type": "code",
   "execution_count": null,
   "id": "0aec750e-eb70-4f80-931b-e3f74f93d32f",
   "metadata": {},
   "outputs": [],
   "source": []
  },
  {
   "cell_type": "code",
   "execution_count": null,
   "id": "e327eebd-0374-4bf4-9904-2cac4ff11652",
   "metadata": {},
   "outputs": [],
   "source": []
  },
  {
   "cell_type": "code",
   "execution_count": null,
   "id": "088a82ec-e75a-4e01-8bef-231d6c8d1164",
   "metadata": {},
   "outputs": [],
   "source": []
  },
  {
   "cell_type": "code",
   "execution_count": null,
   "id": "c5fa9433-1af3-4f7f-88cc-151792762230",
   "metadata": {},
   "outputs": [],
   "source": []
  },
  {
   "cell_type": "code",
   "execution_count": 21,
   "id": "bfa5f4c0-a12f-4c91-b339-3434468952e0",
   "metadata": {},
   "outputs": [],
   "source": [
    "# convert 'Date' column to datetime values\n",
    "df['Date'] = pd.to_datetime(df['Date'].str[:10])"
   ]
  },
  {
   "cell_type": "code",
   "execution_count": 5,
   "id": "918154fa-84e2-492e-8cd5-f5d7e82bef62",
   "metadata": {},
   "outputs": [],
   "source": [
    "# split into 'train' and 'test' data\n",
    "split_date = df['Date'][41]\n",
    "df.set_index('Date', inplace=True)\n",
    "train_df = df.loc[df.index <= split_date].copy()\n",
    "test_df = df.loc[df.index > split_date].copy()"
   ]
  },
  {
   "cell_type": "code",
   "execution_count": 25,
   "id": "72902829-4757-4179-b77c-2575bfc6ecb5",
   "metadata": {},
   "outputs": [],
   "source": [
    "def create_features(df, label=None):\n",
    "    df['date'] = df.index\n",
    "    df['hour'] = df.index.hour\n",
    "    df['dayofweek'] = df.index.dayofweek\n",
    "    df['quarter'] = df.index.quarter\n",
    "    df['month'] = df.index.month\n",
    "    df['year'] = df.index.year\n",
    "    df['dayofyear'] = df.index.dayofyear\n",
    "    df['dayofmonth'] = df.index.day\n",
    "    df['weekofyear'] = df.index.weekofyear\n",
    "\n",
    "    X = df[['hour','dayofweek','quarter','month','year',\n",
    "           'dayofyear','dayofmonth','weekofyear']]\n",
    "    if label:\n",
    "        y = df[label]\n",
    "        return X, y\n",
    "    return X"
   ]
  },
  {
   "cell_type": "code",
   "execution_count": 26,
   "id": "6435419e-36f3-4bf9-a602-b0d6b1916deb",
   "metadata": {
    "tags": []
   },
   "outputs": [
    {
     "name": "stderr",
     "output_type": "stream",
     "text": [
      "/var/folders/9c/wqkq2b6j16l2hg0gd5_m7sj00000gn/T/ipykernel_9718/3447032744.py:10: FutureWarning: weekofyear and week have been deprecated, please use DatetimeIndex.isocalendar().week instead, which returns a Series.  To exactly reproduce the behavior of week and weekofyear and return an Index, you may call pd.Int64Index(idx.isocalendar().week)\n",
      "  df['weekofyear'] = df.index.weekofyear\n"
     ]
    },
    {
     "ename": "KeyError",
     "evalue": "'number'",
     "output_type": "error",
     "traceback": [
      "\u001b[0;31m---------------------------------------------------------------------------\u001b[0m",
      "\u001b[0;31mKeyError\u001b[0m                                  Traceback (most recent call last)",
      "\u001b[0;32m~/.pyenv/versions/3.8.12/envs/lewagon/lib/python3.8/site-packages/pandas/core/indexes/base.py\u001b[0m in \u001b[0;36mget_loc\u001b[0;34m(self, key, method, tolerance)\u001b[0m\n\u001b[1;32m   3360\u001b[0m             \u001b[0;32mtry\u001b[0m\u001b[0;34m:\u001b[0m\u001b[0;34m\u001b[0m\u001b[0;34m\u001b[0m\u001b[0m\n\u001b[0;32m-> 3361\u001b[0;31m                 \u001b[0;32mreturn\u001b[0m \u001b[0mself\u001b[0m\u001b[0;34m.\u001b[0m\u001b[0m_engine\u001b[0m\u001b[0;34m.\u001b[0m\u001b[0mget_loc\u001b[0m\u001b[0;34m(\u001b[0m\u001b[0mcasted_key\u001b[0m\u001b[0;34m)\u001b[0m\u001b[0;34m\u001b[0m\u001b[0;34m\u001b[0m\u001b[0m\n\u001b[0m\u001b[1;32m   3362\u001b[0m             \u001b[0;32mexcept\u001b[0m \u001b[0mKeyError\u001b[0m \u001b[0;32mas\u001b[0m \u001b[0merr\u001b[0m\u001b[0;34m:\u001b[0m\u001b[0;34m\u001b[0m\u001b[0;34m\u001b[0m\u001b[0m\n",
      "\u001b[0;32m~/.pyenv/versions/3.8.12/envs/lewagon/lib/python3.8/site-packages/pandas/_libs/index.pyx\u001b[0m in \u001b[0;36mpandas._libs.index.IndexEngine.get_loc\u001b[0;34m()\u001b[0m\n",
      "\u001b[0;32m~/.pyenv/versions/3.8.12/envs/lewagon/lib/python3.8/site-packages/pandas/_libs/index.pyx\u001b[0m in \u001b[0;36mpandas._libs.index.IndexEngine.get_loc\u001b[0;34m()\u001b[0m\n",
      "\u001b[0;32mpandas/_libs/hashtable_class_helper.pxi\u001b[0m in \u001b[0;36mpandas._libs.hashtable.PyObjectHashTable.get_item\u001b[0;34m()\u001b[0m\n",
      "\u001b[0;32mpandas/_libs/hashtable_class_helper.pxi\u001b[0m in \u001b[0;36mpandas._libs.hashtable.PyObjectHashTable.get_item\u001b[0;34m()\u001b[0m\n",
      "\u001b[0;31mKeyError\u001b[0m: 'number'",
      "\nThe above exception was the direct cause of the following exception:\n",
      "\u001b[0;31mKeyError\u001b[0m                                  Traceback (most recent call last)",
      "\u001b[0;32m/var/folders/9c/wqkq2b6j16l2hg0gd5_m7sj00000gn/T/ipykernel_9718/2142792510.py\u001b[0m in \u001b[0;36m<module>\u001b[0;34m\u001b[0m\n\u001b[0;32m----> 1\u001b[0;31m \u001b[0mX_train\u001b[0m\u001b[0;34m,\u001b[0m \u001b[0my_train\u001b[0m \u001b[0;34m=\u001b[0m \u001b[0mcreate_features\u001b[0m\u001b[0;34m(\u001b[0m\u001b[0mtrain_df\u001b[0m\u001b[0;34m,\u001b[0m \u001b[0mlabel\u001b[0m\u001b[0;34m=\u001b[0m\u001b[0;34m'number'\u001b[0m\u001b[0;34m)\u001b[0m\u001b[0;34m\u001b[0m\u001b[0;34m\u001b[0m\u001b[0m\n\u001b[0m",
      "\u001b[0;32m/var/folders/9c/wqkq2b6j16l2hg0gd5_m7sj00000gn/T/ipykernel_9718/3447032744.py\u001b[0m in \u001b[0;36mcreate_features\u001b[0;34m(df, label)\u001b[0m\n\u001b[1;32m     13\u001b[0m            'dayofyear','dayofmonth','weekofyear']]\n\u001b[1;32m     14\u001b[0m     \u001b[0;32mif\u001b[0m \u001b[0mlabel\u001b[0m\u001b[0;34m:\u001b[0m\u001b[0;34m\u001b[0m\u001b[0;34m\u001b[0m\u001b[0m\n\u001b[0;32m---> 15\u001b[0;31m         \u001b[0my\u001b[0m \u001b[0;34m=\u001b[0m \u001b[0mdf\u001b[0m\u001b[0;34m[\u001b[0m\u001b[0mlabel\u001b[0m\u001b[0;34m]\u001b[0m\u001b[0;34m\u001b[0m\u001b[0;34m\u001b[0m\u001b[0m\n\u001b[0m\u001b[1;32m     16\u001b[0m         \u001b[0;32mreturn\u001b[0m \u001b[0mX\u001b[0m\u001b[0;34m,\u001b[0m \u001b[0my\u001b[0m\u001b[0;34m\u001b[0m\u001b[0;34m\u001b[0m\u001b[0m\n\u001b[1;32m     17\u001b[0m     \u001b[0;32mreturn\u001b[0m \u001b[0mX\u001b[0m\u001b[0;34m\u001b[0m\u001b[0;34m\u001b[0m\u001b[0m\n",
      "\u001b[0;32m~/.pyenv/versions/3.8.12/envs/lewagon/lib/python3.8/site-packages/pandas/core/frame.py\u001b[0m in \u001b[0;36m__getitem__\u001b[0;34m(self, key)\u001b[0m\n\u001b[1;32m   3456\u001b[0m             \u001b[0;32mif\u001b[0m \u001b[0mself\u001b[0m\u001b[0;34m.\u001b[0m\u001b[0mcolumns\u001b[0m\u001b[0;34m.\u001b[0m\u001b[0mnlevels\u001b[0m \u001b[0;34m>\u001b[0m \u001b[0;36m1\u001b[0m\u001b[0;34m:\u001b[0m\u001b[0;34m\u001b[0m\u001b[0;34m\u001b[0m\u001b[0m\n\u001b[1;32m   3457\u001b[0m                 \u001b[0;32mreturn\u001b[0m \u001b[0mself\u001b[0m\u001b[0;34m.\u001b[0m\u001b[0m_getitem_multilevel\u001b[0m\u001b[0;34m(\u001b[0m\u001b[0mkey\u001b[0m\u001b[0;34m)\u001b[0m\u001b[0;34m\u001b[0m\u001b[0;34m\u001b[0m\u001b[0m\n\u001b[0;32m-> 3458\u001b[0;31m             \u001b[0mindexer\u001b[0m \u001b[0;34m=\u001b[0m \u001b[0mself\u001b[0m\u001b[0;34m.\u001b[0m\u001b[0mcolumns\u001b[0m\u001b[0;34m.\u001b[0m\u001b[0mget_loc\u001b[0m\u001b[0;34m(\u001b[0m\u001b[0mkey\u001b[0m\u001b[0;34m)\u001b[0m\u001b[0;34m\u001b[0m\u001b[0;34m\u001b[0m\u001b[0m\n\u001b[0m\u001b[1;32m   3459\u001b[0m             \u001b[0;32mif\u001b[0m \u001b[0mis_integer\u001b[0m\u001b[0;34m(\u001b[0m\u001b[0mindexer\u001b[0m\u001b[0;34m)\u001b[0m\u001b[0;34m:\u001b[0m\u001b[0;34m\u001b[0m\u001b[0;34m\u001b[0m\u001b[0m\n\u001b[1;32m   3460\u001b[0m                 \u001b[0mindexer\u001b[0m \u001b[0;34m=\u001b[0m \u001b[0;34m[\u001b[0m\u001b[0mindexer\u001b[0m\u001b[0;34m]\u001b[0m\u001b[0;34m\u001b[0m\u001b[0;34m\u001b[0m\u001b[0m\n",
      "\u001b[0;32m~/.pyenv/versions/3.8.12/envs/lewagon/lib/python3.8/site-packages/pandas/core/indexes/base.py\u001b[0m in \u001b[0;36mget_loc\u001b[0;34m(self, key, method, tolerance)\u001b[0m\n\u001b[1;32m   3361\u001b[0m                 \u001b[0;32mreturn\u001b[0m \u001b[0mself\u001b[0m\u001b[0;34m.\u001b[0m\u001b[0m_engine\u001b[0m\u001b[0;34m.\u001b[0m\u001b[0mget_loc\u001b[0m\u001b[0;34m(\u001b[0m\u001b[0mcasted_key\u001b[0m\u001b[0;34m)\u001b[0m\u001b[0;34m\u001b[0m\u001b[0;34m\u001b[0m\u001b[0m\n\u001b[1;32m   3362\u001b[0m             \u001b[0;32mexcept\u001b[0m \u001b[0mKeyError\u001b[0m \u001b[0;32mas\u001b[0m \u001b[0merr\u001b[0m\u001b[0;34m:\u001b[0m\u001b[0;34m\u001b[0m\u001b[0;34m\u001b[0m\u001b[0m\n\u001b[0;32m-> 3363\u001b[0;31m                 \u001b[0;32mraise\u001b[0m \u001b[0mKeyError\u001b[0m\u001b[0;34m(\u001b[0m\u001b[0mkey\u001b[0m\u001b[0;34m)\u001b[0m \u001b[0;32mfrom\u001b[0m \u001b[0merr\u001b[0m\u001b[0;34m\u001b[0m\u001b[0;34m\u001b[0m\u001b[0m\n\u001b[0m\u001b[1;32m   3364\u001b[0m \u001b[0;34m\u001b[0m\u001b[0m\n\u001b[1;32m   3365\u001b[0m         \u001b[0;32mif\u001b[0m \u001b[0mis_scalar\u001b[0m\u001b[0;34m(\u001b[0m\u001b[0mkey\u001b[0m\u001b[0;34m)\u001b[0m \u001b[0;32mand\u001b[0m \u001b[0misna\u001b[0m\u001b[0;34m(\u001b[0m\u001b[0mkey\u001b[0m\u001b[0;34m)\u001b[0m \u001b[0;32mand\u001b[0m \u001b[0;32mnot\u001b[0m \u001b[0mself\u001b[0m\u001b[0;34m.\u001b[0m\u001b[0mhasnans\u001b[0m\u001b[0;34m:\u001b[0m\u001b[0;34m\u001b[0m\u001b[0;34m\u001b[0m\u001b[0m\n",
      "\u001b[0;31mKeyError\u001b[0m: 'number'"
     ]
    }
   ],
   "source": [
    "X_train, y_train = create_features(train_df, label='number')"
   ]
  },
  {
   "cell_type": "code",
   "execution_count": 14,
   "id": "0f474fa8-3bb1-4b65-a263-9a54d8cd13cd",
   "metadata": {
    "collapsed": true,
    "jupyter": {
     "outputs_hidden": true
    },
    "tags": []
   },
   "outputs": [
    {
     "ename": "KeyError",
     "evalue": "'Date'",
     "output_type": "error",
     "traceback": [
      "\u001b[0;31m---------------------------------------------------------------------------\u001b[0m",
      "\u001b[0;31mKeyError\u001b[0m                                  Traceback (most recent call last)",
      "\u001b[0;32m~/.pyenv/versions/3.8.12/envs/lewagon/lib/python3.8/site-packages/pandas/core/indexes/base.py\u001b[0m in \u001b[0;36mget_loc\u001b[0;34m(self, key, method, tolerance)\u001b[0m\n\u001b[1;32m   3360\u001b[0m             \u001b[0;32mtry\u001b[0m\u001b[0;34m:\u001b[0m\u001b[0;34m\u001b[0m\u001b[0;34m\u001b[0m\u001b[0m\n\u001b[0;32m-> 3361\u001b[0;31m                 \u001b[0;32mreturn\u001b[0m \u001b[0mself\u001b[0m\u001b[0;34m.\u001b[0m\u001b[0m_engine\u001b[0m\u001b[0;34m.\u001b[0m\u001b[0mget_loc\u001b[0m\u001b[0;34m(\u001b[0m\u001b[0mcasted_key\u001b[0m\u001b[0;34m)\u001b[0m\u001b[0;34m\u001b[0m\u001b[0;34m\u001b[0m\u001b[0m\n\u001b[0m\u001b[1;32m   3362\u001b[0m             \u001b[0;32mexcept\u001b[0m \u001b[0mKeyError\u001b[0m \u001b[0;32mas\u001b[0m \u001b[0merr\u001b[0m\u001b[0;34m:\u001b[0m\u001b[0;34m\u001b[0m\u001b[0;34m\u001b[0m\u001b[0m\n",
      "\u001b[0;32m~/.pyenv/versions/3.8.12/envs/lewagon/lib/python3.8/site-packages/pandas/_libs/index.pyx\u001b[0m in \u001b[0;36mpandas._libs.index.IndexEngine.get_loc\u001b[0;34m()\u001b[0m\n",
      "\u001b[0;32m~/.pyenv/versions/3.8.12/envs/lewagon/lib/python3.8/site-packages/pandas/_libs/index.pyx\u001b[0m in \u001b[0;36mpandas._libs.index.IndexEngine.get_loc\u001b[0;34m()\u001b[0m\n",
      "\u001b[0;32mpandas/_libs/hashtable_class_helper.pxi\u001b[0m in \u001b[0;36mpandas._libs.hashtable.PyObjectHashTable.get_item\u001b[0;34m()\u001b[0m\n",
      "\u001b[0;32mpandas/_libs/hashtable_class_helper.pxi\u001b[0m in \u001b[0;36mpandas._libs.hashtable.PyObjectHashTable.get_item\u001b[0;34m()\u001b[0m\n",
      "\u001b[0;31mKeyError\u001b[0m: 'Date'",
      "\nThe above exception was the direct cause of the following exception:\n",
      "\u001b[0;31mKeyError\u001b[0m                                  Traceback (most recent call last)",
      "\u001b[0;32m/var/folders/9c/wqkq2b6j16l2hg0gd5_m7sj00000gn/T/ipykernel_9718/3111038.py\u001b[0m in \u001b[0;36m<module>\u001b[0;34m\u001b[0m\n\u001b[0;32m----> 1\u001b[0;31m \u001b[0mX_test\u001b[0m\u001b[0;34m,\u001b[0m \u001b[0my_test\u001b[0m \u001b[0;34m=\u001b[0m \u001b[0mcreate_features\u001b[0m\u001b[0;34m(\u001b[0m\u001b[0mtest_df\u001b[0m\u001b[0;34m,\u001b[0m \u001b[0mlabel\u001b[0m\u001b[0;34m=\u001b[0m\u001b[0;34m'number'\u001b[0m\u001b[0;34m)\u001b[0m\u001b[0;34m\u001b[0m\u001b[0;34m\u001b[0m\u001b[0m\n\u001b[0m",
      "\u001b[0;32m/var/folders/9c/wqkq2b6j16l2hg0gd5_m7sj00000gn/T/ipykernel_9718/3798279965.py\u001b[0m in \u001b[0;36mcreate_features\u001b[0;34m(df, label)\u001b[0m\n\u001b[1;32m      1\u001b[0m \u001b[0;32mdef\u001b[0m \u001b[0mcreate_features\u001b[0m\u001b[0;34m(\u001b[0m\u001b[0mdf\u001b[0m\u001b[0;34m,\u001b[0m \u001b[0mlabel\u001b[0m\u001b[0;34m=\u001b[0m\u001b[0;32mNone\u001b[0m\u001b[0;34m)\u001b[0m\u001b[0;34m:\u001b[0m\u001b[0;34m\u001b[0m\u001b[0;34m\u001b[0m\u001b[0m\n\u001b[1;32m      2\u001b[0m     \u001b[0mdf\u001b[0m\u001b[0;34m[\u001b[0m\u001b[0;34m'date'\u001b[0m\u001b[0;34m]\u001b[0m \u001b[0;34m=\u001b[0m \u001b[0mdf\u001b[0m\u001b[0;34m.\u001b[0m\u001b[0mindex\u001b[0m\u001b[0;34m\u001b[0m\u001b[0;34m\u001b[0m\u001b[0m\n\u001b[0;32m----> 3\u001b[0;31m     \u001b[0mdf\u001b[0m\u001b[0;34m[\u001b[0m\u001b[0;34m'hour'\u001b[0m\u001b[0;34m]\u001b[0m \u001b[0;34m=\u001b[0m \u001b[0mdf\u001b[0m\u001b[0;34m[\u001b[0m\u001b[0;34m'Date'\u001b[0m\u001b[0;34m]\u001b[0m\u001b[0;34m.\u001b[0m\u001b[0mdt\u001b[0m\u001b[0;34m.\u001b[0m\u001b[0mhour\u001b[0m\u001b[0;34m\u001b[0m\u001b[0;34m\u001b[0m\u001b[0m\n\u001b[0m\u001b[1;32m      4\u001b[0m     \u001b[0mdf\u001b[0m\u001b[0;34m[\u001b[0m\u001b[0;34m'dayofweek'\u001b[0m\u001b[0;34m]\u001b[0m \u001b[0;34m=\u001b[0m \u001b[0mdf\u001b[0m\u001b[0;34m[\u001b[0m\u001b[0;34m'Date'\u001b[0m\u001b[0;34m]\u001b[0m\u001b[0;34m.\u001b[0m\u001b[0mdt\u001b[0m\u001b[0;34m.\u001b[0m\u001b[0mdayofweek\u001b[0m\u001b[0;34m\u001b[0m\u001b[0;34m\u001b[0m\u001b[0m\n\u001b[1;32m      5\u001b[0m     \u001b[0mdf\u001b[0m\u001b[0;34m[\u001b[0m\u001b[0;34m'quarter'\u001b[0m\u001b[0;34m]\u001b[0m \u001b[0;34m=\u001b[0m \u001b[0mdf\u001b[0m\u001b[0;34m[\u001b[0m\u001b[0;34m'Date'\u001b[0m\u001b[0;34m]\u001b[0m\u001b[0;34m.\u001b[0m\u001b[0mdt\u001b[0m\u001b[0;34m.\u001b[0m\u001b[0mquarter\u001b[0m\u001b[0;34m\u001b[0m\u001b[0;34m\u001b[0m\u001b[0m\n",
      "\u001b[0;32m~/.pyenv/versions/3.8.12/envs/lewagon/lib/python3.8/site-packages/pandas/core/frame.py\u001b[0m in \u001b[0;36m__getitem__\u001b[0;34m(self, key)\u001b[0m\n\u001b[1;32m   3456\u001b[0m             \u001b[0;32mif\u001b[0m \u001b[0mself\u001b[0m\u001b[0;34m.\u001b[0m\u001b[0mcolumns\u001b[0m\u001b[0;34m.\u001b[0m\u001b[0mnlevels\u001b[0m \u001b[0;34m>\u001b[0m \u001b[0;36m1\u001b[0m\u001b[0;34m:\u001b[0m\u001b[0;34m\u001b[0m\u001b[0;34m\u001b[0m\u001b[0m\n\u001b[1;32m   3457\u001b[0m                 \u001b[0;32mreturn\u001b[0m \u001b[0mself\u001b[0m\u001b[0;34m.\u001b[0m\u001b[0m_getitem_multilevel\u001b[0m\u001b[0;34m(\u001b[0m\u001b[0mkey\u001b[0m\u001b[0;34m)\u001b[0m\u001b[0;34m\u001b[0m\u001b[0;34m\u001b[0m\u001b[0m\n\u001b[0;32m-> 3458\u001b[0;31m             \u001b[0mindexer\u001b[0m \u001b[0;34m=\u001b[0m \u001b[0mself\u001b[0m\u001b[0;34m.\u001b[0m\u001b[0mcolumns\u001b[0m\u001b[0;34m.\u001b[0m\u001b[0mget_loc\u001b[0m\u001b[0;34m(\u001b[0m\u001b[0mkey\u001b[0m\u001b[0;34m)\u001b[0m\u001b[0;34m\u001b[0m\u001b[0;34m\u001b[0m\u001b[0m\n\u001b[0m\u001b[1;32m   3459\u001b[0m             \u001b[0;32mif\u001b[0m \u001b[0mis_integer\u001b[0m\u001b[0;34m(\u001b[0m\u001b[0mindexer\u001b[0m\u001b[0;34m)\u001b[0m\u001b[0;34m:\u001b[0m\u001b[0;34m\u001b[0m\u001b[0;34m\u001b[0m\u001b[0m\n\u001b[1;32m   3460\u001b[0m                 \u001b[0mindexer\u001b[0m \u001b[0;34m=\u001b[0m \u001b[0;34m[\u001b[0m\u001b[0mindexer\u001b[0m\u001b[0;34m]\u001b[0m\u001b[0;34m\u001b[0m\u001b[0;34m\u001b[0m\u001b[0m\n",
      "\u001b[0;32m~/.pyenv/versions/3.8.12/envs/lewagon/lib/python3.8/site-packages/pandas/core/indexes/base.py\u001b[0m in \u001b[0;36mget_loc\u001b[0;34m(self, key, method, tolerance)\u001b[0m\n\u001b[1;32m   3361\u001b[0m                 \u001b[0;32mreturn\u001b[0m \u001b[0mself\u001b[0m\u001b[0;34m.\u001b[0m\u001b[0m_engine\u001b[0m\u001b[0;34m.\u001b[0m\u001b[0mget_loc\u001b[0m\u001b[0;34m(\u001b[0m\u001b[0mcasted_key\u001b[0m\u001b[0;34m)\u001b[0m\u001b[0;34m\u001b[0m\u001b[0;34m\u001b[0m\u001b[0m\n\u001b[1;32m   3362\u001b[0m             \u001b[0;32mexcept\u001b[0m \u001b[0mKeyError\u001b[0m \u001b[0;32mas\u001b[0m \u001b[0merr\u001b[0m\u001b[0;34m:\u001b[0m\u001b[0;34m\u001b[0m\u001b[0;34m\u001b[0m\u001b[0m\n\u001b[0;32m-> 3363\u001b[0;31m                 \u001b[0;32mraise\u001b[0m \u001b[0mKeyError\u001b[0m\u001b[0;34m(\u001b[0m\u001b[0mkey\u001b[0m\u001b[0;34m)\u001b[0m \u001b[0;32mfrom\u001b[0m \u001b[0merr\u001b[0m\u001b[0;34m\u001b[0m\u001b[0;34m\u001b[0m\u001b[0m\n\u001b[0m\u001b[1;32m   3364\u001b[0m \u001b[0;34m\u001b[0m\u001b[0m\n\u001b[1;32m   3365\u001b[0m         \u001b[0;32mif\u001b[0m \u001b[0mis_scalar\u001b[0m\u001b[0;34m(\u001b[0m\u001b[0mkey\u001b[0m\u001b[0;34m)\u001b[0m \u001b[0;32mand\u001b[0m \u001b[0misna\u001b[0m\u001b[0;34m(\u001b[0m\u001b[0mkey\u001b[0m\u001b[0;34m)\u001b[0m \u001b[0;32mand\u001b[0m \u001b[0;32mnot\u001b[0m \u001b[0mself\u001b[0m\u001b[0;34m.\u001b[0m\u001b[0mhasnans\u001b[0m\u001b[0;34m:\u001b[0m\u001b[0;34m\u001b[0m\u001b[0;34m\u001b[0m\u001b[0m\n",
      "\u001b[0;31mKeyError\u001b[0m: 'Date'"
     ]
    }
   ],
   "source": [
    "X_test, y_test = create_features(test_df, label='number')"
   ]
  },
  {
   "cell_type": "code",
   "execution_count": null,
   "id": "22e50f34-5916-44ee-ad5d-6f9dc4eb2503",
   "metadata": {},
   "outputs": [],
   "source": []
  },
  {
   "cell_type": "code",
   "execution_count": 7,
   "id": "d5a652fe-3c7b-43ee-a448-5dd947f34d0d",
   "metadata": {},
   "outputs": [],
   "source": [
    "# build first model\n",
    "model = XGBRegressor(n_estimators=1000)"
   ]
  },
  {
   "cell_type": "code",
   "execution_count": null,
   "id": "1090db75-9a88-482d-b327-56b2d515d88c",
   "metadata": {},
   "outputs": [],
   "source": [
    "model.fit()"
   ]
  },
  {
   "cell_type": "code",
   "execution_count": null,
   "id": "2039af41-9117-4f8b-895d-f99099f9bde6",
   "metadata": {},
   "outputs": [],
   "source": []
  },
  {
   "cell_type": "code",
   "execution_count": null,
   "id": "3df3eb92-bbd9-4745-a9bb-61b68c3638b5",
   "metadata": {},
   "outputs": [],
   "source": []
  },
  {
   "cell_type": "code",
   "execution_count": null,
   "id": "679d776d-db52-4fbc-955c-b76a3d7e60fe",
   "metadata": {},
   "outputs": [],
   "source": []
  }
 ],
 "metadata": {
  "kernelspec": {
   "display_name": "Python 3 (ipykernel)",
   "language": "python",
   "name": "python3"
  },
  "language_info": {
   "codemirror_mode": {
    "name": "ipython",
    "version": 3
   },
   "file_extension": ".py",
   "mimetype": "text/x-python",
   "name": "python",
   "nbconvert_exporter": "python",
   "pygments_lexer": "ipython3",
   "version": "3.8.12"
  }
 },
 "nbformat": 4,
 "nbformat_minor": 5
}
