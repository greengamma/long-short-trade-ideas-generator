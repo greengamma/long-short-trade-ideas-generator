{
 "cells": [
  {
   "cell_type": "markdown",
   "id": "b0abe242-319f-446b-8bf7-f825be4e8014",
   "metadata": {},
   "source": [
    "### 0. Imports"
   ]
  },
  {
   "cell_type": "code",
   "execution_count": 228,
   "id": "0ae2cfca-548a-4c82-b6f8-0ed629ceb84d",
   "metadata": {},
   "outputs": [],
   "source": [
    "import pandas as pd\n",
    "import yfinance as yf\n",
    "import numpy as np\n",
    "import xlrd\n",
    "from itertools import combinations"
   ]
  },
  {
   "cell_type": "markdown",
   "id": "c6b1e39e-95ac-465d-8b9a-d1138798d195",
   "metadata": {},
   "source": [
    "### 1. Data download"
   ]
  },
  {
   "cell_type": "code",
   "execution_count": 148,
   "id": "7e52569c-f665-46ef-9298-069744bd9f94",
   "metadata": {},
   "outputs": [],
   "source": [
    "# read ticker data as Series and convert to list\n",
    "tickers = pd.read_csv('tickers.csv', squeeze=True)\n",
    "tickers = tickers.tolist()"
   ]
  },
  {
   "cell_type": "code",
   "execution_count": 149,
   "id": "303eb226-77ff-4318-8add-4d8c0b1c0792",
   "metadata": {
    "collapsed": true,
    "jupyter": {
     "outputs_hidden": true
    },
    "tags": []
   },
   "outputs": [
    {
     "name": "stdout",
     "output_type": "stream",
     "text": [
      "- BFB: No data found, symbol may be delisted\n"
     ]
    }
   ],
   "source": [
    "price_list = []\n",
    "\n",
    "for ticker in tickers:\n",
    "    stock = yf.Ticker(ticker).history(period=\"3mo\").reset_index()\n",
    "    stock = stock[['Date', 'Close']]\n",
    "    stock.rename(columns={'Close': ticker}, inplace=True)\n",
    "    price_list.append(stock)"
   ]
  },
  {
   "cell_type": "markdown",
   "id": "5443e605-020d-45c8-8ade-7da38acb0954",
   "metadata": {
    "tags": []
   },
   "source": [
    "### 2. Compute ratios"
   ]
  },
  {
   "cell_type": "code",
   "execution_count": 471,
   "id": "9087d8f5-0596-4457-a32a-1241a35b8cdb",
   "metadata": {},
   "outputs": [],
   "source": [
    "# concatenate all prices into one big dataframe\n",
    "df = pd.concat(price_list, axis=1)\n",
    "df = df.loc[:,~df.columns.duplicated()].copy()"
   ]
  },
  {
   "cell_type": "code",
   "execution_count": 472,
   "id": "c57552a9-7392-40cf-adfb-95980d4a402d",
   "metadata": {
    "tags": []
   },
   "outputs": [],
   "source": [
    "df.set_index('Date', inplace=True)"
   ]
  },
  {
   "cell_type": "code",
   "execution_count": 473,
   "id": "ceb2717d-0a60-4d80-b5ea-0286fc5eb32e",
   "metadata": {},
   "outputs": [],
   "source": [
    "# compute all ratios\n",
    "ratio_df = pd.concat([df[df.columns.difference([col])].div(df.where(df !=0, np.nan)[col], axis=0)\\\n",
    "                           .add_suffix(\"_\" + col) for col in df.columns], axis=1)"
   ]
  },
  {
   "cell_type": "markdown",
   "id": "d24a8cfd-cf9b-4b98-bcb7-065207219d65",
   "metadata": {},
   "source": [
    "### 3. Compute daily price change in %"
   ]
  },
  {
   "cell_type": "code",
   "execution_count": 474,
   "id": "5c8a1683-ba1b-4e84-a134-d2e3845f667c",
   "metadata": {
    "tags": []
   },
   "outputs": [],
   "source": [
    "# compute the % change of the ratio between today and yesterday for the last X days\n",
    "df_delta = ratio_df.pct_change(periods=1)\n",
    "df_delta = df_delta.iloc[-4:]\n",
    "\n",
    "# only select ratios with consistent positive price changes\n",
    "df_newstocks = df_delta[df_delta.iloc[:] >= 0]\n",
    "positiveRatiosPercent = df_newstocks.drop(df_newstocks.columns[df_newstocks.apply(lambda col: col.isnull().sum() > 0)], axis=1)\n",
    "labelList = list(positiveRatiosPercent.columns.values)\n",
    "df_positiveRatios = ratio_df[labelList]"
   ]
  },
  {
   "cell_type": "code",
   "execution_count": null,
   "id": "0d657287-c1e2-4031-8b42-da7ab83a21d9",
   "metadata": {},
   "outputs": [],
   "source": []
  },
  {
   "cell_type": "code",
   "execution_count": null,
   "id": "edee0034-dd96-4ba0-9a3d-91e8bbc59c7e",
   "metadata": {},
   "outputs": [],
   "source": []
  },
  {
   "cell_type": "code",
   "execution_count": null,
   "id": "a8cece2f-e1f8-412b-b9b4-09803f19c8e4",
   "metadata": {},
   "outputs": [],
   "source": []
  },
  {
   "cell_type": "code",
   "execution_count": null,
   "id": "b197a4ee-ac73-4bc4-8310-9e8d35dc367c",
   "metadata": {},
   "outputs": [],
   "source": []
  }
 ],
 "metadata": {
  "kernelspec": {
   "display_name": "Python 3 (ipykernel)",
   "language": "python",
   "name": "python3"
  },
  "language_info": {
   "codemirror_mode": {
    "name": "ipython",
    "version": 3
   },
   "file_extension": ".py",
   "mimetype": "text/x-python",
   "name": "python",
   "nbconvert_exporter": "python",
   "pygments_lexer": "ipython3",
   "version": "3.8.12"
  }
 },
 "nbformat": 4,
 "nbformat_minor": 5
}
