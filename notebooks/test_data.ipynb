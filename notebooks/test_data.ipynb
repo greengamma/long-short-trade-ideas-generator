{
 "cells": [
  {
   "cell_type": "markdown",
   "id": "b0abe242-319f-446b-8bf7-f825be4e8014",
   "metadata": {},
   "source": [
    "### 0. Imports"
   ]
  },
  {
   "cell_type": "code",
   "execution_count": 228,
   "id": "0ae2cfca-548a-4c82-b6f8-0ed629ceb84d",
   "metadata": {},
   "outputs": [],
   "source": [
    "import pandas as pd\n",
    "import yfinance as yf\n",
    "import numpy as np\n",
    "import xlrd\n",
    "from itertools import combinations"
   ]
  },
  {
   "cell_type": "markdown",
   "id": "c6b1e39e-95ac-465d-8b9a-d1138798d195",
   "metadata": {},
   "source": [
    "### 1. Data download"
   ]
  },
  {
   "cell_type": "code",
   "execution_count": 148,
   "id": "7e52569c-f665-46ef-9298-069744bd9f94",
   "metadata": {},
   "outputs": [],
   "source": [
    "# read ticker data as Series and convert to list\n",
    "tickers = pd.read_csv('tickers.csv', squeeze=True)\n",
    "tickers = tickers.tolist()"
   ]
  },
  {
   "cell_type": "code",
   "execution_count": 149,
   "id": "303eb226-77ff-4318-8add-4d8c0b1c0792",
   "metadata": {
    "collapsed": true,
    "jupyter": {
     "outputs_hidden": true
    },
    "tags": []
   },
   "outputs": [
    {
     "name": "stdout",
     "output_type": "stream",
     "text": [
      "- BFB: No data found, symbol may be delisted\n"
     ]
    }
   ],
   "source": [
    "price_list = []\n",
    "\n",
    "for ticker in tickers:\n",
    "    stock = yf.Ticker(ticker).history(period=\"3mo\").reset_index()\n",
    "    stock = stock[['Date', 'Close']]\n",
    "    stock.rename(columns={'Close': ticker}, inplace=True)\n",
    "    price_list.append(stock)"
   ]
  },
  {
   "cell_type": "markdown",
   "id": "5443e605-020d-45c8-8ade-7da38acb0954",
   "metadata": {
    "tags": []
   },
   "source": [
    "### 2. Compute ratios"
   ]
  },
  {
   "cell_type": "code",
   "execution_count": 261,
   "id": "9087d8f5-0596-4457-a32a-1241a35b8cdb",
   "metadata": {},
   "outputs": [],
   "source": [
    "# concatenate all prices into one big dataframe\n",
    "df = pd.concat(price_list, axis=1)\n",
    "df = df.loc[:,~df.columns.duplicated()].copy()"
   ]
  },
  {
   "cell_type": "code",
   "execution_count": 271,
   "id": "715e3b47-08cc-48f4-93c7-1831b626085f",
   "metadata": {},
   "outputs": [],
   "source": [
    "# remove the Date column for the computation\n",
    "no_date_df = df.drop(labels='Date', axis=1)"
   ]
  },
  {
   "cell_type": "code",
   "execution_count": 308,
   "id": "ceb2717d-0a60-4d80-b5ea-0286fc5eb32e",
   "metadata": {},
   "outputs": [],
   "source": [
    "# compute all ratios\n",
    "ratio_df = pd.concat([no_date_df[no_date_df.columns.difference([col])].div(no_date_df.where(df !=0, np.nan)[col], axis=0)\\\n",
    "                           .add_suffix(\"_\" + col) for col in no_date_df.columns], axis=1)"
   ]
  },
  {
   "cell_type": "code",
   "execution_count": 309,
   "id": "2bf93125-2228-4c26-bc52-091c763767ec",
   "metadata": {
    "collapsed": true,
    "jupyter": {
     "outputs_hidden": true
    },
    "tags": []
   },
   "outputs": [
    {
     "name": "stderr",
     "output_type": "stream",
     "text": [
      "/Users/rene/.pyenv/versions/3.8.12/envs/lewagon/lib/python3.8/site-packages/IPython/core/interactiveshell.py:3377: PerformanceWarning: DataFrame is highly fragmented.  This is usually the result of calling `frame.insert` many times, which has poor performance.  Consider joining all columns at once using pd.concat(axis=1) instead.  To get a de-fragmented frame, use `newframe = frame.copy()`\n",
      "  if (await self.run_code(code, result,  async_=asy)):\n"
     ]
    }
   ],
   "source": [
    "# add back 'Date' column...\n",
    "ratio_df = pd.concat([ratio_df, price_list[0]['Date']], axis=1)\n",
    "# ...and move it to the front of the df\n",
    "first_column = ratio_df.pop('Date')\n",
    "ratio_df.insert(0, 'Date', first_column)"
   ]
  },
  {
   "cell_type": "code",
   "execution_count": null,
   "id": "9158175c-9d4f-443f-82f0-3c16ea826ed2",
   "metadata": {},
   "outputs": [],
   "source": [
    "df_new.rename_axis(\"Date\", axis=1)\n",
    "df_delta = df_new.pct_change(periods=-1)\n",
    "df_delta = df_delta.iloc[:4]\n",
    "df_newstocks = df_delta[df_delta.iloc[:] >= 0]\n",
    "positiveRatiosPercent = df_newstocks.drop(df_newstocks.columns[df_newstocks.apply(lambda col: col.isnull().sum() > 0)], axis=1)\n",
    "labelList = list(positiveRatiosPercent.columns.values)\n",
    "df_positiveRatios = df_new[labelList]\n",
    "df_positiveRatios.rename(columns = {\"Unnamed: 0\" : \"Dates\"}, inplace = True)\n",
    "df_positiveRatios.to_excel(\"path to excel file on the local computer\")"
   ]
  },
  {
   "cell_type": "code",
   "execution_count": null,
   "id": "0e476cd4-3af1-4a53-bd02-1d5d33ae45db",
   "metadata": {},
   "outputs": [],
   "source": []
  },
  {
   "cell_type": "code",
   "execution_count": null,
   "id": "46f5b316-5168-4d94-a950-d072adf299d1",
   "metadata": {},
   "outputs": [],
   "source": []
  },
  {
   "cell_type": "code",
   "execution_count": null,
   "id": "276f048b-1501-4b89-8f33-4d16822f2e9c",
   "metadata": {},
   "outputs": [],
   "source": []
  },
  {
   "cell_type": "code",
   "execution_count": null,
   "id": "2768c4da-1a99-4cd9-8b79-49bc54fb9d26",
   "metadata": {},
   "outputs": [],
   "source": []
  },
  {
   "cell_type": "code",
   "execution_count": null,
   "id": "903157d7-0535-40b0-ab20-85c9e93e6410",
   "metadata": {},
   "outputs": [],
   "source": []
  },
  {
   "cell_type": "code",
   "execution_count": null,
   "id": "0d657287-c1e2-4031-8b42-da7ab83a21d9",
   "metadata": {},
   "outputs": [],
   "source": []
  },
  {
   "cell_type": "code",
   "execution_count": null,
   "id": "edee0034-dd96-4ba0-9a3d-91e8bbc59c7e",
   "metadata": {},
   "outputs": [],
   "source": []
  },
  {
   "cell_type": "code",
   "execution_count": null,
   "id": "a8cece2f-e1f8-412b-b9b4-09803f19c8e4",
   "metadata": {},
   "outputs": [],
   "source": []
  },
  {
   "cell_type": "code",
   "execution_count": null,
   "id": "b197a4ee-ac73-4bc4-8310-9e8d35dc367c",
   "metadata": {},
   "outputs": [],
   "source": []
  }
 ],
 "metadata": {
  "kernelspec": {
   "display_name": "Python 3 (ipykernel)",
   "language": "python",
   "name": "python3"
  },
  "language_info": {
   "codemirror_mode": {
    "name": "ipython",
    "version": 3
   },
   "file_extension": ".py",
   "mimetype": "text/x-python",
   "name": "python",
   "nbconvert_exporter": "python",
   "pygments_lexer": "ipython3",
   "version": "3.8.12"
  }
 },
 "nbformat": 4,
 "nbformat_minor": 5
}
