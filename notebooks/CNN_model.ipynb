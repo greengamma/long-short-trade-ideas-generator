{
 "cells": [
  {
   "cell_type": "code",
   "execution_count": 1,
   "id": "d4e0a905",
   "metadata": {},
   "outputs": [
    {
     "name": "stderr",
     "output_type": "stream",
     "text": [
      "2022-09-06 17:38:18.285175: W tensorflow/stream_executor/platform/default/dso_loader.cc:64] Could not load dynamic library 'libcudart.so.11.0'; dlerror: libcudart.so.11.0: cannot open shared object file: No such file or directory\n",
      "2022-09-06 17:38:18.285246: I tensorflow/stream_executor/cuda/cudart_stub.cc:29] Ignore above cudart dlerror if you do not have a GPU set up on your machine.\n"
     ]
    }
   ],
   "source": [
    "from numpy import array\n",
    "import numpy as np\n",
    "import pandas as pd\n",
    "import matplotlib.pyplot as plt\n",
    "from keras.models import Sequential\n",
    "from keras.layers import Dense\n",
    "from keras.layers import Flatten\n",
    "from keras.layers.convolutional import Conv1D\n",
    "from keras.layers.convolutional import MaxPooling1D"
   ]
  },
  {
   "cell_type": "code",
   "execution_count": 75,
   "id": "fc4a15f7",
   "metadata": {},
   "outputs": [
    {
     "data": {
      "text/html": [
       "<div>\n",
       "<style scoped>\n",
       "    .dataframe tbody tr th:only-of-type {\n",
       "        vertical-align: middle;\n",
       "    }\n",
       "\n",
       "    .dataframe tbody tr th {\n",
       "        vertical-align: top;\n",
       "    }\n",
       "\n",
       "    .dataframe thead th {\n",
       "        text-align: right;\n",
       "    }\n",
       "</style>\n",
       "<table border=\"1\" class=\"dataframe\">\n",
       "  <thead>\n",
       "    <tr style=\"text-align: right;\">\n",
       "      <th></th>\n",
       "      <th>Date</th>\n",
       "      <th>ALB_ZBRA</th>\n",
       "      <th>NRG_CPRT</th>\n",
       "      <th>DE_BXP</th>\n",
       "      <th>NRG_STE</th>\n",
       "      <th>NRG_XRAY</th>\n",
       "      <th>SO_NLOK</th>\n",
       "      <th>PEG_O</th>\n",
       "    </tr>\n",
       "  </thead>\n",
       "  <tbody>\n",
       "    <tr>\n",
       "      <th>0</th>\n",
       "      <td>2020-08-31</td>\n",
       "      <td>0.311845</td>\n",
       "      <td>0.310544</td>\n",
       "      <td>2.548054</td>\n",
       "      <td>0.203834</td>\n",
       "      <td>0.727693</td>\n",
       "      <td>2.136432</td>\n",
       "      <td>0.882281</td>\n",
       "    </tr>\n",
       "    <tr>\n",
       "      <th>1</th>\n",
       "      <td>2020-09-01</td>\n",
       "      <td>0.332974</td>\n",
       "      <td>0.306303</td>\n",
       "      <td>2.687319</td>\n",
       "      <td>0.203522</td>\n",
       "      <td>0.722940</td>\n",
       "      <td>2.094566</td>\n",
       "      <td>0.855546</td>\n",
       "    </tr>\n",
       "    <tr>\n",
       "      <th>2</th>\n",
       "      <td>2020-09-02</td>\n",
       "      <td>0.332368</td>\n",
       "      <td>0.315056</td>\n",
       "      <td>2.629334</td>\n",
       "      <td>0.204743</td>\n",
       "      <td>0.734758</td>\n",
       "      <td>2.125291</td>\n",
       "      <td>0.872526</td>\n",
       "    </tr>\n",
       "    <tr>\n",
       "      <th>3</th>\n",
       "      <td>2020-09-03</td>\n",
       "      <td>0.339772</td>\n",
       "      <td>0.310060</td>\n",
       "      <td>2.534974</td>\n",
       "      <td>0.201707</td>\n",
       "      <td>0.728923</td>\n",
       "      <td>2.210971</td>\n",
       "      <td>0.848504</td>\n",
       "    </tr>\n",
       "    <tr>\n",
       "      <th>4</th>\n",
       "      <td>2020-09-04</td>\n",
       "      <td>0.356920</td>\n",
       "      <td>0.300754</td>\n",
       "      <td>2.536138</td>\n",
       "      <td>0.199887</td>\n",
       "      <td>0.707646</td>\n",
       "      <td>2.152835</td>\n",
       "      <td>0.854765</td>\n",
       "    </tr>\n",
       "    <tr>\n",
       "      <th>...</th>\n",
       "      <td>...</td>\n",
       "      <td>...</td>\n",
       "      <td>...</td>\n",
       "      <td>...</td>\n",
       "      <td>...</td>\n",
       "      <td>...</td>\n",
       "      <td>...</td>\n",
       "      <td>...</td>\n",
       "    </tr>\n",
       "    <tr>\n",
       "      <th>492</th>\n",
       "      <td>2022-08-15</td>\n",
       "      <td>0.813028</td>\n",
       "      <td>0.321488</td>\n",
       "      <td>4.111073</td>\n",
       "      <td>0.197467</td>\n",
       "      <td>1.123670</td>\n",
       "      <td>3.277218</td>\n",
       "      <td>0.920803</td>\n",
       "    </tr>\n",
       "    <tr>\n",
       "      <th>493</th>\n",
       "      <td>2022-08-16</td>\n",
       "      <td>0.814154</td>\n",
       "      <td>0.323634</td>\n",
       "      <td>4.118669</td>\n",
       "      <td>0.200499</td>\n",
       "      <td>1.158238</td>\n",
       "      <td>3.283272</td>\n",
       "      <td>0.933379</td>\n",
       "    </tr>\n",
       "    <tr>\n",
       "      <th>494</th>\n",
       "      <td>2022-08-17</td>\n",
       "      <td>0.815450</td>\n",
       "      <td>0.327442</td>\n",
       "      <td>4.154118</td>\n",
       "      <td>0.201342</td>\n",
       "      <td>1.191888</td>\n",
       "      <td>3.347435</td>\n",
       "      <td>0.935173</td>\n",
       "    </tr>\n",
       "    <tr>\n",
       "      <th>495</th>\n",
       "      <td>2022-08-18</td>\n",
       "      <td>0.816374</td>\n",
       "      <td>0.333768</td>\n",
       "      <td>4.222490</td>\n",
       "      <td>0.204492</td>\n",
       "      <td>1.196920</td>\n",
       "      <td>3.371537</td>\n",
       "      <td>0.950678</td>\n",
       "    </tr>\n",
       "    <tr>\n",
       "      <th>496</th>\n",
       "      <td>2022-08-19</td>\n",
       "      <td>0.822204</td>\n",
       "      <td>0.334919</td>\n",
       "      <td>4.280950</td>\n",
       "      <td>0.204631</td>\n",
       "      <td>1.200391</td>\n",
       "      <td>3.405268</td>\n",
       "      <td>0.951858</td>\n",
       "    </tr>\n",
       "  </tbody>\n",
       "</table>\n",
       "<p>497 rows × 8 columns</p>\n",
       "</div>"
      ],
      "text/plain": [
       "           Date  ALB_ZBRA  NRG_CPRT    DE_BXP   NRG_STE  NRG_XRAY   SO_NLOK  \\\n",
       "0    2020-08-31  0.311845  0.310544  2.548054  0.203834  0.727693  2.136432   \n",
       "1    2020-09-01  0.332974  0.306303  2.687319  0.203522  0.722940  2.094566   \n",
       "2    2020-09-02  0.332368  0.315056  2.629334  0.204743  0.734758  2.125291   \n",
       "3    2020-09-03  0.339772  0.310060  2.534974  0.201707  0.728923  2.210971   \n",
       "4    2020-09-04  0.356920  0.300754  2.536138  0.199887  0.707646  2.152835   \n",
       "..          ...       ...       ...       ...       ...       ...       ...   \n",
       "492  2022-08-15  0.813028  0.321488  4.111073  0.197467  1.123670  3.277218   \n",
       "493  2022-08-16  0.814154  0.323634  4.118669  0.200499  1.158238  3.283272   \n",
       "494  2022-08-17  0.815450  0.327442  4.154118  0.201342  1.191888  3.347435   \n",
       "495  2022-08-18  0.816374  0.333768  4.222490  0.204492  1.196920  3.371537   \n",
       "496  2022-08-19  0.822204  0.334919  4.280950  0.204631  1.200391  3.405268   \n",
       "\n",
       "        PEG_O  \n",
       "0    0.882281  \n",
       "1    0.855546  \n",
       "2    0.872526  \n",
       "3    0.848504  \n",
       "4    0.854765  \n",
       "..        ...  \n",
       "492  0.920803  \n",
       "493  0.933379  \n",
       "494  0.935173  \n",
       "495  0.950678  \n",
       "496  0.951858  \n",
       "\n",
       "[497 rows x 8 columns]"
      ]
     },
     "execution_count": 75,
     "metadata": {},
     "output_type": "execute_result"
    }
   ],
   "source": [
    "df = pd.read_csv('../raw_data/ratios.csv')\n",
    "df"
   ]
  },
  {
   "cell_type": "code",
   "execution_count": 76,
   "id": "7d3e2ac8",
   "metadata": {},
   "outputs": [
    {
     "data": {
      "text/html": [
       "<div>\n",
       "<style scoped>\n",
       "    .dataframe tbody tr th:only-of-type {\n",
       "        vertical-align: middle;\n",
       "    }\n",
       "\n",
       "    .dataframe tbody tr th {\n",
       "        vertical-align: top;\n",
       "    }\n",
       "\n",
       "    .dataframe thead th {\n",
       "        text-align: right;\n",
       "    }\n",
       "</style>\n",
       "<table border=\"1\" class=\"dataframe\">\n",
       "  <thead>\n",
       "    <tr style=\"text-align: right;\">\n",
       "      <th></th>\n",
       "      <th>ALB_ZBRA</th>\n",
       "    </tr>\n",
       "    <tr>\n",
       "      <th>Date</th>\n",
       "      <th></th>\n",
       "    </tr>\n",
       "  </thead>\n",
       "  <tbody>\n",
       "    <tr>\n",
       "      <th>2020-08-31</th>\n",
       "      <td>0.311845</td>\n",
       "    </tr>\n",
       "    <tr>\n",
       "      <th>2020-09-01</th>\n",
       "      <td>0.332974</td>\n",
       "    </tr>\n",
       "    <tr>\n",
       "      <th>2020-09-02</th>\n",
       "      <td>0.332368</td>\n",
       "    </tr>\n",
       "    <tr>\n",
       "      <th>2020-09-03</th>\n",
       "      <td>0.339772</td>\n",
       "    </tr>\n",
       "    <tr>\n",
       "      <th>2020-09-04</th>\n",
       "      <td>0.356920</td>\n",
       "    </tr>\n",
       "  </tbody>\n",
       "</table>\n",
       "</div>"
      ],
      "text/plain": [
       "            ALB_ZBRA\n",
       "Date                \n",
       "2020-08-31  0.311845\n",
       "2020-09-01  0.332974\n",
       "2020-09-02  0.332368\n",
       "2020-09-03  0.339772\n",
       "2020-09-04  0.356920"
      ]
     },
     "execution_count": 76,
     "metadata": {},
     "output_type": "execute_result"
    }
   ],
   "source": [
    "ratio = 'ALB_ZBRA'\n",
    "A = df[['Date',ratio]]\n",
    "A.set_index('Date',inplace=True)\n",
    "A.head()"
   ]
  },
  {
   "cell_type": "code",
   "execution_count": 77,
   "id": "f7697548",
   "metadata": {},
   "outputs": [],
   "source": [
    "Daily_ratio = A[ratio].to_list()"
   ]
  },
  {
   "cell_type": "code",
   "execution_count": 83,
   "id": "a6cf03d7",
   "metadata": {},
   "outputs": [],
   "source": [
    "# split a univariate sequence into samples\n",
    "def split_sequence(sequence, n_steps_in, n_steps_out):\n",
    "\tX, y = list(), list()\n",
    "\tfor i in range(len(sequence)):\n",
    "\t\t# find the end of this pattern\n",
    "\t\tend_ix = i + n_steps_in\n",
    "\t\tout_end_ix = end_ix + n_steps_out\n",
    "\t\t# check if we are beyond the sequence\n",
    "\t\tif out_end_ix > len(sequence):\n",
    "\t\t\tbreak\n",
    "\t\t# gather input and output parts of the pattern\n",
    "\t\tseq_x, seq_y = sequence[i:end_ix], sequence[end_ix:out_end_ix]\n",
    "\t\tX.append(seq_x)\n",
    "\t\ty.append(seq_y)\n",
    "\treturn array(X), array(y)"
   ]
  },
  {
   "cell_type": "code",
   "execution_count": 99,
   "id": "0ee66c1d",
   "metadata": {},
   "outputs": [
    {
     "data": {
      "text/plain": [
       "(267, 200)"
      ]
     },
     "execution_count": 99,
     "metadata": {},
     "output_type": "execute_result"
    }
   ],
   "source": [
    "X,y = split_sequence(Daily_ratio,200,30)\n",
    "X_train =X[0:X.shape[0]-1]\n",
    "X_test = X[X.shape[0]-1:]\n",
    "X_train.shape\n",
    "X_test.shape\n",
    "y.shape\n",
    "y_train = y[0:y.shape[0]-1]\n",
    "y_test = y[y.shape[0]-1:]\n",
    "\n",
    "\n",
    "X_train.shape"
   ]
  },
  {
   "cell_type": "code",
   "execution_count": 100,
   "id": "647eae75",
   "metadata": {},
   "outputs": [
    {
     "data": {
      "text/plain": [
       "(267, 200, 1)"
      ]
     },
     "execution_count": 100,
     "metadata": {},
     "output_type": "execute_result"
    }
   ],
   "source": [
    "# reshape from [samples, timesteps] into [samples, timesteps, features]\n",
    "n_features = 1\n",
    "X_test = X_test.reshape((X_test.shape[0], X_test.shape[1], n_features))\n",
    "X_train = X_train.reshape((X_train.shape[0], X_train.shape[1], n_features))\n",
    "X_train.shape"
   ]
  },
  {
   "cell_type": "code",
   "execution_count": 86,
   "id": "bd0221bc",
   "metadata": {},
   "outputs": [],
   "source": [
    "# define model\n",
    "model = Sequential()\n",
    "model.add(Conv1D(filters=64, kernel_size=2, activation='relu', input_shape=(200, 1)))\n",
    "model.add(MaxPooling1D(pool_size=2))\n",
    "model.add(Conv1D(filters=32, kernel_size=2, activation='relu', input_shape=(200, 1)))\n",
    "model.add(MaxPooling1D(pool_size=2))\n",
    "model.add(Flatten())\n",
    "model.add(Dense(50, activation='relu'))\n",
    "model.add(Dense(30))\n",
    "model.compile(optimizer='adam', loss='mse')\n"
   ]
  },
  {
   "cell_type": "code",
   "execution_count": 87,
   "id": "cdcaac01",
   "metadata": {},
   "outputs": [
    {
     "data": {
      "text/plain": [
       "<keras.callbacks.History at 0x7f8b70851f10>"
      ]
     },
     "execution_count": 87,
     "metadata": {},
     "output_type": "execute_result"
    }
   ],
   "source": [
    "# fit model\n",
    "model.fit(X_train, y_train, epochs=1000, verbose=0)\n"
   ]
  },
  {
   "cell_type": "code",
   "execution_count": 88,
   "id": "023d494b",
   "metadata": {
    "scrolled": true
   },
   "outputs": [
    {
     "name": "stdout",
     "output_type": "stream",
     "text": [
      "[[0.7350004  0.75517905 0.7539702  0.7170357  0.742113   0.7153993\n",
      "  0.72937405 0.73391145 0.73033196 0.7256184  0.71984696 0.7225187\n",
      "  0.71405363 0.72268236 0.7129971  0.72725344 0.74215925 0.7438424\n",
      "  0.75447464 0.7420984  0.7603387  0.75870514 0.81782246 0.82589406\n",
      "  0.8581247  0.85271055 0.8554827  0.8614019  0.8395095  0.8463453 ]]\n"
     ]
    }
   ],
   "source": [
    "# demonstrate prediction\n",
    "yhat = model.predict(X_test, verbose=0)\n",
    "print(yhat)"
   ]
  },
  {
   "cell_type": "code",
   "execution_count": 89,
   "id": "8bf96124",
   "metadata": {},
   "outputs": [
    {
     "data": {
      "text/plain": [
       "[<matplotlib.lines.Line2D at 0x7f8b6a98b2e0>]"
      ]
     },
     "execution_count": 89,
     "metadata": {},
     "output_type": "execute_result"
    },
    {
     "data": {
      "image/png": "[encoded data removed]",
      "text/plain": [
       "<Figure size 936x720 with 1 Axes>"
      ]
     },
     "metadata": {
      "needs_background": "light"
     },
     "output_type": "display_data"
    }
   ],
   "source": [
    "fig, ax = plt.subplots(1,1,figsize = (13,10))\n",
    "ax.plot(A[ratio][-60:])\n",
    "ax.plot(A.index[-30:],y_test[0])\n",
    "ax.plot(A.index[-30:],yhat[0],c='green')"
   ]
  },
  {
   "cell_type": "code",
   "execution_count": 97,
   "id": "fa84d20f",
   "metadata": {},
   "outputs": [],
   "source": [
    "def mean_absolute_percentage_error(y_true, y_pred): \n",
    "    y_true, y_pred = np.array(y_true), np.array(y_pred)\n",
    "    return np.mean(np.abs((y_true - y_pred) / y_true)) * 100"
   ]
  },
  {
   "cell_type": "code",
   "execution_count": 98,
   "id": "40ef1285",
   "metadata": {},
   "outputs": [
    {
     "data": {
      "text/plain": [
       "5.4636756902712875"
      ]
     },
     "execution_count": 98,
     "metadata": {},
     "output_type": "execute_result"
    }
   ],
   "source": [
    "mean_absolute_percentage_error(y_test,yhat)"
   ]
  },
  {
   "cell_type": "code",
   "execution_count": null,
   "id": "2d58fec1",
   "metadata": {},
   "outputs": [],
   "source": []
  },
  {
   "cell_type": "code",
   "execution_count": null,
   "id": "ac1df976",
   "metadata": {},
   "outputs": [],
   "source": []
  }
 ],
 "metadata": {
  "kernelspec": {
   "display_name": "Python 3 (ipykernel)",
   "language": "python",
   "name": "python3"
  },
  "language_info": {
   "codemirror_mode": {
    "name": "ipython",
    "version": 3
   },
   "file_extension": ".py",
   "mimetype": "text/x-python",
   "name": "python",
   "nbconvert_exporter": "python",
   "pygments_lexer": "ipython3",
   "version": "3.8.12"
  },
  "toc": {
   "base_numbering": 1,
   "nav_menu": {},
   "number_sections": true,
   "sideBar": true,
   "skip_h1_title": false,
   "title_cell": "Table of Contents",
   "title_sidebar": "Contents",
   "toc_cell": false,
   "toc_position": {},
   "toc_section_display": true,
   "toc_window_display": false
  }
 },
 "nbformat": 4,
 "nbformat_minor": 5
}
