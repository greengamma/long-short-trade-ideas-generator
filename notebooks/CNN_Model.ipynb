{
 "cells": [
  {
   "cell_type": "markdown",
   "id": "27185733",
   "metadata": {},
   "source": [
    "# CNN Model for Stock market Ratio Prediction"
   ]
  },
  {
   "cell_type": "markdown",
   "id": "81bfc60e",
   "metadata": {},
   "source": [
    "## Packages "
   ]
  },
  {
   "cell_type": "code",
   "execution_count": 126,
   "id": "ae143af6",
   "metadata": {},
   "outputs": [
    {
     "name": "stderr",
     "output_type": "stream",
     "text": [
      "2022-09-01 18:07:30.337464: W tensorflow/stream_executor/platform/default/dso_loader.cc:64] Could not load dynamic library 'libcudart.so.11.0'; dlerror: libcudart.so.11.0: cannot open shared object file: No such file or directory\n",
      "2022-09-01 18:07:30.337630: I tensorflow/stream_executor/cuda/cudart_stub.cc:29] Ignore above cudart dlerror if you do not have a GPU set up on your machine.\n"
     ]
    }
   ],
   "source": [
    "import numpy as np \n",
    "import pandas as pd\n",
    "import matplotlib.pyplot as plt\n",
    "import tensorflow as tf\n",
    "\n",
    "from tensorflow.keras import models\n",
    "from tensorflow.keras import Sequential, layers\n",
    "from tensorflow.keras import optimizers\n",
    "\n",
    "##Removes warning for chained assignments\n",
    "pd.options.mode.chained_assignment = None  # default='warn'"
   ]
  },
  {
   "cell_type": "markdown",
   "id": "5d89446c",
   "metadata": {},
   "source": [
    "## Import Data\n"
   ]
  },
  {
   "cell_type": "code",
   "execution_count": 127,
   "id": "324e23b6",
   "metadata": {},
   "outputs": [
    {
     "data": {
      "text/plain": [
       "(126, 231)"
      ]
     },
     "execution_count": 127,
     "metadata": {},
     "output_type": "execute_result"
    }
   ],
   "source": [
    "df = pd.read_excel('../raw_data/cleaned_data.xlsx').drop('Unnamed: 0',axis=1)\n",
    "df.shape"
   ]
  },
  {
   "cell_type": "markdown",
   "id": "65d851bb",
   "metadata": {},
   "source": [
    "126 days of stock prices ratios for 231 different stock pairs, will build model to look at first ratio. "
   ]
  },
  {
   "cell_type": "markdown",
   "id": "2f9b4b49",
   "metadata": {},
   "source": [
    "## First Ratio"
   ]
  },
  {
   "cell_type": "code",
   "execution_count": 128,
   "id": "8d48a979",
   "metadata": {},
   "outputs": [
    {
     "data": {
      "text/html": [
       "<div>\n",
       "<style scoped>\n",
       "    .dataframe tbody tr th:only-of-type {\n",
       "        vertical-align: middle;\n",
       "    }\n",
       "\n",
       "    .dataframe tbody tr th {\n",
       "        vertical-align: top;\n",
       "    }\n",
       "\n",
       "    .dataframe thead th {\n",
       "        text-align: right;\n",
       "    }\n",
       "</style>\n",
       "<table border=\"1\" class=\"dataframe\">\n",
       "  <thead>\n",
       "    <tr style=\"text-align: right;\">\n",
       "      <th></th>\n",
       "      <th>Ratio</th>\n",
       "    </tr>\n",
       "    <tr>\n",
       "      <th>Date</th>\n",
       "      <th></th>\n",
       "    </tr>\n",
       "  </thead>\n",
       "  <tbody>\n",
       "    <tr>\n",
       "      <th>2022-02-28</th>\n",
       "      <td>0.129193</td>\n",
       "    </tr>\n",
       "    <tr>\n",
       "      <th>2022-03-01</th>\n",
       "      <td>0.122627</td>\n",
       "    </tr>\n",
       "    <tr>\n",
       "      <th>2022-03-02</th>\n",
       "      <td>0.127060</td>\n",
       "    </tr>\n",
       "    <tr>\n",
       "      <th>2022-03-03</th>\n",
       "      <td>0.123758</td>\n",
       "    </tr>\n",
       "    <tr>\n",
       "      <th>2022-03-04</th>\n",
       "      <td>0.116190</td>\n",
       "    </tr>\n",
       "    <tr>\n",
       "      <th>...</th>\n",
       "      <td>...</td>\n",
       "    </tr>\n",
       "    <tr>\n",
       "      <th>2022-08-22</th>\n",
       "      <td>0.116055</td>\n",
       "    </tr>\n",
       "    <tr>\n",
       "      <th>2022-08-23</th>\n",
       "      <td>0.117660</td>\n",
       "    </tr>\n",
       "    <tr>\n",
       "      <th>2022-08-24</th>\n",
       "      <td>0.119299</td>\n",
       "    </tr>\n",
       "    <tr>\n",
       "      <th>2022-08-25</th>\n",
       "      <td>0.120785</td>\n",
       "    </tr>\n",
       "    <tr>\n",
       "      <th>2022-08-26</th>\n",
       "      <td>0.124187</td>\n",
       "    </tr>\n",
       "  </tbody>\n",
       "</table>\n",
       "<p>126 rows × 1 columns</p>\n",
       "</div>"
      ],
      "text/plain": [
       "               Ratio\n",
       "Date                \n",
       "2022-02-28  0.129193\n",
       "2022-03-01  0.122627\n",
       "2022-03-02  0.127060\n",
       "2022-03-03  0.123758\n",
       "2022-03-04  0.116190\n",
       "...              ...\n",
       "2022-08-22  0.116055\n",
       "2022-08-23  0.117660\n",
       "2022-08-24  0.119299\n",
       "2022-08-25  0.120785\n",
       "2022-08-26  0.124187\n",
       "\n",
       "[126 rows x 1 columns]"
      ]
     },
     "execution_count": 128,
     "metadata": {},
     "output_type": "execute_result"
    }
   ],
   "source": [
    "A = df[['Date','BBWI_COO']]\n",
    "A.set_index('Date',inplace=True)\n",
    "A.rename(columns = {'BBWI_COO': 'Ratio'},inplace=True)\n",
    "A"
   ]
  },
  {
   "cell_type": "markdown",
   "id": "e17d1c9f",
   "metadata": {},
   "source": [
    "### Feature engineering "
   ]
  },
  {
   "cell_type": "markdown",
   "id": "c5d7ea7c",
   "metadata": {},
   "source": [
    "The CNN model can be used to model the ratios but we first have to pre-process the data into a format the model will understand this consists of a series of smaller samples for this I will start with using the Monday to Friday "
   ]
  },
  {
   "cell_type": "code",
   "execution_count": 129,
   "id": "05a91a25",
   "metadata": {},
   "outputs": [
    {
     "data": {
      "text/html": [
       "<div>\n",
       "<style scoped>\n",
       "    .dataframe tbody tr th:only-of-type {\n",
       "        vertical-align: middle;\n",
       "    }\n",
       "\n",
       "    .dataframe tbody tr th {\n",
       "        vertical-align: top;\n",
       "    }\n",
       "\n",
       "    .dataframe thead th {\n",
       "        text-align: right;\n",
       "    }\n",
       "</style>\n",
       "<table border=\"1\" class=\"dataframe\">\n",
       "  <thead>\n",
       "    <tr style=\"text-align: right;\">\n",
       "      <th></th>\n",
       "      <th>Ratio</th>\n",
       "      <th>t-1</th>\n",
       "      <th>t-2</th>\n",
       "      <th>t-3</th>\n",
       "      <th>t-4</th>\n",
       "      <th>t-5</th>\n",
       "    </tr>\n",
       "    <tr>\n",
       "      <th>Date</th>\n",
       "      <th></th>\n",
       "      <th></th>\n",
       "      <th></th>\n",
       "      <th></th>\n",
       "      <th></th>\n",
       "      <th></th>\n",
       "    </tr>\n",
       "  </thead>\n",
       "  <tbody>\n",
       "    <tr>\n",
       "      <th>2022-03-07</th>\n",
       "      <td>0.112286</td>\n",
       "      <td>0.116190</td>\n",
       "      <td>0.123758</td>\n",
       "      <td>0.127060</td>\n",
       "      <td>0.122627</td>\n",
       "      <td>0.129193</td>\n",
       "    </tr>\n",
       "    <tr>\n",
       "      <th>2022-03-08</th>\n",
       "      <td>0.118666</td>\n",
       "      <td>0.112286</td>\n",
       "      <td>0.116190</td>\n",
       "      <td>0.123758</td>\n",
       "      <td>0.127060</td>\n",
       "      <td>0.122627</td>\n",
       "    </tr>\n",
       "    <tr>\n",
       "      <th>2022-03-09</th>\n",
       "      <td>0.122097</td>\n",
       "      <td>0.118666</td>\n",
       "      <td>0.112286</td>\n",
       "      <td>0.116190</td>\n",
       "      <td>0.123758</td>\n",
       "      <td>0.127060</td>\n",
       "    </tr>\n",
       "    <tr>\n",
       "      <th>2022-03-10</th>\n",
       "      <td>0.123552</td>\n",
       "      <td>0.122097</td>\n",
       "      <td>0.118666</td>\n",
       "      <td>0.112286</td>\n",
       "      <td>0.116190</td>\n",
       "      <td>0.123758</td>\n",
       "    </tr>\n",
       "    <tr>\n",
       "      <th>2022-03-11</th>\n",
       "      <td>0.121979</td>\n",
       "      <td>0.123552</td>\n",
       "      <td>0.122097</td>\n",
       "      <td>0.118666</td>\n",
       "      <td>0.112286</td>\n",
       "      <td>0.116190</td>\n",
       "    </tr>\n",
       "    <tr>\n",
       "      <th>...</th>\n",
       "      <td>...</td>\n",
       "      <td>...</td>\n",
       "      <td>...</td>\n",
       "      <td>...</td>\n",
       "      <td>...</td>\n",
       "      <td>...</td>\n",
       "    </tr>\n",
       "    <tr>\n",
       "      <th>2022-08-22</th>\n",
       "      <td>0.116055</td>\n",
       "      <td>0.119805</td>\n",
       "      <td>0.123131</td>\n",
       "      <td>0.122132</td>\n",
       "      <td>0.121021</td>\n",
       "      <td>0.117015</td>\n",
       "    </tr>\n",
       "    <tr>\n",
       "      <th>2022-08-23</th>\n",
       "      <td>0.117660</td>\n",
       "      <td>0.116055</td>\n",
       "      <td>0.119805</td>\n",
       "      <td>0.123131</td>\n",
       "      <td>0.122132</td>\n",
       "      <td>0.121021</td>\n",
       "    </tr>\n",
       "    <tr>\n",
       "      <th>2022-08-24</th>\n",
       "      <td>0.119299</td>\n",
       "      <td>0.117660</td>\n",
       "      <td>0.116055</td>\n",
       "      <td>0.119805</td>\n",
       "      <td>0.123131</td>\n",
       "      <td>0.122132</td>\n",
       "    </tr>\n",
       "    <tr>\n",
       "      <th>2022-08-25</th>\n",
       "      <td>0.120785</td>\n",
       "      <td>0.119299</td>\n",
       "      <td>0.117660</td>\n",
       "      <td>0.116055</td>\n",
       "      <td>0.119805</td>\n",
       "      <td>0.123131</td>\n",
       "    </tr>\n",
       "    <tr>\n",
       "      <th>2022-08-26</th>\n",
       "      <td>0.124187</td>\n",
       "      <td>0.120785</td>\n",
       "      <td>0.119299</td>\n",
       "      <td>0.117660</td>\n",
       "      <td>0.116055</td>\n",
       "      <td>0.119805</td>\n",
       "    </tr>\n",
       "  </tbody>\n",
       "</table>\n",
       "<p>121 rows × 6 columns</p>\n",
       "</div>"
      ],
      "text/plain": [
       "               Ratio       t-1       t-2       t-3       t-4       t-5\n",
       "Date                                                                  \n",
       "2022-03-07  0.112286  0.116190  0.123758  0.127060  0.122627  0.129193\n",
       "2022-03-08  0.118666  0.112286  0.116190  0.123758  0.127060  0.122627\n",
       "2022-03-09  0.122097  0.118666  0.112286  0.116190  0.123758  0.127060\n",
       "2022-03-10  0.123552  0.122097  0.118666  0.112286  0.116190  0.123758\n",
       "2022-03-11  0.121979  0.123552  0.122097  0.118666  0.112286  0.116190\n",
       "...              ...       ...       ...       ...       ...       ...\n",
       "2022-08-22  0.116055  0.119805  0.123131  0.122132  0.121021  0.117015\n",
       "2022-08-23  0.117660  0.116055  0.119805  0.123131  0.122132  0.121021\n",
       "2022-08-24  0.119299  0.117660  0.116055  0.119805  0.123131  0.122132\n",
       "2022-08-25  0.120785  0.119299  0.117660  0.116055  0.119805  0.123131\n",
       "2022-08-26  0.124187  0.120785  0.119299  0.117660  0.116055  0.119805\n",
       "\n",
       "[121 rows x 6 columns]"
      ]
     },
     "execution_count": 129,
     "metadata": {},
     "output_type": "execute_result"
    }
   ],
   "source": [
    "# Create columns for previous week Ratio Column is now the target.\n",
    "\n",
    "for i in range(1,6):\n",
    "    A[f't-{i}'] = A['Ratio'].shift(i)\n",
    "A = A.dropna()\n",
    "A"
   ]
  },
  {
   "cell_type": "code",
   "execution_count": 134,
   "id": "55cc6b70",
   "metadata": {},
   "outputs": [
    {
     "name": "stdout",
     "output_type": "stream",
     "text": [
      "[0.1226267678495753, 0.1270597644622163, 0.1237582620043392, 0.1161903647427099, 0.1122857665900478] 0.1186657876147718\n"
     ]
    }
   ],
   "source": [
    "X = []\n",
    "for i in range(len(A['Ratio'])):\n",
    "    X.append([A['t-5'][i],A['t-4'][i],A['t-3'][i],A['t-2'][i],A['t-1'][i]])\n",
    "Y = A['Ratio'].tolist()\n",
    "print(X[1],Y[1])"
   ]
  },
  {
   "cell_type": "code",
   "execution_count": 169,
   "id": "b3378bfe",
   "metadata": {
    "scrolled": true
   },
   "outputs": [],
   "source": [
    "model = Sequential()\n",
    "model.add(layers.Conv1D(filters=64, kernel_size=2, activation='relu', input_shape=(5,1)))\n",
    "model.add(layers.MaxPooling1D(pool_size=2))\n",
    "model.add(layers.Flatten())\n",
    "model.add(layers.Dense(50, activation='relu'))\n",
    "model.add(layers.Dense(1))\n",
    "model.compile(optimizer='adam', loss='mae')"
   ]
  },
  {
   "cell_type": "code",
   "execution_count": 170,
   "id": "4be7bb61",
   "metadata": {},
   "outputs": [],
   "source": [
    "X = array(X)\n",
    "X = X.reshape((X.shape[0], X.shape[1], 1))"
   ]
  },
  {
   "cell_type": "code",
   "execution_count": 171,
   "id": "e4f61955",
   "metadata": {},
   "outputs": [],
   "source": [
    "Y = array(Y)"
   ]
  },
  {
   "cell_type": "code",
   "execution_count": 172,
   "id": "efd45adf",
   "metadata": {},
   "outputs": [
    {
     "data": {
      "text/plain": [
       "((121, 5, 1), (121,))"
      ]
     },
     "execution_count": 172,
     "metadata": {},
     "output_type": "execute_result"
    }
   ],
   "source": [
    "X.shape,Y.shape"
   ]
  },
  {
   "cell_type": "code",
   "execution_count": 173,
   "id": "823919af",
   "metadata": {},
   "outputs": [],
   "source": [
    "X_train = X[0:100]\n",
    "X_test = X[100:]\n",
    "Y_train = Y[0:100]\n",
    "Y_test = Y[100:]"
   ]
  },
  {
   "cell_type": "code",
   "execution_count": 174,
   "id": "d90f07a9",
   "metadata": {},
   "outputs": [
    {
     "data": {
      "text/plain": [
       "((100, 5, 1), (100,))"
      ]
     },
     "execution_count": 174,
     "metadata": {},
     "output_type": "execute_result"
    }
   ],
   "source": [
    "X_train.shape,Y_train.shape"
   ]
  },
  {
   "cell_type": "code",
   "execution_count": 175,
   "id": "ed2e5406",
   "metadata": {},
   "outputs": [
    {
     "name": "stdout",
     "output_type": "stream",
     "text": [
      "Epoch 1/100\n",
      "4/4 [==============================] - 0s 4ms/step - loss: 0.1222\n",
      "Epoch 2/100\n",
      "4/4 [==============================] - 0s 4ms/step - loss: 0.0841\n",
      "Epoch 3/100\n",
      "4/4 [==============================] - 0s 4ms/step - loss: 0.0544\n",
      "Epoch 4/100\n",
      "4/4 [==============================] - 0s 4ms/step - loss: 0.0276\n",
      "Epoch 5/100\n",
      "4/4 [==============================] - 0s 3ms/step - loss: 0.0116\n",
      "Epoch 6/100\n",
      "4/4 [==============================] - 0s 4ms/step - loss: 0.0203\n",
      "Epoch 7/100\n",
      "4/4 [==============================] - 0s 3ms/step - loss: 0.0189\n",
      "Epoch 8/100\n",
      "4/4 [==============================] - 0s 4ms/step - loss: 0.0117\n",
      "Epoch 9/100\n",
      "4/4 [==============================] - 0s 4ms/step - loss: 0.0108\n",
      "Epoch 10/100\n",
      "4/4 [==============================] - 0s 4ms/step - loss: 0.0127\n",
      "Epoch 11/100\n",
      "4/4 [==============================] - 0s 4ms/step - loss: 0.0108\n",
      "Epoch 12/100\n",
      "4/4 [==============================] - 0s 4ms/step - loss: 0.0094\n",
      "Epoch 13/100\n",
      "4/4 [==============================] - 0s 3ms/step - loss: 0.0108\n",
      "Epoch 14/100\n",
      "4/4 [==============================] - 0s 3ms/step - loss: 0.0104\n",
      "Epoch 15/100\n",
      "4/4 [==============================] - 0s 4ms/step - loss: 0.0093\n",
      "Epoch 16/100\n",
      "4/4 [==============================] - 0s 4ms/step - loss: 0.0102\n",
      "Epoch 17/100\n",
      "4/4 [==============================] - 0s 3ms/step - loss: 0.0094\n",
      "Epoch 18/100\n",
      "4/4 [==============================] - 0s 4ms/step - loss: 0.0092\n",
      "Epoch 19/100\n",
      "4/4 [==============================] - 0s 4ms/step - loss: 0.0093\n",
      "Epoch 20/100\n",
      "4/4 [==============================] - 0s 4ms/step - loss: 0.0090\n",
      "Epoch 21/100\n",
      "4/4 [==============================] - 0s 4ms/step - loss: 0.0090\n",
      "Epoch 22/100\n",
      "4/4 [==============================] - 0s 3ms/step - loss: 0.0092\n",
      "Epoch 23/100\n",
      "4/4 [==============================] - 0s 3ms/step - loss: 0.0089\n",
      "Epoch 24/100\n",
      "4/4 [==============================] - 0s 3ms/step - loss: 0.0091\n",
      "Epoch 25/100\n",
      "4/4 [==============================] - 0s 3ms/step - loss: 0.0087\n",
      "Epoch 26/100\n",
      "4/4 [==============================] - 0s 4ms/step - loss: 0.0085\n",
      "Epoch 27/100\n",
      "4/4 [==============================] - 0s 4ms/step - loss: 0.0085\n",
      "Epoch 28/100\n",
      "4/4 [==============================] - 0s 3ms/step - loss: 0.0084\n",
      "Epoch 29/100\n",
      "4/4 [==============================] - 0s 4ms/step - loss: 0.0086\n",
      "Epoch 30/100\n",
      "4/4 [==============================] - 0s 4ms/step - loss: 0.0083\n",
      "Epoch 31/100\n",
      "4/4 [==============================] - 0s 4ms/step - loss: 0.0083\n",
      "Epoch 32/100\n",
      "4/4 [==============================] - 0s 4ms/step - loss: 0.0087\n",
      "Epoch 33/100\n",
      "4/4 [==============================] - 0s 4ms/step - loss: 0.0081\n",
      "Epoch 34/100\n",
      "4/4 [==============================] - 0s 4ms/step - loss: 0.0080\n",
      "Epoch 35/100\n",
      "4/4 [==============================] - 0s 4ms/step - loss: 0.0080\n",
      "Epoch 36/100\n",
      "4/4 [==============================] - 0s 3ms/step - loss: 0.0076\n",
      "Epoch 37/100\n",
      "4/4 [==============================] - 0s 3ms/step - loss: 0.0075\n",
      "Epoch 38/100\n",
      "4/4 [==============================] - 0s 3ms/step - loss: 0.0079\n",
      "Epoch 39/100\n",
      "4/4 [==============================] - 0s 3ms/step - loss: 0.0074\n",
      "Epoch 40/100\n",
      "4/4 [==============================] - 0s 4ms/step - loss: 0.0076\n",
      "Epoch 41/100\n",
      "4/4 [==============================] - 0s 3ms/step - loss: 0.0072\n",
      "Epoch 42/100\n",
      "4/4 [==============================] - 0s 3ms/step - loss: 0.0076\n",
      "Epoch 43/100\n",
      "4/4 [==============================] - 0s 3ms/step - loss: 0.0071\n",
      "Epoch 44/100\n",
      "4/4 [==============================] - 0s 4ms/step - loss: 0.0070\n",
      "Epoch 45/100\n",
      "4/4 [==============================] - 0s 3ms/step - loss: 0.0069\n",
      "Epoch 46/100\n",
      "4/4 [==============================] - 0s 3ms/step - loss: 0.0065\n",
      "Epoch 47/100\n",
      "4/4 [==============================] - 0s 3ms/step - loss: 0.0069\n",
      "Epoch 48/100\n",
      "4/4 [==============================] - 0s 4ms/step - loss: 0.0064\n",
      "Epoch 49/100\n",
      "4/4 [==============================] - 0s 4ms/step - loss: 0.0066\n",
      "Epoch 50/100\n",
      "4/4 [==============================] - 0s 3ms/step - loss: 0.0075\n",
      "Epoch 51/100\n",
      "4/4 [==============================] - 0s 3ms/step - loss: 0.0062\n",
      "Epoch 52/100\n",
      "4/4 [==============================] - 0s 4ms/step - loss: 0.0065\n",
      "Epoch 53/100\n",
      "4/4 [==============================] - 0s 3ms/step - loss: 0.0076\n",
      "Epoch 54/100\n",
      "4/4 [==============================] - 0s 4ms/step - loss: 0.0071\n",
      "Epoch 55/100\n",
      "4/4 [==============================] - 0s 3ms/step - loss: 0.0069\n",
      "Epoch 56/100\n",
      "4/4 [==============================] - 0s 3ms/step - loss: 0.0083\n",
      "Epoch 57/100\n",
      "4/4 [==============================] - 0s 4ms/step - loss: 0.0065\n",
      "Epoch 58/100\n",
      "4/4 [==============================] - 0s 3ms/step - loss: 0.0077\n",
      "Epoch 59/100\n",
      "4/4 [==============================] - 0s 3ms/step - loss: 0.0061\n",
      "Epoch 60/100\n",
      "4/4 [==============================] - 0s 3ms/step - loss: 0.0061\n",
      "Epoch 61/100\n",
      "4/4 [==============================] - 0s 3ms/step - loss: 0.0064\n",
      "Epoch 62/100\n",
      "4/4 [==============================] - 0s 3ms/step - loss: 0.0059\n",
      "Epoch 63/100\n",
      "4/4 [==============================] - 0s 3ms/step - loss: 0.0066\n",
      "Epoch 64/100\n",
      "4/4 [==============================] - 0s 3ms/step - loss: 0.0064\n",
      "Epoch 65/100\n",
      "4/4 [==============================] - 0s 3ms/step - loss: 0.0065\n",
      "Epoch 66/100\n",
      "4/4 [==============================] - 0s 3ms/step - loss: 0.0058\n",
      "Epoch 67/100\n",
      "4/4 [==============================] - 0s 3ms/step - loss: 0.0057\n",
      "Epoch 68/100\n",
      "4/4 [==============================] - 0s 3ms/step - loss: 0.0059\n",
      "Epoch 69/100\n",
      "4/4 [==============================] - 0s 3ms/step - loss: 0.0060\n",
      "Epoch 70/100\n",
      "4/4 [==============================] - 0s 3ms/step - loss: 0.0074\n",
      "Epoch 71/100\n",
      "4/4 [==============================] - 0s 3ms/step - loss: 0.0063\n",
      "Epoch 72/100\n",
      "4/4 [==============================] - 0s 3ms/step - loss: 0.0057\n",
      "Epoch 73/100\n",
      "4/4 [==============================] - 0s 3ms/step - loss: 0.0068\n",
      "Epoch 74/100\n",
      "4/4 [==============================] - 0s 3ms/step - loss: 0.0072\n",
      "Epoch 75/100\n",
      "4/4 [==============================] - 0s 3ms/step - loss: 0.0064\n",
      "Epoch 76/100\n",
      "4/4 [==============================] - 0s 3ms/step - loss: 0.0081\n",
      "Epoch 77/100\n",
      "4/4 [==============================] - 0s 3ms/step - loss: 0.0065\n",
      "Epoch 78/100\n",
      "4/4 [==============================] - 0s 3ms/step - loss: 0.0072\n",
      "Epoch 79/100\n",
      "4/4 [==============================] - 0s 3ms/step - loss: 0.0061\n",
      "Epoch 80/100\n",
      "4/4 [==============================] - 0s 3ms/step - loss: 0.0060\n",
      "Epoch 81/100\n",
      "4/4 [==============================] - 0s 3ms/step - loss: 0.0061\n",
      "Epoch 82/100\n",
      "4/4 [==============================] - 0s 3ms/step - loss: 0.0060\n",
      "Epoch 83/100\n",
      "4/4 [==============================] - 0s 3ms/step - loss: 0.0057\n",
      "Epoch 84/100\n",
      "4/4 [==============================] - 0s 3ms/step - loss: 0.0068\n",
      "Epoch 85/100\n",
      "4/4 [==============================] - 0s 3ms/step - loss: 0.0056\n",
      "Epoch 86/100\n",
      "4/4 [==============================] - 0s 3ms/step - loss: 0.0056\n",
      "Epoch 87/100\n",
      "4/4 [==============================] - 0s 3ms/step - loss: 0.0061\n",
      "Epoch 88/100\n",
      "4/4 [==============================] - 0s 5ms/step - loss: 0.0060\n",
      "Epoch 89/100\n",
      "4/4 [==============================] - 0s 6ms/step - loss: 0.0063\n",
      "Epoch 90/100\n",
      "4/4 [==============================] - 0s 10ms/step - loss: 0.0057\n",
      "Epoch 91/100\n",
      "4/4 [==============================] - 0s 6ms/step - loss: 0.0058\n",
      "Epoch 92/100\n",
      "4/4 [==============================] - 0s 3ms/step - loss: 0.0058\n",
      "Epoch 93/100\n",
      "4/4 [==============================] - 0s 4ms/step - loss: 0.0056\n",
      "Epoch 94/100\n",
      "4/4 [==============================] - 0s 3ms/step - loss: 0.0060\n",
      "Epoch 95/100\n",
      "4/4 [==============================] - 0s 3ms/step - loss: 0.0053\n",
      "Epoch 96/100\n",
      "4/4 [==============================] - 0s 3ms/step - loss: 0.0075\n",
      "Epoch 97/100\n",
      "4/4 [==============================] - 0s 3ms/step - loss: 0.0057\n",
      "Epoch 98/100\n",
      "4/4 [==============================] - 0s 3ms/step - loss: 0.0066\n",
      "Epoch 99/100\n",
      "4/4 [==============================] - 0s 3ms/step - loss: 0.0057\n",
      "Epoch 100/100\n",
      "4/4 [==============================] - 0s 3ms/step - loss: 0.0061\n"
     ]
    },
    {
     "data": {
      "text/plain": [
       "<keras.callbacks.History at 0x7ffa62e5fa90>"
      ]
     },
     "execution_count": 175,
     "metadata": {},
     "output_type": "execute_result"
    }
   ],
   "source": [
    "model.fit(X_train,Y_train, epochs=100, verbose=1)"
   ]
  },
  {
   "cell_type": "code",
   "execution_count": 178,
   "id": "beaa5030",
   "metadata": {},
   "outputs": [
    {
     "data": {
      "text/plain": [
       "(5, 1)"
      ]
     },
     "execution_count": 178,
     "metadata": {},
     "output_type": "execute_result"
    }
   ],
   "source": [
    "X_test[1].shape"
   ]
  },
  {
   "cell_type": "code",
   "execution_count": 199,
   "id": "f39eb881",
   "metadata": {},
   "outputs": [
    {
     "name": "stdout",
     "output_type": "stream",
     "text": [
      "1/1 [==============================] - 0s 30ms/step\n",
      "1/1 [==============================] - 0s 18ms/step\n",
      "1/1 [==============================] - 0s 18ms/step\n",
      "1/1 [==============================] - 0s 18ms/step\n",
      "1/1 [==============================] - 0s 18ms/step\n",
      "1/1 [==============================] - 0s 17ms/step\n",
      "1/1 [==============================] - 0s 17ms/step\n",
      "1/1 [==============================] - 0s 17ms/step\n",
      "1/1 [==============================] - 0s 18ms/step\n",
      "1/1 [==============================] - 0s 18ms/step\n",
      "1/1 [==============================] - 0s 18ms/step\n",
      "1/1 [==============================] - 0s 18ms/step\n",
      "1/1 [==============================] - 0s 18ms/step\n",
      "1/1 [==============================] - 0s 17ms/step\n",
      "1/1 [==============================] - 0s 18ms/step\n",
      "1/1 [==============================] - 0s 17ms/step\n",
      "1/1 [==============================] - 0s 18ms/step\n",
      "1/1 [==============================] - 0s 17ms/step\n",
      "1/1 [==============================] - 0s 17ms/step\n",
      "1/1 [==============================] - 0s 18ms/step\n",
      "1/1 [==============================] - 0s 17ms/step\n"
     ]
    },
    {
     "data": {
      "text/plain": [
       "[0.10535121,\n",
       " 0.105921164,\n",
       " 0.10809189,\n",
       " 0.11020394,\n",
       " 0.11254871,\n",
       " 0.11495587,\n",
       " 0.11538546,\n",
       " 0.11440782,\n",
       " 0.113369405,\n",
       " 0.111820266,\n",
       " 0.112945884,\n",
       " 0.11506809,\n",
       " 0.115738794,\n",
       " 0.117309526,\n",
       " 0.11881623,\n",
       " 0.11955123,\n",
       " 0.12033337,\n",
       " 0.11994526,\n",
       " 0.11800967,\n",
       " 0.117779136,\n",
       " 0.11763893]"
      ]
     },
     "execution_count": 199,
     "metadata": {},
     "output_type": "execute_result"
    }
   ],
   "source": [
    "preds = []\n",
    "for i in range(len(X_test)):    \n",
    "    pred = model.predict(X_test[i].reshape(1,5,1))\n",
    "    preds.append(pred[0][0])\n",
    "preds"
   ]
  },
  {
   "cell_type": "code",
   "execution_count": 200,
   "id": "9845115c",
   "metadata": {},
   "outputs": [],
   "source": [
    "def mean_absolute_percentage_error(y_true, y_pred): \n",
    "    y_true, y_pred = np.array(y_true), np.array(y_pred)\n",
    "    return np.mean(np.abs((y_true - y_pred) / y_true)) * 100"
   ]
  },
  {
   "cell_type": "code",
   "execution_count": 201,
   "id": "1dcb78d5",
   "metadata": {},
   "outputs": [
    {
     "data": {
      "text/plain": [
       "[2.5850341649529383,\n",
       " 7.18862779393393,\n",
       " 4.689243935184518,\n",
       " 7.267795286301711,\n",
       " 3.6677836761369154,\n",
       " 2.326953598131592,\n",
       " 0.971455115068689,\n",
       " 3.884601665221173,\n",
       " 1.3746384725597982,\n",
       " 5.854430678802826,\n",
       " 5.177295158636417,\n",
       " 1.6640973084041804,\n",
       " 4.365001571345668,\n",
       " 3.9486246070550512,\n",
       " 3.5038663298606068,\n",
       " 0.21214246674527804,\n",
       " 3.6865420279048267,\n",
       " 1.9420078617065735,\n",
       " 1.0806900263107135,\n",
       " 2.4883165204734157,\n",
       " 5.27239533428591]"
      ]
     },
     "execution_count": 201,
     "metadata": {},
     "output_type": "execute_result"
    }
   ],
   "source": [
    "mape = []\n",
    "for i in range(len(preds)):\n",
    "    mape.append(mean_absolute_percentage_error(Y_test[i],preds[i]))\n",
    "mape"
   ]
  },
  {
   "cell_type": "code",
   "execution_count": 202,
   "id": "89a568a7",
   "metadata": {},
   "outputs": [
    {
     "data": {
      "text/plain": [
       "3.4834068380487015"
      ]
     },
     "execution_count": 202,
     "metadata": {},
     "output_type": "execute_result"
    }
   ],
   "source": [
    "sum(mape)/len(mape)"
   ]
  },
  {
   "cell_type": "code",
   "execution_count": 238,
   "id": "4d219f87",
   "metadata": {},
   "outputs": [
    {
     "data": {
      "text/plain": [
       "[<matplotlib.lines.Line2D at 0x7ffa62eac280>]"
      ]
     },
     "execution_count": 238,
     "metadata": {},
     "output_type": "execute_result"
    },
    {
     "data": {
      "image/png": "[encoded data removed]",
      "text/plain": [
       "<Figure size 936x720 with 1 Axes>"
      ]
     },
     "metadata": {
      "needs_background": "light"
     },
     "output_type": "display_data"
    }
   ],
   "source": [
    "fig, ax = plt.subplots(1,1,figsize = (13,10))\n",
    "ax.plot(A['Ratio'[0:100]])\n",
    "ax.plot(A.index[-21:],Y_test)\n",
    "ax.plot(A.index[-21:],preds)"
   ]
  },
  {
   "cell_type": "code",
   "execution_count": 234,
   "id": "54664c4c",
   "metadata": {},
   "outputs": [
    {
     "data": {
      "text/plain": [
       "0     0.105351\n",
       "1     0.105921\n",
       "2     0.108092\n",
       "3     0.110204\n",
       "4     0.112549\n",
       "5     0.114956\n",
       "6     0.115385\n",
       "7     0.114408\n",
       "8     0.113369\n",
       "9     0.111820\n",
       "10    0.112946\n",
       "11    0.115068\n",
       "12    0.115739\n",
       "13    0.117310\n",
       "14    0.118816\n",
       "15    0.119551\n",
       "16    0.120333\n",
       "17    0.119945\n",
       "18    0.118010\n",
       "19    0.117779\n",
       "20    0.117639\n",
       "dtype: float32"
      ]
     },
     "execution_count": 234,
     "metadata": {},
     "output_type": "execute_result"
    }
   ],
   "source": [
    "preds"
   ]
  },
  {
   "cell_type": "code",
   "execution_count": 213,
   "id": "b60f4131",
   "metadata": {},
   "outputs": [
    {
     "data": {
      "text/plain": [
       "(21,)"
      ]
     },
     "execution_count": 213,
     "metadata": {},
     "output_type": "execute_result"
    }
   ],
   "source": []
  },
  {
   "cell_type": "code",
   "execution_count": null,
   "id": "3101e6e8",
   "metadata": {},
   "outputs": [],
   "source": []
  }
 ],
 "metadata": {
  "kernelspec": {
   "display_name": "Python 3 (ipykernel)",
   "language": "python",
   "name": "python3"
  },
  "language_info": {
   "codemirror_mode": {
    "name": "ipython",
    "version": 3
   },
   "file_extension": ".py",
   "mimetype": "text/x-python",
   "name": "python",
   "nbconvert_exporter": "python",
   "pygments_lexer": "ipython3",
   "version": "3.8.12"
  },
  "toc": {
   "base_numbering": 1,
   "nav_menu": {},
   "number_sections": true,
   "sideBar": true,
   "skip_h1_title": false,
   "title_cell": "Table of Contents",
   "title_sidebar": "Contents",
   "toc_cell": false,
   "toc_position": {},
   "toc_section_display": true,
   "toc_window_display": false
  }
 },
 "nbformat": 4,
 "nbformat_minor": 5
}
