{
 "cells": [
  {
   "cell_type": "code",
   "execution_count": 2,
   "id": "65e52b36",
   "metadata": {},
   "outputs": [],
   "source": [
    "import numpy as np\n",
    "import pandas as pd\n",
    "import matplotlib.pyplot as plt"
   ]
  },
  {
   "cell_type": "code",
   "execution_count": 3,
   "id": "30242db1",
   "metadata": {},
   "outputs": [
    {
     "data": {
      "text/html": [
       "<div>\n",
       "<style scoped>\n",
       "    .dataframe tbody tr th:only-of-type {\n",
       "        vertical-align: middle;\n",
       "    }\n",
       "\n",
       "    .dataframe tbody tr th {\n",
       "        vertical-align: top;\n",
       "    }\n",
       "\n",
       "    .dataframe thead th {\n",
       "        text-align: right;\n",
       "    }\n",
       "</style>\n",
       "<table border=\"1\" class=\"dataframe\">\n",
       "  <thead>\n",
       "    <tr style=\"text-align: right;\">\n",
       "      <th></th>\n",
       "      <th>Date</th>\n",
       "      <th>ALB_ZBRA</th>\n",
       "      <th>ALB_ZBRA_RSI_14</th>\n",
       "      <th>ALB_ZBRA_SMA_10</th>\n",
       "      <th>ALB_ZBRA_SMA_20</th>\n",
       "      <th>ALB_ZBRA_SMA_60</th>\n",
       "      <th>DE_BXP</th>\n",
       "      <th>DE_BXP_RSI_14</th>\n",
       "      <th>DE_BXP_SMA_10</th>\n",
       "      <th>DE_BXP_SMA_20</th>\n",
       "      <th>...</th>\n",
       "      <th>PEG_O</th>\n",
       "      <th>PEG_O_RSI_14</th>\n",
       "      <th>PEG_O_SMA_10</th>\n",
       "      <th>PEG_O_SMA_20</th>\n",
       "      <th>PEG_O_SMA_60</th>\n",
       "      <th>SO_NLOK</th>\n",
       "      <th>SO_NLOK_RSI_14</th>\n",
       "      <th>SO_NLOK_SMA_10</th>\n",
       "      <th>SO_NLOK_SMA_20</th>\n",
       "      <th>SO_NLOK_SMA_60</th>\n",
       "    </tr>\n",
       "  </thead>\n",
       "  <tbody>\n",
       "    <tr>\n",
       "      <th>0</th>\n",
       "      <td>2020-08-31</td>\n",
       "      <td>0.311845</td>\n",
       "      <td>53.506606</td>\n",
       "      <td>0.401902</td>\n",
       "      <td>0.40318</td>\n",
       "      <td>0.392237</td>\n",
       "      <td>2.548054</td>\n",
       "      <td>53.376443</td>\n",
       "      <td>3.24198</td>\n",
       "      <td>3.235732</td>\n",
       "      <td>...</td>\n",
       "      <td>0.882281</td>\n",
       "      <td>49.875527</td>\n",
       "      <td>0.961826</td>\n",
       "      <td>0.966244</td>\n",
       "      <td>0.968382</td>\n",
       "      <td>2.136432</td>\n",
       "      <td>52.240503</td>\n",
       "      <td>2.629768</td>\n",
       "      <td>2.620719</td>\n",
       "      <td>2.571855</td>\n",
       "    </tr>\n",
       "    <tr>\n",
       "      <th>1</th>\n",
       "      <td>2020-09-01</td>\n",
       "      <td>0.332974</td>\n",
       "      <td>53.506606</td>\n",
       "      <td>0.401902</td>\n",
       "      <td>0.40318</td>\n",
       "      <td>0.392237</td>\n",
       "      <td>2.687319</td>\n",
       "      <td>53.376443</td>\n",
       "      <td>3.24198</td>\n",
       "      <td>3.235732</td>\n",
       "      <td>...</td>\n",
       "      <td>0.855546</td>\n",
       "      <td>49.875527</td>\n",
       "      <td>0.961826</td>\n",
       "      <td>0.966244</td>\n",
       "      <td>0.968382</td>\n",
       "      <td>2.094566</td>\n",
       "      <td>52.240503</td>\n",
       "      <td>2.629768</td>\n",
       "      <td>2.620719</td>\n",
       "      <td>2.571855</td>\n",
       "    </tr>\n",
       "    <tr>\n",
       "      <th>2</th>\n",
       "      <td>2020-09-02</td>\n",
       "      <td>0.332368</td>\n",
       "      <td>53.506606</td>\n",
       "      <td>0.401902</td>\n",
       "      <td>0.40318</td>\n",
       "      <td>0.392237</td>\n",
       "      <td>2.629334</td>\n",
       "      <td>53.376443</td>\n",
       "      <td>3.24198</td>\n",
       "      <td>3.235732</td>\n",
       "      <td>...</td>\n",
       "      <td>0.872526</td>\n",
       "      <td>49.875527</td>\n",
       "      <td>0.961826</td>\n",
       "      <td>0.966244</td>\n",
       "      <td>0.968382</td>\n",
       "      <td>2.125291</td>\n",
       "      <td>52.240503</td>\n",
       "      <td>2.629768</td>\n",
       "      <td>2.620719</td>\n",
       "      <td>2.571855</td>\n",
       "    </tr>\n",
       "    <tr>\n",
       "      <th>3</th>\n",
       "      <td>2020-09-03</td>\n",
       "      <td>0.339772</td>\n",
       "      <td>53.506606</td>\n",
       "      <td>0.401902</td>\n",
       "      <td>0.40318</td>\n",
       "      <td>0.392237</td>\n",
       "      <td>2.534974</td>\n",
       "      <td>53.376443</td>\n",
       "      <td>3.24198</td>\n",
       "      <td>3.235732</td>\n",
       "      <td>...</td>\n",
       "      <td>0.848504</td>\n",
       "      <td>49.875527</td>\n",
       "      <td>0.961826</td>\n",
       "      <td>0.966244</td>\n",
       "      <td>0.968382</td>\n",
       "      <td>2.210971</td>\n",
       "      <td>52.240503</td>\n",
       "      <td>2.629768</td>\n",
       "      <td>2.620719</td>\n",
       "      <td>2.571855</td>\n",
       "    </tr>\n",
       "    <tr>\n",
       "      <th>4</th>\n",
       "      <td>2020-09-04</td>\n",
       "      <td>0.356920</td>\n",
       "      <td>53.506606</td>\n",
       "      <td>0.401902</td>\n",
       "      <td>0.40318</td>\n",
       "      <td>0.392237</td>\n",
       "      <td>2.536138</td>\n",
       "      <td>53.376443</td>\n",
       "      <td>3.24198</td>\n",
       "      <td>3.235732</td>\n",
       "      <td>...</td>\n",
       "      <td>0.854765</td>\n",
       "      <td>49.875527</td>\n",
       "      <td>0.961826</td>\n",
       "      <td>0.966244</td>\n",
       "      <td>0.968382</td>\n",
       "      <td>2.152835</td>\n",
       "      <td>52.240503</td>\n",
       "      <td>2.629768</td>\n",
       "      <td>2.620719</td>\n",
       "      <td>2.571855</td>\n",
       "    </tr>\n",
       "  </tbody>\n",
       "</table>\n",
       "<p>5 rows × 36 columns</p>\n",
       "</div>"
      ],
      "text/plain": [
       "         Date  ALB_ZBRA  ALB_ZBRA_RSI_14  ALB_ZBRA_SMA_10  ALB_ZBRA_SMA_20  \\\n",
       "0  2020-08-31  0.311845        53.506606         0.401902          0.40318   \n",
       "1  2020-09-01  0.332974        53.506606         0.401902          0.40318   \n",
       "2  2020-09-02  0.332368        53.506606         0.401902          0.40318   \n",
       "3  2020-09-03  0.339772        53.506606         0.401902          0.40318   \n",
       "4  2020-09-04  0.356920        53.506606         0.401902          0.40318   \n",
       "\n",
       "   ALB_ZBRA_SMA_60    DE_BXP  DE_BXP_RSI_14  DE_BXP_SMA_10  DE_BXP_SMA_20  \\\n",
       "0         0.392237  2.548054      53.376443        3.24198       3.235732   \n",
       "1         0.392237  2.687319      53.376443        3.24198       3.235732   \n",
       "2         0.392237  2.629334      53.376443        3.24198       3.235732   \n",
       "3         0.392237  2.534974      53.376443        3.24198       3.235732   \n",
       "4         0.392237  2.536138      53.376443        3.24198       3.235732   \n",
       "\n",
       "   ...     PEG_O  PEG_O_RSI_14  PEG_O_SMA_10  PEG_O_SMA_20  PEG_O_SMA_60  \\\n",
       "0  ...  0.882281     49.875527      0.961826      0.966244      0.968382   \n",
       "1  ...  0.855546     49.875527      0.961826      0.966244      0.968382   \n",
       "2  ...  0.872526     49.875527      0.961826      0.966244      0.968382   \n",
       "3  ...  0.848504     49.875527      0.961826      0.966244      0.968382   \n",
       "4  ...  0.854765     49.875527      0.961826      0.966244      0.968382   \n",
       "\n",
       "    SO_NLOK  SO_NLOK_RSI_14  SO_NLOK_SMA_10  SO_NLOK_SMA_20  SO_NLOK_SMA_60  \n",
       "0  2.136432       52.240503        2.629768        2.620719        2.571855  \n",
       "1  2.094566       52.240503        2.629768        2.620719        2.571855  \n",
       "2  2.125291       52.240503        2.629768        2.620719        2.571855  \n",
       "3  2.210971       52.240503        2.629768        2.620719        2.571855  \n",
       "4  2.152835       52.240503        2.629768        2.620719        2.571855  \n",
       "\n",
       "[5 rows x 36 columns]"
      ]
     },
     "execution_count": 3,
     "metadata": {},
     "output_type": "execute_result"
    }
   ],
   "source": [
    "#import data\n",
    "df = pd.read_csv(r'ratios_with_features.csv')\n",
    "df.head()"
   ]
  },
  {
   "cell_type": "code",
   "execution_count": 4,
   "id": "c93ecf09",
   "metadata": {},
   "outputs": [
    {
     "data": {
      "text/html": [
       "<div>\n",
       "<style scoped>\n",
       "    .dataframe tbody tr th:only-of-type {\n",
       "        vertical-align: middle;\n",
       "    }\n",
       "\n",
       "    .dataframe tbody tr th {\n",
       "        vertical-align: top;\n",
       "    }\n",
       "\n",
       "    .dataframe thead th {\n",
       "        text-align: right;\n",
       "    }\n",
       "</style>\n",
       "<table border=\"1\" class=\"dataframe\">\n",
       "  <thead>\n",
       "    <tr style=\"text-align: right;\">\n",
       "      <th></th>\n",
       "      <th>Date</th>\n",
       "      <th>ALB_ZBRA</th>\n",
       "      <th>ALB_ZBRA_RSI_14</th>\n",
       "      <th>ALB_ZBRA_SMA_10</th>\n",
       "      <th>ALB_ZBRA_SMA_20</th>\n",
       "      <th>ALB_ZBRA_SMA_60</th>\n",
       "      <th>DE_BXP</th>\n",
       "      <th>DE_BXP_RSI_14</th>\n",
       "      <th>DE_BXP_SMA_10</th>\n",
       "      <th>DE_BXP_SMA_20</th>\n",
       "      <th>...</th>\n",
       "      <th>PEG_O</th>\n",
       "      <th>PEG_O_RSI_14</th>\n",
       "      <th>PEG_O_SMA_10</th>\n",
       "      <th>PEG_O_SMA_20</th>\n",
       "      <th>PEG_O_SMA_60</th>\n",
       "      <th>SO_NLOK</th>\n",
       "      <th>SO_NLOK_RSI_14</th>\n",
       "      <th>SO_NLOK_SMA_10</th>\n",
       "      <th>SO_NLOK_SMA_20</th>\n",
       "      <th>SO_NLOK_SMA_60</th>\n",
       "    </tr>\n",
       "  </thead>\n",
       "  <tbody>\n",
       "    <tr>\n",
       "      <th>495</th>\n",
       "      <td>2022-08-18</td>\n",
       "      <td>0.816374</td>\n",
       "      <td>71.023896</td>\n",
       "      <td>0.787320</td>\n",
       "      <td>0.743417</td>\n",
       "      <td>0.726621</td>\n",
       "      <td>4.22249</td>\n",
       "      <td>84.923331</td>\n",
       "      <td>4.066078</td>\n",
       "      <td>3.890556</td>\n",
       "      <td>...</td>\n",
       "      <td>0.950678</td>\n",
       "      <td>70.818014</td>\n",
       "      <td>0.912748</td>\n",
       "      <td>0.895332</td>\n",
       "      <td>0.924113</td>\n",
       "      <td>3.371537</td>\n",
       "      <td>68.048883</td>\n",
       "      <td>3.251391</td>\n",
       "      <td>3.11834</td>\n",
       "      <td>3.085444</td>\n",
       "    </tr>\n",
       "    <tr>\n",
       "      <th>496</th>\n",
       "      <td>2022-08-19</td>\n",
       "      <td>0.822204</td>\n",
       "      <td>72.022105</td>\n",
       "      <td>0.797792</td>\n",
       "      <td>0.750632</td>\n",
       "      <td>0.727793</td>\n",
       "      <td>4.28095</td>\n",
       "      <td>86.404524</td>\n",
       "      <td>4.097696</td>\n",
       "      <td>3.928286</td>\n",
       "      <td>...</td>\n",
       "      <td>0.951858</td>\n",
       "      <td>71.136198</td>\n",
       "      <td>0.918957</td>\n",
       "      <td>0.900666</td>\n",
       "      <td>0.923202</td>\n",
       "      <td>3.405268</td>\n",
       "      <td>69.678160</td>\n",
       "      <td>3.273866</td>\n",
       "      <td>3.14765</td>\n",
       "      <td>3.090878</td>\n",
       "    </tr>\n",
       "  </tbody>\n",
       "</table>\n",
       "<p>2 rows × 36 columns</p>\n",
       "</div>"
      ],
      "text/plain": [
       "           Date  ALB_ZBRA  ALB_ZBRA_RSI_14  ALB_ZBRA_SMA_10  ALB_ZBRA_SMA_20  \\\n",
       "495  2022-08-18  0.816374        71.023896         0.787320         0.743417   \n",
       "496  2022-08-19  0.822204        72.022105         0.797792         0.750632   \n",
       "\n",
       "     ALB_ZBRA_SMA_60   DE_BXP  DE_BXP_RSI_14  DE_BXP_SMA_10  DE_BXP_SMA_20  \\\n",
       "495         0.726621  4.22249      84.923331       4.066078       3.890556   \n",
       "496         0.727793  4.28095      86.404524       4.097696       3.928286   \n",
       "\n",
       "     ...     PEG_O  PEG_O_RSI_14  PEG_O_SMA_10  PEG_O_SMA_20  PEG_O_SMA_60  \\\n",
       "495  ...  0.950678     70.818014      0.912748      0.895332      0.924113   \n",
       "496  ...  0.951858     71.136198      0.918957      0.900666      0.923202   \n",
       "\n",
       "      SO_NLOK  SO_NLOK_RSI_14  SO_NLOK_SMA_10  SO_NLOK_SMA_20  SO_NLOK_SMA_60  \n",
       "495  3.371537       68.048883        3.251391         3.11834        3.085444  \n",
       "496  3.405268       69.678160        3.273866         3.14765        3.090878  \n",
       "\n",
       "[2 rows x 36 columns]"
      ]
     },
     "execution_count": 4,
     "metadata": {},
     "output_type": "execute_result"
    }
   ],
   "source": [
    "df.tail(2)"
   ]
  },
  {
   "cell_type": "code",
   "execution_count": 5,
   "id": "05c978e2",
   "metadata": {},
   "outputs": [
    {
     "data": {
      "text/plain": [
       "(497, 36)"
      ]
     },
     "execution_count": 5,
     "metadata": {},
     "output_type": "execute_result"
    }
   ],
   "source": [
    "df.shape"
   ]
  },
  {
   "cell_type": "code",
   "execution_count": 6,
   "id": "28400d50",
   "metadata": {},
   "outputs": [
    {
     "data": {
      "text/html": [
       "<div>\n",
       "<style scoped>\n",
       "    .dataframe tbody tr th:only-of-type {\n",
       "        vertical-align: middle;\n",
       "    }\n",
       "\n",
       "    .dataframe tbody tr th {\n",
       "        vertical-align: top;\n",
       "    }\n",
       "\n",
       "    .dataframe thead th {\n",
       "        text-align: right;\n",
       "    }\n",
       "</style>\n",
       "<table border=\"1\" class=\"dataframe\">\n",
       "  <thead>\n",
       "    <tr style=\"text-align: right;\">\n",
       "      <th></th>\n",
       "      <th>Date</th>\n",
       "      <th>ALB_ZBRA</th>\n",
       "      <th>ALB_ZBRA_RSI_14</th>\n",
       "      <th>ALB_ZBRA_SMA_10</th>\n",
       "      <th>ALB_ZBRA_SMA_20</th>\n",
       "      <th>ALB_ZBRA_SMA_60</th>\n",
       "    </tr>\n",
       "  </thead>\n",
       "  <tbody>\n",
       "    <tr>\n",
       "      <th>0</th>\n",
       "      <td>2020-08-31</td>\n",
       "      <td>0.311845</td>\n",
       "      <td>53.506606</td>\n",
       "      <td>0.401902</td>\n",
       "      <td>0.40318</td>\n",
       "      <td>0.392237</td>\n",
       "    </tr>\n",
       "    <tr>\n",
       "      <th>1</th>\n",
       "      <td>2020-09-01</td>\n",
       "      <td>0.332974</td>\n",
       "      <td>53.506606</td>\n",
       "      <td>0.401902</td>\n",
       "      <td>0.40318</td>\n",
       "      <td>0.392237</td>\n",
       "    </tr>\n",
       "    <tr>\n",
       "      <th>2</th>\n",
       "      <td>2020-09-02</td>\n",
       "      <td>0.332368</td>\n",
       "      <td>53.506606</td>\n",
       "      <td>0.401902</td>\n",
       "      <td>0.40318</td>\n",
       "      <td>0.392237</td>\n",
       "    </tr>\n",
       "    <tr>\n",
       "      <th>3</th>\n",
       "      <td>2020-09-03</td>\n",
       "      <td>0.339772</td>\n",
       "      <td>53.506606</td>\n",
       "      <td>0.401902</td>\n",
       "      <td>0.40318</td>\n",
       "      <td>0.392237</td>\n",
       "    </tr>\n",
       "    <tr>\n",
       "      <th>4</th>\n",
       "      <td>2020-09-04</td>\n",
       "      <td>0.356920</td>\n",
       "      <td>53.506606</td>\n",
       "      <td>0.401902</td>\n",
       "      <td>0.40318</td>\n",
       "      <td>0.392237</td>\n",
       "    </tr>\n",
       "  </tbody>\n",
       "</table>\n",
       "</div>"
      ],
      "text/plain": [
       "         Date  ALB_ZBRA  ALB_ZBRA_RSI_14  ALB_ZBRA_SMA_10  ALB_ZBRA_SMA_20  \\\n",
       "0  2020-08-31  0.311845        53.506606         0.401902          0.40318   \n",
       "1  2020-09-01  0.332974        53.506606         0.401902          0.40318   \n",
       "2  2020-09-02  0.332368        53.506606         0.401902          0.40318   \n",
       "3  2020-09-03  0.339772        53.506606         0.401902          0.40318   \n",
       "4  2020-09-04  0.356920        53.506606         0.401902          0.40318   \n",
       "\n",
       "   ALB_ZBRA_SMA_60  \n",
       "0         0.392237  \n",
       "1         0.392237  \n",
       "2         0.392237  \n",
       "3         0.392237  \n",
       "4         0.392237  "
      ]
     },
     "execution_count": 6,
     "metadata": {},
     "output_type": "execute_result"
    }
   ],
   "source": [
    "# we check first chosen ratios first (here: ALB_ZBRA)\n",
    "df_small=df.iloc[:,:6]\n",
    "df_small.head()"
   ]
  },
  {
   "cell_type": "code",
   "execution_count": 7,
   "id": "e1e6c7e3",
   "metadata": {},
   "outputs": [
    {
     "data": {
      "text/plain": [
       "(497, 6)"
      ]
     },
     "execution_count": 7,
     "metadata": {},
     "output_type": "execute_result"
    }
   ],
   "source": [
    "df_small.shape"
   ]
  },
  {
   "cell_type": "code",
   "execution_count": 8,
   "id": "e1f98c36",
   "metadata": {
    "scrolled": true
   },
   "outputs": [
    {
     "name": "stdout",
     "output_type": "stream",
     "text": [
      "<class 'pandas.core.frame.DataFrame'>\n",
      "RangeIndex: 497 entries, 0 to 496\n",
      "Data columns (total 6 columns):\n",
      " #   Column           Non-Null Count  Dtype  \n",
      "---  ------           --------------  -----  \n",
      " 0   Date             497 non-null    object \n",
      " 1   ALB_ZBRA         497 non-null    float64\n",
      " 2   ALB_ZBRA_RSI_14  497 non-null    float64\n",
      " 3   ALB_ZBRA_SMA_10  497 non-null    float64\n",
      " 4   ALB_ZBRA_SMA_20  497 non-null    float64\n",
      " 5   ALB_ZBRA_SMA_60  497 non-null    float64\n",
      "dtypes: float64(5), object(1)\n",
      "memory usage: 23.4+ KB\n"
     ]
    }
   ],
   "source": [
    "df_small.info()"
   ]
  },
  {
   "cell_type": "markdown",
   "id": "aca3fe1e",
   "metadata": {},
   "source": [
    "## Splitting Data in Train and Validation"
   ]
  },
  {
   "cell_type": "code",
   "execution_count": 9,
   "id": "cb40fc1e",
   "metadata": {},
   "outputs": [
    {
     "name": "stdout",
     "output_type": "stream",
     "text": [
      "Data length : 497\n",
      "Train data length: 348\n",
      "Validation data lenth: 149\n"
     ]
    }
   ],
   "source": [
    "length_data = len(df_small)    \n",
    "split_ratio = 0.7           # %70 train + %30 validation\n",
    "length_train = round(length_data * split_ratio)  \n",
    "length_validation = length_data - length_train\n",
    "print(\"Data length :\", length_data)\n",
    "print(\"Train data length:\", length_train)\n",
    "print(\"Validation data lenth:\", length_validation)"
   ]
  },
  {
   "cell_type": "code",
   "execution_count": 11,
   "id": "3f3479f6",
   "metadata": {},
   "outputs": [
    {
     "data": {
      "text/html": [
       "<div>\n",
       "<style scoped>\n",
       "    .dataframe tbody tr th:only-of-type {\n",
       "        vertical-align: middle;\n",
       "    }\n",
       "\n",
       "    .dataframe tbody tr th {\n",
       "        vertical-align: top;\n",
       "    }\n",
       "\n",
       "    .dataframe thead th {\n",
       "        text-align: right;\n",
       "    }\n",
       "</style>\n",
       "<table border=\"1\" class=\"dataframe\">\n",
       "  <thead>\n",
       "    <tr style=\"text-align: right;\">\n",
       "      <th></th>\n",
       "      <th>Date</th>\n",
       "      <th>ALB_ZBRA</th>\n",
       "      <th>ALB_ZBRA_RSI_14</th>\n",
       "      <th>ALB_ZBRA_SMA_10</th>\n",
       "      <th>ALB_ZBRA_SMA_20</th>\n",
       "      <th>ALB_ZBRA_SMA_60</th>\n",
       "    </tr>\n",
       "  </thead>\n",
       "  <tbody>\n",
       "    <tr>\n",
       "      <th>0</th>\n",
       "      <td>2020-08-31</td>\n",
       "      <td>0.311845</td>\n",
       "      <td>53.506606</td>\n",
       "      <td>0.401902</td>\n",
       "      <td>0.403180</td>\n",
       "      <td>0.392237</td>\n",
       "    </tr>\n",
       "    <tr>\n",
       "      <th>1</th>\n",
       "      <td>2020-09-01</td>\n",
       "      <td>0.332974</td>\n",
       "      <td>53.506606</td>\n",
       "      <td>0.401902</td>\n",
       "      <td>0.403180</td>\n",
       "      <td>0.392237</td>\n",
       "    </tr>\n",
       "    <tr>\n",
       "      <th>2</th>\n",
       "      <td>2020-09-02</td>\n",
       "      <td>0.332368</td>\n",
       "      <td>53.506606</td>\n",
       "      <td>0.401902</td>\n",
       "      <td>0.403180</td>\n",
       "      <td>0.392237</td>\n",
       "    </tr>\n",
       "    <tr>\n",
       "      <th>3</th>\n",
       "      <td>2020-09-03</td>\n",
       "      <td>0.339772</td>\n",
       "      <td>53.506606</td>\n",
       "      <td>0.401902</td>\n",
       "      <td>0.403180</td>\n",
       "      <td>0.392237</td>\n",
       "    </tr>\n",
       "    <tr>\n",
       "      <th>4</th>\n",
       "      <td>2020-09-04</td>\n",
       "      <td>0.356920</td>\n",
       "      <td>53.506606</td>\n",
       "      <td>0.401902</td>\n",
       "      <td>0.403180</td>\n",
       "      <td>0.392237</td>\n",
       "    </tr>\n",
       "    <tr>\n",
       "      <th>...</th>\n",
       "      <td>...</td>\n",
       "      <td>...</td>\n",
       "      <td>...</td>\n",
       "      <td>...</td>\n",
       "      <td>...</td>\n",
       "      <td>...</td>\n",
       "    </tr>\n",
       "    <tr>\n",
       "      <th>343</th>\n",
       "      <td>2022-01-10</td>\n",
       "      <td>0.422384</td>\n",
       "      <td>54.361802</td>\n",
       "      <td>0.407593</td>\n",
       "      <td>0.400044</td>\n",
       "      <td>0.432223</td>\n",
       "    </tr>\n",
       "    <tr>\n",
       "      <th>344</th>\n",
       "      <td>2022-01-11</td>\n",
       "      <td>0.444326</td>\n",
       "      <td>62.093913</td>\n",
       "      <td>0.413192</td>\n",
       "      <td>0.401806</td>\n",
       "      <td>0.432275</td>\n",
       "    </tr>\n",
       "    <tr>\n",
       "      <th>345</th>\n",
       "      <td>2022-01-12</td>\n",
       "      <td>0.446099</td>\n",
       "      <td>62.644562</td>\n",
       "      <td>0.419260</td>\n",
       "      <td>0.403410</td>\n",
       "      <td>0.432256</td>\n",
       "    </tr>\n",
       "    <tr>\n",
       "      <th>346</th>\n",
       "      <td>2022-01-13</td>\n",
       "      <td>0.445756</td>\n",
       "      <td>62.455690</td>\n",
       "      <td>0.424758</td>\n",
       "      <td>0.405760</td>\n",
       "      <td>0.432285</td>\n",
       "    </tr>\n",
       "    <tr>\n",
       "      <th>347</th>\n",
       "      <td>2022-01-14</td>\n",
       "      <td>0.440955</td>\n",
       "      <td>59.738146</td>\n",
       "      <td>0.429720</td>\n",
       "      <td>0.408376</td>\n",
       "      <td>0.432237</td>\n",
       "    </tr>\n",
       "  </tbody>\n",
       "</table>\n",
       "<p>348 rows × 6 columns</p>\n",
       "</div>"
      ],
      "text/plain": [
       "          Date  ALB_ZBRA  ALB_ZBRA_RSI_14  ALB_ZBRA_SMA_10  ALB_ZBRA_SMA_20  \\\n",
       "0   2020-08-31  0.311845        53.506606         0.401902         0.403180   \n",
       "1   2020-09-01  0.332974        53.506606         0.401902         0.403180   \n",
       "2   2020-09-02  0.332368        53.506606         0.401902         0.403180   \n",
       "3   2020-09-03  0.339772        53.506606         0.401902         0.403180   \n",
       "4   2020-09-04  0.356920        53.506606         0.401902         0.403180   \n",
       "..         ...       ...              ...              ...              ...   \n",
       "343 2022-01-10  0.422384        54.361802         0.407593         0.400044   \n",
       "344 2022-01-11  0.444326        62.093913         0.413192         0.401806   \n",
       "345 2022-01-12  0.446099        62.644562         0.419260         0.403410   \n",
       "346 2022-01-13  0.445756        62.455690         0.424758         0.405760   \n",
       "347 2022-01-14  0.440955        59.738146         0.429720         0.408376   \n",
       "\n",
       "     ALB_ZBRA_SMA_60  \n",
       "0           0.392237  \n",
       "1           0.392237  \n",
       "2           0.392237  \n",
       "3           0.392237  \n",
       "4           0.392237  \n",
       "..               ...  \n",
       "343         0.432223  \n",
       "344         0.432275  \n",
       "345         0.432256  \n",
       "346         0.432285  \n",
       "347         0.432237  \n",
       "\n",
       "[348 rows x 6 columns]"
      ]
     },
     "execution_count": 11,
     "metadata": {},
     "output_type": "execute_result"
    }
   ],
   "source": [
    "# train_data\n",
    "train_data = df_small[:length_train].iloc[:,:6] \n",
    "train_data['Date'] = pd.to_datetime(train_data['Date'])  # converting to date time object\n",
    "train_data"
   ]
  },
  {
   "cell_type": "code",
   "execution_count": 12,
   "id": "d106ac80",
   "metadata": {},
   "outputs": [
    {
     "data": {
      "text/html": [
       "<div>\n",
       "<style scoped>\n",
       "    .dataframe tbody tr th:only-of-type {\n",
       "        vertical-align: middle;\n",
       "    }\n",
       "\n",
       "    .dataframe tbody tr th {\n",
       "        vertical-align: top;\n",
       "    }\n",
       "\n",
       "    .dataframe thead th {\n",
       "        text-align: right;\n",
       "    }\n",
       "</style>\n",
       "<table border=\"1\" class=\"dataframe\">\n",
       "  <thead>\n",
       "    <tr style=\"text-align: right;\">\n",
       "      <th></th>\n",
       "      <th>Date</th>\n",
       "      <th>ALB_ZBRA</th>\n",
       "      <th>ALB_ZBRA_RSI_14</th>\n",
       "      <th>ALB_ZBRA_SMA_10</th>\n",
       "      <th>ALB_ZBRA_SMA_20</th>\n",
       "      <th>ALB_ZBRA_SMA_60</th>\n",
       "    </tr>\n",
       "  </thead>\n",
       "  <tbody>\n",
       "    <tr>\n",
       "      <th>348</th>\n",
       "      <td>2022-01-18</td>\n",
       "      <td>0.436370</td>\n",
       "      <td>57.179284</td>\n",
       "      <td>0.432971</td>\n",
       "      <td>0.410736</td>\n",
       "      <td>0.432234</td>\n",
       "    </tr>\n",
       "    <tr>\n",
       "      <th>349</th>\n",
       "      <td>2022-01-19</td>\n",
       "      <td>0.426604</td>\n",
       "      <td>52.064280</td>\n",
       "      <td>0.434497</td>\n",
       "      <td>0.413027</td>\n",
       "      <td>0.432074</td>\n",
       "    </tr>\n",
       "    <tr>\n",
       "      <th>350</th>\n",
       "      <td>2022-01-20</td>\n",
       "      <td>0.431503</td>\n",
       "      <td>54.273909</td>\n",
       "      <td>0.435585</td>\n",
       "      <td>0.415356</td>\n",
       "      <td>0.431810</td>\n",
       "    </tr>\n",
       "    <tr>\n",
       "      <th>351</th>\n",
       "      <td>2022-01-21</td>\n",
       "      <td>0.428953</td>\n",
       "      <td>52.906871</td>\n",
       "      <td>0.436594</td>\n",
       "      <td>0.417472</td>\n",
       "      <td>0.431507</td>\n",
       "    </tr>\n",
       "    <tr>\n",
       "      <th>352</th>\n",
       "      <td>2022-01-24</td>\n",
       "      <td>0.430432</td>\n",
       "      <td>53.636661</td>\n",
       "      <td>0.435338</td>\n",
       "      <td>0.419499</td>\n",
       "      <td>0.431261</td>\n",
       "    </tr>\n",
       "    <tr>\n",
       "      <th>...</th>\n",
       "      <td>...</td>\n",
       "      <td>...</td>\n",
       "      <td>...</td>\n",
       "      <td>...</td>\n",
       "      <td>...</td>\n",
       "      <td>...</td>\n",
       "    </tr>\n",
       "    <tr>\n",
       "      <th>492</th>\n",
       "      <td>2022-08-15</td>\n",
       "      <td>0.813028</td>\n",
       "      <td>70.504616</td>\n",
       "      <td>0.762595</td>\n",
       "      <td>0.722713</td>\n",
       "      <td>0.722300</td>\n",
       "    </tr>\n",
       "    <tr>\n",
       "      <th>493</th>\n",
       "      <td>2022-08-16</td>\n",
       "      <td>0.814154</td>\n",
       "      <td>70.669445</td>\n",
       "      <td>0.768577</td>\n",
       "      <td>0.729514</td>\n",
       "      <td>0.723594</td>\n",
       "    </tr>\n",
       "    <tr>\n",
       "      <th>494</th>\n",
       "      <td>2022-08-17</td>\n",
       "      <td>0.815450</td>\n",
       "      <td>70.871029</td>\n",
       "      <td>0.776736</td>\n",
       "      <td>0.736559</td>\n",
       "      <td>0.725092</td>\n",
       "    </tr>\n",
       "    <tr>\n",
       "      <th>495</th>\n",
       "      <td>2022-08-18</td>\n",
       "      <td>0.816374</td>\n",
       "      <td>71.023896</td>\n",
       "      <td>0.787320</td>\n",
       "      <td>0.743417</td>\n",
       "      <td>0.726621</td>\n",
       "    </tr>\n",
       "    <tr>\n",
       "      <th>496</th>\n",
       "      <td>2022-08-19</td>\n",
       "      <td>0.822204</td>\n",
       "      <td>72.022105</td>\n",
       "      <td>0.797792</td>\n",
       "      <td>0.750632</td>\n",
       "      <td>0.727793</td>\n",
       "    </tr>\n",
       "  </tbody>\n",
       "</table>\n",
       "<p>149 rows × 6 columns</p>\n",
       "</div>"
      ],
      "text/plain": [
       "          Date  ALB_ZBRA  ALB_ZBRA_RSI_14  ALB_ZBRA_SMA_10  ALB_ZBRA_SMA_20  \\\n",
       "348 2022-01-18  0.436370        57.179284         0.432971         0.410736   \n",
       "349 2022-01-19  0.426604        52.064280         0.434497         0.413027   \n",
       "350 2022-01-20  0.431503        54.273909         0.435585         0.415356   \n",
       "351 2022-01-21  0.428953        52.906871         0.436594         0.417472   \n",
       "352 2022-01-24  0.430432        53.636661         0.435338         0.419499   \n",
       "..         ...       ...              ...              ...              ...   \n",
       "492 2022-08-15  0.813028        70.504616         0.762595         0.722713   \n",
       "493 2022-08-16  0.814154        70.669445         0.768577         0.729514   \n",
       "494 2022-08-17  0.815450        70.871029         0.776736         0.736559   \n",
       "495 2022-08-18  0.816374        71.023896         0.787320         0.743417   \n",
       "496 2022-08-19  0.822204        72.022105         0.797792         0.750632   \n",
       "\n",
       "     ALB_ZBRA_SMA_60  \n",
       "348         0.432234  \n",
       "349         0.432074  \n",
       "350         0.431810  \n",
       "351         0.431507  \n",
       "352         0.431261  \n",
       "..               ...  \n",
       "492         0.722300  \n",
       "493         0.723594  \n",
       "494         0.725092  \n",
       "495         0.726621  \n",
       "496         0.727793  \n",
       "\n",
       "[149 rows x 6 columns]"
      ]
     },
     "execution_count": 12,
     "metadata": {},
     "output_type": "execute_result"
    }
   ],
   "source": [
    "# validation_data\n",
    "validation_data = df_small[length_train:].iloc[:,:6]\n",
    "validation_data['Date'] = pd.to_datetime(validation_data['Date'])  # converting to date time object\n",
    "validation_data"
   ]
  },
  {
   "cell_type": "markdown",
   "id": "1814e915",
   "metadata": {},
   "source": [
    "## Creating Train Dataset from Train split"
   ]
  },
  {
   "cell_type": "code",
   "execution_count": 13,
   "id": "508e963d",
   "metadata": {},
   "outputs": [
    {
     "data": {
      "text/plain": [
       "(348, 6)"
      ]
     },
     "execution_count": 13,
     "metadata": {},
     "output_type": "execute_result"
    }
   ],
   "source": [
    "dataset_train = train_data.iloc[:,:6] .values\n",
    "dataset_train.shape"
   ]
  },
  {
   "cell_type": "code",
   "execution_count": 14,
   "id": "517d74c8",
   "metadata": {},
   "outputs": [
    {
     "data": {
      "text/plain": [
       "(2088, 1)"
      ]
     },
     "execution_count": 14,
     "metadata": {},
     "output_type": "execute_result"
    }
   ],
   "source": [
    "# Change 1d array to 2d array\n",
    "# Changing shape from (1692,) to (1692,1)\n",
    "dataset_train = np.reshape(dataset_train, (-1,1))\n",
    "dataset_train.shape"
   ]
  },
  {
   "cell_type": "markdown",
   "id": "bb1fd70a",
   "metadata": {},
   "source": [
    "## Normalization / Feature Scaling"
   ]
  },
  {
   "cell_type": "code",
   "execution_count": 13,
   "id": "b23c11f9",
   "metadata": {},
   "outputs": [],
   "source": [
    "# Dataset values will be in between 0 and 1 after scaling"
   ]
  },
  {
   "cell_type": "code",
   "execution_count": 17,
   "id": "05335f24",
   "metadata": {},
   "outputs": [
    {
     "ename": "SyntaxError",
     "evalue": "invalid syntax (550910902.py, line 8)",
     "output_type": "error",
     "traceback": [
      "\u001b[0;36m  File \u001b[0;32m\"/var/folders/gr/22150sz94ggcqgt36_pzrbrw0000gn/T/ipykernel_36026/550910902.py\"\u001b[0;36m, line \u001b[0;32m8\u001b[0m\n\u001b[0;31m    dataset_train.iloc[:,1:] = scaler.transform(dataset_train.iloc[:,1:]) #Scale\u001b[0m\n\u001b[0m    ^\u001b[0m\n\u001b[0;31mSyntaxError\u001b[0m\u001b[0;31m:\u001b[0m invalid syntax\n"
     ]
    }
   ],
   "source": [
    "from sklearn.preprocessing import RobustScaler\n",
    "scaler = RobustScaler()\n",
    "\n",
    "___\n",
    "\n",
    "scaler.fit(dataset_train.iloc[:,1:] # Fit scaler to features\n",
    "\n",
    "dataset_train.iloc[:,1:] = scaler.transform(dataset_train.iloc[:,1:]) #Scale\n",
    "\n",
    "dataset_train.head()\n",
    "____\n",
    "\n",
    "# scaling dataset\n",
    "dataset_train_scaled = scaler.fit_transform(dataset_train)\n",
    "\n",
    "dataset_train_scaled.shape"
   ]
  },
  {
   "cell_type": "code",
   "execution_count": 15,
   "id": "e6868064",
   "metadata": {},
   "outputs": [
    {
     "data": {
      "image/png": "[encoded data removed]",
      "text/plain": [
       "<Figure size 1080x432 with 1 Axes>"
      ]
     },
     "metadata": {
      "needs_background": "light"
     },
     "output_type": "display_data"
    }
   ],
   "source": [
    "plt.subplots(figsize = (15,6))\n",
    "plt.plot(dataset_train_scaled)\n",
    "plt.xlabel(\"Days 1st, 2nd, 3rd..\")\n",
    "plt.ylabel(\"Ratio\")\n",
    "plt.show()"
   ]
  },
  {
   "cell_type": "markdown",
   "id": "1a8aff56",
   "metadata": {},
   "source": [
    "## Creating X_train and y_train from Train data"
   ]
  },
  {
   "cell_type": "markdown",
   "id": "be9c4316",
   "metadata": {},
   "source": [
    "We have train data composed of ratios over days\n",
    "\n",
    "So, it has 1184 ratios corresponding 1184 days\n",
    "\n",
    "My aim is to predict the ratio (closing) of the next day.\n",
    "\n",
    "I can use a time step of 2 days.\n",
    "\n",
    "I will pick first 2 ratios (day 0 to 2), 1st 2 ratio will be in \n",
    "X_train data\n",
    "\n",
    "Then predict the ratio of 3rd day; and 3rd ratio will be in y_train data\n",
    "\n",
    "Again, i will pick ratios from 1 to 3, those will be in X_train data\n",
    "\n",
    "Then predict the next days ratio, 4th ratio will be in y_train data\n",
    "\n"
   ]
  },
  {
   "cell_type": "code",
   "execution_count": 16,
   "id": "6c47c074",
   "metadata": {},
   "outputs": [],
   "source": [
    "#question: which time step makes sense?\n",
    "\n",
    "X_train = []\n",
    "y_train = []\n",
    "\n",
    "time_step = 2 #change that?\n",
    "\n",
    "for i in range(time_step, length_train):\n",
    "    X_train.append(dataset_train_scaled[i-time_step:i,0])\n",
    "    y_train.append(dataset_train_scaled[i,0])\n",
    "    \n",
    "# convert list to array\n",
    "X_train, y_train = np.array(X_train), np.array(y_train)"
   ]
  },
  {
   "cell_type": "code",
   "execution_count": 17,
   "id": "7cd01a74",
   "metadata": {},
   "outputs": [
    {
     "data": {
      "text/plain": [
       "array([[0.8783648 ],\n",
       "       [0.87655523]])"
      ]
     },
     "execution_count": 17,
     "metadata": {},
     "output_type": "execute_result"
    }
   ],
   "source": [
    "dataset_train_scaled[i-time_step:i]"
   ]
  },
  {
   "cell_type": "code",
   "execution_count": 18,
   "id": "47a2612d",
   "metadata": {},
   "outputs": [
    {
     "data": {
      "text/plain": [
       "0.8512020362332713"
      ]
     },
     "execution_count": 18,
     "metadata": {},
     "output_type": "execute_result"
    }
   ],
   "source": [
    "dataset_train_scaled[i,0]"
   ]
  },
  {
   "cell_type": "code",
   "execution_count": 19,
   "id": "68467185",
   "metadata": {},
   "outputs": [
    {
     "name": "stdout",
     "output_type": "stream",
     "text": [
      "Shape of X_train before reshape: (346, 2)\n",
      "Shape of y_train before reshape: (346,)\n"
     ]
    }
   ],
   "source": [
    "print(\"Shape of X_train before reshape:\",X_train.shape)\n",
    "print(\"Shape of y_train before reshape:\",y_train.shape)"
   ]
  },
  {
   "cell_type": "code",
   "execution_count": 20,
   "id": "f725b6e2",
   "metadata": {},
   "outputs": [
    {
     "name": "stdout",
     "output_type": "stream",
     "text": [
      "Shape of X_train after reshape : (346, 2, 1)\n",
      "Shape of y_train after reshape : (346, 1)\n"
     ]
    }
   ],
   "source": [
    "X_train = np.reshape(X_train, (X_train.shape[0], X_train.shape[1],1))\n",
    "y_train = np.reshape(y_train, (y_train.shape[0],1))\n",
    "\n",
    "print(\"Shape of X_train after reshape :\",X_train.shape)\n",
    "print(\"Shape of y_train after reshape :\",y_train.shape)"
   ]
  },
  {
   "cell_type": "code",
   "execution_count": 21,
   "id": "fa4a4b8d",
   "metadata": {},
   "outputs": [
    {
     "data": {
      "text/plain": [
       "array([[0.16942742],\n",
       "       [0.28100047]])"
      ]
     },
     "execution_count": 21,
     "metadata": {},
     "output_type": "execute_result"
    }
   ],
   "source": [
    "X_train[0]"
   ]
  },
  {
   "cell_type": "code",
   "execution_count": 22,
   "id": "063a84d2",
   "metadata": {},
   "outputs": [],
   "source": [
    "X_train = X_train[:int(X_train.shape[0]*0.95)]\n",
    "X_val = X_train[int(X_train.shape[0]*0.95):]\n",
    "y_train = y_train[:int(y_train.shape[0]*0.95)]\n",
    "y_val = y_train[int(y_train.shape[0]*0.95):]"
   ]
  },
  {
   "cell_type": "markdown",
   "id": "3da4e900",
   "metadata": {},
   "source": [
    "Check the first item in y_train\n",
    "It is the ratio of 2nd day (timestep 2)"
   ]
  },
  {
   "cell_type": "code",
   "execution_count": 23,
   "id": "27da9c01",
   "metadata": {},
   "outputs": [
    {
     "data": {
      "text/plain": [
       "array([0.27779767])"
      ]
     },
     "execution_count": 23,
     "metadata": {},
     "output_type": "execute_result"
    }
   ],
   "source": [
    "y_train[0]"
   ]
  },
  {
   "cell_type": "markdown",
   "id": "af4f8b3b",
   "metadata": {},
   "source": [
    "## Creating RNN model"
   ]
  },
  {
   "cell_type": "code",
   "execution_count": null,
   "id": "1371db42",
   "metadata": {},
   "outputs": [],
   "source": []
  },
  {
   "cell_type": "markdown",
   "id": "b10ba61f",
   "metadata": {},
   "source": [
    "## Creating mixed model"
   ]
  },
  {
   "cell_type": "code",
   "execution_count": null,
   "id": "8ab1118c",
   "metadata": {},
   "outputs": [],
   "source": []
  },
  {
   "cell_type": "markdown",
   "id": "553848c2",
   "metadata": {},
   "source": [
    "## Evaluating Model"
   ]
  },
  {
   "cell_type": "code",
   "execution_count": null,
   "id": "7f5c7a24",
   "metadata": {},
   "outputs": [],
   "source": []
  },
  {
   "cell_type": "code",
   "execution_count": null,
   "id": "b2ca7e6f",
   "metadata": {},
   "outputs": [],
   "source": []
  },
  {
   "cell_type": "code",
   "execution_count": null,
   "id": "e631df16",
   "metadata": {},
   "outputs": [],
   "source": []
  },
  {
   "cell_type": "markdown",
   "id": "e34754ac",
   "metadata": {},
   "source": [
    "## Model predictions for train data¶\n"
   ]
  },
  {
   "cell_type": "code",
   "execution_count": null,
   "id": "31d28df6",
   "metadata": {},
   "outputs": [],
   "source": []
  },
  {
   "cell_type": "code",
   "execution_count": null,
   "id": "dd7e54d3",
   "metadata": {},
   "outputs": [],
   "source": []
  },
  {
   "cell_type": "code",
   "execution_count": null,
   "id": "953ccd17",
   "metadata": {},
   "outputs": [],
   "source": []
  },
  {
   "cell_type": "code",
   "execution_count": null,
   "id": "0c360c52",
   "metadata": {},
   "outputs": [],
   "source": []
  },
  {
   "cell_type": "code",
   "execution_count": null,
   "id": "fd643b9c",
   "metadata": {},
   "outputs": [],
   "source": []
  },
  {
   "cell_type": "markdown",
   "id": "14f39577",
   "metadata": {},
   "source": [
    "## Creating Test Dataset from Validation Data"
   ]
  },
  {
   "cell_type": "code",
   "execution_count": null,
   "id": "97ceffc5",
   "metadata": {},
   "outputs": [],
   "source": [
    "#Converting array and scaling\n",
    "dataset_validation = validation_data.ALB_ZBRA.values  # getting \"Ratio\" column and converting to array\n",
    "dataset_validation = np.reshape(dataset_validation, (-1,1))  # converting 1D to 2D array\n",
    "scaled_dataset_validation =  scaler.fit_transform(dataset_validation)  # scaling  values to between 0 and 1\n",
    "print(\"Shape of scaled validation dataset :\",scaled_dataset_validation.shape)"
   ]
  },
  {
   "cell_type": "code",
   "execution_count": null,
   "id": "decab60e",
   "metadata": {},
   "outputs": [],
   "source": [
    "#Creating X_test and y_test\n",
    "X_test = []\n",
    "y_test = []\n",
    "\n",
    "for i in range(time_step, length_validation):\n",
    "    X_test.append(scaled_dataset_validation[i-time_step:i,0])\n",
    "    y_test.append(scaled_dataset_validation[i,0])"
   ]
  },
  {
   "cell_type": "code",
   "execution_count": null,
   "id": "dc2afed9",
   "metadata": {},
   "outputs": [],
   "source": [
    "# Converting to array\n",
    "X_test, y_test = np.array(X_test), np.array(y_test)"
   ]
  },
  {
   "cell_type": "code",
   "execution_count": null,
   "id": "862dd185",
   "metadata": {},
   "outputs": [],
   "source": [
    "print(\"Shape of X_test before reshape :\",X_test.shape)\n",
    "print(\"Shape of y_test before reshape :\",y_test.shape)"
   ]
  },
  {
   "cell_type": "code",
   "execution_count": null,
   "id": "71647c8e",
   "metadata": {},
   "outputs": [],
   "source": [
    "#reshape\n",
    "X_test = np.reshape(X_test, (X_test.shape[0],X_test.shape[1],1))  # reshape to 3D array\n",
    "y_test = np.reshape(y_test, (-1,1))  # reshape to 2D array"
   ]
  },
  {
   "cell_type": "code",
   "execution_count": null,
   "id": "12546280",
   "metadata": {},
   "outputs": [],
   "source": [
    "print(\"Shape of X_test after reshape :\",X_test.shape)\n",
    "print(\"Shape of y_test after reshape :\",y_test.shape)"
   ]
  },
  {
   "cell_type": "markdown",
   "id": "c89d2ea5",
   "metadata": {},
   "source": [
    "## Evaluating with Validation Data"
   ]
  },
  {
   "cell_type": "code",
   "execution_count": null,
   "id": "8a1bc89e",
   "metadata": {},
   "outputs": [],
   "source": [
    "regressor.evaluate(X_test, y_test)"
   ]
  },
  {
   "cell_type": "code",
   "execution_count": null,
   "id": "3b79daa5",
   "metadata": {},
   "outputs": [],
   "source": [
    "# predictions with X_test data\n",
    "y_pred_of_test = regressor.predict(X_test)\n",
    "# scaling back from 0-1 to original\n",
    "y_pred_of_test = scaler.inverse_transform(y_pred_of_test) \n",
    "print(\"Shape of y_pred_of_test :\",y_pred_of_test.shape)"
   ]
  },
  {
   "cell_type": "code",
   "execution_count": null,
   "id": "2204ab6b",
   "metadata": {},
   "outputs": [],
   "source": [
    "# visualisation\n",
    "plt.figure(figsize = (30,10))\n",
    "plt.plot(y_pred_of_test, label = \"y_pred_of_test\", c = \"orange\")\n",
    "plt.plot(scaler.inverse_transform(y_test), label = \"y_test\", c = \"g\")\n",
    "plt.xlabel(\"Days\")\n",
    "plt.ylabel(\"Ratio\")\n",
    "plt.title(\"Simple RNN model, Prediction with input X_test vs y_test\")\n",
    "plt.legend()\n",
    "plt.show()"
   ]
  },
  {
   "cell_type": "code",
   "execution_count": null,
   "id": "af00c40a",
   "metadata": {},
   "outputs": [],
   "source": [
    "# Visualisation\n",
    "plt.subplots(figsize =(30,12))\n",
    "plt.plot(train_data.Date, train_data.ALB_ZBRA, label = \"train_data\", color = \"b\")\n",
    "plt.plot(validation_data.Date, validation_data.ALB_ZBRA, label = \"validation_data\", color = \"g\")\n",
    "plt.plot(train_data.Date.iloc[time_step:], y_pred, label = \"y_pred\", color = \"r\")\n",
    "plt.plot(validation_data.Date.iloc[time_step:], y_pred_of_test, label = \"y_pred_of_test\", color = \"orange\")\n",
    "plt.xlabel(\"Days\")\n",
    "plt.ylabel(\"ratio\")\n",
    "plt.title(\"Simple RNN model, Train-Validation-Prediction\")\n",
    "plt.legend()\n",
    "plt.show()"
   ]
  },
  {
   "cell_type": "markdown",
   "id": "1766270e",
   "metadata": {},
   "source": [
    "## Creating LSTM Model"
   ]
  },
  {
   "cell_type": "code",
   "execution_count": null,
   "id": "eadafbd5",
   "metadata": {},
   "outputs": [],
   "source": [
    "y_train = scaler.fit_transform(y_train)"
   ]
  },
  {
   "cell_type": "code",
   "execution_count": null,
   "id": "bca2ed67",
   "metadata": {},
   "outputs": [],
   "source": [
    "from keras.layers import LSTM\n",
    "\n",
    "model_lstm = Sequential()\n",
    "\n",
    "model_lstm.add(LSTM(64,return_sequences=True,input_shape = (X_train.shape[1],1))) #64 lstm neuron block\n",
    "model_lstm.add(LSTM(64, return_sequences= False))\n",
    "model_lstm.add(Dense(32))\n",
    "model_lstm.add(Dense(1))\n",
    "\n",
    "model_lstm.compile(loss = \"mean_squared_error\", optimizer = \"rmsprop\", metrics = [\"mae\", \"mape\"])\n",
    "history2 = model_lstm.fit(X_train, y_train, epochs = 10, batch_size = 10)"
   ]
  },
  {
   "cell_type": "code",
   "execution_count": null,
   "id": "6eec916a",
   "metadata": {},
   "outputs": [],
   "source": [
    "### loss seems ok but mape is really high. how to improve?"
   ]
  },
  {
   "cell_type": "markdown",
   "id": "8e6307d6",
   "metadata": {},
   "source": [
    "## Evaluating LSTM Model"
   ]
  },
  {
   "cell_type": "code",
   "execution_count": null,
   "id": "52188f85",
   "metadata": {},
   "outputs": [],
   "source": [
    "model_lstm.evaluate(X_test, y_test)"
   ]
  },
  {
   "cell_type": "code",
   "execution_count": null,
   "id": "dd15ed8d",
   "metadata": {},
   "outputs": [],
   "source": [
    "plt.figure(figsize =(10,5))\n",
    "plt.plot(history2.history[\"loss\"])\n",
    "plt.xlabel(\"Epochs\")\n",
    "plt.ylabel(\"Losses\")\n",
    "plt.title(\"LSTM model, Accuracy vs Epoch\")\n",
    "plt.show()"
   ]
  },
  {
   "cell_type": "code",
   "execution_count": null,
   "id": "f220f978",
   "metadata": {
    "scrolled": true
   },
   "outputs": [],
   "source": [
    "plt.subplots(figsize =(30,12))\n",
    "plt.plot(scaler.inverse_transform(model_lstm.predict(X_test)), label = \"y_pred_of_test\", c = \"orange\" )\n",
    "plt.plot(scaler.inverse_transform(y_test), label = \"y_test\", color = \"g\")\n",
    "plt.xlabel(\"Days\")\n",
    "plt.ylabel(\"Ratio\")\n",
    "plt.title(\"LSTM model, Predictions with input X_test vs y_test\")\n",
    "plt.legend()\n",
    "plt.show()"
   ]
  },
  {
   "cell_type": "code",
   "execution_count": 18,
   "id": "b31aab5e",
   "metadata": {},
   "outputs": [
    {
     "ename": "NameError",
     "evalue": "name 'regressor' is not defined",
     "output_type": "error",
     "traceback": [
      "\u001b[0;31m---------------------------------------------------------------------------\u001b[0m",
      "\u001b[0;31mNameError\u001b[0m                                 Traceback (most recent call last)",
      "\u001b[0;32m/var/folders/gr/22150sz94ggcqgt36_pzrbrw0000gn/T/ipykernel_36026/2556260970.py\u001b[0m in \u001b[0;36m<module>\u001b[0;34m\u001b[0m\n\u001b[0;32m----> 1\u001b[0;31m \u001b[0my_pred\u001b[0m \u001b[0;34m=\u001b[0m \u001b[0mregressor\u001b[0m\u001b[0;34m.\u001b[0m\u001b[0mpredict\u001b[0m\u001b[0;34m(\u001b[0m\u001b[0mX_train\u001b[0m\u001b[0;34m)\u001b[0m  \u001b[0;31m# predictions\u001b[0m\u001b[0;34m\u001b[0m\u001b[0;34m\u001b[0m\u001b[0m\n\u001b[0m\u001b[1;32m      2\u001b[0m \u001b[0my_pred\u001b[0m \u001b[0;34m=\u001b[0m \u001b[0mscaler\u001b[0m\u001b[0;34m.\u001b[0m\u001b[0minverse_transform\u001b[0m\u001b[0;34m(\u001b[0m\u001b[0my_pred\u001b[0m\u001b[0;34m)\u001b[0m \u001b[0;31m# scaling back from 0-1 to original\u001b[0m\u001b[0;34m\u001b[0m\u001b[0;34m\u001b[0m\u001b[0m\n\u001b[1;32m      3\u001b[0m \u001b[0my_pred\u001b[0m\u001b[0;34m.\u001b[0m\u001b[0mshape\u001b[0m\u001b[0;34m\u001b[0m\u001b[0;34m\u001b[0m\u001b[0m\n",
      "\u001b[0;31mNameError\u001b[0m: name 'regressor' is not defined"
     ]
    }
   ],
   "source": [
    "y_pred = regressor.predict(X_train)  # predictions\n",
    "y_pred = scaler.inverse_transform(y_pred) # scaling back from 0-1 to original\n",
    "y_pred.shape"
   ]
  },
  {
   "cell_type": "markdown",
   "id": "a2d513da",
   "metadata": {},
   "source": [
    "## Future price prediction"
   ]
  },
  {
   "cell_type": "code",
   "execution_count": null,
   "id": "3a0b622d",
   "metadata": {},
   "outputs": [],
   "source": [
    "#last day in our data?\n",
    "df.iloc[-1]"
   ]
  },
  {
   "cell_type": "markdown",
   "id": "19b71138",
   "metadata": {},
   "source": [
    "### We can predict the ratio for the day after 2022-08-23--> for 2022-08-24.\n",
    "We will use last ratios as input of our model for this prediction."
   ]
  },
  {
   "cell_type": "code",
   "execution_count": null,
   "id": "3d0ad87f",
   "metadata": {},
   "outputs": [],
   "source": [
    "X_input = df.iloc[-time_step:].ALB_ZBRA.values             # getting last rows and converting to array\n",
    "X_input = scaler.fit_transform(X_input.reshape(-1,1))     # converting to 2D array and scaling\n",
    "X_input = np.reshape(X_input, (1,time_step,1))                    # reshaping: converting to 3D array\n",
    "print(\"Shape of X_input :\", X_input.shape)\n",
    "X_input"
   ]
  },
  {
   "cell_type": "code",
   "execution_count": null,
   "id": "244f1d55",
   "metadata": {},
   "outputs": [],
   "source": [
    "simple_RNN_prediction = scaler.inverse_transform(regressor.predict(X_input))\n",
    "LSTM_prediction = scaler.inverse_transform(model_lstm.predict(X_input))\n",
    "print(\"Simple RNN, prediction for 2022-08-24:\", simple_RNN_prediction[0,0])\n",
    "print(\"LSTM, prediction for 2022-08-24:\", LSTM_prediction[0,0])"
   ]
  }
 ],
 "metadata": {
  "kernelspec": {
   "display_name": "Python 3 (ipykernel)",
   "language": "python",
   "name": "python3"
  },
  "language_info": {
   "codemirror_mode": {
    "name": "ipython",
    "version": 3
   },
   "file_extension": ".py",
   "mimetype": "text/x-python",
   "name": "python",
   "nbconvert_exporter": "python",
   "pygments_lexer": "ipython3",
   "version": "3.8.13"
  },
  "toc": {
   "base_numbering": 1,
   "nav_menu": {},
   "number_sections": true,
   "sideBar": true,
   "skip_h1_title": false,
   "title_cell": "Table of Contents",
   "title_sidebar": "Contents",
   "toc_cell": false,
   "toc_position": {},
   "toc_section_display": true,
   "toc_window_display": true
  }
 },
 "nbformat": 4,
 "nbformat_minor": 5
}
