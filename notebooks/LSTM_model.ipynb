{
 "cells": [
  {
   "cell_type": "code",
   "execution_count": 1,
   "id": "65e52b36",
   "metadata": {},
   "outputs": [],
   "source": [
    "import numpy as np\n",
    "import pandas as pd\n",
    "import matplotlib.pyplot as plt"
   ]
  },
  {
   "cell_type": "code",
   "execution_count": 2,
   "id": "30242db1",
   "metadata": {},
   "outputs": [
    {
     "data": {
      "text/html": [
       "<div>\n",
       "<style scoped>\n",
       "    .dataframe tbody tr th:only-of-type {\n",
       "        vertical-align: middle;\n",
       "    }\n",
       "\n",
       "    .dataframe tbody tr th {\n",
       "        vertical-align: top;\n",
       "    }\n",
       "\n",
       "    .dataframe thead th {\n",
       "        text-align: right;\n",
       "    }\n",
       "</style>\n",
       "<table border=\"1\" class=\"dataframe\">\n",
       "  <thead>\n",
       "    <tr style=\"text-align: right;\">\n",
       "      <th></th>\n",
       "      <th>Date</th>\n",
       "      <th>ALB_ZBRA</th>\n",
       "      <th>NRG_CPRT</th>\n",
       "      <th>DE_BXP</th>\n",
       "      <th>NRG_STE</th>\n",
       "      <th>NRG_XRAY</th>\n",
       "      <th>SO_NLOK</th>\n",
       "      <th>PEG_O</th>\n",
       "    </tr>\n",
       "  </thead>\n",
       "  <tbody>\n",
       "    <tr>\n",
       "      <th>0</th>\n",
       "      <td>2020-08-31</td>\n",
       "      <td>0.311845</td>\n",
       "      <td>0.310544</td>\n",
       "      <td>2.548054</td>\n",
       "      <td>0.203834</td>\n",
       "      <td>0.727693</td>\n",
       "      <td>2.136432</td>\n",
       "      <td>0.882281</td>\n",
       "    </tr>\n",
       "    <tr>\n",
       "      <th>1</th>\n",
       "      <td>2020-09-01</td>\n",
       "      <td>0.332974</td>\n",
       "      <td>0.306303</td>\n",
       "      <td>2.687319</td>\n",
       "      <td>0.203522</td>\n",
       "      <td>0.722940</td>\n",
       "      <td>2.094566</td>\n",
       "      <td>0.855546</td>\n",
       "    </tr>\n",
       "    <tr>\n",
       "      <th>2</th>\n",
       "      <td>2020-09-02</td>\n",
       "      <td>0.332368</td>\n",
       "      <td>0.315056</td>\n",
       "      <td>2.629334</td>\n",
       "      <td>0.204743</td>\n",
       "      <td>0.734758</td>\n",
       "      <td>2.125291</td>\n",
       "      <td>0.872526</td>\n",
       "    </tr>\n",
       "    <tr>\n",
       "      <th>3</th>\n",
       "      <td>2020-09-03</td>\n",
       "      <td>0.339772</td>\n",
       "      <td>0.310060</td>\n",
       "      <td>2.534974</td>\n",
       "      <td>0.201707</td>\n",
       "      <td>0.728923</td>\n",
       "      <td>2.210971</td>\n",
       "      <td>0.848504</td>\n",
       "    </tr>\n",
       "    <tr>\n",
       "      <th>4</th>\n",
       "      <td>2020-09-04</td>\n",
       "      <td>0.356920</td>\n",
       "      <td>0.300754</td>\n",
       "      <td>2.536138</td>\n",
       "      <td>0.199887</td>\n",
       "      <td>0.707646</td>\n",
       "      <td>2.152835</td>\n",
       "      <td>0.854765</td>\n",
       "    </tr>\n",
       "  </tbody>\n",
       "</table>\n",
       "</div>"
      ],
      "text/plain": [
       "         Date  ALB_ZBRA  NRG_CPRT    DE_BXP   NRG_STE  NRG_XRAY   SO_NLOK  \\\n",
       "0  2020-08-31  0.311845  0.310544  2.548054  0.203834  0.727693  2.136432   \n",
       "1  2020-09-01  0.332974  0.306303  2.687319  0.203522  0.722940  2.094566   \n",
       "2  2020-09-02  0.332368  0.315056  2.629334  0.204743  0.734758  2.125291   \n",
       "3  2020-09-03  0.339772  0.310060  2.534974  0.201707  0.728923  2.210971   \n",
       "4  2020-09-04  0.356920  0.300754  2.536138  0.199887  0.707646  2.152835   \n",
       "\n",
       "      PEG_O  \n",
       "0  0.882281  \n",
       "1  0.855546  \n",
       "2  0.872526  \n",
       "3  0.848504  \n",
       "4  0.854765  "
      ]
     },
     "execution_count": 2,
     "metadata": {},
     "output_type": "execute_result"
    }
   ],
   "source": [
    "#import data\n",
    "df = pd.read_csv(r'cleaned_data.csv')\n",
    "df.head()"
   ]
  },
  {
   "cell_type": "code",
   "execution_count": 3,
   "id": "c93ecf09",
   "metadata": {},
   "outputs": [
    {
     "data": {
      "text/html": [
       "<div>\n",
       "<style scoped>\n",
       "    .dataframe tbody tr th:only-of-type {\n",
       "        vertical-align: middle;\n",
       "    }\n",
       "\n",
       "    .dataframe tbody tr th {\n",
       "        vertical-align: top;\n",
       "    }\n",
       "\n",
       "    .dataframe thead th {\n",
       "        text-align: right;\n",
       "    }\n",
       "</style>\n",
       "<table border=\"1\" class=\"dataframe\">\n",
       "  <thead>\n",
       "    <tr style=\"text-align: right;\">\n",
       "      <th></th>\n",
       "      <th>Date</th>\n",
       "      <th>ALB_ZBRA</th>\n",
       "      <th>NRG_CPRT</th>\n",
       "      <th>DE_BXP</th>\n",
       "      <th>NRG_STE</th>\n",
       "      <th>NRG_XRAY</th>\n",
       "      <th>SO_NLOK</th>\n",
       "      <th>PEG_O</th>\n",
       "    </tr>\n",
       "  </thead>\n",
       "  <tbody>\n",
       "    <tr>\n",
       "      <th>495</th>\n",
       "      <td>2022-08-18</td>\n",
       "      <td>0.816374</td>\n",
       "      <td>0.333768</td>\n",
       "      <td>4.22249</td>\n",
       "      <td>0.204492</td>\n",
       "      <td>1.196920</td>\n",
       "      <td>3.371537</td>\n",
       "      <td>0.950678</td>\n",
       "    </tr>\n",
       "    <tr>\n",
       "      <th>496</th>\n",
       "      <td>2022-08-19</td>\n",
       "      <td>0.822204</td>\n",
       "      <td>0.334919</td>\n",
       "      <td>4.28095</td>\n",
       "      <td>0.204631</td>\n",
       "      <td>1.200391</td>\n",
       "      <td>3.405268</td>\n",
       "      <td>0.951858</td>\n",
       "    </tr>\n",
       "  </tbody>\n",
       "</table>\n",
       "</div>"
      ],
      "text/plain": [
       "           Date  ALB_ZBRA  NRG_CPRT   DE_BXP   NRG_STE  NRG_XRAY   SO_NLOK  \\\n",
       "495  2022-08-18  0.816374  0.333768  4.22249  0.204492  1.196920  3.371537   \n",
       "496  2022-08-19  0.822204  0.334919  4.28095  0.204631  1.200391  3.405268   \n",
       "\n",
       "        PEG_O  \n",
       "495  0.950678  \n",
       "496  0.951858  "
      ]
     },
     "execution_count": 3,
     "metadata": {},
     "output_type": "execute_result"
    }
   ],
   "source": [
    "df.tail(2)"
   ]
  },
  {
   "cell_type": "code",
   "execution_count": 4,
   "id": "35e7f32c",
   "metadata": {},
   "outputs": [
    {
     "data": {
      "text/html": [
       "<div>\n",
       "<style scoped>\n",
       "    .dataframe tbody tr th:only-of-type {\n",
       "        vertical-align: middle;\n",
       "    }\n",
       "\n",
       "    .dataframe tbody tr th {\n",
       "        vertical-align: top;\n",
       "    }\n",
       "\n",
       "    .dataframe thead th {\n",
       "        text-align: right;\n",
       "    }\n",
       "</style>\n",
       "<table border=\"1\" class=\"dataframe\">\n",
       "  <thead>\n",
       "    <tr style=\"text-align: right;\">\n",
       "      <th></th>\n",
       "      <th>ALB_ZBRA</th>\n",
       "      <th>NRG_CPRT</th>\n",
       "      <th>DE_BXP</th>\n",
       "      <th>NRG_STE</th>\n",
       "      <th>NRG_XRAY</th>\n",
       "      <th>SO_NLOK</th>\n",
       "      <th>PEG_O</th>\n",
       "    </tr>\n",
       "  </thead>\n",
       "  <tbody>\n",
       "    <tr>\n",
       "      <th>count</th>\n",
       "      <td>497.000000</td>\n",
       "      <td>497.000000</td>\n",
       "      <td>497.000000</td>\n",
       "      <td>497.000000</td>\n",
       "      <td>497.000000</td>\n",
       "      <td>497.000000</td>\n",
       "      <td>497.000000</td>\n",
       "    </tr>\n",
       "    <tr>\n",
       "      <th>mean</th>\n",
       "      <td>0.439148</td>\n",
       "      <td>0.296925</td>\n",
       "      <td>3.242148</td>\n",
       "      <td>0.178814</td>\n",
       "      <td>0.728099</td>\n",
       "      <td>2.664304</td>\n",
       "      <td>0.960830</td>\n",
       "    </tr>\n",
       "    <tr>\n",
       "      <th>std</th>\n",
       "      <td>0.134129</td>\n",
       "      <td>0.038166</td>\n",
       "      <td>0.309264</td>\n",
       "      <td>0.017806</td>\n",
       "      <td>0.170586</td>\n",
       "      <td>0.296301</td>\n",
       "      <td>0.047787</td>\n",
       "    </tr>\n",
       "    <tr>\n",
       "      <th>min</th>\n",
       "      <td>0.279760</td>\n",
       "      <td>0.219809</td>\n",
       "      <td>2.513787</td>\n",
       "      <td>0.147486</td>\n",
       "      <td>0.464028</td>\n",
       "      <td>2.094566</td>\n",
       "      <td>0.829956</td>\n",
       "    </tr>\n",
       "    <tr>\n",
       "      <th>25%</th>\n",
       "      <td>0.336085</td>\n",
       "      <td>0.270483</td>\n",
       "      <td>3.054503</td>\n",
       "      <td>0.164950</td>\n",
       "      <td>0.624090</td>\n",
       "      <td>2.436779</td>\n",
       "      <td>0.928549</td>\n",
       "    </tr>\n",
       "    <tr>\n",
       "      <th>50%</th>\n",
       "      <td>0.403014</td>\n",
       "      <td>0.290112</td>\n",
       "      <td>3.224409</td>\n",
       "      <td>0.175372</td>\n",
       "      <td>0.691772</td>\n",
       "      <td>2.649792</td>\n",
       "      <td>0.960627</td>\n",
       "    </tr>\n",
       "    <tr>\n",
       "      <th>75%</th>\n",
       "      <td>0.464571</td>\n",
       "      <td>0.316606</td>\n",
       "      <td>3.435012</td>\n",
       "      <td>0.189553</td>\n",
       "      <td>0.742545</td>\n",
       "      <td>2.861494</td>\n",
       "      <td>0.994654</td>\n",
       "    </tr>\n",
       "    <tr>\n",
       "      <th>max</th>\n",
       "      <td>0.822204</td>\n",
       "      <td>0.425462</td>\n",
       "      <td>4.280950</td>\n",
       "      <td>0.231046</td>\n",
       "      <td>1.230987</td>\n",
       "      <td>3.405268</td>\n",
       "      <td>1.094158</td>\n",
       "    </tr>\n",
       "  </tbody>\n",
       "</table>\n",
       "</div>"
      ],
      "text/plain": [
       "         ALB_ZBRA    NRG_CPRT      DE_BXP     NRG_STE    NRG_XRAY     SO_NLOK  \\\n",
       "count  497.000000  497.000000  497.000000  497.000000  497.000000  497.000000   \n",
       "mean     0.439148    0.296925    3.242148    0.178814    0.728099    2.664304   \n",
       "std      0.134129    0.038166    0.309264    0.017806    0.170586    0.296301   \n",
       "min      0.279760    0.219809    2.513787    0.147486    0.464028    2.094566   \n",
       "25%      0.336085    0.270483    3.054503    0.164950    0.624090    2.436779   \n",
       "50%      0.403014    0.290112    3.224409    0.175372    0.691772    2.649792   \n",
       "75%      0.464571    0.316606    3.435012    0.189553    0.742545    2.861494   \n",
       "max      0.822204    0.425462    4.280950    0.231046    1.230987    3.405268   \n",
       "\n",
       "            PEG_O  \n",
       "count  497.000000  \n",
       "mean     0.960830  \n",
       "std      0.047787  \n",
       "min      0.829956  \n",
       "25%      0.928549  \n",
       "50%      0.960627  \n",
       "75%      0.994654  \n",
       "max      1.094158  "
      ]
     },
     "execution_count": 4,
     "metadata": {},
     "output_type": "execute_result"
    }
   ],
   "source": [
    "df.describe()"
   ]
  },
  {
   "cell_type": "code",
   "execution_count": 5,
   "id": "9d3d4ae0",
   "metadata": {},
   "outputs": [
    {
     "name": "stdout",
     "output_type": "stream",
     "text": [
      "<class 'pandas.core.frame.DataFrame'>\n",
      "RangeIndex: 497 entries, 0 to 496\n",
      "Data columns (total 8 columns):\n",
      " #   Column    Non-Null Count  Dtype  \n",
      "---  ------    --------------  -----  \n",
      " 0   Date      497 non-null    object \n",
      " 1   ALB_ZBRA  497 non-null    float64\n",
      " 2   NRG_CPRT  497 non-null    float64\n",
      " 3   DE_BXP    497 non-null    float64\n",
      " 4   NRG_STE   497 non-null    float64\n",
      " 5   NRG_XRAY  497 non-null    float64\n",
      " 6   SO_NLOK   497 non-null    float64\n",
      " 7   PEG_O     497 non-null    float64\n",
      "dtypes: float64(7), object(1)\n",
      "memory usage: 31.2+ KB\n"
     ]
    }
   ],
   "source": [
    "df.info()"
   ]
  },
  {
   "cell_type": "code",
   "execution_count": 6,
   "id": "05c978e2",
   "metadata": {},
   "outputs": [
    {
     "data": {
      "text/plain": [
       "(497, 8)"
      ]
     },
     "execution_count": 6,
     "metadata": {},
     "output_type": "execute_result"
    }
   ],
   "source": [
    "df.shape"
   ]
  },
  {
   "cell_type": "code",
   "execution_count": 7,
   "id": "28400d50",
   "metadata": {},
   "outputs": [
    {
     "data": {
      "text/html": [
       "<div>\n",
       "<style scoped>\n",
       "    .dataframe tbody tr th:only-of-type {\n",
       "        vertical-align: middle;\n",
       "    }\n",
       "\n",
       "    .dataframe tbody tr th {\n",
       "        vertical-align: top;\n",
       "    }\n",
       "\n",
       "    .dataframe thead th {\n",
       "        text-align: right;\n",
       "    }\n",
       "</style>\n",
       "<table border=\"1\" class=\"dataframe\">\n",
       "  <thead>\n",
       "    <tr style=\"text-align: right;\">\n",
       "      <th></th>\n",
       "      <th>Date</th>\n",
       "      <th>ALB_ZBRA</th>\n",
       "    </tr>\n",
       "  </thead>\n",
       "  <tbody>\n",
       "    <tr>\n",
       "      <th>0</th>\n",
       "      <td>2020-08-31</td>\n",
       "      <td>0.311845</td>\n",
       "    </tr>\n",
       "    <tr>\n",
       "      <th>1</th>\n",
       "      <td>2020-09-01</td>\n",
       "      <td>0.332974</td>\n",
       "    </tr>\n",
       "    <tr>\n",
       "      <th>2</th>\n",
       "      <td>2020-09-02</td>\n",
       "      <td>0.332368</td>\n",
       "    </tr>\n",
       "    <tr>\n",
       "      <th>3</th>\n",
       "      <td>2020-09-03</td>\n",
       "      <td>0.339772</td>\n",
       "    </tr>\n",
       "    <tr>\n",
       "      <th>4</th>\n",
       "      <td>2020-09-04</td>\n",
       "      <td>0.356920</td>\n",
       "    </tr>\n",
       "  </tbody>\n",
       "</table>\n",
       "</div>"
      ],
      "text/plain": [
       "         Date  ALB_ZBRA\n",
       "0  2020-08-31  0.311845\n",
       "1  2020-09-01  0.332974\n",
       "2  2020-09-02  0.332368\n",
       "3  2020-09-03  0.339772\n",
       "4  2020-09-04  0.356920"
      ]
     },
     "execution_count": 7,
     "metadata": {},
     "output_type": "execute_result"
    }
   ],
   "source": [
    "# we check first chosen ratios first (here: ALB_ZBRA)\n",
    "df_small=df.iloc[:,[0,1]]\n",
    "df_small.head()"
   ]
  },
  {
   "cell_type": "code",
   "execution_count": 8,
   "id": "e1e6c7e3",
   "metadata": {},
   "outputs": [
    {
     "data": {
      "text/plain": [
       "(497, 2)"
      ]
     },
     "execution_count": 8,
     "metadata": {},
     "output_type": "execute_result"
    }
   ],
   "source": [
    "df_small.shape"
   ]
  },
  {
   "cell_type": "code",
   "execution_count": 9,
   "id": "e1f98c36",
   "metadata": {
    "scrolled": true
   },
   "outputs": [
    {
     "name": "stdout",
     "output_type": "stream",
     "text": [
      "<class 'pandas.core.frame.DataFrame'>\n",
      "RangeIndex: 497 entries, 0 to 496\n",
      "Data columns (total 2 columns):\n",
      " #   Column    Non-Null Count  Dtype  \n",
      "---  ------    --------------  -----  \n",
      " 0   Date      497 non-null    object \n",
      " 1   ALB_ZBRA  497 non-null    float64\n",
      "dtypes: float64(1), object(1)\n",
      "memory usage: 7.9+ KB\n"
     ]
    }
   ],
   "source": [
    "df_small.info()"
   ]
  },
  {
   "cell_type": "markdown",
   "id": "aca3fe1e",
   "metadata": {},
   "source": [
    "## Splitting Data in Train and Validation"
   ]
  },
  {
   "cell_type": "code",
   "execution_count": 10,
   "id": "cb40fc1e",
   "metadata": {},
   "outputs": [
    {
     "name": "stdout",
     "output_type": "stream",
     "text": [
      "Data length : 497\n",
      "Train data length: 348\n",
      "Validation data lenth: 149\n"
     ]
    }
   ],
   "source": [
    "length_data = len(df_small)    \n",
    "split_ratio = 0.7           # %70 train + %30 validation\n",
    "length_train = round(length_data * split_ratio)  \n",
    "length_validation = length_data - length_train\n",
    "print(\"Data length :\", length_data)\n",
    "print(\"Train data length:\", length_train)\n",
    "print(\"Validation data lenth:\", length_validation)"
   ]
  },
  {
   "cell_type": "code",
   "execution_count": 11,
   "id": "3f3479f6",
   "metadata": {},
   "outputs": [
    {
     "data": {
      "text/html": [
       "<div>\n",
       "<style scoped>\n",
       "    .dataframe tbody tr th:only-of-type {\n",
       "        vertical-align: middle;\n",
       "    }\n",
       "\n",
       "    .dataframe tbody tr th {\n",
       "        vertical-align: top;\n",
       "    }\n",
       "\n",
       "    .dataframe thead th {\n",
       "        text-align: right;\n",
       "    }\n",
       "</style>\n",
       "<table border=\"1\" class=\"dataframe\">\n",
       "  <thead>\n",
       "    <tr style=\"text-align: right;\">\n",
       "      <th></th>\n",
       "      <th>Date</th>\n",
       "      <th>ALB_ZBRA</th>\n",
       "    </tr>\n",
       "  </thead>\n",
       "  <tbody>\n",
       "    <tr>\n",
       "      <th>0</th>\n",
       "      <td>2020-08-31</td>\n",
       "      <td>0.311845</td>\n",
       "    </tr>\n",
       "    <tr>\n",
       "      <th>1</th>\n",
       "      <td>2020-09-01</td>\n",
       "      <td>0.332974</td>\n",
       "    </tr>\n",
       "    <tr>\n",
       "      <th>2</th>\n",
       "      <td>2020-09-02</td>\n",
       "      <td>0.332368</td>\n",
       "    </tr>\n",
       "    <tr>\n",
       "      <th>3</th>\n",
       "      <td>2020-09-03</td>\n",
       "      <td>0.339772</td>\n",
       "    </tr>\n",
       "    <tr>\n",
       "      <th>4</th>\n",
       "      <td>2020-09-04</td>\n",
       "      <td>0.356920</td>\n",
       "    </tr>\n",
       "    <tr>\n",
       "      <th>...</th>\n",
       "      <td>...</td>\n",
       "      <td>...</td>\n",
       "    </tr>\n",
       "    <tr>\n",
       "      <th>343</th>\n",
       "      <td>2022-01-10</td>\n",
       "      <td>0.422384</td>\n",
       "    </tr>\n",
       "    <tr>\n",
       "      <th>344</th>\n",
       "      <td>2022-01-11</td>\n",
       "      <td>0.444326</td>\n",
       "    </tr>\n",
       "    <tr>\n",
       "      <th>345</th>\n",
       "      <td>2022-01-12</td>\n",
       "      <td>0.446099</td>\n",
       "    </tr>\n",
       "    <tr>\n",
       "      <th>346</th>\n",
       "      <td>2022-01-13</td>\n",
       "      <td>0.445756</td>\n",
       "    </tr>\n",
       "    <tr>\n",
       "      <th>347</th>\n",
       "      <td>2022-01-14</td>\n",
       "      <td>0.440955</td>\n",
       "    </tr>\n",
       "  </tbody>\n",
       "</table>\n",
       "<p>348 rows × 2 columns</p>\n",
       "</div>"
      ],
      "text/plain": [
       "          Date  ALB_ZBRA\n",
       "0   2020-08-31  0.311845\n",
       "1   2020-09-01  0.332974\n",
       "2   2020-09-02  0.332368\n",
       "3   2020-09-03  0.339772\n",
       "4   2020-09-04  0.356920\n",
       "..         ...       ...\n",
       "343 2022-01-10  0.422384\n",
       "344 2022-01-11  0.444326\n",
       "345 2022-01-12  0.446099\n",
       "346 2022-01-13  0.445756\n",
       "347 2022-01-14  0.440955\n",
       "\n",
       "[348 rows x 2 columns]"
      ]
     },
     "execution_count": 11,
     "metadata": {},
     "output_type": "execute_result"
    }
   ],
   "source": [
    "# train_data\n",
    "train_data = df_small[:length_train].iloc[:,:2] \n",
    "train_data['Date'] = pd.to_datetime(train_data['Date'])  # converting to date time object\n",
    "train_data"
   ]
  },
  {
   "cell_type": "code",
   "execution_count": 12,
   "id": "d106ac80",
   "metadata": {},
   "outputs": [
    {
     "data": {
      "text/html": [
       "<div>\n",
       "<style scoped>\n",
       "    .dataframe tbody tr th:only-of-type {\n",
       "        vertical-align: middle;\n",
       "    }\n",
       "\n",
       "    .dataframe tbody tr th {\n",
       "        vertical-align: top;\n",
       "    }\n",
       "\n",
       "    .dataframe thead th {\n",
       "        text-align: right;\n",
       "    }\n",
       "</style>\n",
       "<table border=\"1\" class=\"dataframe\">\n",
       "  <thead>\n",
       "    <tr style=\"text-align: right;\">\n",
       "      <th></th>\n",
       "      <th>Date</th>\n",
       "      <th>ALB_ZBRA</th>\n",
       "    </tr>\n",
       "  </thead>\n",
       "  <tbody>\n",
       "    <tr>\n",
       "      <th>348</th>\n",
       "      <td>2022-01-18</td>\n",
       "      <td>0.436370</td>\n",
       "    </tr>\n",
       "    <tr>\n",
       "      <th>349</th>\n",
       "      <td>2022-01-19</td>\n",
       "      <td>0.426604</td>\n",
       "    </tr>\n",
       "    <tr>\n",
       "      <th>350</th>\n",
       "      <td>2022-01-20</td>\n",
       "      <td>0.431503</td>\n",
       "    </tr>\n",
       "    <tr>\n",
       "      <th>351</th>\n",
       "      <td>2022-01-21</td>\n",
       "      <td>0.428953</td>\n",
       "    </tr>\n",
       "    <tr>\n",
       "      <th>352</th>\n",
       "      <td>2022-01-24</td>\n",
       "      <td>0.430432</td>\n",
       "    </tr>\n",
       "    <tr>\n",
       "      <th>...</th>\n",
       "      <td>...</td>\n",
       "      <td>...</td>\n",
       "    </tr>\n",
       "    <tr>\n",
       "      <th>492</th>\n",
       "      <td>2022-08-15</td>\n",
       "      <td>0.813028</td>\n",
       "    </tr>\n",
       "    <tr>\n",
       "      <th>493</th>\n",
       "      <td>2022-08-16</td>\n",
       "      <td>0.814154</td>\n",
       "    </tr>\n",
       "    <tr>\n",
       "      <th>494</th>\n",
       "      <td>2022-08-17</td>\n",
       "      <td>0.815450</td>\n",
       "    </tr>\n",
       "    <tr>\n",
       "      <th>495</th>\n",
       "      <td>2022-08-18</td>\n",
       "      <td>0.816374</td>\n",
       "    </tr>\n",
       "    <tr>\n",
       "      <th>496</th>\n",
       "      <td>2022-08-19</td>\n",
       "      <td>0.822204</td>\n",
       "    </tr>\n",
       "  </tbody>\n",
       "</table>\n",
       "<p>149 rows × 2 columns</p>\n",
       "</div>"
      ],
      "text/plain": [
       "          Date  ALB_ZBRA\n",
       "348 2022-01-18  0.436370\n",
       "349 2022-01-19  0.426604\n",
       "350 2022-01-20  0.431503\n",
       "351 2022-01-21  0.428953\n",
       "352 2022-01-24  0.430432\n",
       "..         ...       ...\n",
       "492 2022-08-15  0.813028\n",
       "493 2022-08-16  0.814154\n",
       "494 2022-08-17  0.815450\n",
       "495 2022-08-18  0.816374\n",
       "496 2022-08-19  0.822204\n",
       "\n",
       "[149 rows x 2 columns]"
      ]
     },
     "execution_count": 12,
     "metadata": {},
     "output_type": "execute_result"
    }
   ],
   "source": [
    "# validation_data\n",
    "validation_data = df_small[length_train:].iloc[:,:2]\n",
    "validation_data['Date'] = pd.to_datetime(validation_data['Date'])  # converting to date time object\n",
    "validation_data"
   ]
  },
  {
   "cell_type": "markdown",
   "id": "1814e915",
   "metadata": {},
   "source": [
    "## Creating Train Dataset from Train split"
   ]
  },
  {
   "cell_type": "code",
   "execution_count": 13,
   "id": "508e963d",
   "metadata": {},
   "outputs": [
    {
     "data": {
      "text/plain": [
       "(348,)"
      ]
     },
     "execution_count": 13,
     "metadata": {},
     "output_type": "execute_result"
    }
   ],
   "source": [
    "dataset_train = train_data.ALB_ZBRA.values\n",
    "dataset_train.shape"
   ]
  },
  {
   "cell_type": "code",
   "execution_count": 14,
   "id": "517d74c8",
   "metadata": {},
   "outputs": [
    {
     "data": {
      "text/plain": [
       "(348, 1)"
      ]
     },
     "execution_count": 14,
     "metadata": {},
     "output_type": "execute_result"
    }
   ],
   "source": [
    "# Change 1d array to 2d array\n",
    "# Changing shape from (1692,) to (1692,1)\n",
    "dataset_train = np.reshape(dataset_train, (-1,1))\n",
    "dataset_train.shape"
   ]
  },
  {
   "cell_type": "markdown",
   "id": "bb1fd70a",
   "metadata": {},
   "source": [
    "## Normalization / Feature Scaling not needed/recommended"
   ]
  },
  {
   "cell_type": "code",
   "execution_count": 15,
   "id": "05335f24",
   "metadata": {},
   "outputs": [],
   "source": [
    "dataset_train_scaled = dataset_train"
   ]
  },
  {
   "cell_type": "markdown",
   "id": "1a8aff56",
   "metadata": {},
   "source": [
    "## Creating X_train and y_train from Train data "
   ]
  },
  {
   "cell_type": "markdown",
   "id": "be9c4316",
   "metadata": {},
   "source": [
    "We have train data composed of ratios over days\n",
    "\n",
    "So, it has 1184 ratios corresponding 1184 days\n",
    "\n",
    "My aim is to predict the ratio (closing) of the next day.\n",
    "\n",
    "I can use a time step of 2 days.\n",
    "\n",
    "I will pick first 2 ratios (day 0 to 2), 1st 2 ratio will be in \n",
    "X_train data\n",
    "\n",
    "Then predict the ratio of 3rd day; and 3rd ratio will be in y_train data\n",
    "\n",
    "Again, i will pick ratios from 1 to 3, those will be in X_train data\n",
    "\n",
    "Then predict the next days ratio, 4th ratio will be in y_train data\n",
    "\n"
   ]
  },
  {
   "cell_type": "code",
   "execution_count": 16,
   "id": "6c47c074",
   "metadata": {},
   "outputs": [],
   "source": [
    "X_train = []\n",
    "y_train = []\n",
    "\n",
    "time_step = 20 #change that?\n",
    "\n",
    "for i in range(time_step, length_train):\n",
    "    X_train.append(dataset_train_scaled[i-time_step:i,0:1])\n",
    "    y_train.append(dataset_train_scaled[i,0:1])\n",
    "    \n",
    "# convert list to array\n",
    "X_train, y_train = np.array(X_train), np.array(y_train)"
   ]
  },
  {
   "cell_type": "code",
   "execution_count": 17,
   "id": "363e7d05",
   "metadata": {},
   "outputs": [
    {
     "data": {
      "text/plain": [
       "(328, 20, 1)"
      ]
     },
     "execution_count": 17,
     "metadata": {},
     "output_type": "execute_result"
    }
   ],
   "source": [
    "X_train.shape"
   ]
  },
  {
   "cell_type": "code",
   "execution_count": 18,
   "id": "4ae00ff6",
   "metadata": {},
   "outputs": [
    {
     "data": {
      "text/plain": [
       "count    328.0\n",
       "mean      20.0\n",
       "std        0.0\n",
       "min       20.0\n",
       "25%       20.0\n",
       "50%       20.0\n",
       "75%       20.0\n",
       "max       20.0\n",
       "dtype: float64"
      ]
     },
     "execution_count": 18,
     "metadata": {},
     "output_type": "execute_result"
    }
   ],
   "source": [
    "pd.Series([len(X) for X in X_train]).describe()"
   ]
  },
  {
   "cell_type": "code",
   "execution_count": 19,
   "id": "7cd01a74",
   "metadata": {},
   "outputs": [
    {
     "data": {
      "text/plain": [
       "array([[0.38862944],\n",
       "       [0.38917616],\n",
       "       [0.38077796],\n",
       "       [0.38492726],\n",
       "       [0.38663534],\n",
       "       [0.38988871],\n",
       "       [0.3830526 ],\n",
       "       [0.38833012],\n",
       "       [0.38542777],\n",
       "       [0.39077174],\n",
       "       [0.39133709],\n",
       "       [0.4038591 ],\n",
       "       [0.41133758],\n",
       "       [0.42062969],\n",
       "       [0.41886172],\n",
       "       [0.44299006],\n",
       "       [0.42238371],\n",
       "       [0.44432603],\n",
       "       [0.44609879],\n",
       "       [0.44575611]])"
      ]
     },
     "execution_count": 19,
     "metadata": {},
     "output_type": "execute_result"
    }
   ],
   "source": [
    "dataset_train_scaled[i-time_step:i]"
   ]
  },
  {
   "cell_type": "code",
   "execution_count": 20,
   "id": "47a2612d",
   "metadata": {},
   "outputs": [
    {
     "data": {
      "text/plain": [
       "0.4409549019553445"
      ]
     },
     "execution_count": 20,
     "metadata": {},
     "output_type": "execute_result"
    }
   ],
   "source": [
    "dataset_train_scaled[i,0]"
   ]
  },
  {
   "cell_type": "code",
   "execution_count": 21,
   "id": "68467185",
   "metadata": {},
   "outputs": [
    {
     "name": "stdout",
     "output_type": "stream",
     "text": [
      "Shape of X_train before reshape: (328, 20, 1)\n",
      "Shape of y_train before reshape: (328, 1)\n"
     ]
    }
   ],
   "source": [
    "print(\"Shape of X_train before reshape:\",X_train.shape)\n",
    "print(\"Shape of y_train before reshape:\",y_train.shape)"
   ]
  },
  {
   "cell_type": "code",
   "execution_count": 22,
   "id": "f725b6e2",
   "metadata": {},
   "outputs": [
    {
     "name": "stdout",
     "output_type": "stream",
     "text": [
      "Shape of X_train after reshape : (328, 20, 1)\n",
      "Shape of y_train after reshape : (328, 1)\n"
     ]
    }
   ],
   "source": [
    "X_train = np.reshape(X_train, (X_train.shape[0], X_train.shape[1],1))\n",
    "y_train = np.reshape(y_train, (y_train.shape[0],1))\n",
    "\n",
    "print(\"Shape of X_train after reshape :\",X_train.shape)\n",
    "print(\"Shape of y_train after reshape :\",y_train.shape)"
   ]
  },
  {
   "cell_type": "code",
   "execution_count": 23,
   "id": "fa4a4b8d",
   "metadata": {},
   "outputs": [
    {
     "data": {
      "text/plain": [
       "array([[0.31184533],\n",
       "       [0.33297423],\n",
       "       [0.33236771],\n",
       "       [0.33977172],\n",
       "       [0.35692005],\n",
       "       [0.36686296],\n",
       "       [0.36722494],\n",
       "       [0.36801524],\n",
       "       [0.3729842 ],\n",
       "       [0.38359747],\n",
       "       [0.3751988 ],\n",
       "       [0.37780616],\n",
       "       [0.38648978],\n",
       "       [0.37695343],\n",
       "       [0.37698369],\n",
       "       [0.37210869],\n",
       "       [0.31760517],\n",
       "       [0.32758807],\n",
       "       [0.32358099],\n",
       "       [0.32094169]])"
      ]
     },
     "execution_count": 23,
     "metadata": {},
     "output_type": "execute_result"
    }
   ],
   "source": [
    "X_train[0]"
   ]
  },
  {
   "cell_type": "code",
   "execution_count": 24,
   "id": "063a84d2",
   "metadata": {},
   "outputs": [],
   "source": [
    "X_train = X_train[:int(X_train.shape[0]*0.95)]\n",
    "X_val = X_train[int(X_train.shape[0]*0.95):]\n",
    "y_train = y_train[:int(y_train.shape[0]*0.95)]\n",
    "y_val = y_train[int(y_train.shape[0]*0.95):]"
   ]
  },
  {
   "cell_type": "markdown",
   "id": "3da4e900",
   "metadata": {},
   "source": [
    "Check the first item in y_train\n",
    "It is the ratio of 2nd day (timestep 2)"
   ]
  },
  {
   "cell_type": "code",
   "execution_count": 25,
   "id": "27da9c01",
   "metadata": {},
   "outputs": [
    {
     "data": {
      "text/plain": [
       "array([0.3306644])"
      ]
     },
     "execution_count": 25,
     "metadata": {},
     "output_type": "execute_result"
    }
   ],
   "source": [
    "y_train[0]"
   ]
  },
  {
   "cell_type": "markdown",
   "id": "14f39577",
   "metadata": {},
   "source": [
    "## Creating Test Dataset from Validation Data"
   ]
  },
  {
   "cell_type": "code",
   "execution_count": 32,
   "id": "97ceffc5",
   "metadata": {},
   "outputs": [
    {
     "name": "stdout",
     "output_type": "stream",
     "text": [
      "Shape of scaled validation dataset : (149, 1)\n"
     ]
    }
   ],
   "source": [
    "#Converting array and scaling\n",
    "dataset_validation = validation_data.ALB_ZBRA.values  # getting \"Ratio\" column and converting to array\n",
    "dataset_validation = np.reshape(dataset_validation, (-1,1))  # converting 1D to 2D array\n",
    "#scaled_dataset_validation =  scaler.fit_transform(dataset_validation)  # scaling  values to between 0 and 1\n",
    "scaled_dataset_validation = dataset_validation \n",
    "\n",
    "print(\"Shape of scaled validation dataset :\",scaled_dataset_validation.shape)"
   ]
  },
  {
   "cell_type": "code",
   "execution_count": 33,
   "id": "decab60e",
   "metadata": {},
   "outputs": [],
   "source": [
    "#Creating X_test and y_test\n",
    "X_test = []\n",
    "y_test = []\n",
    "\n",
    "for i in range(time_step, length_validation):\n",
    "    X_test.append(scaled_dataset_validation[i-time_step:i,0])\n",
    "    y_test.append(scaled_dataset_validation[i,0])"
   ]
  },
  {
   "cell_type": "code",
   "execution_count": 34,
   "id": "dc2afed9",
   "metadata": {},
   "outputs": [],
   "source": [
    "# Converting to array\n",
    "X_test, y_test = np.array(X_test), np.array(y_test)"
   ]
  },
  {
   "cell_type": "code",
   "execution_count": 35,
   "id": "862dd185",
   "metadata": {},
   "outputs": [
    {
     "name": "stdout",
     "output_type": "stream",
     "text": [
      "Shape of X_test before reshape : (129, 20)\n",
      "Shape of y_test before reshape : (129,)\n"
     ]
    }
   ],
   "source": [
    "print(\"Shape of X_test before reshape :\",X_test.shape)\n",
    "print(\"Shape of y_test before reshape :\",y_test.shape)"
   ]
  },
  {
   "cell_type": "code",
   "execution_count": 36,
   "id": "71647c8e",
   "metadata": {},
   "outputs": [],
   "source": [
    "#reshape\n",
    "X_test = np.reshape(X_test, (X_test.shape[0],X_test.shape[1],1))  # reshape to 3D array\n",
    "y_test = np.reshape(y_test, (-1,1))  # reshape to 2D array"
   ]
  },
  {
   "cell_type": "code",
   "execution_count": 37,
   "id": "12546280",
   "metadata": {},
   "outputs": [
    {
     "name": "stdout",
     "output_type": "stream",
     "text": [
      "Shape of X_test after reshape : (129, 20, 1)\n",
      "Shape of y_test after reshape : (129, 1)\n"
     ]
    }
   ],
   "source": [
    "print(\"Shape of X_test after reshape :\",X_test.shape)\n",
    "print(\"Shape of y_test after reshape :\",y_test.shape)"
   ]
  },
  {
   "cell_type": "markdown",
   "id": "1766270e",
   "metadata": {},
   "source": [
    "## Creating LSTM Model"
   ]
  },
  {
   "cell_type": "code",
   "execution_count": 38,
   "id": "5fb92a44",
   "metadata": {},
   "outputs": [
    {
     "data": {
      "text/plain": [
       "0.2797603872222587"
      ]
     },
     "execution_count": 38,
     "metadata": {},
     "output_type": "execute_result"
    }
   ],
   "source": [
    "y_train.min()"
   ]
  },
  {
   "cell_type": "code",
   "execution_count": 39,
   "id": "71ccc544",
   "metadata": {},
   "outputs": [
    {
     "data": {
      "text/plain": [
       "(311, 20, 1)"
      ]
     },
     "execution_count": 39,
     "metadata": {},
     "output_type": "execute_result"
    }
   ],
   "source": [
    "X_train.shape"
   ]
  },
  {
   "cell_type": "code",
   "execution_count": 40,
   "id": "3bd40d43",
   "metadata": {},
   "outputs": [
    {
     "data": {
      "text/plain": [
       "(311, 1)"
      ]
     },
     "execution_count": 40,
     "metadata": {},
     "output_type": "execute_result"
    }
   ],
   "source": [
    "y_train.shape"
   ]
  },
  {
   "cell_type": "code",
   "execution_count": 41,
   "id": "bca2ed67",
   "metadata": {},
   "outputs": [
    {
     "name": "stdout",
     "output_type": "stream",
     "text": [
      "Epoch 1/200\n",
      "5/5 [==============================] - 1s 78ms/step - loss: 99.2819 - mae: 0.3658 - mape: 99.2819 - val_loss: 43.2358 - val_mae: 0.1805 - val_mape: 43.2358\n",
      "Epoch 2/200\n",
      "5/5 [==============================] - 0s 6ms/step - loss: 24.8322 - mae: 0.0945 - mape: 24.8322 - val_loss: 3.5709 - val_mae: 0.0148 - val_mape: 3.5709\n",
      "Epoch 3/200\n",
      "5/5 [==============================] - 0s 7ms/step - loss: 7.3270 - mae: 0.0272 - mape: 7.3270 - val_loss: 11.4330 - val_mae: 0.0483 - val_mape: 11.4330\n",
      "Epoch 4/200\n",
      "5/5 [==============================] - 0s 7ms/step - loss: 9.9155 - mae: 0.0375 - mape: 9.9155 - val_loss: 3.3893 - val_mae: 0.0137 - val_mape: 3.3893\n",
      "Epoch 5/200\n",
      "5/5 [==============================] - 0s 6ms/step - loss: 7.5930 - mae: 0.0280 - mape: 7.5930 - val_loss: 4.9403 - val_mae: 0.0212 - val_mape: 4.9403\n",
      "Epoch 6/200\n",
      "5/5 [==============================] - 0s 6ms/step - loss: 6.9245 - mae: 0.0261 - mape: 6.9245 - val_loss: 4.3559 - val_mae: 0.0174 - val_mape: 4.3559\n",
      "Epoch 7/200\n",
      "5/5 [==============================] - 0s 6ms/step - loss: 8.2514 - mae: 0.0297 - mape: 8.2514 - val_loss: 14.7800 - val_mae: 0.0622 - val_mape: 14.7800\n",
      "Epoch 8/200\n",
      "5/5 [==============================] - 0s 7ms/step - loss: 9.5440 - mae: 0.0362 - mape: 9.5440 - val_loss: 3.7243 - val_mae: 0.0158 - val_mape: 3.7243\n",
      "Epoch 9/200\n",
      "5/5 [==============================] - 0s 7ms/step - loss: 7.2331 - mae: 0.0269 - mape: 7.2331 - val_loss: 3.7051 - val_mae: 0.0148 - val_mape: 3.7051\n",
      "Epoch 10/200\n",
      "5/5 [==============================] - 0s 7ms/step - loss: 7.9015 - mae: 0.0286 - mape: 7.9015 - val_loss: 7.9305 - val_mae: 0.0337 - val_mape: 7.9305\n",
      "Epoch 11/200\n",
      "5/5 [==============================] - 0s 7ms/step - loss: 7.3844 - mae: 0.0276 - mape: 7.3844 - val_loss: 6.1794 - val_mae: 0.0264 - val_mape: 6.1794\n",
      "Epoch 12/200\n",
      "5/5 [==============================] - 0s 6ms/step - loss: 8.6297 - mae: 0.0320 - mape: 8.6297 - val_loss: 4.0931 - val_mae: 0.0164 - val_mape: 4.0931\n",
      "Epoch 13/200\n",
      "5/5 [==============================] - 0s 6ms/step - loss: 6.9551 - mae: 0.0249 - mape: 6.9551 - val_loss: 5.8234 - val_mae: 0.0249 - val_mape: 5.8234\n",
      "Epoch 14/200\n",
      "5/5 [==============================] - 0s 7ms/step - loss: 6.6031 - mae: 0.0247 - mape: 6.6031 - val_loss: 5.3537 - val_mae: 0.0230 - val_mape: 5.3537\n",
      "Epoch 15/200\n",
      "5/5 [==============================] - 0s 7ms/step - loss: 7.5320 - mae: 0.0280 - mape: 7.5320 - val_loss: 9.0751 - val_mae: 0.0370 - val_mape: 9.0751\n",
      "Epoch 16/200\n",
      "5/5 [==============================] - 0s 6ms/step - loss: 8.8874 - mae: 0.0315 - mape: 8.8874 - val_loss: 3.0379 - val_mae: 0.0127 - val_mape: 3.0379\n",
      "Epoch 17/200\n",
      "5/5 [==============================] - 0s 6ms/step - loss: 5.6529 - mae: 0.0207 - mape: 5.6529 - val_loss: 3.9723 - val_mae: 0.0171 - val_mape: 3.9723\n",
      "Epoch 18/200\n",
      "5/5 [==============================] - 0s 6ms/step - loss: 7.0599 - mae: 0.0257 - mape: 7.0599 - val_loss: 11.3140 - val_mae: 0.0463 - val_mape: 11.3140\n",
      "Epoch 19/200\n",
      "5/5 [==============================] - 0s 6ms/step - loss: 8.5118 - mae: 0.0305 - mape: 8.5118 - val_loss: 5.0296 - val_mae: 0.0216 - val_mape: 5.0296\n",
      "Epoch 20/200\n",
      "5/5 [==============================] - 0s 6ms/step - loss: 6.6687 - mae: 0.0249 - mape: 6.6687 - val_loss: 6.6038 - val_mae: 0.0268 - val_mape: 6.6038\n",
      "Epoch 21/200\n",
      "5/5 [==============================] - 0s 6ms/step - loss: 7.7681 - mae: 0.0278 - mape: 7.7681 - val_loss: 3.3998 - val_mae: 0.0136 - val_mape: 3.3998\n",
      "Epoch 22/200\n",
      "5/5 [==============================] - 0s 6ms/step - loss: 5.9529 - mae: 0.0217 - mape: 5.9529 - val_loss: 9.3622 - val_mae: 0.0395 - val_mape: 9.3622\n",
      "Epoch 23/200\n",
      "5/5 [==============================] - 0s 6ms/step - loss: 8.6123 - mae: 0.0326 - mape: 8.6123 - val_loss: 3.0046 - val_mae: 0.0121 - val_mape: 3.0046\n",
      "Epoch 24/200\n",
      "5/5 [==============================] - 0s 6ms/step - loss: 5.7530 - mae: 0.0209 - mape: 5.7530 - val_loss: 7.6295 - val_mae: 0.0323 - val_mape: 7.6295\n",
      "Epoch 25/200\n",
      "5/5 [==============================] - 0s 6ms/step - loss: 7.2621 - mae: 0.0268 - mape: 7.2621 - val_loss: 6.6026 - val_mae: 0.0268 - val_mape: 6.6026\n",
      "Epoch 26/200\n",
      "5/5 [==============================] - 0s 6ms/step - loss: 6.4087 - mae: 0.0229 - mape: 6.4087 - val_loss: 2.9417 - val_mae: 0.0125 - val_mape: 2.9417\n",
      "Epoch 27/200\n",
      "5/5 [==============================] - 0s 6ms/step - loss: 5.8319 - mae: 0.0214 - mape: 5.8319 - val_loss: 7.5288 - val_mae: 0.0307 - val_mape: 7.5288\n",
      "Epoch 28/200\n",
      "5/5 [==============================] - 0s 6ms/step - loss: 7.1620 - mae: 0.0256 - mape: 7.1620 - val_loss: 3.0563 - val_mae: 0.0130 - val_mape: 3.0563\n",
      "Epoch 29/200\n",
      "5/5 [==============================] - 0s 6ms/step - loss: 5.6053 - mae: 0.0206 - mape: 5.6053 - val_loss: 7.7563 - val_mae: 0.0316 - val_mape: 7.7563\n",
      "Epoch 30/200\n",
      "5/5 [==============================] - 0s 6ms/step - loss: 7.0879 - mae: 0.0253 - mape: 7.0879 - val_loss: 3.5521 - val_mae: 0.0152 - val_mape: 3.5521\n",
      "Epoch 31/200\n",
      "5/5 [==============================] - 0s 6ms/step - loss: 5.6518 - mae: 0.0213 - mape: 5.6518 - val_loss: 2.4846 - val_mae: 0.0103 - val_mape: 2.4846\n",
      "Epoch 32/200\n",
      "5/5 [==============================] - 0s 7ms/step - loss: 6.6290 - mae: 0.0244 - mape: 6.6290 - val_loss: 4.7013 - val_mae: 0.0190 - val_mape: 4.7013\n",
      "Epoch 33/200\n",
      "5/5 [==============================] - 0s 6ms/step - loss: 5.1738 - mae: 0.0185 - mape: 5.1738 - val_loss: 3.0463 - val_mae: 0.0130 - val_mape: 3.0463\n",
      "Epoch 34/200\n",
      "5/5 [==============================] - 0s 6ms/step - loss: 5.1249 - mae: 0.0190 - mape: 5.1249 - val_loss: 7.1948 - val_mae: 0.0305 - val_mape: 7.1948\n",
      "Epoch 35/200\n",
      "5/5 [==============================] - 0s 6ms/step - loss: 7.3666 - mae: 0.0278 - mape: 7.3666 - val_loss: 5.5118 - val_mae: 0.0223 - val_mape: 5.5118\n",
      "Epoch 36/200\n",
      "5/5 [==============================] - 0s 6ms/step - loss: 5.5468 - mae: 0.0198 - mape: 5.5468 - val_loss: 3.8996 - val_mae: 0.0167 - val_mape: 3.8996\n",
      "Epoch 37/200\n",
      "5/5 [==============================] - 0s 6ms/step - loss: 6.5121 - mae: 0.0242 - mape: 6.5121 - val_loss: 5.2071 - val_mae: 0.0211 - val_mape: 5.2071\n",
      "Epoch 38/200\n",
      "5/5 [==============================] - 0s 6ms/step - loss: 5.8372 - mae: 0.0212 - mape: 5.8372 - val_loss: 2.5511 - val_mae: 0.0108 - val_mape: 2.5511\n",
      "Epoch 39/200\n",
      "5/5 [==============================] - 0s 6ms/step - loss: 5.0762 - mae: 0.0187 - mape: 5.0762 - val_loss: 7.3152 - val_mae: 0.0309 - val_mape: 7.3152\n",
      "Epoch 40/200\n",
      "5/5 [==============================] - 0s 6ms/step - loss: 7.5293 - mae: 0.0278 - mape: 7.5293 - val_loss: 5.6392 - val_mae: 0.0229 - val_mape: 5.6392\n",
      "Epoch 41/200\n",
      "5/5 [==============================] - 0s 6ms/step - loss: 4.7951 - mae: 0.0171 - mape: 4.7951 - val_loss: 2.6477 - val_mae: 0.0107 - val_mape: 2.6477\n",
      "Epoch 42/200\n",
      "5/5 [==============================] - 0s 6ms/step - loss: 4.9476 - mae: 0.0180 - mape: 4.9476 - val_loss: 4.1623 - val_mae: 0.0168 - val_mape: 4.1623\n",
      "Epoch 43/200\n",
      "5/5 [==============================] - 0s 6ms/step - loss: 5.0515 - mae: 0.0184 - mape: 5.0515 - val_loss: 4.8373 - val_mae: 0.0206 - val_mape: 4.8373\n",
      "Epoch 44/200\n",
      "5/5 [==============================] - 0s 6ms/step - loss: 7.3860 - mae: 0.0277 - mape: 7.3860 - val_loss: 2.5581 - val_mae: 0.0103 - val_mape: 2.5581\n",
      "Epoch 45/200\n",
      "5/5 [==============================] - 0s 6ms/step - loss: 4.3188 - mae: 0.0156 - mape: 4.3188 - val_loss: 2.4820 - val_mae: 0.0105 - val_mape: 2.4820\n",
      "Epoch 46/200\n",
      "5/5 [==============================] - 0s 6ms/step - loss: 6.2193 - mae: 0.0228 - mape: 6.2193 - val_loss: 8.0727 - val_mae: 0.0330 - val_mape: 8.0727\n",
      "Epoch 47/200\n",
      "5/5 [==============================] - 0s 6ms/step - loss: 6.3021 - mae: 0.0226 - mape: 6.3021 - val_loss: 3.9787 - val_mae: 0.0170 - val_mape: 3.9787\n",
      "Epoch 48/200\n",
      "5/5 [==============================] - 0s 6ms/step - loss: 6.1046 - mae: 0.0226 - mape: 6.1046 - val_loss: 3.8614 - val_mae: 0.0156 - val_mape: 3.8614\n",
      "Epoch 49/200\n",
      "5/5 [==============================] - 0s 6ms/step - loss: 4.5803 - mae: 0.0164 - mape: 4.5803 - val_loss: 2.5958 - val_mae: 0.0111 - val_mape: 2.5958\n",
      "Epoch 50/200\n",
      "5/5 [==============================] - 0s 6ms/step - loss: 6.0564 - mae: 0.0223 - mape: 6.0564 - val_loss: 4.9177 - val_mae: 0.0199 - val_mape: 4.9177\n"
     ]
    },
    {
     "name": "stdout",
     "output_type": "stream",
     "text": [
      "Epoch 51/200\n",
      "5/5 [==============================] - 0s 6ms/step - loss: 4.5688 - mae: 0.0164 - mape: 4.5688 - val_loss: 5.3964 - val_mae: 0.0229 - val_mape: 5.3964\n",
      "Epoch 52/200\n",
      "5/5 [==============================] - 0s 6ms/step - loss: 6.4328 - mae: 0.0235 - mape: 6.4328 - val_loss: 6.2666 - val_mae: 0.0256 - val_mape: 6.2666\n",
      "Epoch 53/200\n",
      "5/5 [==============================] - 0s 6ms/step - loss: 4.9141 - mae: 0.0176 - mape: 4.9141 - val_loss: 2.8766 - val_mae: 0.0123 - val_mape: 2.8766\n",
      "Epoch 54/200\n",
      "5/5 [==============================] - 0s 6ms/step - loss: 6.2048 - mae: 0.0229 - mape: 6.2048 - val_loss: 5.6544 - val_mae: 0.0230 - val_mape: 5.6544\n",
      "Epoch 55/200\n",
      "5/5 [==============================] - 0s 6ms/step - loss: 4.9429 - mae: 0.0178 - mape: 4.9429 - val_loss: 2.1651 - val_mae: 0.0091 - val_mape: 2.1651\n",
      "Epoch 56/200\n",
      "5/5 [==============================] - 0s 6ms/step - loss: 4.8741 - mae: 0.0181 - mape: 4.8741 - val_loss: 7.4233 - val_mae: 0.0304 - val_mape: 7.4233\n",
      "Epoch 57/200\n",
      "5/5 [==============================] - 0s 6ms/step - loss: 5.9288 - mae: 0.0216 - mape: 5.9288 - val_loss: 2.6139 - val_mae: 0.0112 - val_mape: 2.6139\n",
      "Epoch 58/200\n",
      "5/5 [==============================] - 0s 6ms/step - loss: 4.3966 - mae: 0.0164 - mape: 4.3966 - val_loss: 2.3228 - val_mae: 0.0099 - val_mape: 2.3228\n",
      "Epoch 59/200\n",
      "5/5 [==============================] - 0s 6ms/step - loss: 5.7111 - mae: 0.0213 - mape: 5.7111 - val_loss: 7.0887 - val_mae: 0.0290 - val_mape: 7.0887\n",
      "Epoch 60/200\n",
      "5/5 [==============================] - 0s 6ms/step - loss: 5.4322 - mae: 0.0195 - mape: 5.4322 - val_loss: 2.5845 - val_mae: 0.0111 - val_mape: 2.5845\n",
      "Epoch 61/200\n",
      "5/5 [==============================] - 0s 6ms/step - loss: 4.9035 - mae: 0.0183 - mape: 4.9035 - val_loss: 2.4412 - val_mae: 0.0099 - val_mape: 2.4412\n",
      "Epoch 62/200\n",
      "5/5 [==============================] - 0s 6ms/step - loss: 3.7873 - mae: 0.0138 - mape: 3.7873 - val_loss: 2.9930 - val_mae: 0.0121 - val_mape: 2.9930\n",
      "Epoch 63/200\n",
      "5/5 [==============================] - 0s 6ms/step - loss: 5.2380 - mae: 0.0191 - mape: 5.2380 - val_loss: 2.1560 - val_mae: 0.0092 - val_mape: 2.1560\n",
      "Epoch 64/200\n",
      "5/5 [==============================] - 0s 6ms/step - loss: 5.2398 - mae: 0.0194 - mape: 5.2398 - val_loss: 5.9782 - val_mae: 0.0244 - val_mape: 5.9782\n",
      "Epoch 65/200\n",
      "5/5 [==============================] - 0s 6ms/step - loss: 4.2693 - mae: 0.0154 - mape: 4.2693 - val_loss: 2.9285 - val_mae: 0.0125 - val_mape: 2.9285\n",
      "Epoch 66/200\n",
      "5/5 [==============================] - 0s 6ms/step - loss: 5.0166 - mae: 0.0186 - mape: 5.0166 - val_loss: 5.6322 - val_mae: 0.0230 - val_mape: 5.6322\n",
      "Epoch 67/200\n",
      "5/5 [==============================] - 0s 6ms/step - loss: 5.2622 - mae: 0.0191 - mape: 5.2622 - val_loss: 2.7117 - val_mae: 0.0109 - val_mape: 2.7117\n",
      "Epoch 68/200\n",
      "5/5 [==============================] - 0s 6ms/step - loss: 3.6306 - mae: 0.0131 - mape: 3.6306 - val_loss: 1.9728 - val_mae: 0.0083 - val_mape: 1.9728\n",
      "Epoch 69/200\n",
      "5/5 [==============================] - 0s 6ms/step - loss: 4.7582 - mae: 0.0177 - mape: 4.7582 - val_loss: 7.0217 - val_mae: 0.0288 - val_mape: 7.0217\n",
      "Epoch 70/200\n",
      "5/5 [==============================] - 0s 6ms/step - loss: 4.8600 - mae: 0.0175 - mape: 4.8600 - val_loss: 2.7610 - val_mae: 0.0118 - val_mape: 2.7610\n",
      "Epoch 71/200\n",
      "5/5 [==============================] - 0s 5ms/step - loss: 4.1892 - mae: 0.0155 - mape: 4.1892 - val_loss: 3.7445 - val_mae: 0.0152 - val_mape: 3.7445\n",
      "Epoch 72/200\n",
      "5/5 [==============================] - 0s 6ms/step - loss: 3.3802 - mae: 0.0122 - mape: 3.3802 - val_loss: 5.8748 - val_mae: 0.0240 - val_mape: 5.8748\n",
      "Epoch 73/200\n",
      "5/5 [==============================] - 0s 6ms/step - loss: 5.7400 - mae: 0.0208 - mape: 5.7400 - val_loss: 1.9158 - val_mae: 0.0079 - val_mape: 1.9158\n",
      "Epoch 74/200\n",
      "5/5 [==============================] - 0s 6ms/step - loss: 4.0686 - mae: 0.0149 - mape: 4.0686 - val_loss: 7.4909 - val_mae: 0.0308 - val_mape: 7.4909\n",
      "Epoch 75/200\n",
      "5/5 [==============================] - 0s 6ms/step - loss: 5.2435 - mae: 0.0187 - mape: 5.2435 - val_loss: 1.8907 - val_mae: 0.0079 - val_mape: 1.8907\n",
      "Epoch 76/200\n",
      "5/5 [==============================] - 0s 6ms/step - loss: 4.0000 - mae: 0.0150 - mape: 4.0000 - val_loss: 7.1348 - val_mae: 0.0293 - val_mape: 7.1348\n",
      "Epoch 77/200\n",
      "5/5 [==============================] - 0s 6ms/step - loss: 4.9881 - mae: 0.0178 - mape: 4.9881 - val_loss: 2.3739 - val_mae: 0.0101 - val_mape: 2.3739\n",
      "Epoch 78/200\n",
      "5/5 [==============================] - 0s 6ms/step - loss: 4.4301 - mae: 0.0165 - mape: 4.4301 - val_loss: 7.9095 - val_mae: 0.0325 - val_mape: 7.9095\n",
      "Epoch 79/200\n",
      "5/5 [==============================] - 0s 5ms/step - loss: 4.7148 - mae: 0.0170 - mape: 4.7148 - val_loss: 1.9621 - val_mae: 0.0083 - val_mape: 1.9621\n",
      "Epoch 80/200\n",
      "5/5 [==============================] - 0s 6ms/step - loss: 4.7535 - mae: 0.0178 - mape: 4.7535 - val_loss: 4.5037 - val_mae: 0.0183 - val_mape: 4.5037\n",
      "Epoch 81/200\n",
      "5/5 [==============================] - 0s 6ms/step - loss: 3.8854 - mae: 0.0142 - mape: 3.8854 - val_loss: 3.1205 - val_mae: 0.0133 - val_mape: 3.1205\n",
      "Epoch 82/200\n",
      "5/5 [==============================] - 0s 5ms/step - loss: 5.3505 - mae: 0.0198 - mape: 5.3505 - val_loss: 5.4847 - val_mae: 0.0224 - val_mape: 5.4847\n",
      "Epoch 83/200\n",
      "5/5 [==============================] - 0s 6ms/step - loss: 3.9405 - mae: 0.0144 - mape: 3.9405 - val_loss: 2.8827 - val_mae: 0.0123 - val_mape: 2.8827\n",
      "Epoch 84/200\n",
      "5/5 [==============================] - 0s 6ms/step - loss: 5.4632 - mae: 0.0201 - mape: 5.4632 - val_loss: 6.3579 - val_mae: 0.0261 - val_mape: 6.3579\n",
      "Epoch 85/200\n",
      "5/5 [==============================] - 0s 6ms/step - loss: 4.1566 - mae: 0.0150 - mape: 4.1566 - val_loss: 1.9493 - val_mae: 0.0082 - val_mape: 1.9493\n",
      "Epoch 86/200\n",
      "5/5 [==============================] - 0s 6ms/step - loss: 4.3659 - mae: 0.0162 - mape: 4.3659 - val_loss: 5.4340 - val_mae: 0.0222 - val_mape: 5.4340\n",
      "Epoch 87/200\n",
      "5/5 [==============================] - 0s 6ms/step - loss: 4.1919 - mae: 0.0150 - mape: 4.1919 - val_loss: 1.8646 - val_mae: 0.0078 - val_mape: 1.8646\n",
      "Epoch 88/200\n",
      "5/5 [==============================] - 0s 6ms/step - loss: 4.1713 - mae: 0.0154 - mape: 4.1713 - val_loss: 7.4489 - val_mae: 0.0306 - val_mape: 7.4489\n",
      "Epoch 89/200\n",
      "5/5 [==============================] - 0s 6ms/step - loss: 5.1289 - mae: 0.0187 - mape: 5.1289 - val_loss: 2.7176 - val_mae: 0.0116 - val_mape: 2.7176\n",
      "Epoch 90/200\n",
      "5/5 [==============================] - 0s 6ms/step - loss: 4.7997 - mae: 0.0176 - mape: 4.7997 - val_loss: 3.8282 - val_mae: 0.0155 - val_mape: 3.8282\n",
      "Epoch 91/200\n",
      "5/5 [==============================] - 0s 7ms/step - loss: 3.8857 - mae: 0.0140 - mape: 3.8857 - val_loss: 2.5036 - val_mae: 0.0107 - val_mape: 2.5036\n",
      "Epoch 92/200\n",
      "5/5 [==============================] - 0s 6ms/step - loss: 4.9249 - mae: 0.0183 - mape: 4.9249 - val_loss: 2.6293 - val_mae: 0.0106 - val_mape: 2.6293\n",
      "Epoch 93/200\n",
      "5/5 [==============================] - 0s 6ms/step - loss: 3.2467 - mae: 0.0116 - mape: 3.2467 - val_loss: 2.0557 - val_mae: 0.0084 - val_mape: 2.0557\n",
      "Epoch 94/200\n",
      "5/5 [==============================] - 0s 6ms/step - loss: 4.2897 - mae: 0.0157 - mape: 4.2897 - val_loss: 5.9056 - val_mae: 0.0242 - val_mape: 5.9056\n",
      "Epoch 95/200\n",
      "5/5 [==============================] - 0s 6ms/step - loss: 4.6935 - mae: 0.0170 - mape: 4.6935 - val_loss: 2.7007 - val_mae: 0.0115 - val_mape: 2.7007\n",
      "Epoch 96/200\n",
      "5/5 [==============================] - 0s 6ms/step - loss: 4.4397 - mae: 0.0162 - mape: 4.4397 - val_loss: 5.0077 - val_mae: 0.0205 - val_mape: 5.0077\n",
      "Epoch 97/200\n",
      "5/5 [==============================] - 0s 6ms/step - loss: 3.6161 - mae: 0.0131 - mape: 3.6161 - val_loss: 2.9145 - val_mae: 0.0124 - val_mape: 2.9145\n",
      "Epoch 98/200\n",
      "5/5 [==============================] - 0s 6ms/step - loss: 5.1004 - mae: 0.0189 - mape: 5.1004 - val_loss: 6.0426 - val_mae: 0.0248 - val_mape: 6.0426\n",
      "Epoch 99/200\n",
      "5/5 [==============================] - 0s 6ms/step - loss: 4.4811 - mae: 0.0160 - mape: 4.4811 - val_loss: 1.9055 - val_mae: 0.0078 - val_mape: 1.9055\n",
      "Epoch 100/200\n",
      "5/5 [==============================] - 0s 6ms/step - loss: 3.7595 - mae: 0.0139 - mape: 3.7595 - val_loss: 3.4706 - val_mae: 0.0148 - val_mape: 3.4706\n"
     ]
    },
    {
     "name": "stdout",
     "output_type": "stream",
     "text": [
      "Epoch 101/200\n",
      "5/5 [==============================] - 0s 6ms/step - loss: 5.1615 - mae: 0.0191 - mape: 5.1615 - val_loss: 6.2795 - val_mae: 0.0258 - val_mape: 6.2795\n",
      "Epoch 102/200\n",
      "5/5 [==============================] - 0s 6ms/step - loss: 4.4236 - mae: 0.0159 - mape: 4.4236 - val_loss: 1.7917 - val_mae: 0.0075 - val_mape: 1.7917\n",
      "Epoch 103/200\n",
      "5/5 [==============================] - 0s 6ms/step - loss: 3.8875 - mae: 0.0143 - mape: 3.8875 - val_loss: 7.0975 - val_mae: 0.0292 - val_mape: 7.0975\n",
      "Epoch 104/200\n",
      "5/5 [==============================] - 0s 6ms/step - loss: 4.5749 - mae: 0.0162 - mape: 4.5749 - val_loss: 2.2891 - val_mae: 0.0093 - val_mape: 2.2891\n",
      "Epoch 105/200\n",
      "5/5 [==============================] - 0s 6ms/step - loss: 3.5129 - mae: 0.0128 - mape: 3.5129 - val_loss: 5.9232 - val_mae: 0.0243 - val_mape: 5.9232\n",
      "Epoch 106/200\n",
      "5/5 [==============================] - 0s 6ms/step - loss: 4.9258 - mae: 0.0174 - mape: 4.9258 - val_loss: 1.9360 - val_mae: 0.0082 - val_mape: 1.9360\n",
      "Epoch 107/200\n",
      "5/5 [==============================] - 0s 6ms/step - loss: 3.6795 - mae: 0.0137 - mape: 3.6795 - val_loss: 1.9882 - val_mae: 0.0081 - val_mape: 1.9882\n",
      "Epoch 108/200\n",
      "5/5 [==============================] - 0s 6ms/step - loss: 2.9655 - mae: 0.0109 - mape: 2.9655 - val_loss: 1.8587 - val_mae: 0.0076 - val_mape: 1.8587\n",
      "Epoch 109/200\n",
      "5/5 [==============================] - 0s 6ms/step - loss: 4.2310 - mae: 0.0156 - mape: 4.2310 - val_loss: 6.6483 - val_mae: 0.0273 - val_mape: 6.6483\n",
      "Epoch 110/200\n",
      "5/5 [==============================] - 0s 6ms/step - loss: 5.0799 - mae: 0.0184 - mape: 5.0799 - val_loss: 2.5721 - val_mae: 0.0110 - val_mape: 2.5721\n",
      "Epoch 111/200\n",
      "5/5 [==============================] - 0s 6ms/step - loss: 4.9883 - mae: 0.0186 - mape: 4.9883 - val_loss: 4.9915 - val_mae: 0.0204 - val_mape: 4.9915\n",
      "Epoch 112/200\n",
      "5/5 [==============================] - 0s 6ms/step - loss: 4.1394 - mae: 0.0149 - mape: 4.1394 - val_loss: 1.8843 - val_mae: 0.0080 - val_mape: 1.8843\n",
      "Epoch 113/200\n",
      "5/5 [==============================] - 0s 5ms/step - loss: 4.4386 - mae: 0.0163 - mape: 4.4386 - val_loss: 5.3175 - val_mae: 0.0218 - val_mape: 5.3175\n",
      "Epoch 114/200\n",
      "5/5 [==============================] - 0s 5ms/step - loss: 3.5016 - mae: 0.0125 - mape: 3.5016 - val_loss: 2.5979 - val_mae: 0.0111 - val_mape: 2.5979\n",
      "Epoch 115/200\n",
      "5/5 [==============================] - 0s 6ms/step - loss: 4.7814 - mae: 0.0177 - mape: 4.7814 - val_loss: 4.7154 - val_mae: 0.0193 - val_mape: 4.7154\n",
      "Epoch 116/200\n",
      "5/5 [==============================] - 0s 6ms/step - loss: 3.9638 - mae: 0.0142 - mape: 3.9638 - val_loss: 1.8799 - val_mae: 0.0080 - val_mape: 1.8799\n",
      "Epoch 117/200\n",
      "5/5 [==============================] - 0s 6ms/step - loss: 4.4593 - mae: 0.0165 - mape: 4.4593 - val_loss: 4.1358 - val_mae: 0.0169 - val_mape: 4.1358\n",
      "Epoch 118/200\n",
      "5/5 [==============================] - 0s 6ms/step - loss: 4.1386 - mae: 0.0150 - mape: 4.1386 - val_loss: 1.7895 - val_mae: 0.0074 - val_mape: 1.7895\n",
      "Epoch 119/200\n",
      "5/5 [==============================] - 0s 6ms/step - loss: 3.3803 - mae: 0.0124 - mape: 3.3803 - val_loss: 1.9384 - val_mae: 0.0082 - val_mape: 1.9384\n",
      "Epoch 120/200\n",
      "5/5 [==============================] - 0s 5ms/step - loss: 3.9957 - mae: 0.0147 - mape: 3.9957 - val_loss: 5.8699 - val_mae: 0.0241 - val_mape: 5.8699\n",
      "Epoch 121/200\n",
      "5/5 [==============================] - 0s 6ms/step - loss: 4.9803 - mae: 0.0179 - mape: 4.9803 - val_loss: 1.7453 - val_mae: 0.0072 - val_mape: 1.7453\n",
      "Epoch 122/200\n",
      "5/5 [==============================] - 0s 6ms/step - loss: 2.9148 - mae: 0.0107 - mape: 2.9148 - val_loss: 5.0637 - val_mae: 0.0208 - val_mape: 5.0637\n",
      "Epoch 123/200\n",
      "5/5 [==============================] - 0s 5ms/step - loss: 4.9427 - mae: 0.0179 - mape: 4.9427 - val_loss: 2.8236 - val_mae: 0.0120 - val_mape: 2.8236\n",
      "Epoch 124/200\n",
      "5/5 [==============================] - 0s 6ms/step - loss: 4.5378 - mae: 0.0167 - mape: 4.5378 - val_loss: 3.1197 - val_mae: 0.0127 - val_mape: 3.1197\n",
      "Epoch 125/200\n",
      "5/5 [==============================] - 0s 6ms/step - loss: 3.3856 - mae: 0.0122 - mape: 3.3856 - val_loss: 3.4164 - val_mae: 0.0145 - val_mape: 3.4164\n",
      "Epoch 126/200\n",
      "5/5 [==============================] - 0s 6ms/step - loss: 4.8825 - mae: 0.0179 - mape: 4.8825 - val_loss: 4.9419 - val_mae: 0.0202 - val_mape: 4.9419\n",
      "Epoch 127/200\n",
      "5/5 [==============================] - 0s 6ms/step - loss: 4.5180 - mae: 0.0164 - mape: 4.5180 - val_loss: 2.2436 - val_mae: 0.0096 - val_mape: 2.2436\n",
      "Epoch 128/200\n",
      "5/5 [==============================] - 0s 6ms/step - loss: 4.2435 - mae: 0.0157 - mape: 4.2435 - val_loss: 5.8665 - val_mae: 0.0241 - val_mape: 5.8665\n",
      "Epoch 129/200\n",
      "5/5 [==============================] - 0s 6ms/step - loss: 4.0342 - mae: 0.0145 - mape: 4.0342 - val_loss: 2.7579 - val_mae: 0.0117 - val_mape: 2.7579\n",
      "Epoch 130/200\n",
      "5/5 [==============================] - 0s 6ms/step - loss: 4.4381 - mae: 0.0164 - mape: 4.4381 - val_loss: 5.2976 - val_mae: 0.0217 - val_mape: 5.2976\n",
      "Epoch 131/200\n",
      "5/5 [==============================] - 0s 7ms/step - loss: 4.0624 - mae: 0.0149 - mape: 4.0624 - val_loss: 1.8847 - val_mae: 0.0080 - val_mape: 1.8847\n",
      "Epoch 132/200\n",
      "5/5 [==============================] - 0s 6ms/step - loss: 3.7766 - mae: 0.0141 - mape: 3.7766 - val_loss: 5.6809 - val_mae: 0.0233 - val_mape: 5.6809\n",
      "Epoch 133/200\n",
      "5/5 [==============================] - 0s 6ms/step - loss: 3.6721 - mae: 0.0133 - mape: 3.6721 - val_loss: 1.7065 - val_mae: 0.0071 - val_mape: 1.7065\n",
      "Epoch 134/200\n",
      "5/5 [==============================] - 0s 6ms/step - loss: 3.6365 - mae: 0.0132 - mape: 3.6365 - val_loss: 6.5100 - val_mae: 0.0268 - val_mape: 6.5100\n",
      "Epoch 135/200\n",
      "5/5 [==============================] - 0s 6ms/step - loss: 4.6711 - mae: 0.0169 - mape: 4.6711 - val_loss: 2.8993 - val_mae: 0.0123 - val_mape: 2.8993\n",
      "Epoch 136/200\n",
      "5/5 [==============================] - 0s 6ms/step - loss: 3.7544 - mae: 0.0138 - mape: 3.7544 - val_loss: 2.5813 - val_mae: 0.0105 - val_mape: 2.5813\n",
      "Epoch 137/200\n",
      "5/5 [==============================] - 0s 6ms/step - loss: 3.5656 - mae: 0.0128 - mape: 3.5656 - val_loss: 2.8367 - val_mae: 0.0120 - val_mape: 2.8367\n",
      "Epoch 138/200\n",
      "5/5 [==============================] - 0s 6ms/step - loss: 4.2702 - mae: 0.0156 - mape: 4.2702 - val_loss: 5.8774 - val_mae: 0.0242 - val_mape: 5.8774\n",
      "Epoch 139/200\n",
      "5/5 [==============================] - 0s 6ms/step - loss: 3.8781 - mae: 0.0139 - mape: 3.8781 - val_loss: 1.9328 - val_mae: 0.0082 - val_mape: 1.9328\n",
      "Epoch 140/200\n",
      "5/5 [==============================] - 0s 6ms/step - loss: 4.0270 - mae: 0.0148 - mape: 4.0270 - val_loss: 5.4835 - val_mae: 0.0225 - val_mape: 5.4835\n",
      "Epoch 141/200\n",
      "5/5 [==============================] - 0s 6ms/step - loss: 4.2132 - mae: 0.0151 - mape: 4.2132 - val_loss: 1.7741 - val_mae: 0.0075 - val_mape: 1.7741\n",
      "Epoch 142/200\n",
      "5/5 [==============================] - 0s 6ms/step - loss: 3.3845 - mae: 0.0124 - mape: 3.3845 - val_loss: 4.9955 - val_mae: 0.0205 - val_mape: 4.9955\n",
      "Epoch 143/200\n",
      "5/5 [==============================] - 0s 6ms/step - loss: 4.1272 - mae: 0.0149 - mape: 4.1272 - val_loss: 1.7101 - val_mae: 0.0072 - val_mape: 1.7101\n",
      "Epoch 144/200\n",
      "5/5 [==============================] - 0s 6ms/step - loss: 3.3497 - mae: 0.0124 - mape: 3.3497 - val_loss: 4.1341 - val_mae: 0.0169 - val_mape: 4.1341\n",
      "Epoch 145/200\n",
      "5/5 [==============================] - 0s 6ms/step - loss: 3.3751 - mae: 0.0122 - mape: 3.3751 - val_loss: 2.8993 - val_mae: 0.0123 - val_mape: 2.8993\n",
      "Epoch 146/200\n",
      "5/5 [==============================] - 0s 6ms/step - loss: 4.2460 - mae: 0.0155 - mape: 4.2460 - val_loss: 3.6260 - val_mae: 0.0148 - val_mape: 3.6260\n",
      "Epoch 147/200\n",
      "5/5 [==============================] - 0s 6ms/step - loss: 3.7654 - mae: 0.0137 - mape: 3.7654 - val_loss: 2.1974 - val_mae: 0.0093 - val_mape: 2.1974\n",
      "Epoch 148/200\n",
      "5/5 [==============================] - 0s 6ms/step - loss: 3.9912 - mae: 0.0147 - mape: 3.9912 - val_loss: 5.1290 - val_mae: 0.0211 - val_mape: 5.1290\n",
      "Epoch 149/200\n",
      "5/5 [==============================] - 0s 6ms/step - loss: 3.7338 - mae: 0.0137 - mape: 3.7338 - val_loss: 1.9277 - val_mae: 0.0082 - val_mape: 1.9277\n",
      "Epoch 150/200\n",
      "5/5 [==============================] - 0s 6ms/step - loss: 3.7231 - mae: 0.0138 - mape: 3.7231 - val_loss: 3.5607 - val_mae: 0.0146 - val_mape: 3.5607\n"
     ]
    },
    {
     "name": "stdout",
     "output_type": "stream",
     "text": [
      "Epoch 151/200\n",
      "5/5 [==============================] - 0s 6ms/step - loss: 3.4146 - mae: 0.0124 - mape: 3.4146 - val_loss: 2.0139 - val_mae: 0.0086 - val_mape: 2.0139\n",
      "Epoch 152/200\n",
      "5/5 [==============================] - 0s 6ms/step - loss: 4.0186 - mae: 0.0149 - mape: 4.0186 - val_loss: 5.5825 - val_mae: 0.0230 - val_mape: 5.5825\n",
      "Epoch 153/200\n",
      "5/5 [==============================] - 0s 6ms/step - loss: 4.2477 - mae: 0.0155 - mape: 4.2477 - val_loss: 2.1384 - val_mae: 0.0087 - val_mape: 2.1384\n"
     ]
    }
   ],
   "source": [
    "from keras.layers import LSTM\n",
    "from keras.models import Sequential\n",
    "from tensorflow.keras.callbacks import EarlyStopping\n",
    "from keras.layers import Dense\n",
    "\n",
    "\n",
    "es = EarlyStopping(patience=20, restore_best_weights=True)\n",
    "model_lstm = Sequential()\n",
    "\n",
    "model_lstm.add(LSTM(20,return_sequences=False,input_shape = (X_train.shape[1],1))) #64 lstm neuron block\n",
    "#model_lstm.add(LSTM(64, return_sequences= False))\n",
    "model_lstm.add(Dense(32))\n",
    "model_lstm.add(Dense(1))\n",
    "\n",
    "model_lstm.compile(loss = \"mape\", optimizer = \"rmsprop\", metrics = [\"mae\", \"mape\"])\n",
    "history2 = model_lstm.fit(X_train, y_train, epochs = 200, batch_size = 64,validation_data = (X_val, y_val),callbacks=[es])"
   ]
  },
  {
   "cell_type": "code",
   "execution_count": 65,
   "id": "6eec916a",
   "metadata": {},
   "outputs": [
    {
     "name": "stdout",
     "output_type": "stream",
     "text": [
      "Epoch 1/400\n",
      "5/5 [==============================] - 1s 78ms/step - loss: 106.6658 - mae: 0.3925 - mape: 106.6658 - val_loss: 50.8681 - val_mae: 0.2122 - val_mape: 50.8681\n",
      "Epoch 2/400\n",
      "5/5 [==============================] - 0s 6ms/step - loss: 32.2160 - mae: 0.1212 - mape: 32.2160 - val_loss: 6.0146 - val_mae: 0.0258 - val_mape: 6.0146\n",
      "Epoch 3/400\n",
      "5/5 [==============================] - 0s 6ms/step - loss: 7.8443 - mae: 0.0294 - mape: 7.8443 - val_loss: 9.9092 - val_mae: 0.0420 - val_mape: 9.9092\n",
      "Epoch 4/400\n",
      "5/5 [==============================] - 0s 6ms/step - loss: 8.1052 - mae: 0.0305 - mape: 8.1052 - val_loss: 10.0432 - val_mae: 0.0426 - val_mape: 10.0432\n",
      "Epoch 5/400\n",
      "5/5 [==============================] - 0s 6ms/step - loss: 8.3478 - mae: 0.0317 - mape: 8.3478 - val_loss: 4.1160 - val_mae: 0.0165 - val_mape: 4.1160\n",
      "Epoch 6/400\n",
      "5/5 [==============================] - 0s 7ms/step - loss: 8.0738 - mae: 0.0295 - mape: 8.0738 - val_loss: 6.0520 - val_mae: 0.0259 - val_mape: 6.0520\n",
      "Epoch 7/400\n",
      "5/5 [==============================] - 0s 6ms/step - loss: 7.3604 - mae: 0.0276 - mape: 7.3604 - val_loss: 3.6956 - val_mae: 0.0156 - val_mape: 3.6956\n",
      "Epoch 8/400\n",
      "5/5 [==============================] - 0s 6ms/step - loss: 8.0753 - mae: 0.0292 - mape: 8.0753 - val_loss: 5.4677 - val_mae: 0.0220 - val_mape: 5.4677\n",
      "Epoch 9/400\n",
      "5/5 [==============================] - 0s 6ms/step - loss: 7.3740 - mae: 0.0267 - mape: 7.3740 - val_loss: 4.8311 - val_mae: 0.0208 - val_mape: 4.8311\n",
      "Epoch 10/400\n",
      "5/5 [==============================] - 0s 7ms/step - loss: 6.6285 - mae: 0.0248 - mape: 6.6285 - val_loss: 6.8922 - val_mae: 0.0279 - val_mape: 6.8922\n",
      "Epoch 11/400\n",
      "5/5 [==============================] - 0s 6ms/step - loss: 7.2640 - mae: 0.0258 - mape: 7.2640 - val_loss: 3.0825 - val_mae: 0.0129 - val_mape: 3.0825\n",
      "Epoch 12/400\n",
      "5/5 [==============================] - 0s 6ms/step - loss: 7.3501 - mae: 0.0268 - mape: 7.3501 - val_loss: 5.9511 - val_mae: 0.0240 - val_mape: 5.9511\n",
      "Epoch 13/400\n",
      "5/5 [==============================] - 0s 6ms/step - loss: 7.5056 - mae: 0.0266 - mape: 7.5056 - val_loss: 2.8364 - val_mae: 0.0117 - val_mape: 2.8364\n",
      "Epoch 14/400\n",
      "5/5 [==============================] - 0s 6ms/step - loss: 5.8685 - mae: 0.0214 - mape: 5.8685 - val_loss: 3.2434 - val_mae: 0.0130 - val_mape: 3.2434\n",
      "Epoch 15/400\n",
      "5/5 [==============================] - 0s 6ms/step - loss: 6.5015 - mae: 0.0237 - mape: 6.5015 - val_loss: 3.9801 - val_mae: 0.0171 - val_mape: 3.9801\n",
      "Epoch 16/400\n",
      "5/5 [==============================] - 0s 6ms/step - loss: 6.7912 - mae: 0.0252 - mape: 6.7912 - val_loss: 2.7025 - val_mae: 0.0111 - val_mape: 2.7025\n",
      "Epoch 17/400\n",
      "5/5 [==============================] - 0s 7ms/step - loss: 5.2472 - mae: 0.0191 - mape: 5.2472 - val_loss: 4.2477 - val_mae: 0.0182 - val_mape: 4.2477\n",
      "Epoch 18/400\n",
      "5/5 [==============================] - 0s 6ms/step - loss: 7.4384 - mae: 0.0278 - mape: 7.4384 - val_loss: 4.2374 - val_mae: 0.0170 - val_mape: 4.2374\n",
      "Epoch 19/400\n",
      "5/5 [==============================] - 0s 6ms/step - loss: 5.5814 - mae: 0.0200 - mape: 5.5814 - val_loss: 4.0344 - val_mae: 0.0173 - val_mape: 4.0344\n",
      "Epoch 20/400\n",
      "5/5 [==============================] - 0s 6ms/step - loss: 6.1694 - mae: 0.0225 - mape: 6.1694 - val_loss: 3.7513 - val_mae: 0.0151 - val_mape: 3.7513\n",
      "Epoch 21/400\n",
      "5/5 [==============================] - 0s 6ms/step - loss: 4.9901 - mae: 0.0180 - mape: 4.9901 - val_loss: 5.2862 - val_mae: 0.0214 - val_mape: 5.2862\n",
      "Epoch 22/400\n",
      "5/5 [==============================] - 0s 6ms/step - loss: 7.1932 - mae: 0.0261 - mape: 7.1932 - val_loss: 5.3738 - val_mae: 0.0229 - val_mape: 5.3738\n",
      "Epoch 23/400\n",
      "5/5 [==============================] - 0s 6ms/step - loss: 7.1728 - mae: 0.0268 - mape: 7.1728 - val_loss: 4.0539 - val_mae: 0.0163 - val_mape: 4.0539\n",
      "Epoch 24/400\n",
      "5/5 [==============================] - 0s 6ms/step - loss: 4.9686 - mae: 0.0178 - mape: 4.9686 - val_loss: 4.5208 - val_mae: 0.0182 - val_mape: 4.5208\n",
      "Epoch 25/400\n",
      "5/5 [==============================] - 0s 6ms/step - loss: 6.0282 - mae: 0.0216 - mape: 6.0282 - val_loss: 5.7891 - val_mae: 0.0246 - val_mape: 5.7891\n",
      "Epoch 26/400\n",
      "5/5 [==============================] - 0s 6ms/step - loss: 6.0318 - mae: 0.0223 - mape: 6.0318 - val_loss: 5.8724 - val_mae: 0.0239 - val_mape: 5.8724\n",
      "Epoch 27/400\n",
      "5/5 [==============================] - 0s 6ms/step - loss: 6.2096 - mae: 0.0221 - mape: 6.2096 - val_loss: 3.9251 - val_mae: 0.0168 - val_mape: 3.9251\n",
      "Epoch 28/400\n",
      "5/5 [==============================] - 0s 6ms/step - loss: 6.0110 - mae: 0.0224 - mape: 6.0110 - val_loss: 3.0968 - val_mae: 0.0125 - val_mape: 3.0968\n",
      "Epoch 29/400\n",
      "5/5 [==============================] - 0s 6ms/step - loss: 4.6080 - mae: 0.0168 - mape: 4.6080 - val_loss: 9.7705 - val_mae: 0.0401 - val_mape: 9.7705\n",
      "Epoch 30/400\n",
      "5/5 [==============================] - 0s 6ms/step - loss: 7.9973 - mae: 0.0288 - mape: 7.9973 - val_loss: 2.6810 - val_mae: 0.0115 - val_mape: 2.6810\n",
      "Epoch 31/400\n",
      "5/5 [==============================] - 0s 6ms/step - loss: 6.0841 - mae: 0.0223 - mape: 6.0841 - val_loss: 3.5271 - val_mae: 0.0142 - val_mape: 3.5271\n",
      "Epoch 32/400\n",
      "5/5 [==============================] - 0s 6ms/step - loss: 5.1378 - mae: 0.0185 - mape: 5.1378 - val_loss: 2.6824 - val_mae: 0.0115 - val_mape: 2.6824\n",
      "Epoch 33/400\n",
      "5/5 [==============================] - 0s 6ms/step - loss: 6.0265 - mae: 0.0222 - mape: 6.0265 - val_loss: 7.1203 - val_mae: 0.0291 - val_mape: 7.1203\n",
      "Epoch 34/400\n",
      "5/5 [==============================] - 0s 6ms/step - loss: 4.8662 - mae: 0.0177 - mape: 4.8662 - val_loss: 2.2608 - val_mae: 0.0096 - val_mape: 2.2608\n",
      "Epoch 35/400\n",
      "5/5 [==============================] - 0s 6ms/step - loss: 5.7952 - mae: 0.0217 - mape: 5.7952 - val_loss: 4.9561 - val_mae: 0.0201 - val_mape: 4.9561\n",
      "Epoch 36/400\n",
      "5/5 [==============================] - 0s 6ms/step - loss: 4.8731 - mae: 0.0174 - mape: 4.8731 - val_loss: 2.1357 - val_mae: 0.0089 - val_mape: 2.1357\n",
      "Epoch 37/400\n",
      "5/5 [==============================] - 0s 6ms/step - loss: 5.3777 - mae: 0.0199 - mape: 5.3777 - val_loss: 4.6321 - val_mae: 0.0188 - val_mape: 4.6321\n",
      "Epoch 38/400\n",
      "5/5 [==============================] - 0s 6ms/step - loss: 4.7949 - mae: 0.0172 - mape: 4.7949 - val_loss: 3.9014 - val_mae: 0.0167 - val_mape: 3.9014\n",
      "Epoch 39/400\n",
      "5/5 [==============================] - 0s 6ms/step - loss: 6.3329 - mae: 0.0236 - mape: 6.3329 - val_loss: 3.8514 - val_mae: 0.0156 - val_mape: 3.8514\n",
      "Epoch 40/400\n",
      "5/5 [==============================] - 0s 6ms/step - loss: 4.1262 - mae: 0.0150 - mape: 4.1262 - val_loss: 4.9049 - val_mae: 0.0208 - val_mape: 4.9049\n",
      "Epoch 41/400\n",
      "5/5 [==============================] - 0s 6ms/step - loss: 6.5138 - mae: 0.0240 - mape: 6.5138 - val_loss: 4.4685 - val_mae: 0.0181 - val_mape: 4.4685\n",
      "Epoch 42/400\n",
      "5/5 [==============================] - 0s 6ms/step - loss: 4.2691 - mae: 0.0156 - mape: 4.2691 - val_loss: 3.0567 - val_mae: 0.0131 - val_mape: 3.0567\n",
      "Epoch 43/400\n",
      "5/5 [==============================] - 0s 6ms/step - loss: 5.4082 - mae: 0.0199 - mape: 5.4082 - val_loss: 7.4999 - val_mae: 0.0307 - val_mape: 7.4999\n",
      "Epoch 44/400\n",
      "5/5 [==============================] - 0s 6ms/step - loss: 5.3798 - mae: 0.0194 - mape: 5.3798 - val_loss: 2.0346 - val_mae: 0.0086 - val_mape: 2.0346\n",
      "Epoch 45/400\n",
      "5/5 [==============================] - 0s 6ms/step - loss: 4.4903 - mae: 0.0165 - mape: 4.4903 - val_loss: 5.2022 - val_mae: 0.0212 - val_mape: 5.2022\n",
      "Epoch 46/400\n",
      "5/5 [==============================] - 0s 6ms/step - loss: 4.3148 - mae: 0.0155 - mape: 4.3148 - val_loss: 2.9019 - val_mae: 0.0124 - val_mape: 2.9019\n",
      "Epoch 47/400\n",
      "5/5 [==============================] - 0s 6ms/step - loss: 6.3359 - mae: 0.0234 - mape: 6.3359 - val_loss: 5.0743 - val_mae: 0.0207 - val_mape: 5.0743\n",
      "Epoch 48/400\n",
      "5/5 [==============================] - 0s 6ms/step - loss: 4.3310 - mae: 0.0155 - mape: 4.3310 - val_loss: 1.9576 - val_mae: 0.0083 - val_mape: 1.9576\n",
      "Epoch 49/400\n",
      "5/5 [==============================] - 0s 6ms/step - loss: 4.7209 - mae: 0.0174 - mape: 4.7209 - val_loss: 5.9375 - val_mae: 0.0243 - val_mape: 5.9375\n",
      "Epoch 50/400\n",
      "5/5 [==============================] - 0s 6ms/step - loss: 5.1959 - mae: 0.0186 - mape: 5.1959 - val_loss: 4.1401 - val_mae: 0.0176 - val_mape: 4.1401\n"
     ]
    },
    {
     "name": "stdout",
     "output_type": "stream",
     "text": [
      "Epoch 51/400\n",
      "5/5 [==============================] - 0s 6ms/step - loss: 5.6110 - mae: 0.0205 - mape: 5.6110 - val_loss: 3.8816 - val_mae: 0.0157 - val_mape: 3.8816\n",
      "Epoch 52/400\n",
      "5/5 [==============================] - 0s 6ms/step - loss: 3.5535 - mae: 0.0128 - mape: 3.5535 - val_loss: 4.2410 - val_mae: 0.0173 - val_mape: 4.2410\n",
      "Epoch 53/400\n",
      "5/5 [==============================] - 0s 6ms/step - loss: 4.8806 - mae: 0.0177 - mape: 4.8806 - val_loss: 2.1866 - val_mae: 0.0093 - val_mape: 2.1866\n",
      "Epoch 54/400\n",
      "5/5 [==============================] - 0s 6ms/step - loss: 4.8440 - mae: 0.0182 - mape: 4.8440 - val_loss: 5.9346 - val_mae: 0.0243 - val_mape: 5.9346\n",
      "Epoch 55/400\n",
      "5/5 [==============================] - 0s 6ms/step - loss: 4.4798 - mae: 0.0163 - mape: 4.4798 - val_loss: 3.2184 - val_mae: 0.0137 - val_mape: 3.2184\n",
      "Epoch 56/400\n",
      "5/5 [==============================] - 0s 6ms/step - loss: 5.1896 - mae: 0.0192 - mape: 5.1896 - val_loss: 5.7273 - val_mae: 0.0234 - val_mape: 5.7273\n",
      "Epoch 57/400\n",
      "5/5 [==============================] - 0s 6ms/step - loss: 4.0656 - mae: 0.0145 - mape: 4.0656 - val_loss: 4.6958 - val_mae: 0.0192 - val_mape: 4.6958\n",
      "Epoch 58/400\n",
      "5/5 [==============================] - 0s 6ms/step - loss: 5.3255 - mae: 0.0196 - mape: 5.3255 - val_loss: 2.3780 - val_mae: 0.0102 - val_mape: 2.3780\n",
      "Epoch 59/400\n",
      "5/5 [==============================] - 0s 6ms/step - loss: 4.5076 - mae: 0.0167 - mape: 4.5076 - val_loss: 3.7869 - val_mae: 0.0154 - val_mape: 3.7869\n",
      "Epoch 60/400\n",
      "5/5 [==============================] - 0s 6ms/step - loss: 3.9899 - mae: 0.0145 - mape: 3.9899 - val_loss: 2.2174 - val_mae: 0.0095 - val_mape: 2.2174\n",
      "Epoch 61/400\n",
      "5/5 [==============================] - 0s 6ms/step - loss: 4.4817 - mae: 0.0165 - mape: 4.4817 - val_loss: 4.8725 - val_mae: 0.0199 - val_mape: 4.8725\n",
      "Epoch 62/400\n",
      "5/5 [==============================] - 0s 6ms/step - loss: 3.6655 - mae: 0.0131 - mape: 3.6655 - val_loss: 6.6395 - val_mae: 0.0273 - val_mape: 6.6395\n",
      "Epoch 63/400\n",
      "5/5 [==============================] - 0s 6ms/step - loss: 5.4158 - mae: 0.0195 - mape: 5.4158 - val_loss: 2.5374 - val_mae: 0.0108 - val_mape: 2.5374\n",
      "Epoch 64/400\n",
      "5/5 [==============================] - 0s 6ms/step - loss: 3.9376 - mae: 0.0147 - mape: 3.9376 - val_loss: 6.1851 - val_mae: 0.0254 - val_mape: 6.1851\n",
      "Epoch 65/400\n",
      "5/5 [==============================] - 0s 6ms/step - loss: 5.4259 - mae: 0.0196 - mape: 5.4259 - val_loss: 1.7717 - val_mae: 0.0074 - val_mape: 1.7717\n",
      "Epoch 66/400\n",
      "5/5 [==============================] - 0s 6ms/step - loss: 3.3298 - mae: 0.0123 - mape: 3.3298 - val_loss: 7.0776 - val_mae: 0.0291 - val_mape: 7.0776\n",
      "Epoch 67/400\n",
      "5/5 [==============================] - 0s 6ms/step - loss: 4.9621 - mae: 0.0177 - mape: 4.9621 - val_loss: 3.6830 - val_mae: 0.0156 - val_mape: 3.6830\n",
      "Epoch 68/400\n",
      "5/5 [==============================] - 0s 6ms/step - loss: 4.5638 - mae: 0.0168 - mape: 4.5638 - val_loss: 5.7067 - val_mae: 0.0234 - val_mape: 5.7067\n",
      "Epoch 69/400\n",
      "5/5 [==============================] - 0s 6ms/step - loss: 4.6475 - mae: 0.0169 - mape: 4.6475 - val_loss: 2.1416 - val_mae: 0.0087 - val_mape: 2.1416\n",
      "Epoch 70/400\n",
      "5/5 [==============================] - 0s 6ms/step - loss: 3.4048 - mae: 0.0124 - mape: 3.4048 - val_loss: 7.0743 - val_mae: 0.0291 - val_mape: 7.0743\n",
      "Epoch 71/400\n",
      "5/5 [==============================] - 0s 6ms/step - loss: 5.5002 - mae: 0.0198 - mape: 5.5002 - val_loss: 3.1053 - val_mae: 0.0132 - val_mape: 3.1053\n",
      "Epoch 72/400\n",
      "5/5 [==============================] - 0s 6ms/step - loss: 4.0001 - mae: 0.0148 - mape: 4.0001 - val_loss: 1.7220 - val_mae: 0.0072 - val_mape: 1.7220\n",
      "Epoch 73/400\n",
      "5/5 [==============================] - 0s 6ms/step - loss: 4.1322 - mae: 0.0153 - mape: 4.1322 - val_loss: 6.4651 - val_mae: 0.0266 - val_mape: 6.4651\n",
      "Epoch 74/400\n",
      "5/5 [==============================] - 0s 6ms/step - loss: 4.4351 - mae: 0.0160 - mape: 4.4351 - val_loss: 2.1174 - val_mae: 0.0090 - val_mape: 2.1174\n",
      "Epoch 75/400\n",
      "5/5 [==============================] - 0s 6ms/step - loss: 4.1215 - mae: 0.0152 - mape: 4.1215 - val_loss: 4.6332 - val_mae: 0.0190 - val_mape: 4.6332\n",
      "Epoch 76/400\n",
      "5/5 [==============================] - 0s 6ms/step - loss: 4.2343 - mae: 0.0152 - mape: 4.2343 - val_loss: 1.7202 - val_mae: 0.0072 - val_mape: 1.7202\n",
      "Epoch 77/400\n",
      "5/5 [==============================] - 0s 6ms/step - loss: 3.0965 - mae: 0.0114 - mape: 3.0965 - val_loss: 3.6642 - val_mae: 0.0155 - val_mape: 3.6642\n",
      "Epoch 78/400\n",
      "5/5 [==============================] - 0s 6ms/step - loss: 5.3270 - mae: 0.0199 - mape: 5.3270 - val_loss: 5.2489 - val_mae: 0.0215 - val_mape: 5.2489\n",
      "Epoch 79/400\n",
      "5/5 [==============================] - 0s 6ms/step - loss: 4.1082 - mae: 0.0151 - mape: 4.1082 - val_loss: 1.7954 - val_mae: 0.0076 - val_mape: 1.7954\n",
      "Epoch 80/400\n",
      "5/5 [==============================] - 0s 6ms/step - loss: 4.0161 - mae: 0.0146 - mape: 4.0161 - val_loss: 5.9737 - val_mae: 0.0246 - val_mape: 5.9737\n",
      "Epoch 81/400\n",
      "5/5 [==============================] - 0s 6ms/step - loss: 4.1584 - mae: 0.0151 - mape: 4.1584 - val_loss: 1.7149 - val_mae: 0.0071 - val_mape: 1.7149\n",
      "Epoch 82/400\n",
      "5/5 [==============================] - 0s 6ms/step - loss: 3.6737 - mae: 0.0134 - mape: 3.6737 - val_loss: 5.2921 - val_mae: 0.0217 - val_mape: 5.2921\n",
      "Epoch 83/400\n",
      "5/5 [==============================] - 0s 6ms/step - loss: 4.5397 - mae: 0.0165 - mape: 4.5397 - val_loss: 1.7715 - val_mae: 0.0075 - val_mape: 1.7715\n",
      "Epoch 84/400\n",
      "5/5 [==============================] - 0s 6ms/step - loss: 4.0423 - mae: 0.0148 - mape: 4.0423 - val_loss: 5.1285 - val_mae: 0.0211 - val_mape: 5.1285\n",
      "Epoch 85/400\n",
      "5/5 [==============================] - 0s 6ms/step - loss: 4.1986 - mae: 0.0151 - mape: 4.1986 - val_loss: 1.7055 - val_mae: 0.0072 - val_mape: 1.7055\n",
      "Epoch 86/400\n",
      "5/5 [==============================] - 0s 6ms/step - loss: 4.1430 - mae: 0.0154 - mape: 4.1430 - val_loss: 5.3355 - val_mae: 0.0219 - val_mape: 5.3355\n",
      "Epoch 87/400\n",
      "5/5 [==============================] - 0s 6ms/step - loss: 3.6900 - mae: 0.0133 - mape: 3.6900 - val_loss: 2.8633 - val_mae: 0.0117 - val_mape: 2.8633\n",
      "Epoch 88/400\n",
      "5/5 [==============================] - 0s 6ms/step - loss: 3.5654 - mae: 0.0130 - mape: 3.5654 - val_loss: 3.9726 - val_mae: 0.0168 - val_mape: 3.9726\n",
      "Epoch 89/400\n",
      "5/5 [==============================] - 0s 6ms/step - loss: 5.0476 - mae: 0.0186 - mape: 5.0476 - val_loss: 4.2633 - val_mae: 0.0175 - val_mape: 4.2633\n",
      "Epoch 90/400\n",
      "5/5 [==============================] - 0s 6ms/step - loss: 3.2840 - mae: 0.0118 - mape: 3.2840 - val_loss: 3.3417 - val_mae: 0.0141 - val_mape: 3.3417\n",
      "Epoch 91/400\n",
      "5/5 [==============================] - 0s 6ms/step - loss: 4.7107 - mae: 0.0173 - mape: 4.7107 - val_loss: 5.6517 - val_mae: 0.0232 - val_mape: 5.6517\n",
      "Epoch 92/400\n",
      "5/5 [==============================] - 0s 6ms/step - loss: 4.0972 - mae: 0.0149 - mape: 4.0972 - val_loss: 2.1757 - val_mae: 0.0093 - val_mape: 2.1757\n",
      "Epoch 93/400\n",
      "5/5 [==============================] - 0s 6ms/step - loss: 4.3411 - mae: 0.0160 - mape: 4.3411 - val_loss: 4.8378 - val_mae: 0.0199 - val_mape: 4.8378\n",
      "Epoch 94/400\n",
      "5/5 [==============================] - 0s 6ms/step - loss: 3.5790 - mae: 0.0131 - mape: 3.5790 - val_loss: 2.1902 - val_mae: 0.0093 - val_mape: 2.1902\n",
      "Epoch 95/400\n",
      "5/5 [==============================] - 0s 59ms/step - loss: 3.9861 - mae: 0.0145 - mape: 3.9861 - val_loss: 4.3512 - val_mae: 0.0178 - val_mape: 4.3512\n",
      "Epoch 96/400\n",
      "5/5 [==============================] - 0s 6ms/step - loss: 4.0692 - mae: 0.0146 - mape: 4.0692 - val_loss: 2.8428 - val_mae: 0.0120 - val_mape: 2.8428\n",
      "Epoch 97/400\n",
      "5/5 [==============================] - 0s 6ms/step - loss: 3.9558 - mae: 0.0146 - mape: 3.9558 - val_loss: 2.2088 - val_mae: 0.0090 - val_mape: 2.2088\n",
      "Epoch 98/400\n",
      "5/5 [==============================] - 0s 6ms/step - loss: 3.1669 - mae: 0.0116 - mape: 3.1669 - val_loss: 2.8480 - val_mae: 0.0121 - val_mape: 2.8480\n",
      "Epoch 99/400\n",
      "5/5 [==============================] - 0s 6ms/step - loss: 4.4263 - mae: 0.0163 - mape: 4.4263 - val_loss: 4.0177 - val_mae: 0.0165 - val_mape: 4.0177\n",
      "Epoch 100/400\n",
      "5/5 [==============================] - 0s 6ms/step - loss: 4.1036 - mae: 0.0147 - mape: 4.1036 - val_loss: 2.7637 - val_mae: 0.0117 - val_mape: 2.7637\n"
     ]
    },
    {
     "name": "stdout",
     "output_type": "stream",
     "text": [
      "Epoch 101/400\n",
      "5/5 [==============================] - 0s 6ms/step - loss: 4.6990 - mae: 0.0174 - mape: 4.6990 - val_loss: 4.3859 - val_mae: 0.0180 - val_mape: 4.3859\n",
      "Epoch 102/400\n",
      "5/5 [==============================] - 0s 6ms/step - loss: 3.7812 - mae: 0.0138 - mape: 3.7812 - val_loss: 1.8660 - val_mae: 0.0079 - val_mape: 1.8660\n",
      "Epoch 103/400\n",
      "5/5 [==============================] - 0s 6ms/step - loss: 3.7709 - mae: 0.0139 - mape: 3.7709 - val_loss: 1.8144 - val_mae: 0.0074 - val_mape: 1.8144\n",
      "Epoch 104/400\n",
      "5/5 [==============================] - 0s 6ms/step - loss: 2.8569 - mae: 0.0104 - mape: 2.8569 - val_loss: 4.1172 - val_mae: 0.0173 - val_mape: 4.1172\n",
      "Epoch 105/400\n",
      "5/5 [==============================] - 0s 6ms/step - loss: 5.1357 - mae: 0.0187 - mape: 5.1357 - val_loss: 4.1417 - val_mae: 0.0170 - val_mape: 4.1417\n"
     ]
    }
   ],
   "source": [
    "#IMPROVEMENTS\n",
    "\n",
    "\n",
    "from keras.layers import LSTM\n",
    "from keras.models import Sequential\n",
    "from tensorflow.keras.callbacks import EarlyStopping\n",
    "from keras.layers import Dense\n",
    "\n",
    "\n",
    "es = EarlyStopping(patience=20, restore_best_weights=True)\n",
    "model_lstm = Sequential()\n",
    "\n",
    "model_lstm.add(LSTM(20,return_sequences=False,input_shape = (X_train.shape[1],1))) #64 lstm neuron block\n",
    "model_lstm.add(Dense(32))\n",
    "model_lstm.add(Dense(1))\n",
    "\n",
    "model_lstm.compile(loss = \"mape\", optimizer = \"rmsprop\", metrics = [\"mae\", \"mape\"])\n",
    "history2 = model_lstm.fit(X_train, y_train, epochs = 400, batch_size = 64,validation_data = (X_val, y_val),callbacks=[es])"
   ]
  },
  {
   "cell_type": "markdown",
   "id": "8e6307d6",
   "metadata": {},
   "source": [
    "## Evaluating LSTM Model"
   ]
  },
  {
   "cell_type": "code",
   "execution_count": 66,
   "id": "52188f85",
   "metadata": {},
   "outputs": [
    {
     "name": "stdout",
     "output_type": "stream",
     "text": [
      "5/5 [==============================] - 0s 2ms/step - loss: 5.9133 - mae: 0.0379 - mape: 5.9133\n"
     ]
    },
    {
     "data": {
      "text/plain": [
       "[5.913270950317383, 0.037911735475063324, 5.913270950317383]"
      ]
     },
     "execution_count": 66,
     "metadata": {},
     "output_type": "execute_result"
    }
   ],
   "source": [
    "model_lstm.evaluate(X_test, y_test)"
   ]
  },
  {
   "cell_type": "code",
   "execution_count": 67,
   "id": "dd15ed8d",
   "metadata": {},
   "outputs": [
    {
     "data": {
      "image/png": "[encoded data removed]",
      "text/plain": [
       "<Figure size 720x360 with 1 Axes>"
      ]
     },
     "metadata": {
      "needs_background": "light"
     },
     "output_type": "display_data"
    }
   ],
   "source": [
    "plt.figure(figsize =(10,5))\n",
    "plt.plot(history2.history[\"loss\"])\n",
    "plt.xlabel(\"Epochs\")\n",
    "plt.ylabel(\"Losses\")\n",
    "plt.title(\"LSTM model, Accuracy vs Epoch\")\n",
    "plt.show()"
   ]
  },
  {
   "cell_type": "code",
   "execution_count": 68,
   "id": "f220f978",
   "metadata": {
    "scrolled": true
   },
   "outputs": [
    {
     "data": {
      "image/png": "[encoded data removed]",
      "text/plain": [
       "<Figure size 2160x864 with 1 Axes>"
      ]
     },
     "metadata": {
      "needs_background": "light"
     },
     "output_type": "display_data"
    }
   ],
   "source": [
    "plt.subplots(figsize =(30,12))\n",
    "plt.plot(model_lstm.predict(X_test), label = \"y_pred_of_test\", c = \"orange\" )\n",
    "plt.plot(y_test, label = \"y_test\", color = \"g\")\n",
    "plt.xlabel(\"Days\")\n",
    "plt.ylabel(\"Ratio\")\n",
    "plt.title(\"LSTM model, Predictions with input X_test vs y_test\")\n",
    "plt.legend()\n",
    "plt.show()"
   ]
  },
  {
   "cell_type": "markdown",
   "id": "a2d513da",
   "metadata": {},
   "source": [
    "## Future ratio prediction"
   ]
  },
  {
   "cell_type": "code",
   "execution_count": 53,
   "id": "3a0b622d",
   "metadata": {},
   "outputs": [
    {
     "data": {
      "text/plain": [
       "Date        2022-08-19\n",
       "ALB_ZBRA      0.822204\n",
       "NRG_CPRT      0.334919\n",
       "DE_BXP         4.28095\n",
       "NRG_STE       0.204631\n",
       "NRG_XRAY      1.200391\n",
       "SO_NLOK       3.405268\n",
       "PEG_O         0.951858\n",
       "Name: 496, dtype: object"
      ]
     },
     "execution_count": 53,
     "metadata": {},
     "output_type": "execute_result"
    }
   ],
   "source": [
    "#last day in our data?\n",
    "df.iloc[-1]"
   ]
  },
  {
   "cell_type": "markdown",
   "id": "19b71138",
   "metadata": {},
   "source": [
    "### We can predict the ratio for the day after 2022-08-23--> for 2022-08-24.\n",
    "We will use last ratios as input of our model for this prediction."
   ]
  },
  {
   "cell_type": "code",
   "execution_count": 55,
   "id": "3d0ad87f",
   "metadata": {},
   "outputs": [
    {
     "name": "stdout",
     "output_type": "stream",
     "text": [
      "Shape of X_input : (1, 20, 1)\n"
     ]
    },
    {
     "data": {
      "text/plain": [
       "array([[[0.69941916],\n",
       "        [0.68844238],\n",
       "        [0.69216225],\n",
       "        [0.6859797 ],\n",
       "        [0.6830216 ],\n",
       "        [0.66947524],\n",
       "        [0.75433006],\n",
       "        [0.73386229],\n",
       "        [0.71053908],\n",
       "        [0.71748567],\n",
       "        [0.74122061],\n",
       "        [0.76420431],\n",
       "        [0.78845742],\n",
       "        [0.79077385],\n",
       "        [0.81204942],\n",
       "        [0.81302763],\n",
       "        [0.8141544 ],\n",
       "        [0.8154501 ],\n",
       "        [0.81637364],\n",
       "        [0.82220391]]])"
      ]
     },
     "execution_count": 55,
     "metadata": {},
     "output_type": "execute_result"
    }
   ],
   "source": [
    "X_input = df.iloc[-time_step:].ALB_ZBRA.values             # getting last rows and converting to array\n",
    "X_input = (X_input.reshape(-1,1))     # converting to 2D array and scaling\n",
    "X_input = np.reshape(X_input, (1,time_step,1))                    # reshaping: converting to 3D array\n",
    "print(\"Shape of X_input :\", X_input.shape)\n",
    "X_input"
   ]
  },
  {
   "cell_type": "code",
   "execution_count": 69,
   "id": "244f1d55",
   "metadata": {},
   "outputs": [
    {
     "name": "stdout",
     "output_type": "stream",
     "text": [
      "LSTM, prediction for 2022-08-24: 0.78374577\n"
     ]
    }
   ],
   "source": [
    "LSTM_prediction = model_lstm.predict(X_input)\n",
    "print(\"LSTM, prediction for 2022-08-24:\", LSTM_prediction[0,0])"
   ]
  }
 ],
 "metadata": {
  "kernelspec": {
   "display_name": "Python 3 (ipykernel)",
   "language": "python",
   "name": "python3"
  },
  "language_info": {
   "codemirror_mode": {
    "name": "ipython",
    "version": 3
   },
   "file_extension": ".py",
   "mimetype": "text/x-python",
   "name": "python",
   "nbconvert_exporter": "python",
   "pygments_lexer": "ipython3",
   "version": "3.8.13"
  },
  "toc": {
   "base_numbering": 1,
   "nav_menu": {},
   "number_sections": true,
   "sideBar": true,
   "skip_h1_title": false,
   "title_cell": "Table of Contents",
   "title_sidebar": "Contents",
   "toc_cell": false,
   "toc_position": {
    "height": "calc(100% - 180px)",
    "left": "10px",
    "top": "150px",
    "width": "165px"
   },
   "toc_section_display": true,
   "toc_window_display": true
  }
 },
 "nbformat": 4,
 "nbformat_minor": 5
}
