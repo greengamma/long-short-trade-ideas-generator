{
 "cells": [
  {
   "cell_type": "code",
   "execution_count": 1,
   "id": "65e52b36",
   "metadata": {},
   "outputs": [],
   "source": [
    "import numpy as np\n",
    "import pandas as pd\n",
    "import matplotlib.pyplot as plt"
   ]
  },
  {
   "cell_type": "code",
   "execution_count": 2,
   "id": "30242db1",
   "metadata": {},
   "outputs": [
    {
     "data": {
      "text/html": [
       "<div>\n",
       "<style scoped>\n",
       "    .dataframe tbody tr th:only-of-type {\n",
       "        vertical-align: middle;\n",
       "    }\n",
       "\n",
       "    .dataframe tbody tr th {\n",
       "        vertical-align: top;\n",
       "    }\n",
       "\n",
       "    .dataframe thead th {\n",
       "        text-align: right;\n",
       "    }\n",
       "</style>\n",
       "<table border=\"1\" class=\"dataframe\">\n",
       "  <thead>\n",
       "    <tr style=\"text-align: right;\">\n",
       "      <th></th>\n",
       "      <th>Date</th>\n",
       "      <th>ALB_ZBRA</th>\n",
       "      <th>NRG_CPRT</th>\n",
       "      <th>DE_BXP</th>\n",
       "      <th>NRG_STE</th>\n",
       "      <th>NRG_XRAY</th>\n",
       "      <th>SO_NLOK</th>\n",
       "      <th>PEG_O</th>\n",
       "    </tr>\n",
       "  </thead>\n",
       "  <tbody>\n",
       "    <tr>\n",
       "      <th>0</th>\n",
       "      <td>2020-08-31</td>\n",
       "      <td>0.311845</td>\n",
       "      <td>0.310544</td>\n",
       "      <td>2.548054</td>\n",
       "      <td>0.203834</td>\n",
       "      <td>0.727693</td>\n",
       "      <td>2.136432</td>\n",
       "      <td>0.882281</td>\n",
       "    </tr>\n",
       "    <tr>\n",
       "      <th>1</th>\n",
       "      <td>2020-09-01</td>\n",
       "      <td>0.332974</td>\n",
       "      <td>0.306303</td>\n",
       "      <td>2.687319</td>\n",
       "      <td>0.203522</td>\n",
       "      <td>0.722940</td>\n",
       "      <td>2.094566</td>\n",
       "      <td>0.855546</td>\n",
       "    </tr>\n",
       "    <tr>\n",
       "      <th>2</th>\n",
       "      <td>2020-09-02</td>\n",
       "      <td>0.332368</td>\n",
       "      <td>0.315056</td>\n",
       "      <td>2.629334</td>\n",
       "      <td>0.204743</td>\n",
       "      <td>0.734758</td>\n",
       "      <td>2.125291</td>\n",
       "      <td>0.872526</td>\n",
       "    </tr>\n",
       "    <tr>\n",
       "      <th>3</th>\n",
       "      <td>2020-09-03</td>\n",
       "      <td>0.339772</td>\n",
       "      <td>0.310060</td>\n",
       "      <td>2.534974</td>\n",
       "      <td>0.201707</td>\n",
       "      <td>0.728923</td>\n",
       "      <td>2.210971</td>\n",
       "      <td>0.848504</td>\n",
       "    </tr>\n",
       "    <tr>\n",
       "      <th>4</th>\n",
       "      <td>2020-09-04</td>\n",
       "      <td>0.356920</td>\n",
       "      <td>0.300754</td>\n",
       "      <td>2.536138</td>\n",
       "      <td>0.199887</td>\n",
       "      <td>0.707646</td>\n",
       "      <td>2.152835</td>\n",
       "      <td>0.854765</td>\n",
       "    </tr>\n",
       "  </tbody>\n",
       "</table>\n",
       "</div>"
      ],
      "text/plain": [
       "         Date  ALB_ZBRA  NRG_CPRT    DE_BXP   NRG_STE  NRG_XRAY   SO_NLOK  \\\n",
       "0  2020-08-31  0.311845  0.310544  2.548054  0.203834  0.727693  2.136432   \n",
       "1  2020-09-01  0.332974  0.306303  2.687319  0.203522  0.722940  2.094566   \n",
       "2  2020-09-02  0.332368  0.315056  2.629334  0.204743  0.734758  2.125291   \n",
       "3  2020-09-03  0.339772  0.310060  2.534974  0.201707  0.728923  2.210971   \n",
       "4  2020-09-04  0.356920  0.300754  2.536138  0.199887  0.707646  2.152835   \n",
       "\n",
       "      PEG_O  \n",
       "0  0.882281  \n",
       "1  0.855546  \n",
       "2  0.872526  \n",
       "3  0.848504  \n",
       "4  0.854765  "
      ]
     },
     "execution_count": 2,
     "metadata": {},
     "output_type": "execute_result"
    }
   ],
   "source": [
    "#import data\n",
    "df = pd.read_csv(r'cleaned_data.csv')\n",
    "df.head()"
   ]
  },
  {
   "cell_type": "code",
   "execution_count": 3,
   "id": "c93ecf09",
   "metadata": {},
   "outputs": [
    {
     "data": {
      "text/html": [
       "<div>\n",
       "<style scoped>\n",
       "    .dataframe tbody tr th:only-of-type {\n",
       "        vertical-align: middle;\n",
       "    }\n",
       "\n",
       "    .dataframe tbody tr th {\n",
       "        vertical-align: top;\n",
       "    }\n",
       "\n",
       "    .dataframe thead th {\n",
       "        text-align: right;\n",
       "    }\n",
       "</style>\n",
       "<table border=\"1\" class=\"dataframe\">\n",
       "  <thead>\n",
       "    <tr style=\"text-align: right;\">\n",
       "      <th></th>\n",
       "      <th>Date</th>\n",
       "      <th>ALB_ZBRA</th>\n",
       "      <th>NRG_CPRT</th>\n",
       "      <th>DE_BXP</th>\n",
       "      <th>NRG_STE</th>\n",
       "      <th>NRG_XRAY</th>\n",
       "      <th>SO_NLOK</th>\n",
       "      <th>PEG_O</th>\n",
       "    </tr>\n",
       "  </thead>\n",
       "  <tbody>\n",
       "    <tr>\n",
       "      <th>495</th>\n",
       "      <td>2022-08-18</td>\n",
       "      <td>0.816374</td>\n",
       "      <td>0.333768</td>\n",
       "      <td>4.22249</td>\n",
       "      <td>0.204492</td>\n",
       "      <td>1.196920</td>\n",
       "      <td>3.371537</td>\n",
       "      <td>0.950678</td>\n",
       "    </tr>\n",
       "    <tr>\n",
       "      <th>496</th>\n",
       "      <td>2022-08-19</td>\n",
       "      <td>0.822204</td>\n",
       "      <td>0.334919</td>\n",
       "      <td>4.28095</td>\n",
       "      <td>0.204631</td>\n",
       "      <td>1.200391</td>\n",
       "      <td>3.405268</td>\n",
       "      <td>0.951858</td>\n",
       "    </tr>\n",
       "  </tbody>\n",
       "</table>\n",
       "</div>"
      ],
      "text/plain": [
       "           Date  ALB_ZBRA  NRG_CPRT   DE_BXP   NRG_STE  NRG_XRAY   SO_NLOK  \\\n",
       "495  2022-08-18  0.816374  0.333768  4.22249  0.204492  1.196920  3.371537   \n",
       "496  2022-08-19  0.822204  0.334919  4.28095  0.204631  1.200391  3.405268   \n",
       "\n",
       "        PEG_O  \n",
       "495  0.950678  \n",
       "496  0.951858  "
      ]
     },
     "execution_count": 3,
     "metadata": {},
     "output_type": "execute_result"
    }
   ],
   "source": [
    "df.tail(2)"
   ]
  },
  {
   "cell_type": "code",
   "execution_count": 4,
   "id": "35e7f32c",
   "metadata": {},
   "outputs": [
    {
     "data": {
      "text/html": [
       "<div>\n",
       "<style scoped>\n",
       "    .dataframe tbody tr th:only-of-type {\n",
       "        vertical-align: middle;\n",
       "    }\n",
       "\n",
       "    .dataframe tbody tr th {\n",
       "        vertical-align: top;\n",
       "    }\n",
       "\n",
       "    .dataframe thead th {\n",
       "        text-align: right;\n",
       "    }\n",
       "</style>\n",
       "<table border=\"1\" class=\"dataframe\">\n",
       "  <thead>\n",
       "    <tr style=\"text-align: right;\">\n",
       "      <th></th>\n",
       "      <th>ALB_ZBRA</th>\n",
       "      <th>NRG_CPRT</th>\n",
       "      <th>DE_BXP</th>\n",
       "      <th>NRG_STE</th>\n",
       "      <th>NRG_XRAY</th>\n",
       "      <th>SO_NLOK</th>\n",
       "      <th>PEG_O</th>\n",
       "    </tr>\n",
       "  </thead>\n",
       "  <tbody>\n",
       "    <tr>\n",
       "      <th>count</th>\n",
       "      <td>497.000000</td>\n",
       "      <td>497.000000</td>\n",
       "      <td>497.000000</td>\n",
       "      <td>497.000000</td>\n",
       "      <td>497.000000</td>\n",
       "      <td>497.000000</td>\n",
       "      <td>497.000000</td>\n",
       "    </tr>\n",
       "    <tr>\n",
       "      <th>mean</th>\n",
       "      <td>0.439148</td>\n",
       "      <td>0.296925</td>\n",
       "      <td>3.242148</td>\n",
       "      <td>0.178814</td>\n",
       "      <td>0.728099</td>\n",
       "      <td>2.664304</td>\n",
       "      <td>0.960830</td>\n",
       "    </tr>\n",
       "    <tr>\n",
       "      <th>std</th>\n",
       "      <td>0.134129</td>\n",
       "      <td>0.038166</td>\n",
       "      <td>0.309264</td>\n",
       "      <td>0.017806</td>\n",
       "      <td>0.170586</td>\n",
       "      <td>0.296301</td>\n",
       "      <td>0.047787</td>\n",
       "    </tr>\n",
       "    <tr>\n",
       "      <th>min</th>\n",
       "      <td>0.279760</td>\n",
       "      <td>0.219809</td>\n",
       "      <td>2.513787</td>\n",
       "      <td>0.147486</td>\n",
       "      <td>0.464028</td>\n",
       "      <td>2.094566</td>\n",
       "      <td>0.829956</td>\n",
       "    </tr>\n",
       "    <tr>\n",
       "      <th>25%</th>\n",
       "      <td>0.336085</td>\n",
       "      <td>0.270483</td>\n",
       "      <td>3.054503</td>\n",
       "      <td>0.164950</td>\n",
       "      <td>0.624090</td>\n",
       "      <td>2.436779</td>\n",
       "      <td>0.928549</td>\n",
       "    </tr>\n",
       "    <tr>\n",
       "      <th>50%</th>\n",
       "      <td>0.403014</td>\n",
       "      <td>0.290112</td>\n",
       "      <td>3.224409</td>\n",
       "      <td>0.175372</td>\n",
       "      <td>0.691772</td>\n",
       "      <td>2.649792</td>\n",
       "      <td>0.960627</td>\n",
       "    </tr>\n",
       "    <tr>\n",
       "      <th>75%</th>\n",
       "      <td>0.464571</td>\n",
       "      <td>0.316606</td>\n",
       "      <td>3.435012</td>\n",
       "      <td>0.189553</td>\n",
       "      <td>0.742545</td>\n",
       "      <td>2.861494</td>\n",
       "      <td>0.994654</td>\n",
       "    </tr>\n",
       "    <tr>\n",
       "      <th>max</th>\n",
       "      <td>0.822204</td>\n",
       "      <td>0.425462</td>\n",
       "      <td>4.280950</td>\n",
       "      <td>0.231046</td>\n",
       "      <td>1.230987</td>\n",
       "      <td>3.405268</td>\n",
       "      <td>1.094158</td>\n",
       "    </tr>\n",
       "  </tbody>\n",
       "</table>\n",
       "</div>"
      ],
      "text/plain": [
       "         ALB_ZBRA    NRG_CPRT      DE_BXP     NRG_STE    NRG_XRAY     SO_NLOK  \\\n",
       "count  497.000000  497.000000  497.000000  497.000000  497.000000  497.000000   \n",
       "mean     0.439148    0.296925    3.242148    0.178814    0.728099    2.664304   \n",
       "std      0.134129    0.038166    0.309264    0.017806    0.170586    0.296301   \n",
       "min      0.279760    0.219809    2.513787    0.147486    0.464028    2.094566   \n",
       "25%      0.336085    0.270483    3.054503    0.164950    0.624090    2.436779   \n",
       "50%      0.403014    0.290112    3.224409    0.175372    0.691772    2.649792   \n",
       "75%      0.464571    0.316606    3.435012    0.189553    0.742545    2.861494   \n",
       "max      0.822204    0.425462    4.280950    0.231046    1.230987    3.405268   \n",
       "\n",
       "            PEG_O  \n",
       "count  497.000000  \n",
       "mean     0.960830  \n",
       "std      0.047787  \n",
       "min      0.829956  \n",
       "25%      0.928549  \n",
       "50%      0.960627  \n",
       "75%      0.994654  \n",
       "max      1.094158  "
      ]
     },
     "execution_count": 4,
     "metadata": {},
     "output_type": "execute_result"
    }
   ],
   "source": [
    "df.describe()"
   ]
  },
  {
   "cell_type": "code",
   "execution_count": 5,
   "id": "9d3d4ae0",
   "metadata": {},
   "outputs": [
    {
     "name": "stdout",
     "output_type": "stream",
     "text": [
      "<class 'pandas.core.frame.DataFrame'>\n",
      "RangeIndex: 497 entries, 0 to 496\n",
      "Data columns (total 8 columns):\n",
      " #   Column    Non-Null Count  Dtype  \n",
      "---  ------    --------------  -----  \n",
      " 0   Date      497 non-null    object \n",
      " 1   ALB_ZBRA  497 non-null    float64\n",
      " 2   NRG_CPRT  497 non-null    float64\n",
      " 3   DE_BXP    497 non-null    float64\n",
      " 4   NRG_STE   497 non-null    float64\n",
      " 5   NRG_XRAY  497 non-null    float64\n",
      " 6   SO_NLOK   497 non-null    float64\n",
      " 7   PEG_O     497 non-null    float64\n",
      "dtypes: float64(7), object(1)\n",
      "memory usage: 31.2+ KB\n"
     ]
    }
   ],
   "source": [
    "df.info()"
   ]
  },
  {
   "cell_type": "code",
   "execution_count": 6,
   "id": "28400d50",
   "metadata": {},
   "outputs": [
    {
     "data": {
      "text/html": [
       "<div>\n",
       "<style scoped>\n",
       "    .dataframe tbody tr th:only-of-type {\n",
       "        vertical-align: middle;\n",
       "    }\n",
       "\n",
       "    .dataframe tbody tr th {\n",
       "        vertical-align: top;\n",
       "    }\n",
       "\n",
       "    .dataframe thead th {\n",
       "        text-align: right;\n",
       "    }\n",
       "</style>\n",
       "<table border=\"1\" class=\"dataframe\">\n",
       "  <thead>\n",
       "    <tr style=\"text-align: right;\">\n",
       "      <th></th>\n",
       "      <th>Date</th>\n",
       "      <th>NRG_CPRT</th>\n",
       "    </tr>\n",
       "  </thead>\n",
       "  <tbody>\n",
       "    <tr>\n",
       "      <th>0</th>\n",
       "      <td>2020-08-31</td>\n",
       "      <td>0.310544</td>\n",
       "    </tr>\n",
       "    <tr>\n",
       "      <th>1</th>\n",
       "      <td>2020-09-01</td>\n",
       "      <td>0.306303</td>\n",
       "    </tr>\n",
       "    <tr>\n",
       "      <th>2</th>\n",
       "      <td>2020-09-02</td>\n",
       "      <td>0.315056</td>\n",
       "    </tr>\n",
       "    <tr>\n",
       "      <th>3</th>\n",
       "      <td>2020-09-03</td>\n",
       "      <td>0.310060</td>\n",
       "    </tr>\n",
       "    <tr>\n",
       "      <th>4</th>\n",
       "      <td>2020-09-04</td>\n",
       "      <td>0.300754</td>\n",
       "    </tr>\n",
       "  </tbody>\n",
       "</table>\n",
       "</div>"
      ],
      "text/plain": [
       "         Date  NRG_CPRT\n",
       "0  2020-08-31  0.310544\n",
       "1  2020-09-01  0.306303\n",
       "2  2020-09-02  0.315056\n",
       "3  2020-09-03  0.310060\n",
       "4  2020-09-04  0.300754"
      ]
     },
     "execution_count": 6,
     "metadata": {},
     "output_type": "execute_result"
    }
   ],
   "source": [
    "# we check first chosen ratios first (here: ALB_ZBRA)\n",
    "df_small=df.iloc[:,[0,2]]\n",
    "df_small.head()"
   ]
  },
  {
   "cell_type": "code",
   "execution_count": 7,
   "id": "e1e6c7e3",
   "metadata": {},
   "outputs": [
    {
     "data": {
      "text/plain": [
       "(497, 2)"
      ]
     },
     "execution_count": 7,
     "metadata": {},
     "output_type": "execute_result"
    }
   ],
   "source": [
    "df_small.shape"
   ]
  },
  {
   "cell_type": "code",
   "execution_count": 8,
   "id": "e1f98c36",
   "metadata": {
    "scrolled": true
   },
   "outputs": [
    {
     "name": "stdout",
     "output_type": "stream",
     "text": [
      "<class 'pandas.core.frame.DataFrame'>\n",
      "RangeIndex: 497 entries, 0 to 496\n",
      "Data columns (total 2 columns):\n",
      " #   Column    Non-Null Count  Dtype  \n",
      "---  ------    --------------  -----  \n",
      " 0   Date      497 non-null    object \n",
      " 1   NRG_CPRT  497 non-null    float64\n",
      "dtypes: float64(1), object(1)\n",
      "memory usage: 7.9+ KB\n"
     ]
    }
   ],
   "source": [
    "df_small.info()"
   ]
  },
  {
   "cell_type": "markdown",
   "id": "aca3fe1e",
   "metadata": {},
   "source": [
    "## Splitting Data in Train and Validation"
   ]
  },
  {
   "cell_type": "code",
   "execution_count": 9,
   "id": "cb40fc1e",
   "metadata": {},
   "outputs": [
    {
     "name": "stdout",
     "output_type": "stream",
     "text": [
      "Data length : 497\n",
      "Train data length: 348\n",
      "Validation data lenth: 149\n"
     ]
    }
   ],
   "source": [
    "length_data = len(df_small)    \n",
    "split_ratio = 0.7           # %70 train + %30 validation\n",
    "length_train = round(length_data * split_ratio)  \n",
    "length_validation = length_data - length_train\n",
    "print(\"Data length :\", length_data)\n",
    "print(\"Train data length:\", length_train)\n",
    "print(\"Validation data lenth:\", length_validation)"
   ]
  },
  {
   "cell_type": "code",
   "execution_count": 10,
   "id": "3f3479f6",
   "metadata": {},
   "outputs": [
    {
     "data": {
      "text/html": [
       "<div>\n",
       "<style scoped>\n",
       "    .dataframe tbody tr th:only-of-type {\n",
       "        vertical-align: middle;\n",
       "    }\n",
       "\n",
       "    .dataframe tbody tr th {\n",
       "        vertical-align: top;\n",
       "    }\n",
       "\n",
       "    .dataframe thead th {\n",
       "        text-align: right;\n",
       "    }\n",
       "</style>\n",
       "<table border=\"1\" class=\"dataframe\">\n",
       "  <thead>\n",
       "    <tr style=\"text-align: right;\">\n",
       "      <th></th>\n",
       "      <th>Date</th>\n",
       "      <th>NRG_CPRT</th>\n",
       "    </tr>\n",
       "  </thead>\n",
       "  <tbody>\n",
       "    <tr>\n",
       "      <th>0</th>\n",
       "      <td>2020-08-31</td>\n",
       "      <td>0.310544</td>\n",
       "    </tr>\n",
       "    <tr>\n",
       "      <th>1</th>\n",
       "      <td>2020-09-01</td>\n",
       "      <td>0.306303</td>\n",
       "    </tr>\n",
       "    <tr>\n",
       "      <th>2</th>\n",
       "      <td>2020-09-02</td>\n",
       "      <td>0.315056</td>\n",
       "    </tr>\n",
       "    <tr>\n",
       "      <th>3</th>\n",
       "      <td>2020-09-03</td>\n",
       "      <td>0.310060</td>\n",
       "    </tr>\n",
       "    <tr>\n",
       "      <th>4</th>\n",
       "      <td>2020-09-04</td>\n",
       "      <td>0.300754</td>\n",
       "    </tr>\n",
       "    <tr>\n",
       "      <th>...</th>\n",
       "      <td>...</td>\n",
       "      <td>...</td>\n",
       "    </tr>\n",
       "    <tr>\n",
       "      <th>343</th>\n",
       "      <td>2022-01-10</td>\n",
       "      <td>0.288623</td>\n",
       "    </tr>\n",
       "    <tr>\n",
       "      <th>344</th>\n",
       "      <td>2022-01-11</td>\n",
       "      <td>0.288111</td>\n",
       "    </tr>\n",
       "    <tr>\n",
       "      <th>345</th>\n",
       "      <td>2022-01-12</td>\n",
       "      <td>0.285775</td>\n",
       "    </tr>\n",
       "    <tr>\n",
       "      <th>346</th>\n",
       "      <td>2022-01-13</td>\n",
       "      <td>0.287149</td>\n",
       "    </tr>\n",
       "    <tr>\n",
       "      <th>347</th>\n",
       "      <td>2022-01-14</td>\n",
       "      <td>0.290943</td>\n",
       "    </tr>\n",
       "  </tbody>\n",
       "</table>\n",
       "<p>348 rows × 2 columns</p>\n",
       "</div>"
      ],
      "text/plain": [
       "          Date  NRG_CPRT\n",
       "0   2020-08-31  0.310544\n",
       "1   2020-09-01  0.306303\n",
       "2   2020-09-02  0.315056\n",
       "3   2020-09-03  0.310060\n",
       "4   2020-09-04  0.300754\n",
       "..         ...       ...\n",
       "343 2022-01-10  0.288623\n",
       "344 2022-01-11  0.288111\n",
       "345 2022-01-12  0.285775\n",
       "346 2022-01-13  0.287149\n",
       "347 2022-01-14  0.290943\n",
       "\n",
       "[348 rows x 2 columns]"
      ]
     },
     "execution_count": 10,
     "metadata": {},
     "output_type": "execute_result"
    }
   ],
   "source": [
    "# train_data\n",
    "train_data = df_small[:length_train].iloc[:,:2] \n",
    "train_data['Date'] = pd.to_datetime(train_data['Date'])  # converting to date time object\n",
    "train_data"
   ]
  },
  {
   "cell_type": "code",
   "execution_count": 11,
   "id": "d106ac80",
   "metadata": {},
   "outputs": [
    {
     "data": {
      "text/html": [
       "<div>\n",
       "<style scoped>\n",
       "    .dataframe tbody tr th:only-of-type {\n",
       "        vertical-align: middle;\n",
       "    }\n",
       "\n",
       "    .dataframe tbody tr th {\n",
       "        vertical-align: top;\n",
       "    }\n",
       "\n",
       "    .dataframe thead th {\n",
       "        text-align: right;\n",
       "    }\n",
       "</style>\n",
       "<table border=\"1\" class=\"dataframe\">\n",
       "  <thead>\n",
       "    <tr style=\"text-align: right;\">\n",
       "      <th></th>\n",
       "      <th>Date</th>\n",
       "      <th>NRG_CPRT</th>\n",
       "    </tr>\n",
       "  </thead>\n",
       "  <tbody>\n",
       "    <tr>\n",
       "      <th>348</th>\n",
       "      <td>2022-01-18</td>\n",
       "      <td>0.294584</td>\n",
       "    </tr>\n",
       "    <tr>\n",
       "      <th>349</th>\n",
       "      <td>2022-01-19</td>\n",
       "      <td>0.294031</td>\n",
       "    </tr>\n",
       "    <tr>\n",
       "      <th>350</th>\n",
       "      <td>2022-01-20</td>\n",
       "      <td>0.291894</td>\n",
       "    </tr>\n",
       "    <tr>\n",
       "      <th>351</th>\n",
       "      <td>2022-01-21</td>\n",
       "      <td>0.300901</td>\n",
       "    </tr>\n",
       "    <tr>\n",
       "      <th>352</th>\n",
       "      <td>2022-01-24</td>\n",
       "      <td>0.299289</td>\n",
       "    </tr>\n",
       "    <tr>\n",
       "      <th>...</th>\n",
       "      <td>...</td>\n",
       "      <td>...</td>\n",
       "    </tr>\n",
       "    <tr>\n",
       "      <th>492</th>\n",
       "      <td>2022-08-15</td>\n",
       "      <td>0.321488</td>\n",
       "    </tr>\n",
       "    <tr>\n",
       "      <th>493</th>\n",
       "      <td>2022-08-16</td>\n",
       "      <td>0.323634</td>\n",
       "    </tr>\n",
       "    <tr>\n",
       "      <th>494</th>\n",
       "      <td>2022-08-17</td>\n",
       "      <td>0.327442</td>\n",
       "    </tr>\n",
       "    <tr>\n",
       "      <th>495</th>\n",
       "      <td>2022-08-18</td>\n",
       "      <td>0.333768</td>\n",
       "    </tr>\n",
       "    <tr>\n",
       "      <th>496</th>\n",
       "      <td>2022-08-19</td>\n",
       "      <td>0.334919</td>\n",
       "    </tr>\n",
       "  </tbody>\n",
       "</table>\n",
       "<p>149 rows × 2 columns</p>\n",
       "</div>"
      ],
      "text/plain": [
       "          Date  NRG_CPRT\n",
       "348 2022-01-18  0.294584\n",
       "349 2022-01-19  0.294031\n",
       "350 2022-01-20  0.291894\n",
       "351 2022-01-21  0.300901\n",
       "352 2022-01-24  0.299289\n",
       "..         ...       ...\n",
       "492 2022-08-15  0.321488\n",
       "493 2022-08-16  0.323634\n",
       "494 2022-08-17  0.327442\n",
       "495 2022-08-18  0.333768\n",
       "496 2022-08-19  0.334919\n",
       "\n",
       "[149 rows x 2 columns]"
      ]
     },
     "execution_count": 11,
     "metadata": {},
     "output_type": "execute_result"
    }
   ],
   "source": [
    "# validation_data\n",
    "validation_data = df_small[length_train:].iloc[:,:2]\n",
    "validation_data['Date'] = pd.to_datetime(validation_data['Date'])  # converting to date time object\n",
    "validation_data"
   ]
  },
  {
   "cell_type": "markdown",
   "id": "1814e915",
   "metadata": {},
   "source": [
    "## Creating Train Dataset from Train split"
   ]
  },
  {
   "cell_type": "code",
   "execution_count": 48,
   "id": "9384adb6",
   "metadata": {},
   "outputs": [
    {
     "data": {
      "text/plain": [
       "(348,)"
      ]
     },
     "execution_count": 48,
     "metadata": {},
     "output_type": "execute_result"
    }
   ],
   "source": [
    "dataset_train = train_data.iloc[:, 1].values\n",
    "dataset_train.shape"
   ]
  },
  {
   "cell_type": "code",
   "execution_count": 15,
   "id": "517d74c8",
   "metadata": {},
   "outputs": [
    {
     "data": {
      "text/plain": [
       "(348, 1)"
      ]
     },
     "execution_count": 15,
     "metadata": {},
     "output_type": "execute_result"
    }
   ],
   "source": [
    "# Change 1d array to 2d array\n",
    "# Changing shape from (1692,) to (1692,1)\n",
    "dataset_train = np.reshape(dataset_train, (-1,1))\n",
    "dataset_train.shape"
   ]
  },
  {
   "cell_type": "markdown",
   "id": "bb1fd70a",
   "metadata": {},
   "source": [
    "## Normalization / Feature Scaling not needed/recommended"
   ]
  },
  {
   "cell_type": "code",
   "execution_count": 16,
   "id": "05335f24",
   "metadata": {},
   "outputs": [],
   "source": [
    "dataset_train_scaled = dataset_train"
   ]
  },
  {
   "cell_type": "markdown",
   "id": "1a8aff56",
   "metadata": {},
   "source": [
    "## Creating X_train and y_train from Train data "
   ]
  },
  {
   "cell_type": "markdown",
   "id": "be9c4316",
   "metadata": {},
   "source": [
    "We have train data composed of ratios over days\n",
    "\n",
    "So, it has 1184 ratios corresponding 1184 days\n",
    "\n",
    "My aim is to predict the ratio (closing) of the next day.\n",
    "\n",
    "I can use a time step of 2 days.\n",
    "\n",
    "I will pick first 2 ratios (day 0 to 2), 1st 2 ratio will be in \n",
    "X_train data\n",
    "\n",
    "Then predict the ratio of 3rd day; and 3rd ratio will be in y_train data\n",
    "\n",
    "Again, i will pick ratios from 1 to 3, those will be in X_train data\n",
    "\n",
    "Then predict the next days ratio, 4th ratio will be in y_train data\n",
    "\n"
   ]
  },
  {
   "cell_type": "code",
   "execution_count": 17,
   "id": "6c47c074",
   "metadata": {},
   "outputs": [],
   "source": [
    "X_train = []\n",
    "y_train = []\n",
    "\n",
    "time_step = 20 #change that?\n",
    "\n",
    "for i in range(time_step, length_train):\n",
    "    X_train.append(dataset_train_scaled[i-time_step:i,0:1])\n",
    "    y_train.append(dataset_train_scaled[i,0:1])\n",
    "    \n",
    "# convert list to array\n",
    "X_train, y_train = np.array(X_train), np.array(y_train)"
   ]
  },
  {
   "cell_type": "code",
   "execution_count": 18,
   "id": "363e7d05",
   "metadata": {},
   "outputs": [
    {
     "data": {
      "text/plain": [
       "(328, 20, 1)"
      ]
     },
     "execution_count": 18,
     "metadata": {},
     "output_type": "execute_result"
    }
   ],
   "source": [
    "X_train.shape"
   ]
  },
  {
   "cell_type": "code",
   "execution_count": 19,
   "id": "4ae00ff6",
   "metadata": {},
   "outputs": [
    {
     "data": {
      "text/plain": [
       "count    328.0\n",
       "mean      20.0\n",
       "std        0.0\n",
       "min       20.0\n",
       "25%       20.0\n",
       "50%       20.0\n",
       "75%       20.0\n",
       "max       20.0\n",
       "dtype: float64"
      ]
     },
     "execution_count": 19,
     "metadata": {},
     "output_type": "execute_result"
    }
   ],
   "source": [
    "pd.Series([len(X) for X in X_train]).describe()"
   ]
  },
  {
   "cell_type": "code",
   "execution_count": 20,
   "id": "7cd01a74",
   "metadata": {},
   "outputs": [
    {
     "data": {
      "text/plain": [
       "array([[0.26508372],\n",
       "       [0.27519382],\n",
       "       [0.27627761],\n",
       "       [0.28138821],\n",
       "       [0.28144874],\n",
       "       [0.28081205],\n",
       "       [0.27710928],\n",
       "       [0.27723546],\n",
       "       [0.27658635],\n",
       "       [0.27627573],\n",
       "       [0.27638242],\n",
       "       [0.2843714 ],\n",
       "       [0.28372329],\n",
       "       [0.28471749],\n",
       "       [0.2794151 ],\n",
       "       [0.28922975],\n",
       "       [0.28862324],\n",
       "       [0.28811112],\n",
       "       [0.28577502],\n",
       "       [0.28714945]])"
      ]
     },
     "execution_count": 20,
     "metadata": {},
     "output_type": "execute_result"
    }
   ],
   "source": [
    "dataset_train_scaled[i-time_step:i]"
   ]
  },
  {
   "cell_type": "code",
   "execution_count": 21,
   "id": "47a2612d",
   "metadata": {},
   "outputs": [
    {
     "data": {
      "text/plain": [
       "0.2909430759355481"
      ]
     },
     "execution_count": 21,
     "metadata": {},
     "output_type": "execute_result"
    }
   ],
   "source": [
    "dataset_train_scaled[i,0]"
   ]
  },
  {
   "cell_type": "code",
   "execution_count": 22,
   "id": "68467185",
   "metadata": {},
   "outputs": [
    {
     "name": "stdout",
     "output_type": "stream",
     "text": [
      "Shape of X_train before reshape: (328, 20, 1)\n",
      "Shape of y_train before reshape: (328, 1)\n"
     ]
    }
   ],
   "source": [
    "print(\"Shape of X_train before reshape:\",X_train.shape)\n",
    "print(\"Shape of y_train before reshape:\",y_train.shape)"
   ]
  },
  {
   "cell_type": "code",
   "execution_count": 23,
   "id": "f725b6e2",
   "metadata": {},
   "outputs": [
    {
     "name": "stdout",
     "output_type": "stream",
     "text": [
      "Shape of X_train after reshape : (328, 20, 1)\n",
      "Shape of y_train after reshape : (328, 1)\n"
     ]
    }
   ],
   "source": [
    "X_train = np.reshape(X_train, (X_train.shape[0], X_train.shape[1],1))\n",
    "y_train = np.reshape(y_train, (y_train.shape[0],1))\n",
    "\n",
    "print(\"Shape of X_train after reshape :\",X_train.shape)\n",
    "print(\"Shape of y_train after reshape :\",y_train.shape)"
   ]
  },
  {
   "cell_type": "code",
   "execution_count": 24,
   "id": "fa4a4b8d",
   "metadata": {},
   "outputs": [
    {
     "data": {
      "text/plain": [
       "array([[0.3105442 ],\n",
       "       [0.30630302],\n",
       "       [0.31505606],\n",
       "       [0.31006008],\n",
       "       [0.30075381],\n",
       "       [0.29340291],\n",
       "       [0.29283691],\n",
       "       [0.28700457],\n",
       "       [0.28893813],\n",
       "       [0.28316302],\n",
       "       [0.2715342 ],\n",
       "       [0.2739306 ],\n",
       "       [0.27850235],\n",
       "       [0.269227  ],\n",
       "       [0.26484232],\n",
       "       [0.25596527],\n",
       "       [0.25990351],\n",
       "       [0.26535508],\n",
       "       [0.26401085],\n",
       "       [0.25928571]])"
      ]
     },
     "execution_count": 24,
     "metadata": {},
     "output_type": "execute_result"
    }
   ],
   "source": [
    "X_train[0]"
   ]
  },
  {
   "cell_type": "code",
   "execution_count": 25,
   "id": "063a84d2",
   "metadata": {},
   "outputs": [],
   "source": [
    "X_train = X_train[:int(X_train.shape[0]*0.95)]\n",
    "X_val = X_train[int(X_train.shape[0]*0.95):]\n",
    "y_train = y_train[:int(y_train.shape[0]*0.95)]\n",
    "y_val = y_train[int(y_train.shape[0]*0.95):]"
   ]
  },
  {
   "cell_type": "markdown",
   "id": "3da4e900",
   "metadata": {},
   "source": [
    "Check the first item in y_train\n",
    "It is the ratio of 2nd day (timestep 2)"
   ]
  },
  {
   "cell_type": "code",
   "execution_count": 26,
   "id": "27da9c01",
   "metadata": {},
   "outputs": [
    {
     "data": {
      "text/plain": [
       "array([0.26190287])"
      ]
     },
     "execution_count": 26,
     "metadata": {},
     "output_type": "execute_result"
    }
   ],
   "source": [
    "y_train[0]"
   ]
  },
  {
   "cell_type": "markdown",
   "id": "14f39577",
   "metadata": {},
   "source": [
    "## Creating Test Dataset from Validation Data"
   ]
  },
  {
   "cell_type": "code",
   "execution_count": 52,
   "id": "97ceffc5",
   "metadata": {},
   "outputs": [
    {
     "name": "stdout",
     "output_type": "stream",
     "text": [
      "Shape of scaled validation dataset : (149, 1)\n"
     ]
    }
   ],
   "source": [
    "#Converting array and scaling\n",
    "dataset_validation = validation_data.iloc[:,1].values  # getting \"Ratio\" column and converting to array\n",
    "dataset_validation = np.reshape(dataset_validation, (-1,1))  # converting 1D to 2D array\n",
    "#scaled_dataset_validation =  scaler.fit_transform(dataset_validation)  # scaling  values to between 0 and 1\n",
    "scaled_dataset_validation = dataset_validation \n",
    "\n",
    "print(\"Shape of scaled validation dataset :\",scaled_dataset_validation.shape)"
   ]
  },
  {
   "cell_type": "code",
   "execution_count": 29,
   "id": "decab60e",
   "metadata": {},
   "outputs": [],
   "source": [
    "#Creating X_test and y_test\n",
    "X_test = []\n",
    "y_test = []\n",
    "\n",
    "for i in range(time_step, length_validation):\n",
    "    X_test.append(scaled_dataset_validation[i-time_step:i,0])\n",
    "    y_test.append(scaled_dataset_validation[i,0])"
   ]
  },
  {
   "cell_type": "code",
   "execution_count": 30,
   "id": "dc2afed9",
   "metadata": {},
   "outputs": [],
   "source": [
    "# Converting to array\n",
    "X_test, y_test = np.array(X_test), np.array(y_test)"
   ]
  },
  {
   "cell_type": "code",
   "execution_count": 31,
   "id": "862dd185",
   "metadata": {},
   "outputs": [
    {
     "name": "stdout",
     "output_type": "stream",
     "text": [
      "Shape of X_test before reshape : (129, 20)\n",
      "Shape of y_test before reshape : (129,)\n"
     ]
    }
   ],
   "source": [
    "print(\"Shape of X_test before reshape :\",X_test.shape)\n",
    "print(\"Shape of y_test before reshape :\",y_test.shape)"
   ]
  },
  {
   "cell_type": "code",
   "execution_count": 32,
   "id": "71647c8e",
   "metadata": {},
   "outputs": [],
   "source": [
    "#reshape\n",
    "X_test = np.reshape(X_test, (X_test.shape[0],X_test.shape[1],1))  # reshape to 3D array\n",
    "y_test = np.reshape(y_test, (-1,1))  # reshape to 2D array"
   ]
  },
  {
   "cell_type": "code",
   "execution_count": 33,
   "id": "12546280",
   "metadata": {},
   "outputs": [
    {
     "name": "stdout",
     "output_type": "stream",
     "text": [
      "Shape of X_test after reshape : (129, 20, 1)\n",
      "Shape of y_test after reshape : (129, 1)\n"
     ]
    }
   ],
   "source": [
    "print(\"Shape of X_test after reshape :\",X_test.shape)\n",
    "print(\"Shape of y_test after reshape :\",y_test.shape)"
   ]
  },
  {
   "cell_type": "markdown",
   "id": "1766270e",
   "metadata": {},
   "source": [
    "## Creating LSTM Model"
   ]
  },
  {
   "cell_type": "code",
   "execution_count": 35,
   "id": "5fb92a44",
   "metadata": {},
   "outputs": [
    {
     "data": {
      "text/plain": [
       "0.2198087205959466"
      ]
     },
     "execution_count": 35,
     "metadata": {},
     "output_type": "execute_result"
    }
   ],
   "source": [
    "y_train.min()"
   ]
  },
  {
   "cell_type": "code",
   "execution_count": 36,
   "id": "71ccc544",
   "metadata": {},
   "outputs": [
    {
     "data": {
      "text/plain": [
       "(311, 20, 1)"
      ]
     },
     "execution_count": 36,
     "metadata": {},
     "output_type": "execute_result"
    }
   ],
   "source": [
    "X_train.shape"
   ]
  },
  {
   "cell_type": "code",
   "execution_count": 37,
   "id": "3bd40d43",
   "metadata": {},
   "outputs": [
    {
     "data": {
      "text/plain": [
       "(311, 1)"
      ]
     },
     "execution_count": 37,
     "metadata": {},
     "output_type": "execute_result"
    }
   ],
   "source": [
    "y_train.shape"
   ]
  },
  {
   "cell_type": "code",
   "execution_count": 53,
   "id": "6eec916a",
   "metadata": {},
   "outputs": [
    {
     "name": "stdout",
     "output_type": "stream",
     "text": [
      "Epoch 1/400\n",
      "5/5 [==============================] - 1s 81ms/step - loss: 78.3418 - mae: 0.2209 - mape: 78.3418 - val_loss: 5.1821 - val_mae: 0.0130 - val_mape: 5.1821\n",
      "Epoch 2/400\n",
      "5/5 [==============================] - 0s 6ms/step - loss: 8.2864 - mae: 0.0235 - mape: 8.2864 - val_loss: 3.0741 - val_mae: 0.0081 - val_mape: 3.0741\n",
      "Epoch 3/400\n",
      "5/5 [==============================] - 0s 6ms/step - loss: 7.6900 - mae: 0.0226 - mape: 7.6900 - val_loss: 10.7224 - val_mae: 0.0271 - val_mape: 10.7224\n",
      "Epoch 4/400\n",
      "5/5 [==============================] - 0s 6ms/step - loss: 8.5562 - mae: 0.0238 - mape: 8.5562 - val_loss: 3.0266 - val_mae: 0.0080 - val_mape: 3.0266\n",
      "Epoch 5/400\n",
      "5/5 [==============================] - 0s 6ms/step - loss: 6.1492 - mae: 0.0182 - mape: 6.1492 - val_loss: 3.0154 - val_mae: 0.0079 - val_mape: 3.0154\n",
      "Epoch 6/400\n",
      "5/5 [==============================] - 0s 6ms/step - loss: 6.9025 - mae: 0.0202 - mape: 6.9025 - val_loss: 9.0957 - val_mae: 0.0230 - val_mape: 9.0957\n",
      "Epoch 7/400\n",
      "5/5 [==============================] - 0s 7ms/step - loss: 8.4211 - mae: 0.0238 - mape: 8.4211 - val_loss: 3.7005 - val_mae: 0.0099 - val_mape: 3.7005\n",
      "Epoch 8/400\n",
      "5/5 [==============================] - 0s 6ms/step - loss: 6.8938 - mae: 0.0202 - mape: 6.8938 - val_loss: 8.4301 - val_mae: 0.0213 - val_mape: 8.4301\n",
      "Epoch 9/400\n",
      "5/5 [==============================] - 0s 6ms/step - loss: 7.1824 - mae: 0.0203 - mape: 7.1824 - val_loss: 4.8675 - val_mae: 0.0122 - val_mape: 4.8675\n",
      "Epoch 10/400\n",
      "5/5 [==============================] - 0s 6ms/step - loss: 7.2271 - mae: 0.0209 - mape: 7.2271 - val_loss: 3.2670 - val_mae: 0.0087 - val_mape: 3.2670\n",
      "Epoch 11/400\n",
      "5/5 [==============================] - 0s 6ms/step - loss: 5.9265 - mae: 0.0174 - mape: 5.9265 - val_loss: 6.3933 - val_mae: 0.0160 - val_mape: 6.3933\n",
      "Epoch 12/400\n",
      "5/5 [==============================] - 0s 6ms/step - loss: 7.1879 - mae: 0.0203 - mape: 7.1879 - val_loss: 3.4165 - val_mae: 0.0091 - val_mape: 3.4165\n",
      "Epoch 13/400\n",
      "5/5 [==============================] - 0s 6ms/step - loss: 6.5435 - mae: 0.0190 - mape: 6.5435 - val_loss: 8.7697 - val_mae: 0.0221 - val_mape: 8.7697\n",
      "Epoch 14/400\n",
      "5/5 [==============================] - 0s 6ms/step - loss: 7.4321 - mae: 0.0209 - mape: 7.4321 - val_loss: 3.2960 - val_mae: 0.0088 - val_mape: 3.2960\n",
      "Epoch 15/400\n",
      "5/5 [==============================] - 0s 6ms/step - loss: 6.5599 - mae: 0.0194 - mape: 6.5599 - val_loss: 7.1823 - val_mae: 0.0181 - val_mape: 7.1823\n",
      "Epoch 16/400\n",
      "5/5 [==============================] - 0s 6ms/step - loss: 7.1732 - mae: 0.0203 - mape: 7.1732 - val_loss: 4.1820 - val_mae: 0.0112 - val_mape: 4.1820\n",
      "Epoch 17/400\n",
      "5/5 [==============================] - 0s 6ms/step - loss: 7.9255 - mae: 0.0231 - mape: 7.9255 - val_loss: 6.9797 - val_mae: 0.0176 - val_mape: 6.9797\n",
      "Epoch 18/400\n",
      "5/5 [==============================] - 0s 6ms/step - loss: 6.9105 - mae: 0.0194 - mape: 6.9105 - val_loss: 2.9087 - val_mae: 0.0077 - val_mape: 2.9087\n",
      "Epoch 19/400\n",
      "5/5 [==============================] - 0s 6ms/step - loss: 5.8757 - mae: 0.0173 - mape: 5.8757 - val_loss: 8.8093 - val_mae: 0.0223 - val_mape: 8.8093\n",
      "Epoch 20/400\n",
      "5/5 [==============================] - 0s 6ms/step - loss: 7.4431 - mae: 0.0211 - mape: 7.4431 - val_loss: 4.4579 - val_mae: 0.0119 - val_mape: 4.4579\n",
      "Epoch 21/400\n",
      "5/5 [==============================] - 0s 6ms/step - loss: 7.1367 - mae: 0.0210 - mape: 7.1367 - val_loss: 6.7527 - val_mae: 0.0170 - val_mape: 6.7527\n",
      "Epoch 22/400\n",
      "5/5 [==============================] - 0s 6ms/step - loss: 6.7784 - mae: 0.0191 - mape: 6.7784 - val_loss: 2.7040 - val_mae: 0.0070 - val_mape: 2.7040\n",
      "Epoch 23/400\n",
      "5/5 [==============================] - 0s 6ms/step - loss: 4.8942 - mae: 0.0143 - mape: 4.8942 - val_loss: 8.3354 - val_mae: 0.0211 - val_mape: 8.3354\n",
      "Epoch 24/400\n",
      "5/5 [==============================] - 0s 6ms/step - loss: 7.8185 - mae: 0.0220 - mape: 7.8185 - val_loss: 3.1048 - val_mae: 0.0083 - val_mape: 3.1048\n",
      "Epoch 25/400\n",
      "5/5 [==============================] - 0s 6ms/step - loss: 5.4122 - mae: 0.0161 - mape: 5.4122 - val_loss: 3.5539 - val_mae: 0.0095 - val_mape: 3.5539\n",
      "Epoch 26/400\n",
      "5/5 [==============================] - 0s 6ms/step - loss: 6.3140 - mae: 0.0185 - mape: 6.3140 - val_loss: 5.8016 - val_mae: 0.0146 - val_mape: 5.8016\n",
      "Epoch 27/400\n",
      "5/5 [==============================] - 0s 6ms/step - loss: 6.7448 - mae: 0.0189 - mape: 6.7448 - val_loss: 6.2136 - val_mae: 0.0164 - val_mape: 6.2136\n",
      "Epoch 28/400\n",
      "5/5 [==============================] - 0s 6ms/step - loss: 8.3301 - mae: 0.0242 - mape: 8.3301 - val_loss: 4.2769 - val_mae: 0.0107 - val_mape: 4.2769\n",
      "Epoch 29/400\n",
      "5/5 [==============================] - 0s 6ms/step - loss: 5.4681 - mae: 0.0155 - mape: 5.4681 - val_loss: 6.0926 - val_mae: 0.0160 - val_mape: 6.0926\n",
      "Epoch 30/400\n",
      "5/5 [==============================] - 0s 6ms/step - loss: 7.1059 - mae: 0.0210 - mape: 7.1059 - val_loss: 5.5148 - val_mae: 0.0138 - val_mape: 5.5148\n",
      "Epoch 31/400\n",
      "5/5 [==============================] - 0s 6ms/step - loss: 6.3293 - mae: 0.0178 - mape: 6.3293 - val_loss: 4.7479 - val_mae: 0.0126 - val_mape: 4.7479\n",
      "Epoch 32/400\n",
      "5/5 [==============================] - 0s 6ms/step - loss: 6.8317 - mae: 0.0198 - mape: 6.8317 - val_loss: 5.5888 - val_mae: 0.0140 - val_mape: 5.5888\n",
      "Epoch 33/400\n",
      "5/5 [==============================] - 0s 6ms/step - loss: 5.3198 - mae: 0.0152 - mape: 5.3198 - val_loss: 3.4454 - val_mae: 0.0092 - val_mape: 3.4454\n",
      "Epoch 34/400\n",
      "5/5 [==============================] - 0s 6ms/step - loss: 5.7903 - mae: 0.0167 - mape: 5.7903 - val_loss: 8.5679 - val_mae: 0.0217 - val_mape: 8.5679\n",
      "Epoch 35/400\n",
      "5/5 [==============================] - 0s 6ms/step - loss: 7.0202 - mae: 0.0197 - mape: 7.0202 - val_loss: 5.1932 - val_mae: 0.0137 - val_mape: 5.1932\n",
      "Epoch 36/400\n",
      "5/5 [==============================] - 0s 7ms/step - loss: 6.4256 - mae: 0.0187 - mape: 6.4256 - val_loss: 4.4622 - val_mae: 0.0112 - val_mape: 4.4622\n",
      "Epoch 37/400\n",
      "5/5 [==============================] - 0s 6ms/step - loss: 5.6639 - mae: 0.0161 - mape: 5.6639 - val_loss: 3.5105 - val_mae: 0.0094 - val_mape: 3.5105\n",
      "Epoch 38/400\n",
      "5/5 [==============================] - 0s 6ms/step - loss: 6.2626 - mae: 0.0180 - mape: 6.2626 - val_loss: 5.7103 - val_mae: 0.0143 - val_mape: 5.7103\n",
      "Epoch 39/400\n",
      "5/5 [==============================] - 0s 6ms/step - loss: 5.8627 - mae: 0.0166 - mape: 5.8627 - val_loss: 3.5712 - val_mae: 0.0095 - val_mape: 3.5712\n",
      "Epoch 40/400\n",
      "5/5 [==============================] - 0s 6ms/step - loss: 5.1918 - mae: 0.0149 - mape: 5.1918 - val_loss: 5.5919 - val_mae: 0.0140 - val_mape: 5.5919\n",
      "Epoch 41/400\n",
      "5/5 [==============================] - 0s 6ms/step - loss: 5.7840 - mae: 0.0164 - mape: 5.7840 - val_loss: 3.1386 - val_mae: 0.0084 - val_mape: 3.1386\n",
      "Epoch 42/400\n",
      "5/5 [==============================] - 0s 6ms/step - loss: 5.8102 - mae: 0.0166 - mape: 5.8102 - val_loss: 4.3700 - val_mae: 0.0109 - val_mape: 4.3700\n"
     ]
    }
   ],
   "source": [
    "from keras.layers import LSTM\n",
    "from keras.models import Sequential\n",
    "from tensorflow.keras.callbacks import EarlyStopping\n",
    "from keras.layers import Dense\n",
    "\n",
    "\n",
    "es = EarlyStopping(patience=20, restore_best_weights=True)\n",
    "model_lstm = Sequential()\n",
    "\n",
    "model_lstm.add(LSTM(20,return_sequences=False,input_shape = (X_train.shape[1],1))) #64 lstm neuron block\n",
    "model_lstm.add(Dense(32))\n",
    "model_lstm.add(Dense(1))\n",
    "\n",
    "model_lstm.compile(loss = \"mape\", optimizer = \"rmsprop\", metrics = [\"mae\", \"mape\"])\n",
    "history2 = model_lstm.fit(X_train, y_train, epochs = 400, batch_size = 64,validation_data = (X_val, y_val),callbacks=[es])"
   ]
  },
  {
   "cell_type": "markdown",
   "id": "8e6307d6",
   "metadata": {},
   "source": [
    "## Evaluating LSTM Model"
   ]
  },
  {
   "cell_type": "code",
   "execution_count": 40,
   "id": "52188f85",
   "metadata": {},
   "outputs": [
    {
     "name": "stdout",
     "output_type": "stream",
     "text": [
      "5/5 [==============================] - 0s 2ms/step - loss: 6.6121 - mae: 0.0235 - mape: 6.6121\n"
     ]
    },
    {
     "data": {
      "text/plain": [
       "[6.612114429473877, 0.023512855172157288, 6.612114429473877]"
      ]
     },
     "execution_count": 40,
     "metadata": {},
     "output_type": "execute_result"
    }
   ],
   "source": [
    "model_lstm.evaluate(X_test, y_test)"
   ]
  },
  {
   "cell_type": "code",
   "execution_count": 41,
   "id": "dd15ed8d",
   "metadata": {},
   "outputs": [
    {
     "data": {
      "image/png": "[encoded data removed]",
      "text/plain": [
       "<Figure size 720x360 with 1 Axes>"
      ]
     },
     "metadata": {
      "needs_background": "light"
     },
     "output_type": "display_data"
    }
   ],
   "source": [
    "plt.figure(figsize =(10,5))\n",
    "plt.plot(history2.history[\"loss\"])\n",
    "plt.xlabel(\"Epochs\")\n",
    "plt.ylabel(\"Losses\")\n",
    "plt.title(\"LSTM model, Accuracy vs Epoch\")\n",
    "plt.show()"
   ]
  },
  {
   "cell_type": "code",
   "execution_count": 42,
   "id": "f220f978",
   "metadata": {
    "scrolled": true
   },
   "outputs": [
    {
     "data": {
      "image/png": "[encoded data removed]",
      "text/plain": [
       "<Figure size 2160x864 with 1 Axes>"
      ]
     },
     "metadata": {
      "needs_background": "light"
     },
     "output_type": "display_data"
    }
   ],
   "source": [
    "plt.subplots(figsize =(30,12))\n",
    "plt.plot(model_lstm.predict(X_test), label = \"y_pred_of_test\", c = \"orange\" )\n",
    "plt.plot(y_test, label = \"y_test\", color = \"g\")\n",
    "plt.xlabel(\"Days\")\n",
    "plt.ylabel(\"Ratio\")\n",
    "plt.title(\"LSTM model, Predictions with input X_test vs y_test\")\n",
    "plt.legend()\n",
    "plt.show()"
   ]
  },
  {
   "cell_type": "markdown",
   "id": "a2d513da",
   "metadata": {},
   "source": [
    "## Future ratio prediction"
   ]
  },
  {
   "cell_type": "code",
   "execution_count": 43,
   "id": "3a0b622d",
   "metadata": {},
   "outputs": [
    {
     "data": {
      "text/plain": [
       "Date        2022-08-19\n",
       "ALB_ZBRA      0.822204\n",
       "NRG_CPRT      0.334919\n",
       "DE_BXP         4.28095\n",
       "NRG_STE       0.204631\n",
       "NRG_XRAY      1.200391\n",
       "SO_NLOK       3.405268\n",
       "PEG_O         0.951858\n",
       "Name: 496, dtype: object"
      ]
     },
     "execution_count": 43,
     "metadata": {},
     "output_type": "execute_result"
    }
   ],
   "source": [
    "#last day in our data?\n",
    "df.iloc[-1]"
   ]
  },
  {
   "cell_type": "markdown",
   "id": "19b71138",
   "metadata": {},
   "source": [
    "### We can predict the ratio for the day after 2022-08-23--> for 2022-08-24.\n",
    "We will use last ratios as input of our model for this prediction."
   ]
  },
  {
   "cell_type": "code",
   "execution_count": 44,
   "id": "3d0ad87f",
   "metadata": {},
   "outputs": [
    {
     "name": "stdout",
     "output_type": "stream",
     "text": [
      "Shape of X_input : (1, 20, 1)\n"
     ]
    },
    {
     "data": {
      "text/plain": [
       "array([[[0.69941916],\n",
       "        [0.68844238],\n",
       "        [0.69216225],\n",
       "        [0.6859797 ],\n",
       "        [0.6830216 ],\n",
       "        [0.66947524],\n",
       "        [0.75433006],\n",
       "        [0.73386229],\n",
       "        [0.71053908],\n",
       "        [0.71748567],\n",
       "        [0.74122061],\n",
       "        [0.76420431],\n",
       "        [0.78845742],\n",
       "        [0.79077385],\n",
       "        [0.81204942],\n",
       "        [0.81302763],\n",
       "        [0.8141544 ],\n",
       "        [0.8154501 ],\n",
       "        [0.81637364],\n",
       "        [0.82220391]]])"
      ]
     },
     "execution_count": 44,
     "metadata": {},
     "output_type": "execute_result"
    }
   ],
   "source": [
    "X_input = df.iloc[-time_step:].ALB_ZBRA.values             # getting last rows and converting to array\n",
    "X_input = (X_input.reshape(-1,1))     # converting to 2D array and scaling\n",
    "X_input = np.reshape(X_input, (1,time_step,1))                    # reshaping: converting to 3D array\n",
    "print(\"Shape of X_input :\", X_input.shape)\n",
    "X_input"
   ]
  },
  {
   "cell_type": "code",
   "execution_count": 45,
   "id": "244f1d55",
   "metadata": {},
   "outputs": [
    {
     "name": "stdout",
     "output_type": "stream",
     "text": [
      "LSTM, prediction for 2022-08-24: 0.563123\n"
     ]
    }
   ],
   "source": [
    "LSTM_prediction = model_lstm.predict(X_input)\n",
    "print(\"LSTM, prediction for 2022-08-24:\", LSTM_prediction[0,0])"
   ]
  }
 ],
 "metadata": {
  "kernelspec": {
   "display_name": "Python 3 (ipykernel)",
   "language": "python",
   "name": "python3"
  },
  "language_info": {
   "codemirror_mode": {
    "name": "ipython",
    "version": 3
   },
   "file_extension": ".py",
   "mimetype": "text/x-python",
   "name": "python",
   "nbconvert_exporter": "python",
   "pygments_lexer": "ipython3",
   "version": "3.8.13"
  },
  "toc": {
   "base_numbering": 1,
   "nav_menu": {},
   "number_sections": true,
   "sideBar": true,
   "skip_h1_title": false,
   "title_cell": "Table of Contents",
   "title_sidebar": "Contents",
   "toc_cell": false,
   "toc_position": {
    "height": "calc(100% - 180px)",
    "left": "10px",
    "top": "150px",
    "width": "165px"
   },
   "toc_section_display": true,
   "toc_window_display": true
  }
 },
 "nbformat": 4,
 "nbformat_minor": 5
}
