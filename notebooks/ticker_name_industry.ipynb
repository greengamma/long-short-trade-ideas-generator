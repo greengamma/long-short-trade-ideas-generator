{
 "cells": [
  {
   "cell_type": "code",
   "execution_count": 2,
   "id": "230b8067-4101-4886-b049-b7203e04c90a",
   "metadata": {},
   "outputs": [],
   "source": [
    "import pandas as pd"
   ]
  },
  {
   "cell_type": "code",
   "execution_count": 3,
   "id": "a9d2c3ed-b58b-44c8-ae42-6e2f9020e02c",
   "metadata": {},
   "outputs": [],
   "source": [
    "df = pd.read_csv('../raw_data/cleaned_data_2y.csv')"
   ]
  },
  {
   "cell_type": "code",
   "execution_count": 4,
   "id": "e439157f-7590-4bb8-ad3e-9f8f341a107b",
   "metadata": {},
   "outputs": [],
   "source": [
    "# convert 'Date' column to datetime values\n",
    "df['Date'] = pd.to_datetime(df['Date'].str[:10])"
   ]
  },
  {
   "cell_type": "code",
   "execution_count": 5,
   "id": "5a46169b-e04b-4a84-b4c9-f44a1f5c37e6",
   "metadata": {},
   "outputs": [],
   "source": [
    "ratios = list(df.columns)"
   ]
  },
  {
   "cell_type": "code",
   "execution_count": 6,
   "id": "dcc3c988-ca3c-4fdf-99e7-2beada41ab4b",
   "metadata": {},
   "outputs": [
    {
     "data": {
      "text/plain": [
       "'Date'"
      ]
     },
     "execution_count": 6,
     "metadata": {},
     "output_type": "execute_result"
    }
   ],
   "source": [
    "ratios.pop(0)"
   ]
  },
  {
   "cell_type": "code",
   "execution_count": 7,
   "id": "b64d9452-e193-4681-a667-ad45eb34d577",
   "metadata": {},
   "outputs": [
    {
     "data": {
      "text/plain": [
       "['ALB_ZBRA', 'NRG_CPRT', 'DE_BXP', 'NRG_STE', 'NRG_XRAY', 'SO_NLOK', 'PEG_O']"
      ]
     },
     "execution_count": 7,
     "metadata": {},
     "output_type": "execute_result"
    }
   ],
   "source": [
    "ratios"
   ]
  },
  {
   "cell_type": "code",
   "execution_count": 8,
   "id": "e1f3c353-7446-4918-b13d-684cf46943fd",
   "metadata": {},
   "outputs": [],
   "source": [
    "tickers = pd.read_excel('test_tickers/ticks.xlsx')"
   ]
  },
  {
   "cell_type": "code",
   "execution_count": 9,
   "id": "a61c7c82-1196-4260-a556-a0d7150c945a",
   "metadata": {},
   "outputs": [
    {
     "data": {
      "text/html": [
       "<div>\n",
       "<style scoped>\n",
       "    .dataframe tbody tr th:only-of-type {\n",
       "        vertical-align: middle;\n",
       "    }\n",
       "\n",
       "    .dataframe tbody tr th {\n",
       "        vertical-align: top;\n",
       "    }\n",
       "\n",
       "    .dataframe thead th {\n",
       "        text-align: right;\n",
       "    }\n",
       "</style>\n",
       "<table border=\"1\" class=\"dataframe\">\n",
       "  <thead>\n",
       "    <tr style=\"text-align: right;\">\n",
       "      <th></th>\n",
       "      <th>ticker</th>\n",
       "      <th>name</th>\n",
       "      <th>number</th>\n",
       "      <th>industry</th>\n",
       "    </tr>\n",
       "  </thead>\n",
       "  <tbody>\n",
       "    <tr>\n",
       "      <th>0</th>\n",
       "      <td>A</td>\n",
       "      <td>Agilent Technologies Inc</td>\n",
       "      <td>3</td>\n",
       "      <td>Healthcare</td>\n",
       "    </tr>\n",
       "    <tr>\n",
       "      <th>1</th>\n",
       "      <td>AAL</td>\n",
       "      <td>American Airlines Group Inc</td>\n",
       "      <td>6</td>\n",
       "      <td>Industrials</td>\n",
       "    </tr>\n",
       "    <tr>\n",
       "      <th>2</th>\n",
       "      <td>AAP</td>\n",
       "      <td>Advance Auto Parts Inc</td>\n",
       "      <td>2</td>\n",
       "      <td>Consumer Cyclicals</td>\n",
       "    </tr>\n",
       "    <tr>\n",
       "      <th>3</th>\n",
       "      <td>AAPL</td>\n",
       "      <td>Apple Inc</td>\n",
       "      <td>1</td>\n",
       "      <td>Technology</td>\n",
       "    </tr>\n",
       "    <tr>\n",
       "      <th>4</th>\n",
       "      <td>ABBV</td>\n",
       "      <td>Abbvie Inc</td>\n",
       "      <td>3</td>\n",
       "      <td>Healthcare</td>\n",
       "    </tr>\n",
       "  </tbody>\n",
       "</table>\n",
       "</div>"
      ],
      "text/plain": [
       "  ticker                         name  number            industry\n",
       "0      A     Agilent Technologies Inc       3          Healthcare\n",
       "1    AAL  American Airlines Group Inc       6         Industrials\n",
       "2    AAP       Advance Auto Parts Inc       2  Consumer Cyclicals\n",
       "3   AAPL                    Apple Inc       1          Technology\n",
       "4   ABBV                   Abbvie Inc       3          Healthcare"
      ]
     },
     "execution_count": 9,
     "metadata": {},
     "output_type": "execute_result"
    }
   ],
   "source": [
    "tickers.head()"
   ]
  },
  {
   "cell_type": "code",
   "execution_count": 10,
   "id": "c6c5f3a2-e68d-4a3c-bc99-22bfbe762076",
   "metadata": {},
   "outputs": [],
   "source": [
    "tuple_list = list(tickers.itertuples(index=False))"
   ]
  },
  {
   "cell_type": "code",
   "execution_count": 11,
   "id": "63e16494-77ef-475b-a0dd-7624dd621cb6",
   "metadata": {},
   "outputs": [],
   "source": [
    "long_name = {}\n",
    "short_name = {}\n",
    "\n",
    "for ratio in ratios:\n",
    "    long = ratio.split('_')[0]\n",
    "    short = ratio.split('_')[1]\n",
    "    for item in tuple_list:\n",
    "        if long in item:\n",
    "            long_name[long] = item[1]\n",
    "    for item in tuple_list:\n",
    "        if short in item:\n",
    "            short_name[short] = item[1]"
   ]
  },
  {
   "cell_type": "code",
   "execution_count": 12,
   "id": "bb14d069-8342-4929-b91f-984eda1e058f",
   "metadata": {},
   "outputs": [
    {
     "data": {
      "text/plain": [
       "{'ZBRA': 'Zebra Technologies Corp',\n",
       " 'CPRT': 'Copart Inc',\n",
       " 'BXP': 'Boston Properties Inc',\n",
       " 'STE': 'STERIS plc',\n",
       " 'XRAY': 'DENTSPLY SIRONA Inc',\n",
       " 'NLOK': 'NortonLifeLock Inc',\n",
       " 'O': 'Realty Income Corp'}"
      ]
     },
     "execution_count": 12,
     "metadata": {},
     "output_type": "execute_result"
    }
   ],
   "source": [
    "short_name"
   ]
  }
 ],
 "metadata": {
  "kernelspec": {
   "display_name": "Python 3 (ipykernel)",
   "language": "python",
   "name": "python3"
  },
  "language_info": {
   "codemirror_mode": {
    "name": "ipython",
    "version": 3
   },
   "file_extension": ".py",
   "mimetype": "text/x-python",
   "name": "python",
   "nbconvert_exporter": "python",
   "pygments_lexer": "ipython3",
   "version": "3.8.12"
  }
 },
 "nbformat": 4,
 "nbformat_minor": 5
}
