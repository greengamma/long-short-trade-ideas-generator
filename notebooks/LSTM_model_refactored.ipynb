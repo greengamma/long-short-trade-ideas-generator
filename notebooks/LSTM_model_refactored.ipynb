{
 "cells": [
  {
   "cell_type": "code",
   "execution_count": 1,
   "id": "65e52b36",
   "metadata": {},
   "outputs": [],
   "source": [
    "import numpy as np\n",
    "import pandas as pd\n",
    "import matplotlib.pyplot as plt"
   ]
  },
  {
   "cell_type": "code",
   "execution_count": 2,
   "id": "30242db1",
   "metadata": {
    "tags": []
   },
   "outputs": [
    {
     "data": {
      "text/html": [
       "<div>\n",
       "<style scoped>\n",
       "    .dataframe tbody tr th:only-of-type {\n",
       "        vertical-align: middle;\n",
       "    }\n",
       "\n",
       "    .dataframe tbody tr th {\n",
       "        vertical-align: top;\n",
       "    }\n",
       "\n",
       "    .dataframe thead th {\n",
       "        text-align: right;\n",
       "    }\n",
       "</style>\n",
       "<table border=\"1\" class=\"dataframe\">\n",
       "  <thead>\n",
       "    <tr style=\"text-align: right;\">\n",
       "      <th></th>\n",
       "      <th>Date</th>\n",
       "      <th>ALB_ZBRA</th>\n",
       "      <th>NRG_CPRT</th>\n",
       "      <th>DE_BXP</th>\n",
       "      <th>NRG_STE</th>\n",
       "      <th>NRG_XRAY</th>\n",
       "      <th>SO_NLOK</th>\n",
       "      <th>PEG_O</th>\n",
       "    </tr>\n",
       "  </thead>\n",
       "  <tbody>\n",
       "    <tr>\n",
       "      <th>0</th>\n",
       "      <td>2020-08-31</td>\n",
       "      <td>0.311845</td>\n",
       "      <td>0.310544</td>\n",
       "      <td>2.548054</td>\n",
       "      <td>0.203834</td>\n",
       "      <td>0.727693</td>\n",
       "      <td>2.136432</td>\n",
       "      <td>0.882281</td>\n",
       "    </tr>\n",
       "    <tr>\n",
       "      <th>1</th>\n",
       "      <td>2020-09-01</td>\n",
       "      <td>0.332974</td>\n",
       "      <td>0.306303</td>\n",
       "      <td>2.687319</td>\n",
       "      <td>0.203522</td>\n",
       "      <td>0.722940</td>\n",
       "      <td>2.094566</td>\n",
       "      <td>0.855546</td>\n",
       "    </tr>\n",
       "    <tr>\n",
       "      <th>2</th>\n",
       "      <td>2020-09-02</td>\n",
       "      <td>0.332368</td>\n",
       "      <td>0.315056</td>\n",
       "      <td>2.629334</td>\n",
       "      <td>0.204743</td>\n",
       "      <td>0.734758</td>\n",
       "      <td>2.125291</td>\n",
       "      <td>0.872526</td>\n",
       "    </tr>\n",
       "    <tr>\n",
       "      <th>3</th>\n",
       "      <td>2020-09-03</td>\n",
       "      <td>0.339772</td>\n",
       "      <td>0.310060</td>\n",
       "      <td>2.534974</td>\n",
       "      <td>0.201707</td>\n",
       "      <td>0.728923</td>\n",
       "      <td>2.210971</td>\n",
       "      <td>0.848504</td>\n",
       "    </tr>\n",
       "    <tr>\n",
       "      <th>4</th>\n",
       "      <td>2020-09-04</td>\n",
       "      <td>0.356920</td>\n",
       "      <td>0.300754</td>\n",
       "      <td>2.536138</td>\n",
       "      <td>0.199887</td>\n",
       "      <td>0.707646</td>\n",
       "      <td>2.152835</td>\n",
       "      <td>0.854765</td>\n",
       "    </tr>\n",
       "  </tbody>\n",
       "</table>\n",
       "</div>"
      ],
      "text/plain": [
       "         Date  ALB_ZBRA  NRG_CPRT    DE_BXP   NRG_STE  NRG_XRAY   SO_NLOK  \\\n",
       "0  2020-08-31  0.311845  0.310544  2.548054  0.203834  0.727693  2.136432   \n",
       "1  2020-09-01  0.332974  0.306303  2.687319  0.203522  0.722940  2.094566   \n",
       "2  2020-09-02  0.332368  0.315056  2.629334  0.204743  0.734758  2.125291   \n",
       "3  2020-09-03  0.339772  0.310060  2.534974  0.201707  0.728923  2.210971   \n",
       "4  2020-09-04  0.356920  0.300754  2.536138  0.199887  0.707646  2.152835   \n",
       "\n",
       "      PEG_O  \n",
       "0  0.882281  \n",
       "1  0.855546  \n",
       "2  0.872526  \n",
       "3  0.848504  \n",
       "4  0.854765  "
      ]
     },
     "execution_count": 2,
     "metadata": {},
     "output_type": "execute_result"
    }
   ],
   "source": [
    "#import data\n",
    "df = pd.read_csv('../../long_short_local/raw_data/cleaned_data.csv')\n",
    "df.head()"
   ]
  },
  {
   "cell_type": "code",
   "execution_count": 3,
   "id": "c93ecf09",
   "metadata": {},
   "outputs": [
    {
     "data": {
      "text/html": [
       "<div>\n",
       "<style scoped>\n",
       "    .dataframe tbody tr th:only-of-type {\n",
       "        vertical-align: middle;\n",
       "    }\n",
       "\n",
       "    .dataframe tbody tr th {\n",
       "        vertical-align: top;\n",
       "    }\n",
       "\n",
       "    .dataframe thead th {\n",
       "        text-align: right;\n",
       "    }\n",
       "</style>\n",
       "<table border=\"1\" class=\"dataframe\">\n",
       "  <thead>\n",
       "    <tr style=\"text-align: right;\">\n",
       "      <th></th>\n",
       "      <th>Date</th>\n",
       "      <th>ALB_ZBRA</th>\n",
       "      <th>NRG_CPRT</th>\n",
       "      <th>DE_BXP</th>\n",
       "      <th>NRG_STE</th>\n",
       "      <th>NRG_XRAY</th>\n",
       "      <th>SO_NLOK</th>\n",
       "      <th>PEG_O</th>\n",
       "    </tr>\n",
       "  </thead>\n",
       "  <tbody>\n",
       "    <tr>\n",
       "      <th>495</th>\n",
       "      <td>2022-08-18</td>\n",
       "      <td>0.816374</td>\n",
       "      <td>0.333768</td>\n",
       "      <td>4.22249</td>\n",
       "      <td>0.204492</td>\n",
       "      <td>1.196920</td>\n",
       "      <td>3.371537</td>\n",
       "      <td>0.950678</td>\n",
       "    </tr>\n",
       "    <tr>\n",
       "      <th>496</th>\n",
       "      <td>2022-08-19</td>\n",
       "      <td>0.822204</td>\n",
       "      <td>0.334919</td>\n",
       "      <td>4.28095</td>\n",
       "      <td>0.204631</td>\n",
       "      <td>1.200391</td>\n",
       "      <td>3.405268</td>\n",
       "      <td>0.951858</td>\n",
       "    </tr>\n",
       "  </tbody>\n",
       "</table>\n",
       "</div>"
      ],
      "text/plain": [
       "           Date  ALB_ZBRA  NRG_CPRT   DE_BXP   NRG_STE  NRG_XRAY   SO_NLOK  \\\n",
       "495  2022-08-18  0.816374  0.333768  4.22249  0.204492  1.196920  3.371537   \n",
       "496  2022-08-19  0.822204  0.334919  4.28095  0.204631  1.200391  3.405268   \n",
       "\n",
       "        PEG_O  \n",
       "495  0.950678  \n",
       "496  0.951858  "
      ]
     },
     "execution_count": 3,
     "metadata": {},
     "output_type": "execute_result"
    }
   ],
   "source": [
    "df.tail(2)"
   ]
  },
  {
   "cell_type": "code",
   "execution_count": 4,
   "id": "35e7f32c",
   "metadata": {},
   "outputs": [
    {
     "data": {
      "text/html": [
       "<div>\n",
       "<style scoped>\n",
       "    .dataframe tbody tr th:only-of-type {\n",
       "        vertical-align: middle;\n",
       "    }\n",
       "\n",
       "    .dataframe tbody tr th {\n",
       "        vertical-align: top;\n",
       "    }\n",
       "\n",
       "    .dataframe thead th {\n",
       "        text-align: right;\n",
       "    }\n",
       "</style>\n",
       "<table border=\"1\" class=\"dataframe\">\n",
       "  <thead>\n",
       "    <tr style=\"text-align: right;\">\n",
       "      <th></th>\n",
       "      <th>ALB_ZBRA</th>\n",
       "      <th>NRG_CPRT</th>\n",
       "      <th>DE_BXP</th>\n",
       "      <th>NRG_STE</th>\n",
       "      <th>NRG_XRAY</th>\n",
       "      <th>SO_NLOK</th>\n",
       "      <th>PEG_O</th>\n",
       "    </tr>\n",
       "  </thead>\n",
       "  <tbody>\n",
       "    <tr>\n",
       "      <th>count</th>\n",
       "      <td>497.000000</td>\n",
       "      <td>497.000000</td>\n",
       "      <td>497.000000</td>\n",
       "      <td>497.000000</td>\n",
       "      <td>497.000000</td>\n",
       "      <td>497.000000</td>\n",
       "      <td>497.000000</td>\n",
       "    </tr>\n",
       "    <tr>\n",
       "      <th>mean</th>\n",
       "      <td>0.439148</td>\n",
       "      <td>0.296925</td>\n",
       "      <td>3.242148</td>\n",
       "      <td>0.178814</td>\n",
       "      <td>0.728099</td>\n",
       "      <td>2.664304</td>\n",
       "      <td>0.960830</td>\n",
       "    </tr>\n",
       "    <tr>\n",
       "      <th>std</th>\n",
       "      <td>0.134129</td>\n",
       "      <td>0.038166</td>\n",
       "      <td>0.309264</td>\n",
       "      <td>0.017806</td>\n",
       "      <td>0.170586</td>\n",
       "      <td>0.296301</td>\n",
       "      <td>0.047787</td>\n",
       "    </tr>\n",
       "    <tr>\n",
       "      <th>min</th>\n",
       "      <td>0.279760</td>\n",
       "      <td>0.219809</td>\n",
       "      <td>2.513787</td>\n",
       "      <td>0.147486</td>\n",
       "      <td>0.464028</td>\n",
       "      <td>2.094566</td>\n",
       "      <td>0.829956</td>\n",
       "    </tr>\n",
       "    <tr>\n",
       "      <th>25%</th>\n",
       "      <td>0.336085</td>\n",
       "      <td>0.270483</td>\n",
       "      <td>3.054503</td>\n",
       "      <td>0.164950</td>\n",
       "      <td>0.624090</td>\n",
       "      <td>2.436779</td>\n",
       "      <td>0.928549</td>\n",
       "    </tr>\n",
       "    <tr>\n",
       "      <th>50%</th>\n",
       "      <td>0.403014</td>\n",
       "      <td>0.290112</td>\n",
       "      <td>3.224409</td>\n",
       "      <td>0.175372</td>\n",
       "      <td>0.691772</td>\n",
       "      <td>2.649792</td>\n",
       "      <td>0.960627</td>\n",
       "    </tr>\n",
       "    <tr>\n",
       "      <th>75%</th>\n",
       "      <td>0.464571</td>\n",
       "      <td>0.316606</td>\n",
       "      <td>3.435012</td>\n",
       "      <td>0.189553</td>\n",
       "      <td>0.742545</td>\n",
       "      <td>2.861494</td>\n",
       "      <td>0.994654</td>\n",
       "    </tr>\n",
       "    <tr>\n",
       "      <th>max</th>\n",
       "      <td>0.822204</td>\n",
       "      <td>0.425462</td>\n",
       "      <td>4.280950</td>\n",
       "      <td>0.231046</td>\n",
       "      <td>1.230987</td>\n",
       "      <td>3.405268</td>\n",
       "      <td>1.094158</td>\n",
       "    </tr>\n",
       "  </tbody>\n",
       "</table>\n",
       "</div>"
      ],
      "text/plain": [
       "         ALB_ZBRA    NRG_CPRT      DE_BXP     NRG_STE    NRG_XRAY     SO_NLOK  \\\n",
       "count  497.000000  497.000000  497.000000  497.000000  497.000000  497.000000   \n",
       "mean     0.439148    0.296925    3.242148    0.178814    0.728099    2.664304   \n",
       "std      0.134129    0.038166    0.309264    0.017806    0.170586    0.296301   \n",
       "min      0.279760    0.219809    2.513787    0.147486    0.464028    2.094566   \n",
       "25%      0.336085    0.270483    3.054503    0.164950    0.624090    2.436779   \n",
       "50%      0.403014    0.290112    3.224409    0.175372    0.691772    2.649792   \n",
       "75%      0.464571    0.316606    3.435012    0.189553    0.742545    2.861494   \n",
       "max      0.822204    0.425462    4.280950    0.231046    1.230987    3.405268   \n",
       "\n",
       "            PEG_O  \n",
       "count  497.000000  \n",
       "mean     0.960830  \n",
       "std      0.047787  \n",
       "min      0.829956  \n",
       "25%      0.928549  \n",
       "50%      0.960627  \n",
       "75%      0.994654  \n",
       "max      1.094158  "
      ]
     },
     "execution_count": 4,
     "metadata": {},
     "output_type": "execute_result"
    }
   ],
   "source": [
    "df.describe()"
   ]
  },
  {
   "cell_type": "code",
   "execution_count": 5,
   "id": "9d3d4ae0",
   "metadata": {
    "tags": []
   },
   "outputs": [
    {
     "name": "stdout",
     "output_type": "stream",
     "text": [
      "<class 'pandas.core.frame.DataFrame'>\n",
      "RangeIndex: 497 entries, 0 to 496\n",
      "Data columns (total 8 columns):\n",
      " #   Column    Non-Null Count  Dtype  \n",
      "---  ------    --------------  -----  \n",
      " 0   Date      497 non-null    object \n",
      " 1   ALB_ZBRA  497 non-null    float64\n",
      " 2   NRG_CPRT  497 non-null    float64\n",
      " 3   DE_BXP    497 non-null    float64\n",
      " 4   NRG_STE   497 non-null    float64\n",
      " 5   NRG_XRAY  497 non-null    float64\n",
      " 6   SO_NLOK   497 non-null    float64\n",
      " 7   PEG_O     497 non-null    float64\n",
      "dtypes: float64(7), object(1)\n",
      "memory usage: 31.2+ KB\n"
     ]
    }
   ],
   "source": [
    "df.info()"
   ]
  },
  {
   "cell_type": "markdown",
   "id": "6cbb39a8-a85b-40b1-8417-82a737285e38",
   "metadata": {},
   "source": [
    "## Implemenation refactored"
   ]
  },
  {
   "cell_type": "code",
   "execution_count": 57,
   "id": "8bb8040f-18cc-415a-91aa-0d43c472a485",
   "metadata": {
    "tags": []
   },
   "outputs": [],
   "source": [
    "# R\n",
    "# split into train/test\n",
    "one_ratio_df = pd.DataFrame(df[['Date', 'ALB_ZBRA']])#[ratio]\n",
    "train_data, validation_data, length_train, length_validation = split_train_val(one_ratio_df)\n",
    "# call train_split\n",
    "dataset_train_scaled = train_split(train_data)\n",
    "# create X_train, y_train\n",
    "X_train, X_val, y_train, y_val, time_step = create_x_y_train(dataset_train_scaled, length_train)\n",
    "# create X_test, y_test\n",
    "X_test, y_test = create_x_y_test(validation_data, length_validation, time_step)"
   ]
  },
  {
   "cell_type": "code",
   "execution_count": null,
   "id": "28400d50",
   "metadata": {},
   "outputs": [],
   "source": [
    "# we check first chosen ratios first (here: ALB_ZBRA)\n",
    "df_small=df.iloc[:,[0,2]]\n",
    "df_small.head()"
   ]
  },
  {
   "cell_type": "code",
   "execution_count": null,
   "id": "e1e6c7e3",
   "metadata": {},
   "outputs": [],
   "source": [
    "df_small.shape"
   ]
  },
  {
   "cell_type": "code",
   "execution_count": null,
   "id": "e1f98c36",
   "metadata": {
    "scrolled": true
   },
   "outputs": [],
   "source": [
    "df_small.info()"
   ]
  },
  {
   "cell_type": "markdown",
   "id": "aca3fe1e",
   "metadata": {},
   "source": [
    "## Splitting Data in Train and Validation"
   ]
  },
  {
   "cell_type": "code",
   "execution_count": 52,
   "id": "b389d319-920c-48b0-a562-bebac5e0fd16",
   "metadata": {},
   "outputs": [],
   "source": [
    "# R\n",
    "def split_train_val(df):\n",
    "    length_data = len(df)    \n",
    "    split_ratio = 0.7           # %70 train + %30 validation\n",
    "    length_train = round(length_data * split_ratio)  \n",
    "    length_validation = length_data - length_train\n",
    "    #print(\"Data length :\", length_data)\n",
    "    #print(\"Train data length:\", length_train)\n",
    "    #print(\"Validation data lenth:\", length_validation)\n",
    "    \n",
    "    train_data = df[:length_train].iloc[:,:2] \n",
    "    train_data['Date'] = pd.to_datetime(train_data['Date'])  # converting to date time object\n",
    "\n",
    "    validation_data = df[length_train:].iloc[:,:2]\n",
    "    validation_data['Date'] = pd.to_datetime(validation_data['Date'])  # converting to date time object\n",
    "    \n",
    "    return train_data, validation_data, length_train, length_validation"
   ]
  },
  {
   "cell_type": "code",
   "execution_count": null,
   "id": "cb40fc1e",
   "metadata": {},
   "outputs": [],
   "source": [
    "length_data = len(df_small)    \n",
    "split_ratio = 0.7           # %70 train + %30 validation\n",
    "length_train = round(length_data * split_ratio)  \n",
    "length_validation = length_data - length_train\n",
    "print(\"Data length :\", length_data)\n",
    "print(\"Train data length:\", length_train)\n",
    "print(\"Validation data lenth:\", length_validation)"
   ]
  },
  {
   "cell_type": "code",
   "execution_count": null,
   "id": "3f3479f6",
   "metadata": {},
   "outputs": [],
   "source": [
    "# train_data\n",
    "train_data = df_small[:length_train].iloc[:,:2] \n",
    "train_data['Date'] = pd.to_datetime(train_data['Date'])  # converting to date time object\n",
    "train_data"
   ]
  },
  {
   "cell_type": "code",
   "execution_count": null,
   "id": "d106ac80",
   "metadata": {},
   "outputs": [],
   "source": [
    "# validation_data\n",
    "validation_data = df_small[length_train:].iloc[:,:2]\n",
    "validation_data['Date'] = pd.to_datetime(validation_data['Date'])  # converting to date time object\n",
    "validation_data"
   ]
  },
  {
   "cell_type": "markdown",
   "id": "1814e915",
   "metadata": {},
   "source": [
    "## Creating Train Dataset from Train split"
   ]
  },
  {
   "cell_type": "code",
   "execution_count": 8,
   "id": "94d3c82a-7c02-461f-8edc-1ce77013b646",
   "metadata": {},
   "outputs": [],
   "source": [
    "# R\n",
    "# create dataset from train split\n",
    "def train_split(train_data):\n",
    "    dataset_train = train_data.iloc[:, 1].values\n",
    "    # Change 1d array to 2d array\n",
    "    # Changing shape from (1692,) to (1692,1)\n",
    "    dataset_train = np.reshape(dataset_train, (-1,1))\n",
    "    #dataset_train.shape\n",
    "    dataset_train_scaled = dataset_train\n",
    "    \n",
    "    return dataset_train_scaled"
   ]
  },
  {
   "cell_type": "code",
   "execution_count": null,
   "id": "9384adb6",
   "metadata": {},
   "outputs": [],
   "source": [
    "dataset_train = train_data.iloc[:, 1].values\n",
    "dataset_train.shape"
   ]
  },
  {
   "cell_type": "code",
   "execution_count": null,
   "id": "517d74c8",
   "metadata": {},
   "outputs": [],
   "source": [
    "# Change 1d array to 2d array\n",
    "# Changing shape from (1692,) to (1692,1)\n",
    "dataset_train = np.reshape(dataset_train, (-1,1))\n",
    "dataset_train.shape"
   ]
  },
  {
   "cell_type": "markdown",
   "id": "bb1fd70a",
   "metadata": {},
   "source": [
    "## Normalization / Feature Scaling not needed/recommended"
   ]
  },
  {
   "cell_type": "code",
   "execution_count": null,
   "id": "05335f24",
   "metadata": {},
   "outputs": [],
   "source": [
    "dataset_train_scaled = dataset_train"
   ]
  },
  {
   "cell_type": "markdown",
   "id": "1a8aff56",
   "metadata": {},
   "source": [
    "## Creating X_train and y_train from Train data "
   ]
  },
  {
   "cell_type": "markdown",
   "id": "be9c4316",
   "metadata": {},
   "source": [
    "We have train data composed of ratios over days\n",
    "\n",
    "So, it has 1184 ratios corresponding 1184 days\n",
    "\n",
    "My aim is to predict the ratio (closing) of the next day.\n",
    "\n",
    "I can use a time step of 2 days.\n",
    "\n",
    "I will pick first 2 ratios (day 0 to 2), 1st 2 ratio will be in \n",
    "X_train data\n",
    "\n",
    "Then predict the ratio of 3rd day; and 3rd ratio will be in y_train data\n",
    "\n",
    "Again, i will pick ratios from 1 to 3, those will be in X_train data\n",
    "\n",
    "Then predict the next days ratio, 4th ratio will be in y_train data\n",
    "\n"
   ]
  },
  {
   "cell_type": "code",
   "execution_count": 50,
   "id": "d232ae2f-f760-4504-a494-3a0d13e9478a",
   "metadata": {},
   "outputs": [],
   "source": [
    "def create_x_y_train(df, length_train):\n",
    "    X_train = []\n",
    "    y_train = []\n",
    "\n",
    "    time_step = 20 #change that?\n",
    "\n",
    "    for i in range(time_step, length_train):\n",
    "        X_train.append(dataset_train_scaled[i-time_step:i,0:1])\n",
    "        y_train.append(dataset_train_scaled[i,0:1])\n",
    "\n",
    "    # convert list to array\n",
    "    X_train, y_train = np.array(X_train), np.array(y_train)\n",
    "    \n",
    "    X_train = np.reshape(X_train, (X_train.shape[0], X_train.shape[1],1))\n",
    "    y_train = np.reshape(y_train, (y_train.shape[0],1))\n",
    "    \n",
    "    X_train = X_train[:int(X_train.shape[0]*0.95)]\n",
    "    X_val = X_train[int(X_train.shape[0]*0.95):]\n",
    "    y_train = y_train[:int(y_train.shape[0]*0.95)]\n",
    "    y_val = y_train[int(y_train.shape[0]*0.95):]\n",
    "    \n",
    "    return X_train, X_val, y_train, y_val, time_step"
   ]
  },
  {
   "cell_type": "code",
   "execution_count": null,
   "id": "6c47c074",
   "metadata": {},
   "outputs": [],
   "source": [
    "X_train = []\n",
    "y_train = []\n",
    "\n",
    "time_step = 20 #change that?\n",
    "\n",
    "for i in range(time_step, length_train):\n",
    "    X_train.append(dataset_train_scaled[i-time_step:i,0:1])\n",
    "    y_train.append(dataset_train_scaled[i,0:1])\n",
    "    \n",
    "# convert list to array\n",
    "X_train, y_train = np.array(X_train), np.array(y_train)"
   ]
  },
  {
   "cell_type": "code",
   "execution_count": null,
   "id": "363e7d05",
   "metadata": {},
   "outputs": [],
   "source": [
    "X_train.shape"
   ]
  },
  {
   "cell_type": "code",
   "execution_count": null,
   "id": "4ae00ff6",
   "metadata": {},
   "outputs": [],
   "source": [
    "pd.Series([len(X) for X in X_train]).describe()"
   ]
  },
  {
   "cell_type": "code",
   "execution_count": null,
   "id": "7cd01a74",
   "metadata": {},
   "outputs": [],
   "source": [
    "dataset_train_scaled[i-time_step:i]"
   ]
  },
  {
   "cell_type": "code",
   "execution_count": null,
   "id": "47a2612d",
   "metadata": {},
   "outputs": [],
   "source": [
    "dataset_train_scaled[i,0]"
   ]
  },
  {
   "cell_type": "code",
   "execution_count": null,
   "id": "68467185",
   "metadata": {},
   "outputs": [],
   "source": [
    "print(\"Shape of X_train before reshape:\",X_train.shape)\n",
    "print(\"Shape of y_train before reshape:\",y_train.shape)"
   ]
  },
  {
   "cell_type": "code",
   "execution_count": null,
   "id": "f725b6e2",
   "metadata": {},
   "outputs": [],
   "source": [
    "X_train = np.reshape(X_train, (X_train.shape[0], X_train.shape[1],1))\n",
    "y_train = np.reshape(y_train, (y_train.shape[0],1))\n",
    "\n",
    "print(\"Shape of X_train after reshape :\",X_train.shape)\n",
    "print(\"Shape of y_train after reshape :\",y_train.shape)"
   ]
  },
  {
   "cell_type": "code",
   "execution_count": null,
   "id": "fa4a4b8d",
   "metadata": {},
   "outputs": [],
   "source": [
    "X_train[0]"
   ]
  },
  {
   "cell_type": "code",
   "execution_count": null,
   "id": "063a84d2",
   "metadata": {},
   "outputs": [],
   "source": [
    "X_train = X_train[:int(X_train.shape[0]*0.95)]\n",
    "X_val = X_train[int(X_train.shape[0]*0.95):]\n",
    "y_train = y_train[:int(y_train.shape[0]*0.95)]\n",
    "y_val = y_train[int(y_train.shape[0]*0.95):]"
   ]
  },
  {
   "cell_type": "markdown",
   "id": "3da4e900",
   "metadata": {},
   "source": [
    "Check the first item in y_train\n",
    "It is the ratio of 2nd day (timestep 2)"
   ]
  },
  {
   "cell_type": "code",
   "execution_count": null,
   "id": "27da9c01",
   "metadata": {},
   "outputs": [],
   "source": [
    "y_train[0]"
   ]
  },
  {
   "cell_type": "markdown",
   "id": "14f39577",
   "metadata": {},
   "source": [
    "## Creating Test Dataset from Validation Data"
   ]
  },
  {
   "cell_type": "code",
   "execution_count": 56,
   "id": "baeb444d-245b-493f-a320-891d70131245",
   "metadata": {},
   "outputs": [],
   "source": [
    "# R\n",
    "#Converting array and scaling\n",
    "def create_x_y_test(validation_data, length_validation, time_step):\n",
    "    dataset_validation = validation_data.iloc[:,1].values  # getting \"Ratio\" column and converting to array\n",
    "    dataset_validation = np.reshape(dataset_validation, (-1,1))  # converting 1D to 2D array\n",
    "    #scaled_dataset_validation =  scaler.fit_transform(dataset_validation)  # scaling  values to between 0 and 1\n",
    "    scaled_dataset_validation = dataset_validation\n",
    "    \n",
    "    X_test = []\n",
    "    y_test = []\n",
    "\n",
    "    for i in range(time_step, length_validation):\n",
    "        X_test.append(scaled_dataset_validation[i-time_step:i,0])\n",
    "        y_test.append(scaled_dataset_validation[i,0])\n",
    "        \n",
    "    # Converting to array\n",
    "    X_test, y_test = np.array(X_test), np.array(y_test)\n",
    "    X_test = np.reshape(X_test, (X_test.shape[0],X_test.shape[1],1))  # reshape to 3D array\n",
    "    y_test = np.reshape(y_test, (-1,1))  # reshape to 2D array\n",
    "    \n",
    "    return X_test, y_test"
   ]
  },
  {
   "cell_type": "code",
   "execution_count": null,
   "id": "97ceffc5",
   "metadata": {},
   "outputs": [],
   "source": [
    "#Converting array and scaling\n",
    "dataset_validation = validation_data.iloc[:,1].values  # getting \"Ratio\" column and converting to array\n",
    "dataset_validation = np.reshape(dataset_validation, (-1,1))  # converting 1D to 2D array\n",
    "#scaled_dataset_validation =  scaler.fit_transform(dataset_validation)  # scaling  values to between 0 and 1\n",
    "scaled_dataset_validation = dataset_validation \n",
    "\n",
    "print(\"Shape of scaled validation dataset :\",scaled_dataset_validation.shape)"
   ]
  },
  {
   "cell_type": "code",
   "execution_count": null,
   "id": "decab60e",
   "metadata": {},
   "outputs": [],
   "source": [
    "#Creating X_test and y_test\n",
    "X_test = []\n",
    "y_test = []\n",
    "\n",
    "for i in range(time_step, length_validation):\n",
    "    X_test.append(scaled_dataset_validation[i-time_step:i,0])\n",
    "    y_test.append(scaled_dataset_validation[i,0])"
   ]
  },
  {
   "cell_type": "code",
   "execution_count": null,
   "id": "dc2afed9",
   "metadata": {},
   "outputs": [],
   "source": [
    "# Converting to array\n",
    "X_test, y_test = np.array(X_test), np.array(y_test)"
   ]
  },
  {
   "cell_type": "code",
   "execution_count": null,
   "id": "862dd185",
   "metadata": {},
   "outputs": [],
   "source": [
    "print(\"Shape of X_test before reshape :\",X_test.shape)\n",
    "print(\"Shape of y_test before reshape :\",y_test.shape)"
   ]
  },
  {
   "cell_type": "code",
   "execution_count": null,
   "id": "71647c8e",
   "metadata": {},
   "outputs": [],
   "source": [
    "#reshape\n",
    "X_test = np.reshape(X_test, (X_test.shape[0],X_test.shape[1],1))  # reshape to 3D array\n",
    "y_test = np.reshape(y_test, (-1,1))  # reshape to 2D array"
   ]
  },
  {
   "cell_type": "code",
   "execution_count": null,
   "id": "12546280",
   "metadata": {},
   "outputs": [],
   "source": [
    "print(\"Shape of X_test after reshape :\",X_test.shape)\n",
    "print(\"Shape of y_test after reshape :\",y_test.shape)"
   ]
  },
  {
   "cell_type": "markdown",
   "id": "1766270e",
   "metadata": {},
   "source": [
    "## Creating LSTM Model"
   ]
  },
  {
   "cell_type": "code",
   "execution_count": null,
   "id": "5fb92a44",
   "metadata": {},
   "outputs": [],
   "source": [
    "y_train.min()"
   ]
  },
  {
   "cell_type": "code",
   "execution_count": null,
   "id": "71ccc544",
   "metadata": {},
   "outputs": [],
   "source": [
    "X_train.shape"
   ]
  },
  {
   "cell_type": "code",
   "execution_count": null,
   "id": "3bd40d43",
   "metadata": {},
   "outputs": [],
   "source": [
    "y_train.shape"
   ]
  },
  {
   "cell_type": "code",
   "execution_count": 60,
   "id": "6eec916a",
   "metadata": {
    "collapsed": true,
    "jupyter": {
     "outputs_hidden": true
    },
    "tags": []
   },
   "outputs": [
    {
     "name": "stderr",
     "output_type": "stream",
     "text": [
      "2022-09-06 21:19:21.381430: I tensorflow/core/platform/cpu_feature_guard.cc:142] This TensorFlow binary is optimized with oneAPI Deep Neural Network Library (oneDNN) to use the following CPU instructions in performance-critical operations:  SSE4.2\n",
      "To enable them in other operations, rebuild TensorFlow with the appropriate compiler flags.\n",
      "2022-09-06 21:19:21.678394: I tensorflow/compiler/mlir/mlir_graph_optimization_pass.cc:176] None of the MLIR Optimization Passes are enabled (registered 2)\n"
     ]
    },
    {
     "name": "stdout",
     "output_type": "stream",
     "text": [
      "Epoch 1/400\n",
      "5/5 [==============================] - 11s 108ms/step - loss: 100.6848 - mae: 0.3742 - mape: 100.6848 - val_loss: 50.3967 - val_mae: 0.2102 - val_mape: 50.3967\n",
      "Epoch 2/400\n",
      "5/5 [==============================] - 0s 7ms/step - loss: 32.4053 - mae: 0.1230 - mape: 32.4053 - val_loss: 8.9192 - val_mae: 0.0379 - val_mape: 8.9192\n",
      "Epoch 3/400\n",
      "5/5 [==============================] - 0s 7ms/step - loss: 8.4761 - mae: 0.0321 - mape: 8.4761 - val_loss: 9.9211 - val_mae: 0.0420 - val_mape: 9.9211\n",
      "Epoch 4/400\n",
      "5/5 [==============================] - 0s 7ms/step - loss: 7.8852 - mae: 0.0301 - mape: 7.8852 - val_loss: 5.1883 - val_mae: 0.0223 - val_mape: 5.1883\n",
      "Epoch 5/400\n",
      "5/5 [==============================] - 0s 7ms/step - loss: 8.2310 - mae: 0.0307 - mape: 8.2310 - val_loss: 3.2017 - val_mae: 0.0130 - val_mape: 3.2017\n",
      "Epoch 6/400\n",
      "5/5 [==============================] - 0s 7ms/step - loss: 8.5882 - mae: 0.0313 - mape: 8.5882 - val_loss: 3.4113 - val_mae: 0.0144 - val_mape: 3.4113\n",
      "Epoch 7/400\n",
      "5/5 [==============================] - 0s 7ms/step - loss: 7.5682 - mae: 0.0277 - mape: 7.5682 - val_loss: 6.4734 - val_mae: 0.0276 - val_mape: 6.4734\n",
      "Epoch 8/400\n",
      "5/5 [==============================] - 0s 7ms/step - loss: 7.0988 - mae: 0.0267 - mape: 7.0988 - val_loss: 11.7961 - val_mae: 0.0497 - val_mape: 11.7961\n",
      "Epoch 9/400\n",
      "5/5 [==============================] - 0s 6ms/step - loss: 7.6368 - mae: 0.0295 - mape: 7.6368 - val_loss: 2.9478 - val_mae: 0.0119 - val_mape: 2.9478\n",
      "Epoch 10/400\n",
      "5/5 [==============================] - 0s 6ms/step - loss: 7.0660 - mae: 0.0256 - mape: 7.0660 - val_loss: 6.5384 - val_mae: 0.0278 - val_mape: 6.5384\n",
      "Epoch 11/400\n",
      "5/5 [==============================] - 0s 6ms/step - loss: 6.0321 - mae: 0.0228 - mape: 6.0321 - val_loss: 2.7534 - val_mae: 0.0112 - val_mape: 2.7534\n",
      "Epoch 12/400\n",
      "5/5 [==============================] - 0s 6ms/step - loss: 7.5672 - mae: 0.0276 - mape: 7.5672 - val_loss: 3.1150 - val_mae: 0.0132 - val_mape: 3.1150\n",
      "Epoch 13/400\n",
      "5/5 [==============================] - 0s 6ms/step - loss: 5.9524 - mae: 0.0219 - mape: 5.9524 - val_loss: 6.3825 - val_mae: 0.0271 - val_mape: 6.3825\n",
      "Epoch 14/400\n",
      "5/5 [==============================] - 0s 6ms/step - loss: 6.4353 - mae: 0.0241 - mape: 6.4353 - val_loss: 2.5884 - val_mae: 0.0105 - val_mape: 2.5884\n",
      "Epoch 15/400\n",
      "5/5 [==============================] - 0s 7ms/step - loss: 5.9790 - mae: 0.0216 - mape: 5.9790 - val_loss: 4.7831 - val_mae: 0.0205 - val_mape: 4.7831\n",
      "Epoch 16/400\n",
      "5/5 [==============================] - 0s 7ms/step - loss: 5.2404 - mae: 0.0194 - mape: 5.2404 - val_loss: 2.6233 - val_mae: 0.0106 - val_mape: 2.6233\n",
      "Epoch 17/400\n",
      "5/5 [==============================] - 0s 7ms/step - loss: 5.2080 - mae: 0.0189 - mape: 5.2080 - val_loss: 7.8673 - val_mae: 0.0332 - val_mape: 7.8673\n",
      "Epoch 18/400\n",
      "5/5 [==============================] - 0s 6ms/step - loss: 6.8104 - mae: 0.0253 - mape: 6.8104 - val_loss: 3.5383 - val_mae: 0.0142 - val_mape: 3.5383\n",
      "Epoch 19/400\n",
      "5/5 [==============================] - 0s 6ms/step - loss: 6.5396 - mae: 0.0235 - mape: 6.5396 - val_loss: 2.2846 - val_mae: 0.0094 - val_mape: 2.2846\n",
      "Epoch 20/400\n",
      "5/5 [==============================] - 0s 6ms/step - loss: 4.6403 - mae: 0.0170 - mape: 4.6403 - val_loss: 4.4273 - val_mae: 0.0189 - val_mape: 4.4273\n",
      "Epoch 21/400\n",
      "5/5 [==============================] - 0s 6ms/step - loss: 5.0871 - mae: 0.0192 - mape: 5.0871 - val_loss: 4.5588 - val_mae: 0.0185 - val_mape: 4.5588\n",
      "Epoch 22/400\n",
      "5/5 [==============================] - 0s 6ms/step - loss: 5.8378 - mae: 0.0211 - mape: 5.8378 - val_loss: 5.6965 - val_mae: 0.0241 - val_mape: 5.6965\n",
      "Epoch 23/400\n",
      "5/5 [==============================] - 0s 7ms/step - loss: 6.8221 - mae: 0.0254 - mape: 6.8221 - val_loss: 3.3107 - val_mae: 0.0133 - val_mape: 3.3107\n",
      "Epoch 24/400\n",
      "5/5 [==============================] - 0s 7ms/step - loss: 4.7288 - mae: 0.0171 - mape: 4.7288 - val_loss: 4.9183 - val_mae: 0.0209 - val_mape: 4.9183\n",
      "Epoch 25/400\n",
      "5/5 [==============================] - 0s 7ms/step - loss: 5.0429 - mae: 0.0189 - mape: 5.0429 - val_loss: 2.2232 - val_mae: 0.0090 - val_mape: 2.2232\n",
      "Epoch 26/400\n",
      "5/5 [==============================] - 0s 6ms/step - loss: 4.8963 - mae: 0.0179 - mape: 4.8963 - val_loss: 5.7798 - val_mae: 0.0245 - val_mape: 5.7798\n",
      "Epoch 27/400\n",
      "5/5 [==============================] - 0s 7ms/step - loss: 6.2888 - mae: 0.0239 - mape: 6.2888 - val_loss: 3.4028 - val_mae: 0.0137 - val_mape: 3.4028\n",
      "Epoch 28/400\n",
      "5/5 [==============================] - 0s 6ms/step - loss: 4.9841 - mae: 0.0180 - mape: 4.9841 - val_loss: 5.3340 - val_mae: 0.0226 - val_mape: 5.3340\n",
      "Epoch 29/400\n",
      "5/5 [==============================] - 0s 6ms/step - loss: 4.6060 - mae: 0.0172 - mape: 4.6060 - val_loss: 2.3011 - val_mae: 0.0093 - val_mape: 2.3011\n",
      "Epoch 30/400\n",
      "5/5 [==============================] - 0s 6ms/step - loss: 4.9371 - mae: 0.0179 - mape: 4.9371 - val_loss: 3.9586 - val_mae: 0.0169 - val_mape: 3.9586\n",
      "Epoch 31/400\n",
      "5/5 [==============================] - 0s 7ms/step - loss: 5.6758 - mae: 0.0212 - mape: 5.6758 - val_loss: 3.6179 - val_mae: 0.0146 - val_mape: 3.6179\n",
      "Epoch 32/400\n",
      "5/5 [==============================] - 0s 7ms/step - loss: 4.5250 - mae: 0.0163 - mape: 4.5250 - val_loss: 2.6646 - val_mae: 0.0114 - val_mape: 2.6646\n",
      "Epoch 33/400\n",
      "5/5 [==============================] - 0s 7ms/step - loss: 4.5187 - mae: 0.0168 - mape: 4.5187 - val_loss: 4.2570 - val_mae: 0.0173 - val_mape: 4.2570\n",
      "Epoch 34/400\n",
      "5/5 [==============================] - 0s 7ms/step - loss: 4.5979 - mae: 0.0165 - mape: 4.5979 - val_loss: 2.8714 - val_mae: 0.0123 - val_mape: 2.8714\n",
      "Epoch 35/400\n",
      "5/5 [==============================] - 0s 6ms/step - loss: 5.0828 - mae: 0.0188 - mape: 5.0828 - val_loss: 4.0922 - val_mae: 0.0166 - val_mape: 4.0922\n",
      "Epoch 36/400\n",
      "5/5 [==============================] - 0s 6ms/step - loss: 4.9567 - mae: 0.0178 - mape: 4.9567 - val_loss: 2.8944 - val_mae: 0.0124 - val_mape: 2.8944\n",
      "Epoch 37/400\n",
      "5/5 [==============================] - 0s 6ms/step - loss: 5.0607 - mae: 0.0188 - mape: 5.0607 - val_loss: 5.0255 - val_mae: 0.0205 - val_mape: 5.0255\n",
      "Epoch 38/400\n",
      "5/5 [==============================] - 0s 6ms/step - loss: 3.7073 - mae: 0.0133 - mape: 3.7073 - val_loss: 2.2510 - val_mae: 0.0096 - val_mape: 2.2510\n",
      "Epoch 39/400\n",
      "5/5 [==============================] - 0s 6ms/step - loss: 4.4483 - mae: 0.0164 - mape: 4.4483 - val_loss: 5.0095 - val_mae: 0.0205 - val_mape: 5.0095\n",
      "Epoch 40/400\n",
      "5/5 [==============================] - 0s 7ms/step - loss: 4.8692 - mae: 0.0176 - mape: 4.8692 - val_loss: 2.9628 - val_mae: 0.0126 - val_mape: 2.9628\n",
      "Epoch 41/400\n",
      "5/5 [==============================] - 0s 7ms/step - loss: 4.4198 - mae: 0.0161 - mape: 4.4198 - val_loss: 3.9157 - val_mae: 0.0159 - val_mape: 3.9157\n",
      "Epoch 42/400\n",
      "5/5 [==============================] - 0s 6ms/step - loss: 3.5627 - mae: 0.0128 - mape: 3.5627 - val_loss: 1.8710 - val_mae: 0.0079 - val_mape: 1.8710\n",
      "Epoch 43/400\n",
      "5/5 [==============================] - 0s 6ms/step - loss: 3.2948 - mae: 0.0122 - mape: 3.2948 - val_loss: 3.9206 - val_mae: 0.0160 - val_mape: 3.9206\n",
      "Epoch 44/400\n",
      "5/5 [==============================] - 0s 7ms/step - loss: 4.6697 - mae: 0.0170 - mape: 4.6697 - val_loss: 4.3374 - val_mae: 0.0184 - val_mape: 4.3374\n",
      "Epoch 45/400\n",
      "5/5 [==============================] - 0s 7ms/step - loss: 5.1544 - mae: 0.0193 - mape: 5.1544 - val_loss: 4.2242 - val_mae: 0.0172 - val_mape: 4.2242\n",
      "Epoch 46/400\n",
      "5/5 [==============================] - 0s 7ms/step - loss: 4.3920 - mae: 0.0160 - mape: 4.3920 - val_loss: 2.0765 - val_mae: 0.0088 - val_mape: 2.0765\n",
      "Epoch 47/400\n",
      "5/5 [==============================] - 0s 7ms/step - loss: 3.7331 - mae: 0.0140 - mape: 3.7331 - val_loss: 5.1579 - val_mae: 0.0211 - val_mape: 5.1579\n",
      "Epoch 48/400\n",
      "5/5 [==============================] - 0s 12ms/step - loss: 4.6821 - mae: 0.0167 - mape: 4.6821 - val_loss: 2.2344 - val_mae: 0.0095 - val_mape: 2.2344\n",
      "Epoch 49/400\n",
      "5/5 [==============================] - 0s 7ms/step - loss: 3.9924 - mae: 0.0147 - mape: 3.9924 - val_loss: 2.3070 - val_mae: 0.0093 - val_mape: 2.3070\n",
      "Epoch 50/400\n",
      "5/5 [==============================] - 0s 7ms/step - loss: 3.4228 - mae: 0.0124 - mape: 3.4228 - val_loss: 6.2042 - val_mae: 0.0255 - val_mape: 6.2042\n",
      "Epoch 51/400\n",
      "5/5 [==============================] - 0s 7ms/step - loss: 3.9282 - mae: 0.0140 - mape: 3.9282 - val_loss: 2.7908 - val_mae: 0.0119 - val_mape: 2.7908\n",
      "Epoch 52/400\n",
      "5/5 [==============================] - 0s 6ms/step - loss: 4.2816 - mae: 0.0159 - mape: 4.2816 - val_loss: 3.0524 - val_mae: 0.0124 - val_mape: 3.0524\n",
      "Epoch 53/400\n",
      "5/5 [==============================] - 0s 7ms/step - loss: 4.1742 - mae: 0.0153 - mape: 4.1742 - val_loss: 2.9502 - val_mae: 0.0126 - val_mape: 2.9502\n",
      "Epoch 54/400\n",
      "5/5 [==============================] - 0s 7ms/step - loss: 4.2310 - mae: 0.0157 - mape: 4.2310 - val_loss: 3.1701 - val_mae: 0.0129 - val_mape: 3.1701\n",
      "Epoch 55/400\n",
      "5/5 [==============================] - 0s 6ms/step - loss: 4.1049 - mae: 0.0149 - mape: 4.1049 - val_loss: 3.1842 - val_mae: 0.0135 - val_mape: 3.1842\n",
      "Epoch 56/400\n",
      "5/5 [==============================] - 0s 6ms/step - loss: 4.5223 - mae: 0.0167 - mape: 4.5223 - val_loss: 3.5071 - val_mae: 0.0143 - val_mape: 3.5071\n",
      "Epoch 57/400\n",
      "5/5 [==============================] - 0s 7ms/step - loss: 3.1853 - mae: 0.0115 - mape: 3.1853 - val_loss: 3.0408 - val_mae: 0.0129 - val_mape: 3.0408\n",
      "Epoch 58/400\n",
      "5/5 [==============================] - 0s 7ms/step - loss: 4.9821 - mae: 0.0184 - mape: 4.9821 - val_loss: 5.1907 - val_mae: 0.0213 - val_mape: 5.1907\n",
      "Epoch 59/400\n",
      "5/5 [==============================] - 0s 7ms/step - loss: 3.6042 - mae: 0.0130 - mape: 3.6042 - val_loss: 2.2045 - val_mae: 0.0094 - val_mape: 2.2045\n",
      "Epoch 60/400\n",
      "5/5 [==============================] - 0s 6ms/step - loss: 4.3292 - mae: 0.0159 - mape: 4.3292 - val_loss: 4.7033 - val_mae: 0.0192 - val_mape: 4.7033\n",
      "Epoch 61/400\n",
      "5/5 [==============================] - 0s 6ms/step - loss: 4.0076 - mae: 0.0145 - mape: 4.0076 - val_loss: 1.9330 - val_mae: 0.0082 - val_mape: 1.9330\n",
      "Epoch 62/400\n",
      "5/5 [==============================] - 0s 6ms/step - loss: 3.4698 - mae: 0.0128 - mape: 3.4698 - val_loss: 5.1443 - val_mae: 0.0211 - val_mape: 5.1443\n"
     ]
    }
   ],
   "source": [
    "from keras.layers import LSTM\n",
    "from keras.models import Sequential\n",
    "from tensorflow.keras.callbacks import EarlyStopping\n",
    "from keras.layers import Dense\n",
    "\n",
    "\n",
    "es = EarlyStopping(patience=20, restore_best_weights=True)\n",
    "model_lstm = Sequential()\n",
    "\n",
    "model_lstm.add(LSTM(20,return_sequences=False,input_shape = (X_train.shape[1],1))) #64 lstm neuron block\n",
    "model_lstm.add(Dense(32))\n",
    "model_lstm.add(Dense(1))\n",
    "\n",
    "model_lstm.compile(loss = \"mape\", optimizer = \"rmsprop\", metrics = [\"mae\", \"mape\"])\n",
    "history2 = model_lstm.fit(X_train, y_train, epochs = 400, batch_size = 64,validation_data = (X_val, y_val),callbacks=[es])"
   ]
  },
  {
   "cell_type": "markdown",
   "id": "8e6307d6",
   "metadata": {},
   "source": [
    "## Evaluating LSTM Model"
   ]
  },
  {
   "cell_type": "code",
   "execution_count": 61,
   "id": "52188f85",
   "metadata": {},
   "outputs": [
    {
     "name": "stdout",
     "output_type": "stream",
     "text": [
      "5/5 [==============================] - 0s 2ms/step - loss: 7.2049 - mae: 0.0469 - mape: 7.2049\n"
     ]
    },
    {
     "data": {
      "text/plain": [
       "[7.204861164093018, 0.04687449708580971, 7.204861164093018]"
      ]
     },
     "execution_count": 61,
     "metadata": {},
     "output_type": "execute_result"
    }
   ],
   "source": [
    "model_lstm.evaluate(X_test, y_test)"
   ]
  },
  {
   "cell_type": "code",
   "execution_count": 62,
   "id": "dd15ed8d",
   "metadata": {},
   "outputs": [
    {
     "data": {
      "image/png": "[encoded data removed]",
      "text/plain": [
       "<Figure size 720x360 with 1 Axes>"
      ]
     },
     "metadata": {
      "needs_background": "light"
     },
     "output_type": "display_data"
    }
   ],
   "source": [
    "plt.figure(figsize =(10,5))\n",
    "plt.plot(history2.history[\"loss\"])\n",
    "plt.xlabel(\"Epochs\")\n",
    "plt.ylabel(\"Losses\")\n",
    "plt.title(\"LSTM model, Accuracy vs Epoch\")\n",
    "plt.show()"
   ]
  },
  {
   "cell_type": "code",
   "execution_count": 63,
   "id": "f220f978",
   "metadata": {
    "scrolled": true
   },
   "outputs": [
    {
     "data": {
      "image/png": "[encoded data removed]",
      "text/plain": [
       "<Figure size 2160x864 with 1 Axes>"
      ]
     },
     "metadata": {
      "needs_background": "light"
     },
     "output_type": "display_data"
    }
   ],
   "source": [
    "plt.subplots(figsize =(30,12))\n",
    "plt.plot(model_lstm.predict(X_test), label = \"y_pred_of_test\", c = \"orange\" )\n",
    "plt.plot(y_test, label = \"y_test\", color = \"g\")\n",
    "plt.xlabel(\"Days\")\n",
    "plt.ylabel(\"Ratio\")\n",
    "plt.title(\"LSTM model, Predictions with input X_test vs y_test\")\n",
    "plt.legend()\n",
    "plt.show()"
   ]
  },
  {
   "cell_type": "markdown",
   "id": "a2d513da",
   "metadata": {},
   "source": [
    "## Future ratio prediction"
   ]
  },
  {
   "cell_type": "code",
   "execution_count": 64,
   "id": "3a0b622d",
   "metadata": {},
   "outputs": [
    {
     "data": {
      "text/plain": [
       "Date        2022-08-19\n",
       "ALB_ZBRA      0.822204\n",
       "NRG_CPRT      0.334919\n",
       "DE_BXP         4.28095\n",
       "NRG_STE       0.204631\n",
       "NRG_XRAY      1.200391\n",
       "SO_NLOK       3.405268\n",
       "PEG_O         0.951858\n",
       "Name: 496, dtype: object"
      ]
     },
     "execution_count": 64,
     "metadata": {},
     "output_type": "execute_result"
    }
   ],
   "source": [
    "#last day in our data?\n",
    "df.iloc[-1]"
   ]
  },
  {
   "cell_type": "markdown",
   "id": "19b71138",
   "metadata": {},
   "source": [
    "### We can predict the ratio for the day after 2022-08-23--> for 2022-08-24.\n",
    "We will use last ratios as input of our model for this prediction."
   ]
  },
  {
   "cell_type": "code",
   "execution_count": 65,
   "id": "3d0ad87f",
   "metadata": {},
   "outputs": [
    {
     "name": "stdout",
     "output_type": "stream",
     "text": [
      "Shape of X_input : (1, 20, 1)\n"
     ]
    },
    {
     "data": {
      "text/plain": [
       "array([[[0.69941916],\n",
       "        [0.68844238],\n",
       "        [0.69216225],\n",
       "        [0.6859797 ],\n",
       "        [0.6830216 ],\n",
       "        [0.66947524],\n",
       "        [0.75433006],\n",
       "        [0.73386229],\n",
       "        [0.71053908],\n",
       "        [0.71748567],\n",
       "        [0.74122061],\n",
       "        [0.76420431],\n",
       "        [0.78845742],\n",
       "        [0.79077385],\n",
       "        [0.81204942],\n",
       "        [0.81302763],\n",
       "        [0.8141544 ],\n",
       "        [0.8154501 ],\n",
       "        [0.81637364],\n",
       "        [0.82220391]]])"
      ]
     },
     "execution_count": 65,
     "metadata": {},
     "output_type": "execute_result"
    }
   ],
   "source": [
    "X_input = df.iloc[-time_step:].ALB_ZBRA.values             # getting last rows and converting to array\n",
    "X_input = (X_input.reshape(-1,1))     # converting to 2D array and scaling\n",
    "X_input = np.reshape(X_input, (1,time_step,1))                    # reshaping: converting to 3D array\n",
    "print(\"Shape of X_input :\", X_input.shape)\n",
    "X_input"
   ]
  },
  {
   "cell_type": "code",
   "execution_count": 66,
   "id": "244f1d55",
   "metadata": {},
   "outputs": [
    {
     "name": "stdout",
     "output_type": "stream",
     "text": [
      "LSTM, prediction for 2022-08-24: 0.7583173\n"
     ]
    }
   ],
   "source": [
    "LSTM_prediction = model_lstm.predict(X_input)\n",
    "print(\"LSTM, prediction for 2022-08-24:\", LSTM_prediction[0,0])"
   ]
  },
  {
   "cell_type": "code",
   "execution_count": null,
   "id": "71f07718-f882-4b46-9a59-f89c794322cf",
   "metadata": {},
   "outputs": [],
   "source": []
  }
 ],
 "metadata": {
  "kernelspec": {
   "display_name": "Python 3 (ipykernel)",
   "language": "python",
   "name": "python3"
  },
  "language_info": {
   "codemirror_mode": {
    "name": "ipython",
    "version": 3
   },
   "file_extension": ".py",
   "mimetype": "text/x-python",
   "name": "python",
   "nbconvert_exporter": "python",
   "pygments_lexer": "ipython3",
   "version": "3.8.12"
  },
  "toc": {
   "base_numbering": 1,
   "nav_menu": {},
   "number_sections": true,
   "sideBar": true,
   "skip_h1_title": false,
   "title_cell": "Table of Contents",
   "title_sidebar": "Contents",
   "toc_cell": false,
   "toc_position": {
    "height": "calc(100% - 180px)",
    "left": "10px",
    "top": "150px",
    "width": "165px"
   },
   "toc_section_display": true,
   "toc_window_display": true
  }
 },
 "nbformat": 4,
 "nbformat_minor": 5
}
