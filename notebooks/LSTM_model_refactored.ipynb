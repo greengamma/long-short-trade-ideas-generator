{
 "cells": [
  {
   "cell_type": "code",
   "execution_count": 1,
   "id": "65e52b36",
   "metadata": {},
   "outputs": [],
   "source": [
    "import numpy as np\n",
    "import pandas as pd\n",
    "import matplotlib.pyplot as plt"
   ]
  },
  {
   "cell_type": "code",
   "execution_count": 2,
   "id": "30242db1",
   "metadata": {
    "tags": []
   },
   "outputs": [],
   "source": [
    "#import data\n",
    "df = pd.read_csv('../../long_short_local/raw_data/cleaned_data.csv')"
   ]
  },
  {
   "cell_type": "code",
   "execution_count": 3,
   "id": "35e7f32c",
   "metadata": {},
   "outputs": [
    {
     "data": {
      "text/html": [
       "<div>\n",
       "<style scoped>\n",
       "    .dataframe tbody tr th:only-of-type {\n",
       "        vertical-align: middle;\n",
       "    }\n",
       "\n",
       "    .dataframe tbody tr th {\n",
       "        vertical-align: top;\n",
       "    }\n",
       "\n",
       "    .dataframe thead th {\n",
       "        text-align: right;\n",
       "    }\n",
       "</style>\n",
       "<table border=\"1\" class=\"dataframe\">\n",
       "  <thead>\n",
       "    <tr style=\"text-align: right;\">\n",
       "      <th></th>\n",
       "      <th>ALB_ZBRA</th>\n",
       "      <th>NRG_CPRT</th>\n",
       "      <th>DE_BXP</th>\n",
       "      <th>NRG_STE</th>\n",
       "      <th>NRG_XRAY</th>\n",
       "      <th>SO_NLOK</th>\n",
       "      <th>PEG_O</th>\n",
       "    </tr>\n",
       "  </thead>\n",
       "  <tbody>\n",
       "    <tr>\n",
       "      <th>count</th>\n",
       "      <td>497.000000</td>\n",
       "      <td>497.000000</td>\n",
       "      <td>497.000000</td>\n",
       "      <td>497.000000</td>\n",
       "      <td>497.000000</td>\n",
       "      <td>497.000000</td>\n",
       "      <td>497.000000</td>\n",
       "    </tr>\n",
       "    <tr>\n",
       "      <th>mean</th>\n",
       "      <td>0.439148</td>\n",
       "      <td>0.296925</td>\n",
       "      <td>3.242148</td>\n",
       "      <td>0.178814</td>\n",
       "      <td>0.728099</td>\n",
       "      <td>2.664304</td>\n",
       "      <td>0.960830</td>\n",
       "    </tr>\n",
       "    <tr>\n",
       "      <th>std</th>\n",
       "      <td>0.134129</td>\n",
       "      <td>0.038166</td>\n",
       "      <td>0.309264</td>\n",
       "      <td>0.017806</td>\n",
       "      <td>0.170586</td>\n",
       "      <td>0.296301</td>\n",
       "      <td>0.047787</td>\n",
       "    </tr>\n",
       "    <tr>\n",
       "      <th>min</th>\n",
       "      <td>0.279760</td>\n",
       "      <td>0.219809</td>\n",
       "      <td>2.513787</td>\n",
       "      <td>0.147486</td>\n",
       "      <td>0.464028</td>\n",
       "      <td>2.094566</td>\n",
       "      <td>0.829956</td>\n",
       "    </tr>\n",
       "    <tr>\n",
       "      <th>25%</th>\n",
       "      <td>0.336085</td>\n",
       "      <td>0.270483</td>\n",
       "      <td>3.054503</td>\n",
       "      <td>0.164950</td>\n",
       "      <td>0.624090</td>\n",
       "      <td>2.436779</td>\n",
       "      <td>0.928549</td>\n",
       "    </tr>\n",
       "    <tr>\n",
       "      <th>50%</th>\n",
       "      <td>0.403014</td>\n",
       "      <td>0.290112</td>\n",
       "      <td>3.224409</td>\n",
       "      <td>0.175372</td>\n",
       "      <td>0.691772</td>\n",
       "      <td>2.649792</td>\n",
       "      <td>0.960627</td>\n",
       "    </tr>\n",
       "    <tr>\n",
       "      <th>75%</th>\n",
       "      <td>0.464571</td>\n",
       "      <td>0.316606</td>\n",
       "      <td>3.435012</td>\n",
       "      <td>0.189553</td>\n",
       "      <td>0.742545</td>\n",
       "      <td>2.861494</td>\n",
       "      <td>0.994654</td>\n",
       "    </tr>\n",
       "    <tr>\n",
       "      <th>max</th>\n",
       "      <td>0.822204</td>\n",
       "      <td>0.425462</td>\n",
       "      <td>4.280950</td>\n",
       "      <td>0.231046</td>\n",
       "      <td>1.230987</td>\n",
       "      <td>3.405268</td>\n",
       "      <td>1.094158</td>\n",
       "    </tr>\n",
       "  </tbody>\n",
       "</table>\n",
       "</div>"
      ],
      "text/plain": [
       "         ALB_ZBRA    NRG_CPRT      DE_BXP     NRG_STE    NRG_XRAY     SO_NLOK  \\\n",
       "count  497.000000  497.000000  497.000000  497.000000  497.000000  497.000000   \n",
       "mean     0.439148    0.296925    3.242148    0.178814    0.728099    2.664304   \n",
       "std      0.134129    0.038166    0.309264    0.017806    0.170586    0.296301   \n",
       "min      0.279760    0.219809    2.513787    0.147486    0.464028    2.094566   \n",
       "25%      0.336085    0.270483    3.054503    0.164950    0.624090    2.436779   \n",
       "50%      0.403014    0.290112    3.224409    0.175372    0.691772    2.649792   \n",
       "75%      0.464571    0.316606    3.435012    0.189553    0.742545    2.861494   \n",
       "max      0.822204    0.425462    4.280950    0.231046    1.230987    3.405268   \n",
       "\n",
       "            PEG_O  \n",
       "count  497.000000  \n",
       "mean     0.960830  \n",
       "std      0.047787  \n",
       "min      0.829956  \n",
       "25%      0.928549  \n",
       "50%      0.960627  \n",
       "75%      0.994654  \n",
       "max      1.094158  "
      ]
     },
     "execution_count": 3,
     "metadata": {},
     "output_type": "execute_result"
    }
   ],
   "source": [
    "df.describe()"
   ]
  },
  {
   "cell_type": "markdown",
   "id": "aca3fe1e",
   "metadata": {},
   "source": [
    "## Splitting Data in Train and Validation"
   ]
  },
  {
   "cell_type": "code",
   "execution_count": 4,
   "id": "b389d319-920c-48b0-a562-bebac5e0fd16",
   "metadata": {},
   "outputs": [],
   "source": [
    "# R\n",
    "def split_train_val(df):\n",
    "    length_data = len(df)    \n",
    "    split_ratio = 0.7           # %70 train + %30 validation\n",
    "    length_train = round(length_data * split_ratio)  \n",
    "    length_validation = length_data - length_train\n",
    "    #print(\"Data length :\", length_data)\n",
    "    #print(\"Train data length:\", length_train)\n",
    "    #print(\"Validation data lenth:\", length_validation)\n",
    "    \n",
    "    train_data = df[:length_train].iloc[:,:2] \n",
    "    train_data['Date'] = pd.to_datetime(train_data['Date'])  # converting to date time object\n",
    "\n",
    "    validation_data = df[length_train:].iloc[:,:2]\n",
    "    validation_data['Date'] = pd.to_datetime(validation_data['Date'])  # converting to date time object\n",
    "    \n",
    "    return train_data, validation_data, length_train, length_validation"
   ]
  },
  {
   "cell_type": "markdown",
   "id": "1814e915",
   "metadata": {},
   "source": [
    "## Creating Train Dataset from Train split"
   ]
  },
  {
   "cell_type": "code",
   "execution_count": 5,
   "id": "94d3c82a-7c02-461f-8edc-1ce77013b646",
   "metadata": {},
   "outputs": [],
   "source": [
    "# R\n",
    "# create dataset from train split\n",
    "def train_split(train_data):\n",
    "    dataset_train = train_data.iloc[:, 1].values\n",
    "    # Change 1d array to 2d array\n",
    "    # Changing shape from (1692,) to (1692,1)\n",
    "    dataset_train = np.reshape(dataset_train, (-1,1))\n",
    "    #dataset_train.shape\n",
    "    dataset_train_scaled = dataset_train\n",
    "    \n",
    "    return dataset_train_scaled"
   ]
  },
  {
   "cell_type": "markdown",
   "id": "1a8aff56",
   "metadata": {},
   "source": [
    "## Creating X_train and y_train from Train data "
   ]
  },
  {
   "cell_type": "markdown",
   "id": "be9c4316",
   "metadata": {},
   "source": [
    "We have train data composed of ratios over days\n",
    "\n",
    "So, it has 1184 ratios corresponding 1184 days\n",
    "\n",
    "My aim is to predict the ratio (closing) of the next day.\n",
    "\n",
    "I can use a time step of 2 days.\n",
    "\n",
    "I will pick first 2 ratios (day 0 to 2), 1st 2 ratio will be in \n",
    "X_train data\n",
    "\n",
    "Then predict the ratio of 3rd day; and 3rd ratio will be in y_train data\n",
    "\n",
    "Again, i will pick ratios from 1 to 3, those will be in X_train data\n",
    "\n",
    "Then predict the next days ratio, 4th ratio will be in y_train data\n",
    "\n"
   ]
  },
  {
   "cell_type": "code",
   "execution_count": 6,
   "id": "d232ae2f-f760-4504-a494-3a0d13e9478a",
   "metadata": {},
   "outputs": [],
   "source": [
    "def create_x_y_train(df, length_train):\n",
    "    X_train = []\n",
    "    y_train = []\n",
    "\n",
    "    time_step = 20 #change that?\n",
    "\n",
    "    for i in range(time_step, length_train):\n",
    "        X_train.append(dataset_train_scaled[i-time_step:i,0:1])\n",
    "        y_train.append(dataset_train_scaled[i,0:1])\n",
    "\n",
    "    # convert list to array\n",
    "    X_train, y_train = np.array(X_train), np.array(y_train)\n",
    "    \n",
    "    X_train = np.reshape(X_train, (X_train.shape[0], X_train.shape[1],1))\n",
    "    y_train = np.reshape(y_train, (y_train.shape[0],1))\n",
    "    \n",
    "    X_train = X_train[:int(X_train.shape[0]*0.95)]\n",
    "    X_val = X_train[int(X_train.shape[0]*0.95):]\n",
    "    y_train = y_train[:int(y_train.shape[0]*0.95)]\n",
    "    y_val = y_train[int(y_train.shape[0]*0.95):]\n",
    "    \n",
    "    return X_train, X_val, y_train, y_val, time_step"
   ]
  },
  {
   "cell_type": "markdown",
   "id": "14f39577",
   "metadata": {},
   "source": [
    "## Creating Test Dataset from Validation Data"
   ]
  },
  {
   "cell_type": "code",
   "execution_count": 7,
   "id": "baeb444d-245b-493f-a320-891d70131245",
   "metadata": {},
   "outputs": [],
   "source": [
    "# R\n",
    "#Converting array and scaling\n",
    "def create_x_y_test(validation_data, length_validation, time_step):\n",
    "    dataset_validation = validation_data.iloc[:,1].values  # getting \"Ratio\" column and converting to array\n",
    "    dataset_validation = np.reshape(dataset_validation, (-1,1))  # converting 1D to 2D array\n",
    "    #scaled_dataset_validation =  scaler.fit_transform(dataset_validation)  # scaling  values to between 0 and 1\n",
    "    scaled_dataset_validation = dataset_validation\n",
    "    \n",
    "    X_test = []\n",
    "    y_test = []\n",
    "\n",
    "    for i in range(time_step, length_validation):\n",
    "        X_test.append(scaled_dataset_validation[i-time_step:i,0])\n",
    "        y_test.append(scaled_dataset_validation[i,0])\n",
    "        \n",
    "    # Converting to array\n",
    "    X_test, y_test = np.array(X_test), np.array(y_test)\n",
    "    X_test = np.reshape(X_test, (X_test.shape[0],X_test.shape[1],1))  # reshape to 3D array\n",
    "    y_test = np.reshape(y_test, (-1,1))  # reshape to 2D array\n",
    "    \n",
    "    return X_test, y_test"
   ]
  },
  {
   "cell_type": "markdown",
   "id": "31b06d8f-1cd0-45d4-9345-4fc1cf76ee26",
   "metadata": {},
   "source": [
    "## Implemenation refactored"
   ]
  },
  {
   "cell_type": "code",
   "execution_count": 8,
   "id": "94356d33-13ca-4668-8e80-31dbcdb79a53",
   "metadata": {},
   "outputs": [],
   "source": [
    "# R\n",
    "# split into train/test\n",
    "one_ratio_df = pd.DataFrame(df[['Date', 'ALB_ZBRA']])#[ratio]\n",
    "train_data, validation_data, length_train, length_validation = split_train_val(one_ratio_df)\n",
    "# call train_split\n",
    "dataset_train_scaled = train_split(train_data)\n",
    "# create X_train, y_train\n",
    "X_train, X_val, y_train, y_val, time_step = create_x_y_train(dataset_train_scaled, length_train)\n",
    "# create X_test, y_test\n",
    "X_test, y_test = create_x_y_test(validation_data, length_validation, time_step)"
   ]
  },
  {
   "cell_type": "markdown",
   "id": "1766270e",
   "metadata": {},
   "source": [
    "## Creating LSTM Model"
   ]
  },
  {
   "cell_type": "code",
   "execution_count": null,
   "id": "5fb92a44",
   "metadata": {},
   "outputs": [],
   "source": [
    "y_train.min()"
   ]
  },
  {
   "cell_type": "code",
   "execution_count": null,
   "id": "71ccc544",
   "metadata": {},
   "outputs": [],
   "source": [
    "X_train.shape"
   ]
  },
  {
   "cell_type": "code",
   "execution_count": null,
   "id": "3bd40d43",
   "metadata": {},
   "outputs": [],
   "source": [
    "y_train.shape"
   ]
  },
  {
   "cell_type": "code",
   "execution_count": null,
   "id": "6eec916a",
   "metadata": {
    "tags": []
   },
   "outputs": [],
   "source": [
    "from keras.layers import LSTM\n",
    "from keras.models import Sequential\n",
    "from tensorflow.keras.callbacks import EarlyStopping\n",
    "from keras.layers import Dense\n",
    "\n",
    "\n",
    "es = EarlyStopping(patience=20, restore_best_weights=True)\n",
    "model_lstm = Sequential()\n",
    "\n",
    "model_lstm.add(LSTM(20,return_sequences=False,input_shape = (X_train.shape[1],1))) #64 lstm neuron block\n",
    "model_lstm.add(Dense(32))\n",
    "model_lstm.add(Dense(1))\n",
    "\n",
    "model_lstm.compile(loss = \"mape\", optimizer = \"rmsprop\", metrics = [\"mae\", \"mape\"])\n",
    "history2 = model_lstm.fit(X_train, y_train, epochs = 400, batch_size = 64,validation_data = (X_val, y_val),callbacks=[es])"
   ]
  },
  {
   "cell_type": "markdown",
   "id": "8e6307d6",
   "metadata": {},
   "source": [
    "## Evaluating LSTM Model"
   ]
  },
  {
   "cell_type": "code",
   "execution_count": null,
   "id": "52188f85",
   "metadata": {},
   "outputs": [],
   "source": [
    "model_lstm.evaluate(X_test, y_test)"
   ]
  },
  {
   "cell_type": "code",
   "execution_count": null,
   "id": "dd15ed8d",
   "metadata": {},
   "outputs": [],
   "source": [
    "plt.figure(figsize =(10,5))\n",
    "plt.plot(history2.history[\"loss\"])\n",
    "plt.xlabel(\"Epochs\")\n",
    "plt.ylabel(\"Losses\")\n",
    "plt.title(\"LSTM model, Accuracy vs Epoch\")\n",
    "plt.show()"
   ]
  },
  {
   "cell_type": "code",
   "execution_count": null,
   "id": "f220f978",
   "metadata": {
    "scrolled": true
   },
   "outputs": [],
   "source": [
    "plt.subplots(figsize =(30,12))\n",
    "plt.plot(model_lstm.predict(X_test), label = \"y_pred_of_test\", c = \"orange\" )\n",
    "plt.plot(y_test, label = \"y_test\", color = \"g\")\n",
    "plt.xlabel(\"Days\")\n",
    "plt.ylabel(\"Ratio\")\n",
    "plt.title(\"LSTM model, Predictions with input X_test vs y_test\")\n",
    "plt.legend()\n",
    "plt.show()"
   ]
  },
  {
   "cell_type": "markdown",
   "id": "a2d513da",
   "metadata": {},
   "source": [
    "## Future ratio prediction"
   ]
  },
  {
   "cell_type": "code",
   "execution_count": null,
   "id": "3a0b622d",
   "metadata": {},
   "outputs": [],
   "source": [
    "#last day in our data?\n",
    "df.iloc[-1]"
   ]
  },
  {
   "cell_type": "markdown",
   "id": "19b71138",
   "metadata": {},
   "source": [
    "### We can predict the ratio for the day after 2022-08-23--> for 2022-08-24.\n",
    "We will use last ratios as input of our model for this prediction."
   ]
  },
  {
   "cell_type": "code",
   "execution_count": null,
   "id": "3d0ad87f",
   "metadata": {},
   "outputs": [],
   "source": [
    "X_input = df.iloc[-time_step:].ALB_ZBRA.values             # getting last rows and converting to array\n",
    "X_input = (X_input.reshape(-1,1))     # converting to 2D array and scaling\n",
    "X_input = np.reshape(X_input, (1,time_step,1))                    # reshaping: converting to 3D array\n",
    "print(\"Shape of X_input :\", X_input.shape)\n",
    "X_input"
   ]
  },
  {
   "cell_type": "code",
   "execution_count": null,
   "id": "244f1d55",
   "metadata": {},
   "outputs": [],
   "source": [
    "LSTM_prediction = model_lstm.predict(X_input)\n",
    "print(\"LSTM, prediction for 2022-08-24:\", LSTM_prediction[0,0])"
   ]
  },
  {
   "cell_type": "code",
   "execution_count": null,
   "id": "71f07718-f882-4b46-9a59-f89c794322cf",
   "metadata": {},
   "outputs": [],
   "source": []
  }
 ],
 "metadata": {
  "kernelspec": {
   "display_name": "Python 3 (ipykernel)",
   "language": "python",
   "name": "python3"
  },
  "language_info": {
   "codemirror_mode": {
    "name": "ipython",
    "version": 3
   },
   "file_extension": ".py",
   "mimetype": "text/x-python",
   "name": "python",
   "nbconvert_exporter": "python",
   "pygments_lexer": "ipython3",
   "version": "3.8.12"
  },
  "toc": {
   "base_numbering": 1,
   "nav_menu": {},
   "number_sections": true,
   "sideBar": true,
   "skip_h1_title": false,
   "title_cell": "Table of Contents",
   "title_sidebar": "Contents",
   "toc_cell": false,
   "toc_position": {
    "height": "calc(100% - 180px)",
    "left": "10px",
    "top": "150px",
    "width": "165px"
   },
   "toc_section_display": true,
   "toc_window_display": true
  }
 },
 "nbformat": 4,
 "nbformat_minor": 5
}
