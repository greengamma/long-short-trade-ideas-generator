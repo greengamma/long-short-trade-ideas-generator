{
 "cells": [
  {
   "cell_type": "code",
   "execution_count": 1,
   "id": "65e52b36",
   "metadata": {},
   "outputs": [],
   "source": [
    "import numpy as np\n",
    "import pandas as pd\n",
    "import matplotlib.pyplot as plt"
   ]
  },
  {
   "cell_type": "code",
   "execution_count": 2,
   "id": "30242db1",
   "metadata": {},
   "outputs": [
    {
     "data": {
      "text/html": [
       "<div>\n",
       "<style scoped>\n",
       "    .dataframe tbody tr th:only-of-type {\n",
       "        vertical-align: middle;\n",
       "    }\n",
       "\n",
       "    .dataframe tbody tr th {\n",
       "        vertical-align: top;\n",
       "    }\n",
       "\n",
       "    .dataframe thead th {\n",
       "        text-align: right;\n",
       "    }\n",
       "</style>\n",
       "<table border=\"1\" class=\"dataframe\">\n",
       "  <thead>\n",
       "    <tr style=\"text-align: right;\">\n",
       "      <th></th>\n",
       "      <th>Date</th>\n",
       "      <th>ALB_ZBRA</th>\n",
       "      <th>NRG_CPRT</th>\n",
       "      <th>DE_BXP</th>\n",
       "      <th>NRG_STE</th>\n",
       "      <th>NRG_XRAY</th>\n",
       "      <th>SO_NLOK</th>\n",
       "      <th>PEG_O</th>\n",
       "    </tr>\n",
       "  </thead>\n",
       "  <tbody>\n",
       "    <tr>\n",
       "      <th>0</th>\n",
       "      <td>2020-08-31</td>\n",
       "      <td>0.311845</td>\n",
       "      <td>0.310544</td>\n",
       "      <td>2.548054</td>\n",
       "      <td>0.203834</td>\n",
       "      <td>0.727693</td>\n",
       "      <td>2.136432</td>\n",
       "      <td>0.882281</td>\n",
       "    </tr>\n",
       "    <tr>\n",
       "      <th>1</th>\n",
       "      <td>2020-09-01</td>\n",
       "      <td>0.332974</td>\n",
       "      <td>0.306303</td>\n",
       "      <td>2.687319</td>\n",
       "      <td>0.203522</td>\n",
       "      <td>0.722940</td>\n",
       "      <td>2.094566</td>\n",
       "      <td>0.855546</td>\n",
       "    </tr>\n",
       "    <tr>\n",
       "      <th>2</th>\n",
       "      <td>2020-09-02</td>\n",
       "      <td>0.332368</td>\n",
       "      <td>0.315056</td>\n",
       "      <td>2.629334</td>\n",
       "      <td>0.204743</td>\n",
       "      <td>0.734758</td>\n",
       "      <td>2.125291</td>\n",
       "      <td>0.872526</td>\n",
       "    </tr>\n",
       "    <tr>\n",
       "      <th>3</th>\n",
       "      <td>2020-09-03</td>\n",
       "      <td>0.339772</td>\n",
       "      <td>0.310060</td>\n",
       "      <td>2.534974</td>\n",
       "      <td>0.201707</td>\n",
       "      <td>0.728923</td>\n",
       "      <td>2.210971</td>\n",
       "      <td>0.848504</td>\n",
       "    </tr>\n",
       "    <tr>\n",
       "      <th>4</th>\n",
       "      <td>2020-09-04</td>\n",
       "      <td>0.356920</td>\n",
       "      <td>0.300754</td>\n",
       "      <td>2.536138</td>\n",
       "      <td>0.199887</td>\n",
       "      <td>0.707646</td>\n",
       "      <td>2.152835</td>\n",
       "      <td>0.854765</td>\n",
       "    </tr>\n",
       "  </tbody>\n",
       "</table>\n",
       "</div>"
      ],
      "text/plain": [
       "         Date  ALB_ZBRA  NRG_CPRT    DE_BXP   NRG_STE  NRG_XRAY   SO_NLOK  \\\n",
       "0  2020-08-31  0.311845  0.310544  2.548054  0.203834  0.727693  2.136432   \n",
       "1  2020-09-01  0.332974  0.306303  2.687319  0.203522  0.722940  2.094566   \n",
       "2  2020-09-02  0.332368  0.315056  2.629334  0.204743  0.734758  2.125291   \n",
       "3  2020-09-03  0.339772  0.310060  2.534974  0.201707  0.728923  2.210971   \n",
       "4  2020-09-04  0.356920  0.300754  2.536138  0.199887  0.707646  2.152835   \n",
       "\n",
       "      PEG_O  \n",
       "0  0.882281  \n",
       "1  0.855546  \n",
       "2  0.872526  \n",
       "3  0.848504  \n",
       "4  0.854765  "
      ]
     },
     "execution_count": 2,
     "metadata": {},
     "output_type": "execute_result"
    }
   ],
   "source": [
    "#import data\n",
    "df = pd.read_csv(r'cleaned_data.csv')\n",
    "df.head()"
   ]
  },
  {
   "cell_type": "code",
   "execution_count": 3,
   "id": "c93ecf09",
   "metadata": {},
   "outputs": [
    {
     "data": {
      "text/html": [
       "<div>\n",
       "<style scoped>\n",
       "    .dataframe tbody tr th:only-of-type {\n",
       "        vertical-align: middle;\n",
       "    }\n",
       "\n",
       "    .dataframe tbody tr th {\n",
       "        vertical-align: top;\n",
       "    }\n",
       "\n",
       "    .dataframe thead th {\n",
       "        text-align: right;\n",
       "    }\n",
       "</style>\n",
       "<table border=\"1\" class=\"dataframe\">\n",
       "  <thead>\n",
       "    <tr style=\"text-align: right;\">\n",
       "      <th></th>\n",
       "      <th>Date</th>\n",
       "      <th>ALB_ZBRA</th>\n",
       "      <th>NRG_CPRT</th>\n",
       "      <th>DE_BXP</th>\n",
       "      <th>NRG_STE</th>\n",
       "      <th>NRG_XRAY</th>\n",
       "      <th>SO_NLOK</th>\n",
       "      <th>PEG_O</th>\n",
       "    </tr>\n",
       "  </thead>\n",
       "  <tbody>\n",
       "    <tr>\n",
       "      <th>495</th>\n",
       "      <td>2022-08-18</td>\n",
       "      <td>0.816374</td>\n",
       "      <td>0.333768</td>\n",
       "      <td>4.22249</td>\n",
       "      <td>0.204492</td>\n",
       "      <td>1.196920</td>\n",
       "      <td>3.371537</td>\n",
       "      <td>0.950678</td>\n",
       "    </tr>\n",
       "    <tr>\n",
       "      <th>496</th>\n",
       "      <td>2022-08-19</td>\n",
       "      <td>0.822204</td>\n",
       "      <td>0.334919</td>\n",
       "      <td>4.28095</td>\n",
       "      <td>0.204631</td>\n",
       "      <td>1.200391</td>\n",
       "      <td>3.405268</td>\n",
       "      <td>0.951858</td>\n",
       "    </tr>\n",
       "  </tbody>\n",
       "</table>\n",
       "</div>"
      ],
      "text/plain": [
       "           Date  ALB_ZBRA  NRG_CPRT   DE_BXP   NRG_STE  NRG_XRAY   SO_NLOK  \\\n",
       "495  2022-08-18  0.816374  0.333768  4.22249  0.204492  1.196920  3.371537   \n",
       "496  2022-08-19  0.822204  0.334919  4.28095  0.204631  1.200391  3.405268   \n",
       "\n",
       "        PEG_O  \n",
       "495  0.950678  \n",
       "496  0.951858  "
      ]
     },
     "execution_count": 3,
     "metadata": {},
     "output_type": "execute_result"
    }
   ],
   "source": [
    "df.tail(2)"
   ]
  },
  {
   "cell_type": "code",
   "execution_count": 5,
   "id": "35e7f32c",
   "metadata": {},
   "outputs": [
    {
     "data": {
      "text/html": [
       "<div>\n",
       "<style scoped>\n",
       "    .dataframe tbody tr th:only-of-type {\n",
       "        vertical-align: middle;\n",
       "    }\n",
       "\n",
       "    .dataframe tbody tr th {\n",
       "        vertical-align: top;\n",
       "    }\n",
       "\n",
       "    .dataframe thead th {\n",
       "        text-align: right;\n",
       "    }\n",
       "</style>\n",
       "<table border=\"1\" class=\"dataframe\">\n",
       "  <thead>\n",
       "    <tr style=\"text-align: right;\">\n",
       "      <th></th>\n",
       "      <th>ALB_ZBRA</th>\n",
       "      <th>NRG_CPRT</th>\n",
       "      <th>DE_BXP</th>\n",
       "      <th>NRG_STE</th>\n",
       "      <th>NRG_XRAY</th>\n",
       "      <th>SO_NLOK</th>\n",
       "      <th>PEG_O</th>\n",
       "    </tr>\n",
       "  </thead>\n",
       "  <tbody>\n",
       "    <tr>\n",
       "      <th>count</th>\n",
       "      <td>497.000000</td>\n",
       "      <td>497.000000</td>\n",
       "      <td>497.000000</td>\n",
       "      <td>497.000000</td>\n",
       "      <td>497.000000</td>\n",
       "      <td>497.000000</td>\n",
       "      <td>497.000000</td>\n",
       "    </tr>\n",
       "    <tr>\n",
       "      <th>mean</th>\n",
       "      <td>0.439148</td>\n",
       "      <td>0.296925</td>\n",
       "      <td>3.242148</td>\n",
       "      <td>0.178814</td>\n",
       "      <td>0.728099</td>\n",
       "      <td>2.664304</td>\n",
       "      <td>0.960830</td>\n",
       "    </tr>\n",
       "    <tr>\n",
       "      <th>std</th>\n",
       "      <td>0.134129</td>\n",
       "      <td>0.038166</td>\n",
       "      <td>0.309264</td>\n",
       "      <td>0.017806</td>\n",
       "      <td>0.170586</td>\n",
       "      <td>0.296301</td>\n",
       "      <td>0.047787</td>\n",
       "    </tr>\n",
       "    <tr>\n",
       "      <th>min</th>\n",
       "      <td>0.279760</td>\n",
       "      <td>0.219809</td>\n",
       "      <td>2.513787</td>\n",
       "      <td>0.147486</td>\n",
       "      <td>0.464028</td>\n",
       "      <td>2.094566</td>\n",
       "      <td>0.829956</td>\n",
       "    </tr>\n",
       "    <tr>\n",
       "      <th>25%</th>\n",
       "      <td>0.336085</td>\n",
       "      <td>0.270483</td>\n",
       "      <td>3.054503</td>\n",
       "      <td>0.164950</td>\n",
       "      <td>0.624090</td>\n",
       "      <td>2.436779</td>\n",
       "      <td>0.928549</td>\n",
       "    </tr>\n",
       "    <tr>\n",
       "      <th>50%</th>\n",
       "      <td>0.403014</td>\n",
       "      <td>0.290112</td>\n",
       "      <td>3.224409</td>\n",
       "      <td>0.175372</td>\n",
       "      <td>0.691772</td>\n",
       "      <td>2.649792</td>\n",
       "      <td>0.960627</td>\n",
       "    </tr>\n",
       "    <tr>\n",
       "      <th>75%</th>\n",
       "      <td>0.464571</td>\n",
       "      <td>0.316606</td>\n",
       "      <td>3.435012</td>\n",
       "      <td>0.189553</td>\n",
       "      <td>0.742545</td>\n",
       "      <td>2.861494</td>\n",
       "      <td>0.994654</td>\n",
       "    </tr>\n",
       "    <tr>\n",
       "      <th>max</th>\n",
       "      <td>0.822204</td>\n",
       "      <td>0.425462</td>\n",
       "      <td>4.280950</td>\n",
       "      <td>0.231046</td>\n",
       "      <td>1.230987</td>\n",
       "      <td>3.405268</td>\n",
       "      <td>1.094158</td>\n",
       "    </tr>\n",
       "  </tbody>\n",
       "</table>\n",
       "</div>"
      ],
      "text/plain": [
       "         ALB_ZBRA    NRG_CPRT      DE_BXP     NRG_STE    NRG_XRAY     SO_NLOK  \\\n",
       "count  497.000000  497.000000  497.000000  497.000000  497.000000  497.000000   \n",
       "mean     0.439148    0.296925    3.242148    0.178814    0.728099    2.664304   \n",
       "std      0.134129    0.038166    0.309264    0.017806    0.170586    0.296301   \n",
       "min      0.279760    0.219809    2.513787    0.147486    0.464028    2.094566   \n",
       "25%      0.336085    0.270483    3.054503    0.164950    0.624090    2.436779   \n",
       "50%      0.403014    0.290112    3.224409    0.175372    0.691772    2.649792   \n",
       "75%      0.464571    0.316606    3.435012    0.189553    0.742545    2.861494   \n",
       "max      0.822204    0.425462    4.280950    0.231046    1.230987    3.405268   \n",
       "\n",
       "            PEG_O  \n",
       "count  497.000000  \n",
       "mean     0.960830  \n",
       "std      0.047787  \n",
       "min      0.829956  \n",
       "25%      0.928549  \n",
       "50%      0.960627  \n",
       "75%      0.994654  \n",
       "max      1.094158  "
      ]
     },
     "execution_count": 5,
     "metadata": {},
     "output_type": "execute_result"
    }
   ],
   "source": [
    "df.describe()"
   ]
  },
  {
   "cell_type": "code",
   "execution_count": 6,
   "id": "9d3d4ae0",
   "metadata": {},
   "outputs": [
    {
     "name": "stdout",
     "output_type": "stream",
     "text": [
      "<class 'pandas.core.frame.DataFrame'>\n",
      "RangeIndex: 497 entries, 0 to 496\n",
      "Data columns (total 8 columns):\n",
      " #   Column    Non-Null Count  Dtype  \n",
      "---  ------    --------------  -----  \n",
      " 0   Date      497 non-null    object \n",
      " 1   ALB_ZBRA  497 non-null    float64\n",
      " 2   NRG_CPRT  497 non-null    float64\n",
      " 3   DE_BXP    497 non-null    float64\n",
      " 4   NRG_STE   497 non-null    float64\n",
      " 5   NRG_XRAY  497 non-null    float64\n",
      " 6   SO_NLOK   497 non-null    float64\n",
      " 7   PEG_O     497 non-null    float64\n",
      "dtypes: float64(7), object(1)\n",
      "memory usage: 31.2+ KB\n"
     ]
    }
   ],
   "source": [
    "df.info()"
   ]
  },
  {
   "cell_type": "code",
   "execution_count": 7,
   "id": "05c978e2",
   "metadata": {},
   "outputs": [
    {
     "data": {
      "text/plain": [
       "(497, 8)"
      ]
     },
     "execution_count": 7,
     "metadata": {},
     "output_type": "execute_result"
    }
   ],
   "source": [
    "df.shape"
   ]
  },
  {
   "cell_type": "code",
   "execution_count": 9,
   "id": "28400d50",
   "metadata": {},
   "outputs": [
    {
     "data": {
      "text/html": [
       "<div>\n",
       "<style scoped>\n",
       "    .dataframe tbody tr th:only-of-type {\n",
       "        vertical-align: middle;\n",
       "    }\n",
       "\n",
       "    .dataframe tbody tr th {\n",
       "        vertical-align: top;\n",
       "    }\n",
       "\n",
       "    .dataframe thead th {\n",
       "        text-align: right;\n",
       "    }\n",
       "</style>\n",
       "<table border=\"1\" class=\"dataframe\">\n",
       "  <thead>\n",
       "    <tr style=\"text-align: right;\">\n",
       "      <th></th>\n",
       "      <th>Date</th>\n",
       "      <th>ALB_ZBRA</th>\n",
       "    </tr>\n",
       "  </thead>\n",
       "  <tbody>\n",
       "    <tr>\n",
       "      <th>0</th>\n",
       "      <td>2020-08-31</td>\n",
       "      <td>0.311845</td>\n",
       "    </tr>\n",
       "    <tr>\n",
       "      <th>1</th>\n",
       "      <td>2020-09-01</td>\n",
       "      <td>0.332974</td>\n",
       "    </tr>\n",
       "    <tr>\n",
       "      <th>2</th>\n",
       "      <td>2020-09-02</td>\n",
       "      <td>0.332368</td>\n",
       "    </tr>\n",
       "    <tr>\n",
       "      <th>3</th>\n",
       "      <td>2020-09-03</td>\n",
       "      <td>0.339772</td>\n",
       "    </tr>\n",
       "    <tr>\n",
       "      <th>4</th>\n",
       "      <td>2020-09-04</td>\n",
       "      <td>0.356920</td>\n",
       "    </tr>\n",
       "  </tbody>\n",
       "</table>\n",
       "</div>"
      ],
      "text/plain": [
       "         Date  ALB_ZBRA\n",
       "0  2020-08-31  0.311845\n",
       "1  2020-09-01  0.332974\n",
       "2  2020-09-02  0.332368\n",
       "3  2020-09-03  0.339772\n",
       "4  2020-09-04  0.356920"
      ]
     },
     "execution_count": 9,
     "metadata": {},
     "output_type": "execute_result"
    }
   ],
   "source": [
    "# we check first chosen ratios first (here: ALB_ZBRA)\n",
    "df_small=df.iloc[:,[0,1]]\n",
    "df_small.head()"
   ]
  },
  {
   "cell_type": "code",
   "execution_count": 10,
   "id": "e1e6c7e3",
   "metadata": {},
   "outputs": [
    {
     "data": {
      "text/plain": [
       "(497, 2)"
      ]
     },
     "execution_count": 10,
     "metadata": {},
     "output_type": "execute_result"
    }
   ],
   "source": [
    "df_small.shape"
   ]
  },
  {
   "cell_type": "code",
   "execution_count": 11,
   "id": "e1f98c36",
   "metadata": {
    "scrolled": true
   },
   "outputs": [
    {
     "name": "stdout",
     "output_type": "stream",
     "text": [
      "<class 'pandas.core.frame.DataFrame'>\n",
      "RangeIndex: 497 entries, 0 to 496\n",
      "Data columns (total 2 columns):\n",
      " #   Column    Non-Null Count  Dtype  \n",
      "---  ------    --------------  -----  \n",
      " 0   Date      497 non-null    object \n",
      " 1   ALB_ZBRA  497 non-null    float64\n",
      "dtypes: float64(1), object(1)\n",
      "memory usage: 7.9+ KB\n"
     ]
    }
   ],
   "source": [
    "df_small.info()"
   ]
  },
  {
   "cell_type": "markdown",
   "id": "aca3fe1e",
   "metadata": {},
   "source": [
    "## Splitting Data in Train and Validation"
   ]
  },
  {
   "cell_type": "code",
   "execution_count": 12,
   "id": "cb40fc1e",
   "metadata": {},
   "outputs": [
    {
     "name": "stdout",
     "output_type": "stream",
     "text": [
      "Data length : 497\n",
      "Train data length: 348\n",
      "Validation data lenth: 149\n"
     ]
    }
   ],
   "source": [
    "length_data = len(df_small)    \n",
    "split_ratio = 0.7           # %70 train + %30 validation\n",
    "length_train = round(length_data * split_ratio)  \n",
    "length_validation = length_data - length_train\n",
    "print(\"Data length :\", length_data)\n",
    "print(\"Train data length:\", length_train)\n",
    "print(\"Validation data lenth:\", length_validation)"
   ]
  },
  {
   "cell_type": "code",
   "execution_count": 13,
   "id": "3f3479f6",
   "metadata": {},
   "outputs": [
    {
     "data": {
      "text/html": [
       "<div>\n",
       "<style scoped>\n",
       "    .dataframe tbody tr th:only-of-type {\n",
       "        vertical-align: middle;\n",
       "    }\n",
       "\n",
       "    .dataframe tbody tr th {\n",
       "        vertical-align: top;\n",
       "    }\n",
       "\n",
       "    .dataframe thead th {\n",
       "        text-align: right;\n",
       "    }\n",
       "</style>\n",
       "<table border=\"1\" class=\"dataframe\">\n",
       "  <thead>\n",
       "    <tr style=\"text-align: right;\">\n",
       "      <th></th>\n",
       "      <th>Date</th>\n",
       "      <th>ALB_ZBRA</th>\n",
       "    </tr>\n",
       "  </thead>\n",
       "  <tbody>\n",
       "    <tr>\n",
       "      <th>0</th>\n",
       "      <td>2020-08-31</td>\n",
       "      <td>0.311845</td>\n",
       "    </tr>\n",
       "    <tr>\n",
       "      <th>1</th>\n",
       "      <td>2020-09-01</td>\n",
       "      <td>0.332974</td>\n",
       "    </tr>\n",
       "    <tr>\n",
       "      <th>2</th>\n",
       "      <td>2020-09-02</td>\n",
       "      <td>0.332368</td>\n",
       "    </tr>\n",
       "    <tr>\n",
       "      <th>3</th>\n",
       "      <td>2020-09-03</td>\n",
       "      <td>0.339772</td>\n",
       "    </tr>\n",
       "    <tr>\n",
       "      <th>4</th>\n",
       "      <td>2020-09-04</td>\n",
       "      <td>0.356920</td>\n",
       "    </tr>\n",
       "    <tr>\n",
       "      <th>...</th>\n",
       "      <td>...</td>\n",
       "      <td>...</td>\n",
       "    </tr>\n",
       "    <tr>\n",
       "      <th>343</th>\n",
       "      <td>2022-01-10</td>\n",
       "      <td>0.422384</td>\n",
       "    </tr>\n",
       "    <tr>\n",
       "      <th>344</th>\n",
       "      <td>2022-01-11</td>\n",
       "      <td>0.444326</td>\n",
       "    </tr>\n",
       "    <tr>\n",
       "      <th>345</th>\n",
       "      <td>2022-01-12</td>\n",
       "      <td>0.446099</td>\n",
       "    </tr>\n",
       "    <tr>\n",
       "      <th>346</th>\n",
       "      <td>2022-01-13</td>\n",
       "      <td>0.445756</td>\n",
       "    </tr>\n",
       "    <tr>\n",
       "      <th>347</th>\n",
       "      <td>2022-01-14</td>\n",
       "      <td>0.440955</td>\n",
       "    </tr>\n",
       "  </tbody>\n",
       "</table>\n",
       "<p>348 rows × 2 columns</p>\n",
       "</div>"
      ],
      "text/plain": [
       "          Date  ALB_ZBRA\n",
       "0   2020-08-31  0.311845\n",
       "1   2020-09-01  0.332974\n",
       "2   2020-09-02  0.332368\n",
       "3   2020-09-03  0.339772\n",
       "4   2020-09-04  0.356920\n",
       "..         ...       ...\n",
       "343 2022-01-10  0.422384\n",
       "344 2022-01-11  0.444326\n",
       "345 2022-01-12  0.446099\n",
       "346 2022-01-13  0.445756\n",
       "347 2022-01-14  0.440955\n",
       "\n",
       "[348 rows x 2 columns]"
      ]
     },
     "execution_count": 13,
     "metadata": {},
     "output_type": "execute_result"
    }
   ],
   "source": [
    "# train_data\n",
    "train_data = df_small[:length_train].iloc[:,:2] \n",
    "train_data['Date'] = pd.to_datetime(train_data['Date'])  # converting to date time object\n",
    "train_data"
   ]
  },
  {
   "cell_type": "code",
   "execution_count": 14,
   "id": "d106ac80",
   "metadata": {},
   "outputs": [
    {
     "data": {
      "text/html": [
       "<div>\n",
       "<style scoped>\n",
       "    .dataframe tbody tr th:only-of-type {\n",
       "        vertical-align: middle;\n",
       "    }\n",
       "\n",
       "    .dataframe tbody tr th {\n",
       "        vertical-align: top;\n",
       "    }\n",
       "\n",
       "    .dataframe thead th {\n",
       "        text-align: right;\n",
       "    }\n",
       "</style>\n",
       "<table border=\"1\" class=\"dataframe\">\n",
       "  <thead>\n",
       "    <tr style=\"text-align: right;\">\n",
       "      <th></th>\n",
       "      <th>Date</th>\n",
       "      <th>ALB_ZBRA</th>\n",
       "    </tr>\n",
       "  </thead>\n",
       "  <tbody>\n",
       "    <tr>\n",
       "      <th>348</th>\n",
       "      <td>2022-01-18</td>\n",
       "      <td>0.436370</td>\n",
       "    </tr>\n",
       "    <tr>\n",
       "      <th>349</th>\n",
       "      <td>2022-01-19</td>\n",
       "      <td>0.426604</td>\n",
       "    </tr>\n",
       "    <tr>\n",
       "      <th>350</th>\n",
       "      <td>2022-01-20</td>\n",
       "      <td>0.431503</td>\n",
       "    </tr>\n",
       "    <tr>\n",
       "      <th>351</th>\n",
       "      <td>2022-01-21</td>\n",
       "      <td>0.428953</td>\n",
       "    </tr>\n",
       "    <tr>\n",
       "      <th>352</th>\n",
       "      <td>2022-01-24</td>\n",
       "      <td>0.430432</td>\n",
       "    </tr>\n",
       "    <tr>\n",
       "      <th>...</th>\n",
       "      <td>...</td>\n",
       "      <td>...</td>\n",
       "    </tr>\n",
       "    <tr>\n",
       "      <th>492</th>\n",
       "      <td>2022-08-15</td>\n",
       "      <td>0.813028</td>\n",
       "    </tr>\n",
       "    <tr>\n",
       "      <th>493</th>\n",
       "      <td>2022-08-16</td>\n",
       "      <td>0.814154</td>\n",
       "    </tr>\n",
       "    <tr>\n",
       "      <th>494</th>\n",
       "      <td>2022-08-17</td>\n",
       "      <td>0.815450</td>\n",
       "    </tr>\n",
       "    <tr>\n",
       "      <th>495</th>\n",
       "      <td>2022-08-18</td>\n",
       "      <td>0.816374</td>\n",
       "    </tr>\n",
       "    <tr>\n",
       "      <th>496</th>\n",
       "      <td>2022-08-19</td>\n",
       "      <td>0.822204</td>\n",
       "    </tr>\n",
       "  </tbody>\n",
       "</table>\n",
       "<p>149 rows × 2 columns</p>\n",
       "</div>"
      ],
      "text/plain": [
       "          Date  ALB_ZBRA\n",
       "348 2022-01-18  0.436370\n",
       "349 2022-01-19  0.426604\n",
       "350 2022-01-20  0.431503\n",
       "351 2022-01-21  0.428953\n",
       "352 2022-01-24  0.430432\n",
       "..         ...       ...\n",
       "492 2022-08-15  0.813028\n",
       "493 2022-08-16  0.814154\n",
       "494 2022-08-17  0.815450\n",
       "495 2022-08-18  0.816374\n",
       "496 2022-08-19  0.822204\n",
       "\n",
       "[149 rows x 2 columns]"
      ]
     },
     "execution_count": 14,
     "metadata": {},
     "output_type": "execute_result"
    }
   ],
   "source": [
    "# validation_data\n",
    "validation_data = df_small[length_train:].iloc[:,:2]\n",
    "validation_data['Date'] = pd.to_datetime(validation_data['Date'])  # converting to date time object\n",
    "validation_data"
   ]
  },
  {
   "cell_type": "markdown",
   "id": "1814e915",
   "metadata": {},
   "source": [
    "## Creating Train Dataset from Train split"
   ]
  },
  {
   "cell_type": "code",
   "execution_count": 15,
   "id": "508e963d",
   "metadata": {},
   "outputs": [
    {
     "data": {
      "text/plain": [
       "(348,)"
      ]
     },
     "execution_count": 15,
     "metadata": {},
     "output_type": "execute_result"
    }
   ],
   "source": [
    "dataset_train = train_data.ALB_ZBRA.values\n",
    "dataset_train.shape"
   ]
  },
  {
   "cell_type": "code",
   "execution_count": 16,
   "id": "517d74c8",
   "metadata": {},
   "outputs": [
    {
     "data": {
      "text/plain": [
       "(348, 1)"
      ]
     },
     "execution_count": 16,
     "metadata": {},
     "output_type": "execute_result"
    }
   ],
   "source": [
    "# Change 1d array to 2d array\n",
    "# Changing shape from (1692,) to (1692,1)\n",
    "dataset_train = np.reshape(dataset_train, (-1,1))\n",
    "dataset_train.shape"
   ]
  },
  {
   "cell_type": "markdown",
   "id": "bb1fd70a",
   "metadata": {},
   "source": [
    "## Normalization / Feature Scaling"
   ]
  },
  {
   "cell_type": "code",
   "execution_count": null,
   "id": "b23c11f9",
   "metadata": {},
   "outputs": [],
   "source": [
    "# Dataset values will be in between 0 and 1 after scaling"
   ]
  },
  {
   "cell_type": "code",
   "execution_count": 19,
   "id": "1664e2e3",
   "metadata": {},
   "outputs": [
    {
     "ename": "AttributeError",
     "evalue": "'numpy.ndarray' object has no attribute 'head'",
     "output_type": "error",
     "traceback": [
      "\u001b[0;31m---------------------------------------------------------------------------\u001b[0m",
      "\u001b[0;31mAttributeError\u001b[0m                            Traceback (most recent call last)",
      "\u001b[0;32m/var/folders/gr/22150sz94ggcqgt36_pzrbrw0000gn/T/ipykernel_73090/1795112000.py\u001b[0m in \u001b[0;36m<module>\u001b[0;34m\u001b[0m\n\u001b[0;32m----> 1\u001b[0;31m \u001b[0mdataset_train\u001b[0m\u001b[0;34m.\u001b[0m\u001b[0mhead\u001b[0m\u001b[0;34m\u001b[0m\u001b[0;34m\u001b[0m\u001b[0m\n\u001b[0m",
      "\u001b[0;31mAttributeError\u001b[0m: 'numpy.ndarray' object has no attribute 'head'"
     ]
    }
   ],
   "source": [
    "dataset_train.head"
   ]
  },
  {
   "cell_type": "code",
   "execution_count": 22,
   "id": "05335f24",
   "metadata": {},
   "outputs": [],
   "source": [
    "#from sklearn.preprocessing import MinMaxScaler\n",
    "#scaler = MinMaxScaler(feature_range = (0,1))\n",
    "\n",
    "# scaling dataset\n",
    "#dataset_train_scaled = scaler.fit_transform(dataset_train)\n",
    "\n",
    "#dataset_train_scaled.shape\n",
    "\n",
    "dataset_train_scaled = dataset_train"
   ]
  },
  {
   "cell_type": "code",
   "execution_count": 23,
   "id": "e6868064",
   "metadata": {},
   "outputs": [
    {
     "data": {
      "image/png": "[encoded data removed]",
      "text/plain": [
       "<Figure size 1080x432 with 1 Axes>"
      ]
     },
     "metadata": {
      "needs_background": "light"
     },
     "output_type": "display_data"
    }
   ],
   "source": [
    "plt.subplots(figsize = (15,6))\n",
    "plt.plot(dataset_train_scaled)\n",
    "plt.xlabel(\"Days 1st, 2nd, 3rd..\")\n",
    "plt.ylabel(\"Ratio\")\n",
    "plt.show()"
   ]
  },
  {
   "cell_type": "markdown",
   "id": "1a8aff56",
   "metadata": {},
   "source": [
    "## Creating X_train and y_train from Train data"
   ]
  },
  {
   "cell_type": "markdown",
   "id": "be9c4316",
   "metadata": {},
   "source": [
    "We have train data composed of ratios over days\n",
    "\n",
    "So, it has 1184 ratios corresponding 1184 days\n",
    "\n",
    "My aim is to predict the ratio (closing) of the next day.\n",
    "\n",
    "I can use a time step of 2 days.\n",
    "\n",
    "I will pick first 2 ratios (day 0 to 2), 1st 2 ratio will be in \n",
    "X_train data\n",
    "\n",
    "Then predict the ratio of 3rd day; and 3rd ratio will be in y_train data\n",
    "\n",
    "Again, i will pick ratios from 1 to 3, those will be in X_train data\n",
    "\n",
    "Then predict the next days ratio, 4th ratio will be in y_train data\n",
    "\n"
   ]
  },
  {
   "cell_type": "code",
   "execution_count": 24,
   "id": "6c47c074",
   "metadata": {},
   "outputs": [],
   "source": [
    "#question: which time step makes sense?\n",
    "\n",
    "X_train = []\n",
    "y_train = []\n",
    "\n",
    "time_step = 20 #change that?\n",
    "\n",
    "for i in range(time_step, length_train):\n",
    "    X_train.append(dataset_train_scaled[i-time_step:i,0:1])\n",
    "    y_train.append(dataset_train_scaled[i,0:1])\n",
    "    \n",
    "# convert list to array\n",
    "X_train, y_train = np.array(X_train), np.array(y_train)"
   ]
  },
  {
   "cell_type": "code",
   "execution_count": 25,
   "id": "363e7d05",
   "metadata": {},
   "outputs": [
    {
     "data": {
      "text/plain": [
       "(328, 20, 1)"
      ]
     },
     "execution_count": 25,
     "metadata": {},
     "output_type": "execute_result"
    }
   ],
   "source": [
    "X_train.shape"
   ]
  },
  {
   "cell_type": "code",
   "execution_count": 26,
   "id": "4ae00ff6",
   "metadata": {},
   "outputs": [
    {
     "data": {
      "text/plain": [
       "count    328.0\n",
       "mean      20.0\n",
       "std        0.0\n",
       "min       20.0\n",
       "25%       20.0\n",
       "50%       20.0\n",
       "75%       20.0\n",
       "max       20.0\n",
       "dtype: float64"
      ]
     },
     "execution_count": 26,
     "metadata": {},
     "output_type": "execute_result"
    }
   ],
   "source": [
    "pd.Series([len(X) for X in X_train]).describe()"
   ]
  },
  {
   "cell_type": "code",
   "execution_count": 27,
   "id": "7cd01a74",
   "metadata": {},
   "outputs": [
    {
     "data": {
      "text/plain": [
       "array([[0.38862944],\n",
       "       [0.38917616],\n",
       "       [0.38077796],\n",
       "       [0.38492726],\n",
       "       [0.38663534],\n",
       "       [0.38988871],\n",
       "       [0.3830526 ],\n",
       "       [0.38833012],\n",
       "       [0.38542777],\n",
       "       [0.39077174],\n",
       "       [0.39133709],\n",
       "       [0.4038591 ],\n",
       "       [0.41133758],\n",
       "       [0.42062969],\n",
       "       [0.41886172],\n",
       "       [0.44299006],\n",
       "       [0.42238371],\n",
       "       [0.44432603],\n",
       "       [0.44609879],\n",
       "       [0.44575611]])"
      ]
     },
     "execution_count": 27,
     "metadata": {},
     "output_type": "execute_result"
    }
   ],
   "source": [
    "dataset_train_scaled[i-time_step:i]"
   ]
  },
  {
   "cell_type": "code",
   "execution_count": 28,
   "id": "47a2612d",
   "metadata": {},
   "outputs": [
    {
     "data": {
      "text/plain": [
       "0.4409549019553445"
      ]
     },
     "execution_count": 28,
     "metadata": {},
     "output_type": "execute_result"
    }
   ],
   "source": [
    "dataset_train_scaled[i,0]"
   ]
  },
  {
   "cell_type": "code",
   "execution_count": 29,
   "id": "68467185",
   "metadata": {},
   "outputs": [
    {
     "name": "stdout",
     "output_type": "stream",
     "text": [
      "Shape of X_train before reshape: (328, 20, 1)\n",
      "Shape of y_train before reshape: (328, 1)\n"
     ]
    }
   ],
   "source": [
    "print(\"Shape of X_train before reshape:\",X_train.shape)\n",
    "print(\"Shape of y_train before reshape:\",y_train.shape)"
   ]
  },
  {
   "cell_type": "code",
   "execution_count": 30,
   "id": "f725b6e2",
   "metadata": {},
   "outputs": [
    {
     "name": "stdout",
     "output_type": "stream",
     "text": [
      "Shape of X_train after reshape : (328, 20, 1)\n",
      "Shape of y_train after reshape : (328, 1)\n"
     ]
    }
   ],
   "source": [
    "X_train = np.reshape(X_train, (X_train.shape[0], X_train.shape[1],1))\n",
    "y_train = np.reshape(y_train, (y_train.shape[0],1))\n",
    "\n",
    "print(\"Shape of X_train after reshape :\",X_train.shape)\n",
    "print(\"Shape of y_train after reshape :\",y_train.shape)"
   ]
  },
  {
   "cell_type": "code",
   "execution_count": 31,
   "id": "fa4a4b8d",
   "metadata": {},
   "outputs": [
    {
     "data": {
      "text/plain": [
       "array([[0.31184533],\n",
       "       [0.33297423],\n",
       "       [0.33236771],\n",
       "       [0.33977172],\n",
       "       [0.35692005],\n",
       "       [0.36686296],\n",
       "       [0.36722494],\n",
       "       [0.36801524],\n",
       "       [0.3729842 ],\n",
       "       [0.38359747],\n",
       "       [0.3751988 ],\n",
       "       [0.37780616],\n",
       "       [0.38648978],\n",
       "       [0.37695343],\n",
       "       [0.37698369],\n",
       "       [0.37210869],\n",
       "       [0.31760517],\n",
       "       [0.32758807],\n",
       "       [0.32358099],\n",
       "       [0.32094169]])"
      ]
     },
     "execution_count": 31,
     "metadata": {},
     "output_type": "execute_result"
    }
   ],
   "source": [
    "X_train[0]"
   ]
  },
  {
   "cell_type": "code",
   "execution_count": 32,
   "id": "063a84d2",
   "metadata": {},
   "outputs": [],
   "source": [
    "X_train = X_train[:int(X_train.shape[0]*0.95)]\n",
    "X_val = X_train[int(X_train.shape[0]*0.95):]\n",
    "y_train = y_train[:int(y_train.shape[0]*0.95)]\n",
    "y_val = y_train[int(y_train.shape[0]*0.95):]"
   ]
  },
  {
   "cell_type": "markdown",
   "id": "3da4e900",
   "metadata": {},
   "source": [
    "Check the first item in y_train\n",
    "It is the ratio of 2nd day (timestep 2)"
   ]
  },
  {
   "cell_type": "code",
   "execution_count": 33,
   "id": "27da9c01",
   "metadata": {},
   "outputs": [
    {
     "data": {
      "text/plain": [
       "array([0.3306644])"
      ]
     },
     "execution_count": 33,
     "metadata": {},
     "output_type": "execute_result"
    }
   ],
   "source": [
    "y_train[0]"
   ]
  },
  {
   "cell_type": "markdown",
   "id": "af4f8b3b",
   "metadata": {},
   "source": [
    "## Creating RNN model"
   ]
  },
  {
   "cell_type": "code",
   "execution_count": null,
   "id": "1371db42",
   "metadata": {},
   "outputs": [],
   "source": [
    "### open questions\n",
    "#### makes the combination of RNN, LSTM and GRU sense?\n",
    "\n",
    "# importing libraries\n",
    "from keras.models import Sequential\n",
    "from keras.layers import Dense\n",
    "from keras.layers import SimpleRNN\n",
    "from keras.layers import Dropout\n",
    "\n",
    "# initializing the RNN\n",
    "regressor = Sequential()\n",
    "\n",
    "# adding first RNN layer and dropout regulatization\n",
    "regressor.add(SimpleRNN(units = 50, activation = \"tanh\", return_sequences = True))\n",
    "regressor.add(Dropout(0.2))\n",
    "\n",
    "# adding second RNN layer and dropout regulatization\n",
    "#regressor.add(SimpleRNN(units = 50, activation = \"tanh\",return_sequences = True))\n",
    "#regressor.add(Dropout(0.2))\n",
    "\n",
    "# adding third RNN layer and dropout regulatization\n",
    "regressor.add(SimpleRNN(units = 50,activation = \"tanh\", return_sequences = True))\n",
    "regressor.add(Dropout(0.2))\n",
    "\n",
    "# adding fourth RNN layer and dropout regulatization\n",
    "regressor.add(SimpleRNN(units = 50))\n",
    "regressor.add(Dropout(0.2))\n",
    "\n",
    "# adding the output layer\n",
    "regressor.add(Dense(units = 1))\n",
    "\n",
    "# compiling RNN\n",
    "regressor.compile(optimizer = \"rmsprop\", loss = \"mean_squared_error\",metrics = [\"mae\", \"mape\"]) #rmsprop as optimizer for RNN?\n",
    "\n",
    "# fitting the RNN\n",
    "history = regressor.fit(X_train, y_train, epochs = 100, batch_size = 32, validation_data=(X_val, y_val))"
   ]
  },
  {
   "cell_type": "markdown",
   "id": "553848c2",
   "metadata": {},
   "source": [
    "## Evaluating Model"
   ]
  },
  {
   "cell_type": "code",
   "execution_count": null,
   "id": "7f5c7a24",
   "metadata": {},
   "outputs": [],
   "source": [
    "# Losses\n",
    "history.history[\"loss\"]"
   ]
  },
  {
   "cell_type": "code",
   "execution_count": null,
   "id": "bd6c0acf",
   "metadata": {},
   "outputs": [],
   "source": [
    "history.history.keys()"
   ]
  },
  {
   "cell_type": "code",
   "execution_count": null,
   "id": "a4c0e44e",
   "metadata": {},
   "outputs": [],
   "source": []
  },
  {
   "cell_type": "code",
   "execution_count": null,
   "id": "b2ca7e6f",
   "metadata": {},
   "outputs": [],
   "source": [
    "# Plotting Loss vs Epochs\n",
    "plt.figure(figsize =(10,7))\n",
    "plt.plot(history.history[\"loss\"])\n",
    "plt.plot(history.history[\"val_loss\"])\n",
    "\n",
    "plt.xlabel(\"Epochs\")\n",
    "plt.ylabel(\"Losses\")\n",
    "plt.title(\"Simple RNN model, Loss vs Epoch\")\n",
    "plt.show()\n",
    "\n"
   ]
  },
  {
   "cell_type": "code",
   "execution_count": null,
   "id": "e631df16",
   "metadata": {},
   "outputs": [],
   "source": [
    "# Plotting Accuracy vs Epochs\n",
    "plt.figure(figsize =(10,5))\n",
    "plt.plot(history.history[\"mape\"])\n",
    "plt.plot(history.history[\"val_mape\"])\n",
    "plt.xlabel(\"Epochs\")\n",
    "plt.ylabel(\"mape\")\n",
    "plt.title(\"Simple RNN model, Accuracy vs. Epoch\")\n",
    "plt.show()"
   ]
  },
  {
   "cell_type": "markdown",
   "id": "e34754ac",
   "metadata": {},
   "source": [
    "## Model predictions for train data¶\n"
   ]
  },
  {
   "cell_type": "code",
   "execution_count": null,
   "id": "31d28df6",
   "metadata": {},
   "outputs": [],
   "source": [
    "y_pred = regressor.predict(X_train)  # predictions\n",
    "y_pred = scaler.inverse_transform(y_pred) # scaling back from 0-1 to original\n",
    "y_pred.shape"
   ]
  },
  {
   "cell_type": "code",
   "execution_count": null,
   "id": "dd7e54d3",
   "metadata": {},
   "outputs": [],
   "source": [
    "pd.DataFrame(y_pred).pct_change().plot()\n",
    "pd.DataFrame(y_train).pct_change().plot()"
   ]
  },
  {
   "cell_type": "code",
   "execution_count": null,
   "id": "953ccd17",
   "metadata": {},
   "outputs": [],
   "source": [
    "pd.DataFrame({\"y_pred\":y_pred.flatten(), \"y_true\":y_train.flatten()}).plot()"
   ]
  },
  {
   "cell_type": "code",
   "execution_count": null,
   "id": "0c360c52",
   "metadata": {},
   "outputs": [],
   "source": [
    "y_train = scaler.inverse_transform(y_train) # scaling back from 0-1 to original\n",
    "y_train.shape"
   ]
  },
  {
   "cell_type": "code",
   "execution_count": null,
   "id": "fd643b9c",
   "metadata": {},
   "outputs": [],
   "source": [
    "# visualisation\n",
    "plt.figure(figsize = (30,10))\n",
    "plt.plot(y_pred, color = \"b\", label = \"y_pred\" )\n",
    "plt.plot(y_train, color = \"g\", label = \"y_train\")\n",
    "plt.xlabel(\"Days\")\n",
    "plt.ylabel(\"ratio\")\n",
    "plt.title(\"Simple RNN model, Predictions with input X_train vs y_train\")\n",
    "plt.legend()\n",
    "plt.show()\n",
    "\n"
   ]
  },
  {
   "cell_type": "markdown",
   "id": "14f39577",
   "metadata": {},
   "source": [
    "## Creating Test Dataset from Validation Data"
   ]
  },
  {
   "cell_type": "code",
   "execution_count": 48,
   "id": "97ceffc5",
   "metadata": {},
   "outputs": [
    {
     "name": "stdout",
     "output_type": "stream",
     "text": [
      "Shape of scaled validation dataset : (149, 1)\n"
     ]
    }
   ],
   "source": [
    "#Converting array and scaling\n",
    "dataset_validation = validation_data.ALB_ZBRA.values  # getting \"Ratio\" column and converting to array\n",
    "dataset_validation = np.reshape(dataset_validation, (-1,1))  # converting 1D to 2D array\n",
    "#scaled_dataset_validation =  scaler.fit_transform(dataset_validation)  # scaling  values to between 0 and 1\n",
    "scaled_dataset_validation = dataset_validation \n",
    "\n",
    "print(\"Shape of scaled validation dataset :\",scaled_dataset_validation.shape)"
   ]
  },
  {
   "cell_type": "code",
   "execution_count": 49,
   "id": "decab60e",
   "metadata": {},
   "outputs": [],
   "source": [
    "#Creating X_test and y_test\n",
    "X_test = []\n",
    "y_test = []\n",
    "\n",
    "for i in range(time_step, length_validation):\n",
    "    X_test.append(scaled_dataset_validation[i-time_step:i,0])\n",
    "    y_test.append(scaled_dataset_validation[i,0])"
   ]
  },
  {
   "cell_type": "code",
   "execution_count": 50,
   "id": "dc2afed9",
   "metadata": {},
   "outputs": [],
   "source": [
    "# Converting to array\n",
    "X_test, y_test = np.array(X_test), np.array(y_test)"
   ]
  },
  {
   "cell_type": "code",
   "execution_count": 51,
   "id": "862dd185",
   "metadata": {},
   "outputs": [
    {
     "name": "stdout",
     "output_type": "stream",
     "text": [
      "Shape of X_test before reshape : (129, 20)\n",
      "Shape of y_test before reshape : (129,)\n"
     ]
    }
   ],
   "source": [
    "print(\"Shape of X_test before reshape :\",X_test.shape)\n",
    "print(\"Shape of y_test before reshape :\",y_test.shape)"
   ]
  },
  {
   "cell_type": "code",
   "execution_count": 52,
   "id": "71647c8e",
   "metadata": {},
   "outputs": [],
   "source": [
    "#reshape\n",
    "X_test = np.reshape(X_test, (X_test.shape[0],X_test.shape[1],1))  # reshape to 3D array\n",
    "y_test = np.reshape(y_test, (-1,1))  # reshape to 2D array"
   ]
  },
  {
   "cell_type": "code",
   "execution_count": 53,
   "id": "12546280",
   "metadata": {},
   "outputs": [
    {
     "name": "stdout",
     "output_type": "stream",
     "text": [
      "Shape of X_test after reshape : (129, 20, 1)\n",
      "Shape of y_test after reshape : (129, 1)\n"
     ]
    }
   ],
   "source": [
    "print(\"Shape of X_test after reshape :\",X_test.shape)\n",
    "print(\"Shape of y_test after reshape :\",y_test.shape)"
   ]
  },
  {
   "cell_type": "markdown",
   "id": "c89d2ea5",
   "metadata": {},
   "source": [
    "## Evaluating with Validation Data"
   ]
  },
  {
   "cell_type": "code",
   "execution_count": null,
   "id": "8a1bc89e",
   "metadata": {},
   "outputs": [],
   "source": [
    "regressor.evaluate(X_test, y_test)"
   ]
  },
  {
   "cell_type": "code",
   "execution_count": null,
   "id": "3b79daa5",
   "metadata": {},
   "outputs": [],
   "source": [
    "# predictions with X_test data\n",
    "y_pred_of_test = regressor.predict(X_test)\n",
    "# scaling back from 0-1 to original\n",
    "y_pred_of_test = scaler.inverse_transform(y_pred_of_test) \n",
    "print(\"Shape of y_pred_of_test :\",y_pred_of_test.shape)"
   ]
  },
  {
   "cell_type": "code",
   "execution_count": null,
   "id": "2204ab6b",
   "metadata": {},
   "outputs": [],
   "source": [
    "# visualisation\n",
    "plt.figure(figsize = (30,10))\n",
    "plt.plot(y_pred_of_test, label = \"y_pred_of_test\", c = \"orange\")\n",
    "plt.plot(scaler.inverse_transform(y_test), label = \"y_test\", c = \"g\")\n",
    "plt.xlabel(\"Days\")\n",
    "plt.ylabel(\"Ratio\")\n",
    "plt.title(\"Simple RNN model, Prediction with input X_test vs y_test\")\n",
    "plt.legend()\n",
    "plt.show()"
   ]
  },
  {
   "cell_type": "code",
   "execution_count": null,
   "id": "af00c40a",
   "metadata": {},
   "outputs": [],
   "source": [
    "# Visualisation\n",
    "plt.subplots(figsize =(30,12))\n",
    "plt.plot(train_data.Date, train_data.ALB_ZBRA, label = \"train_data\", color = \"b\")\n",
    "plt.plot(validation_data.Date, validation_data.ALB_ZBRA, label = \"validation_data\", color = \"g\")\n",
    "plt.plot(train_data.Date.iloc[time_step:], y_pred, label = \"y_pred\", color = \"r\")\n",
    "plt.plot(validation_data.Date.iloc[time_step:], y_pred_of_test, label = \"y_pred_of_test\", color = \"orange\")\n",
    "plt.xlabel(\"Days\")\n",
    "plt.ylabel(\"ratio\")\n",
    "plt.title(\"Simple RNN model, Train-Validation-Prediction\")\n",
    "plt.legend()\n",
    "plt.show()"
   ]
  },
  {
   "cell_type": "markdown",
   "id": "1766270e",
   "metadata": {},
   "source": [
    "## Creating LSTM Model"
   ]
  },
  {
   "cell_type": "code",
   "execution_count": 34,
   "id": "5fb92a44",
   "metadata": {},
   "outputs": [
    {
     "data": {
      "text/plain": [
       "0.2797603872222587"
      ]
     },
     "execution_count": 34,
     "metadata": {},
     "output_type": "execute_result"
    }
   ],
   "source": [
    "y_train.min()"
   ]
  },
  {
   "cell_type": "code",
   "execution_count": 35,
   "id": "71ccc544",
   "metadata": {},
   "outputs": [
    {
     "data": {
      "text/plain": [
       "(311, 20, 1)"
      ]
     },
     "execution_count": 35,
     "metadata": {},
     "output_type": "execute_result"
    }
   ],
   "source": [
    "X_train.shape"
   ]
  },
  {
   "cell_type": "code",
   "execution_count": null,
   "id": "3bd40d43",
   "metadata": {},
   "outputs": [],
   "source": [
    "y_train.shape"
   ]
  },
  {
   "cell_type": "code",
   "execution_count": null,
   "id": "eadafbd5",
   "metadata": {},
   "outputs": [],
   "source": [
    "y_train = scaler.fit_transform(y_train)"
   ]
  },
  {
   "cell_type": "code",
   "execution_count": null,
   "id": "d68fb866",
   "metadata": {},
   "outputs": [],
   "source": []
  },
  {
   "cell_type": "code",
   "execution_count": 41,
   "id": "bca2ed67",
   "metadata": {},
   "outputs": [
    {
     "name": "stderr",
     "output_type": "stream",
     "text": [
      "2022-09-03 12:51:14.374279: I tensorflow/compiler/mlir/mlir_graph_optimization_pass.cc:176] None of the MLIR Optimization Passes are enabled (registered 2)\n"
     ]
    },
    {
     "name": "stdout",
     "output_type": "stream",
     "text": [
      "Epoch 1/200\n",
      "5/5 [==============================] - 12s 141ms/step - loss: 78.4751 - mae: 0.2887 - mape: 78.4751 - val_loss: 10.7563 - val_mae: 0.0455 - val_mape: 10.7563\n",
      "Epoch 2/200\n",
      "5/5 [==============================] - 0s 7ms/step - loss: 8.7097 - mae: 0.0329 - mape: 8.7097 - val_loss: 3.9107 - val_mae: 0.0157 - val_mape: 3.9107\n",
      "Epoch 3/200\n",
      "5/5 [==============================] - 0s 7ms/step - loss: 8.5308 - mae: 0.0308 - mape: 8.5308 - val_loss: 10.8189 - val_mae: 0.0458 - val_mape: 10.8189\n",
      "Epoch 4/200\n",
      "5/5 [==============================] - 0s 8ms/step - loss: 8.2300 - mae: 0.0309 - mape: 8.2300 - val_loss: 8.6782 - val_mae: 0.0369 - val_mape: 8.6782\n",
      "Epoch 5/200\n",
      "5/5 [==============================] - 0s 9ms/step - loss: 7.4160 - mae: 0.0281 - mape: 7.4160 - val_loss: 3.4169 - val_mae: 0.0143 - val_mape: 3.4169\n",
      "Epoch 6/200\n",
      "5/5 [==============================] - 0s 9ms/step - loss: 8.3898 - mae: 0.0304 - mape: 8.3898 - val_loss: 11.5677 - val_mae: 0.0488 - val_mape: 11.5677\n",
      "Epoch 7/200\n",
      "5/5 [==============================] - 0s 8ms/step - loss: 7.6955 - mae: 0.0289 - mape: 7.6955 - val_loss: 3.2764 - val_mae: 0.0136 - val_mape: 3.2764\n",
      "Epoch 8/200\n",
      "5/5 [==============================] - 0s 8ms/step - loss: 7.3473 - mae: 0.0267 - mape: 7.3473 - val_loss: 5.2872 - val_mae: 0.0227 - val_mape: 5.2872\n",
      "Epoch 9/200\n",
      "5/5 [==============================] - 0s 8ms/step - loss: 7.7262 - mae: 0.0287 - mape: 7.7262 - val_loss: 3.9083 - val_mae: 0.0167 - val_mape: 3.9083\n",
      "Epoch 10/200\n",
      "5/5 [==============================] - 0s 7ms/step - loss: 6.8760 - mae: 0.0253 - mape: 6.8760 - val_loss: 5.7552 - val_mae: 0.0232 - val_mape: 5.7552\n",
      "Epoch 11/200\n",
      "5/5 [==============================] - 0s 7ms/step - loss: 8.3179 - mae: 0.0306 - mape: 8.3179 - val_loss: 4.9944 - val_mae: 0.0215 - val_mape: 4.9944\n",
      "Epoch 12/200\n",
      "5/5 [==============================] - 0s 8ms/step - loss: 6.7341 - mae: 0.0251 - mape: 6.7341 - val_loss: 5.4841 - val_mae: 0.0221 - val_mape: 5.4841\n",
      "Epoch 13/200\n",
      "5/5 [==============================] - 0s 7ms/step - loss: 7.6380 - mae: 0.0277 - mape: 7.6380 - val_loss: 8.2833 - val_mae: 0.0351 - val_mape: 8.2833\n",
      "Epoch 14/200\n",
      "5/5 [==============================] - 0s 8ms/step - loss: 8.0058 - mae: 0.0303 - mape: 8.0058 - val_loss: 2.9369 - val_mae: 0.0120 - val_mape: 2.9369\n",
      "Epoch 15/200\n",
      "5/5 [==============================] - 0s 8ms/step - loss: 6.3095 - mae: 0.0231 - mape: 6.3095 - val_loss: 6.7632 - val_mae: 0.0274 - val_mape: 6.7632\n",
      "Epoch 16/200\n",
      "5/5 [==============================] - 0s 7ms/step - loss: 7.6939 - mae: 0.0276 - mape: 7.6939 - val_loss: 6.7757 - val_mae: 0.0288 - val_mape: 6.7757\n",
      "Epoch 17/200\n",
      "5/5 [==============================] - 0s 8ms/step - loss: 6.3989 - mae: 0.0243 - mape: 6.3989 - val_loss: 6.7695 - val_mae: 0.0274 - val_mape: 6.7695\n",
      "Epoch 18/200\n",
      "5/5 [==============================] - 0s 8ms/step - loss: 7.9557 - mae: 0.0289 - mape: 7.9557 - val_loss: 8.4781 - val_mae: 0.0359 - val_mape: 8.4781\n",
      "Epoch 19/200\n",
      "5/5 [==============================] - 0s 8ms/step - loss: 7.8546 - mae: 0.0296 - mape: 7.8546 - val_loss: 2.7560 - val_mae: 0.0113 - val_mape: 2.7560\n",
      "Epoch 20/200\n",
      "5/5 [==============================] - 0s 8ms/step - loss: 5.2834 - mae: 0.0196 - mape: 5.2834 - val_loss: 2.7764 - val_mae: 0.0113 - val_mape: 2.7764\n",
      "Epoch 21/200\n",
      "5/5 [==============================] - 0s 8ms/step - loss: 6.0348 - mae: 0.0217 - mape: 6.0348 - val_loss: 5.9086 - val_mae: 0.0252 - val_mape: 5.9086\n",
      "Epoch 22/200\n",
      "5/5 [==============================] - 0s 8ms/step - loss: 8.2895 - mae: 0.0306 - mape: 8.2895 - val_loss: 3.7346 - val_mae: 0.0150 - val_mape: 3.7346\n",
      "Epoch 23/200\n",
      "5/5 [==============================] - 0s 8ms/step - loss: 5.3449 - mae: 0.0190 - mape: 5.3449 - val_loss: 6.7582 - val_mae: 0.0287 - val_mape: 6.7582\n",
      "Epoch 24/200\n",
      "5/5 [==============================] - 0s 8ms/step - loss: 8.1976 - mae: 0.0303 - mape: 8.1976 - val_loss: 7.3432 - val_mae: 0.0299 - val_mape: 7.3432\n",
      "Epoch 25/200\n",
      "5/5 [==============================] - 0s 8ms/step - loss: 6.9206 - mae: 0.0248 - mape: 6.9206 - val_loss: 3.9025 - val_mae: 0.0168 - val_mape: 3.9025\n",
      "Epoch 26/200\n",
      "5/5 [==============================] - 0s 8ms/step - loss: 6.4750 - mae: 0.0238 - mape: 6.4750 - val_loss: 6.4868 - val_mae: 0.0263 - val_mape: 6.4868\n",
      "Epoch 27/200\n",
      "5/5 [==============================] - 0s 8ms/step - loss: 6.9816 - mae: 0.0248 - mape: 6.9816 - val_loss: 4.6781 - val_mae: 0.0200 - val_mape: 4.6781\n",
      "Epoch 28/200\n",
      "5/5 [==============================] - 0s 8ms/step - loss: 7.0114 - mae: 0.0264 - mape: 7.0114 - val_loss: 5.0316 - val_mae: 0.0203 - val_mape: 5.0316\n",
      "Epoch 29/200\n",
      "5/5 [==============================] - 0s 8ms/step - loss: 6.2405 - mae: 0.0223 - mape: 6.2405 - val_loss: 5.5294 - val_mae: 0.0236 - val_mape: 5.5294\n",
      "Epoch 30/200\n",
      "5/5 [==============================] - 0s 8ms/step - loss: 6.5529 - mae: 0.0245 - mape: 6.5529 - val_loss: 5.8731 - val_mae: 0.0238 - val_mape: 5.8731\n",
      "Epoch 31/200\n",
      "5/5 [==============================] - 0s 8ms/step - loss: 6.7272 - mae: 0.0243 - mape: 6.7272 - val_loss: 4.3122 - val_mae: 0.0185 - val_mape: 4.3122\n",
      "Epoch 32/200\n",
      "5/5 [==============================] - 0s 8ms/step - loss: 7.0683 - mae: 0.0263 - mape: 7.0683 - val_loss: 7.0088 - val_mae: 0.0285 - val_mape: 7.0088\n",
      "Epoch 33/200\n",
      "5/5 [==============================] - 0s 8ms/step - loss: 6.3989 - mae: 0.0228 - mape: 6.3989 - val_loss: 4.5116 - val_mae: 0.0193 - val_mape: 4.5116\n",
      "Epoch 34/200\n",
      "5/5 [==============================] - 0s 8ms/step - loss: 5.6435 - mae: 0.0210 - mape: 5.6435 - val_loss: 3.5734 - val_mae: 0.0144 - val_mape: 3.5734\n",
      "Epoch 35/200\n",
      "5/5 [==============================] - 0s 8ms/step - loss: 4.7347 - mae: 0.0172 - mape: 4.7347 - val_loss: 8.4436 - val_mae: 0.0356 - val_mape: 8.4436\n",
      "Epoch 36/200\n",
      "5/5 [==============================] - 0s 8ms/step - loss: 8.2555 - mae: 0.0304 - mape: 8.2555 - val_loss: 5.2763 - val_mae: 0.0214 - val_mape: 5.2763\n",
      "Epoch 37/200\n",
      "5/5 [==============================] - 0s 7ms/step - loss: 5.7017 - mae: 0.0204 - mape: 5.7017 - val_loss: 3.7953 - val_mae: 0.0163 - val_mape: 3.7953\n",
      "Epoch 38/200\n",
      "5/5 [==============================] - 0s 6ms/step - loss: 5.9922 - mae: 0.0224 - mape: 5.9922 - val_loss: 2.4238 - val_mae: 0.0101 - val_mape: 2.4238\n",
      "Epoch 39/200\n",
      "5/5 [==============================] - 0s 7ms/step - loss: 5.1865 - mae: 0.0190 - mape: 5.1865 - val_loss: 8.4946 - val_mae: 0.0347 - val_mape: 8.4946\n",
      "Epoch 40/200\n",
      "5/5 [==============================] - 0s 7ms/step - loss: 6.9291 - mae: 0.0248 - mape: 6.9291 - val_loss: 5.9465 - val_mae: 0.0253 - val_mape: 5.9465\n",
      "Epoch 41/200\n",
      "5/5 [==============================] - 0s 6ms/step - loss: 6.1794 - mae: 0.0233 - mape: 6.1794 - val_loss: 4.2227 - val_mae: 0.0170 - val_mape: 4.2227\n",
      "Epoch 42/200\n",
      "5/5 [==============================] - 0s 7ms/step - loss: 5.0721 - mae: 0.0180 - mape: 5.0721 - val_loss: 5.9476 - val_mae: 0.0252 - val_mape: 5.9476\n",
      "Epoch 43/200\n",
      "5/5 [==============================] - 0s 7ms/step - loss: 7.4381 - mae: 0.0278 - mape: 7.4381 - val_loss: 7.5826 - val_mae: 0.0310 - val_mape: 7.5826\n",
      "Epoch 44/200\n",
      "5/5 [==============================] - 0s 7ms/step - loss: 5.9592 - mae: 0.0215 - mape: 5.9592 - val_loss: 2.3124 - val_mae: 0.0095 - val_mape: 2.3124\n",
      "Epoch 45/200\n",
      "5/5 [==============================] - 0s 7ms/step - loss: 4.7450 - mae: 0.0174 - mape: 4.7450 - val_loss: 10.4947 - val_mae: 0.0431 - val_mape: 10.4947\n",
      "Epoch 46/200\n",
      "5/5 [==============================] - 0s 6ms/step - loss: 8.3637 - mae: 0.0297 - mape: 8.3637 - val_loss: 3.5384 - val_mae: 0.0152 - val_mape: 3.5384\n",
      "Epoch 47/200\n",
      "5/5 [==============================] - 0s 7ms/step - loss: 6.1361 - mae: 0.0228 - mape: 6.1361 - val_loss: 5.8661 - val_mae: 0.0239 - val_mape: 5.8661\n",
      "Epoch 48/200\n",
      "5/5 [==============================] - 0s 7ms/step - loss: 4.9889 - mae: 0.0179 - mape: 4.9889 - val_loss: 2.4300 - val_mae: 0.0103 - val_mape: 2.4300\n",
      "Epoch 49/200\n",
      "5/5 [==============================] - 0s 7ms/step - loss: 5.4305 - mae: 0.0201 - mape: 5.4305 - val_loss: 7.6422 - val_mae: 0.0312 - val_mape: 7.6422\n",
      "Epoch 50/200\n",
      "5/5 [==============================] - 0s 7ms/step - loss: 6.1234 - mae: 0.0221 - mape: 6.1234 - val_loss: 2.3341 - val_mae: 0.0095 - val_mape: 2.3341\n"
     ]
    },
    {
     "name": "stdout",
     "output_type": "stream",
     "text": [
      "Epoch 51/200\n",
      "5/5 [==============================] - 0s 8ms/step - loss: 4.1728 - mae: 0.0151 - mape: 4.1728 - val_loss: 2.2258 - val_mae: 0.0092 - val_mape: 2.2258\n",
      "Epoch 52/200\n",
      "5/5 [==============================] - 0s 7ms/step - loss: 6.4389 - mae: 0.0237 - mape: 6.4389 - val_loss: 9.0170 - val_mae: 0.0370 - val_mape: 9.0170\n",
      "Epoch 53/200\n",
      "5/5 [==============================] - 0s 6ms/step - loss: 6.0619 - mae: 0.0218 - mape: 6.0619 - val_loss: 2.3943 - val_mae: 0.0102 - val_mape: 2.3943\n",
      "Epoch 54/200\n",
      "5/5 [==============================] - 0s 7ms/step - loss: 4.4214 - mae: 0.0162 - mape: 4.4214 - val_loss: 4.7793 - val_mae: 0.0204 - val_mape: 4.7793\n",
      "Epoch 55/200\n",
      "5/5 [==============================] - 0s 7ms/step - loss: 7.0650 - mae: 0.0263 - mape: 7.0650 - val_loss: 7.4287 - val_mae: 0.0304 - val_mape: 7.4287\n",
      "Epoch 56/200\n",
      "5/5 [==============================] - 0s 7ms/step - loss: 5.5588 - mae: 0.0201 - mape: 5.5588 - val_loss: 2.3820 - val_mae: 0.0101 - val_mape: 2.3820\n",
      "Epoch 57/200\n",
      "5/5 [==============================] - 0s 6ms/step - loss: 4.7702 - mae: 0.0177 - mape: 4.7702 - val_loss: 5.9283 - val_mae: 0.0242 - val_mape: 5.9283\n",
      "Epoch 58/200\n",
      "5/5 [==============================] - 0s 7ms/step - loss: 5.9267 - mae: 0.0211 - mape: 5.9267 - val_loss: 2.2973 - val_mae: 0.0097 - val_mape: 2.2973\n",
      "Epoch 59/200\n",
      "5/5 [==============================] - 0s 7ms/step - loss: 5.7727 - mae: 0.0214 - mape: 5.7727 - val_loss: 5.6934 - val_mae: 0.0232 - val_mape: 5.6934\n",
      "Epoch 60/200\n",
      "5/5 [==============================] - 0s 6ms/step - loss: 4.9975 - mae: 0.0181 - mape: 4.9975 - val_loss: 2.6242 - val_mae: 0.0112 - val_mape: 2.6242\n",
      "Epoch 61/200\n",
      "5/5 [==============================] - 0s 7ms/step - loss: 5.1186 - mae: 0.0190 - mape: 5.1186 - val_loss: 6.6559 - val_mae: 0.0272 - val_mape: 6.6559\n",
      "Epoch 62/200\n",
      "5/5 [==============================] - 0s 6ms/step - loss: 5.8378 - mae: 0.0213 - mape: 5.8378 - val_loss: 3.7278 - val_mae: 0.0160 - val_mape: 3.7278\n",
      "Epoch 63/200\n",
      "5/5 [==============================] - 0s 7ms/step - loss: 5.7657 - mae: 0.0215 - mape: 5.7657 - val_loss: 4.9399 - val_mae: 0.0201 - val_mape: 4.9399\n",
      "Epoch 64/200\n",
      "5/5 [==============================] - 0s 7ms/step - loss: 5.6569 - mae: 0.0206 - mape: 5.6569 - val_loss: 4.5934 - val_mae: 0.0196 - val_mape: 4.5934\n",
      "Epoch 65/200\n",
      "5/5 [==============================] - 0s 6ms/step - loss: 5.2032 - mae: 0.0194 - mape: 5.2032 - val_loss: 6.0477 - val_mae: 0.0247 - val_mape: 6.0477\n",
      "Epoch 66/200\n",
      "5/5 [==============================] - 0s 6ms/step - loss: 5.1420 - mae: 0.0186 - mape: 5.1420 - val_loss: 2.1962 - val_mae: 0.0093 - val_mape: 2.1962\n",
      "Epoch 67/200\n",
      "5/5 [==============================] - 0s 6ms/step - loss: 4.2997 - mae: 0.0160 - mape: 4.2997 - val_loss: 9.4503 - val_mae: 0.0388 - val_mape: 9.4503\n",
      "Epoch 68/200\n",
      "5/5 [==============================] - 0s 6ms/step - loss: 7.3452 - mae: 0.0262 - mape: 7.3452 - val_loss: 3.0176 - val_mae: 0.0129 - val_mape: 3.0176\n",
      "Epoch 69/200\n",
      "5/5 [==============================] - 0s 7ms/step - loss: 5.3395 - mae: 0.0197 - mape: 5.3395 - val_loss: 6.4380 - val_mae: 0.0263 - val_mape: 6.4380\n",
      "Epoch 70/200\n",
      "5/5 [==============================] - 0s 7ms/step - loss: 4.8946 - mae: 0.0175 - mape: 4.8946 - val_loss: 2.1485 - val_mae: 0.0088 - val_mape: 2.1485\n",
      "Epoch 71/200\n",
      "5/5 [==============================] - 0s 7ms/step - loss: 4.3729 - mae: 0.0160 - mape: 4.3729 - val_loss: 5.3383 - val_mae: 0.0226 - val_mape: 5.3383\n",
      "Epoch 72/200\n",
      "5/5 [==============================] - 0s 6ms/step - loss: 6.5982 - mae: 0.0242 - mape: 6.5982 - val_loss: 5.8795 - val_mae: 0.0240 - val_mape: 5.8795\n",
      "Epoch 73/200\n",
      "5/5 [==============================] - 0s 6ms/step - loss: 4.2435 - mae: 0.0154 - mape: 4.2435 - val_loss: 2.4775 - val_mae: 0.0106 - val_mape: 2.4775\n",
      "Epoch 74/200\n",
      "5/5 [==============================] - 0s 6ms/step - loss: 5.3998 - mae: 0.0199 - mape: 5.3998 - val_loss: 8.6482 - val_mae: 0.0355 - val_mape: 8.6482\n",
      "Epoch 75/200\n",
      "5/5 [==============================] - 0s 7ms/step - loss: 6.2183 - mae: 0.0218 - mape: 6.2183 - val_loss: 2.1870 - val_mae: 0.0093 - val_mape: 2.1870\n",
      "Epoch 76/200\n",
      "5/5 [==============================] - 0s 6ms/step - loss: 4.4406 - mae: 0.0164 - mape: 4.4406 - val_loss: 7.4333 - val_mae: 0.0305 - val_mape: 7.4333\n",
      "Epoch 77/200\n",
      "5/5 [==============================] - 0s 6ms/step - loss: 5.5657 - mae: 0.0202 - mape: 5.5657 - val_loss: 2.8497 - val_mae: 0.0122 - val_mape: 2.8497\n",
      "Epoch 78/200\n",
      "5/5 [==============================] - 0s 7ms/step - loss: 4.7249 - mae: 0.0176 - mape: 4.7249 - val_loss: 5.2752 - val_mae: 0.0215 - val_mape: 5.2752\n",
      "Epoch 79/200\n",
      "5/5 [==============================] - 0s 7ms/step - loss: 4.7141 - mae: 0.0172 - mape: 4.7141 - val_loss: 5.1441 - val_mae: 0.0218 - val_mape: 5.1441\n",
      "Epoch 80/200\n",
      "5/5 [==============================] - 0s 7ms/step - loss: 6.1379 - mae: 0.0229 - mape: 6.1379 - val_loss: 3.6951 - val_mae: 0.0149 - val_mape: 3.6951\n",
      "Epoch 81/200\n",
      "5/5 [==============================] - 0s 7ms/step - loss: 4.2380 - mae: 0.0152 - mape: 4.2380 - val_loss: 2.5553 - val_mae: 0.0109 - val_mape: 2.5553\n",
      "Epoch 82/200\n",
      "5/5 [==============================] - 0s 7ms/step - loss: 4.4179 - mae: 0.0165 - mape: 4.4179 - val_loss: 3.0733 - val_mae: 0.0124 - val_mape: 3.0733\n",
      "Epoch 83/200\n",
      "5/5 [==============================] - 0s 7ms/step - loss: 4.3151 - mae: 0.0157 - mape: 4.3151 - val_loss: 3.7804 - val_mae: 0.0161 - val_mape: 3.7804\n",
      "Epoch 84/200\n",
      "5/5 [==============================] - 0s 7ms/step - loss: 6.2090 - mae: 0.0230 - mape: 6.2090 - val_loss: 5.8448 - val_mae: 0.0239 - val_mape: 5.8448\n",
      "Epoch 85/200\n",
      "5/5 [==============================] - 0s 7ms/step - loss: 4.6396 - mae: 0.0168 - mape: 4.6396 - val_loss: 4.0945 - val_mae: 0.0174 - val_mape: 4.0945\n",
      "Epoch 86/200\n",
      "5/5 [==============================] - 0s 7ms/step - loss: 5.5804 - mae: 0.0206 - mape: 5.5804 - val_loss: 3.2822 - val_mae: 0.0132 - val_mape: 3.2822\n",
      "Epoch 87/200\n",
      "5/5 [==============================] - 0s 7ms/step - loss: 3.8884 - mae: 0.0142 - mape: 3.8884 - val_loss: 5.9144 - val_mae: 0.0242 - val_mape: 5.9144\n",
      "Epoch 88/200\n",
      "5/5 [==============================] - 0s 7ms/step - loss: 4.9990 - mae: 0.0180 - mape: 4.9990 - val_loss: 3.3052 - val_mae: 0.0141 - val_mape: 3.3052\n",
      "Epoch 89/200\n",
      "5/5 [==============================] - 0s 7ms/step - loss: 4.3135 - mae: 0.0160 - mape: 4.3135 - val_loss: 5.7924 - val_mae: 0.0237 - val_mape: 5.7924\n",
      "Epoch 90/200\n",
      "5/5 [==============================] - 0s 6ms/step - loss: 5.6650 - mae: 0.0206 - mape: 5.6650 - val_loss: 3.5358 - val_mae: 0.0151 - val_mape: 3.5358\n"
     ]
    }
   ],
   "source": [
    "from keras.layers import LSTM\n",
    "from keras.models import Sequential\n",
    "from tensorflow.keras.callbacks import EarlyStopping\n",
    "from keras.layers import Dense\n",
    "\n",
    "\n",
    "es = EarlyStopping(patience=20, restore_best_weights=True)\n",
    "model_lstm = Sequential()\n",
    "\n",
    "model_lstm.add(LSTM(20,return_sequences=False,input_shape = (X_train.shape[1],1))) #64 lstm neuron block\n",
    "#model_lstm.add(LSTM(64, return_sequences= False))\n",
    "model_lstm.add(Dense(32))\n",
    "model_lstm.add(Dense(1))\n",
    "\n",
    "model_lstm.compile(loss = \"mape\", optimizer = \"rmsprop\", metrics = [\"mae\", \"mape\"])\n",
    "history2 = model_lstm.fit(X_train, y_train, epochs = 200, batch_size = 64,validation_data = (X_val, y_val),callbacks=[es])"
   ]
  },
  {
   "cell_type": "code",
   "execution_count": null,
   "id": "6eec916a",
   "metadata": {},
   "outputs": [],
   "source": [
    "### loss seems ok but mape is really high. how to improve?"
   ]
  },
  {
   "cell_type": "markdown",
   "id": "8e6307d6",
   "metadata": {},
   "source": [
    "## Evaluating LSTM Model"
   ]
  },
  {
   "cell_type": "code",
   "execution_count": 54,
   "id": "52188f85",
   "metadata": {},
   "outputs": [
    {
     "name": "stdout",
     "output_type": "stream",
     "text": [
      "5/5 [==============================] - 0s 2ms/step - loss: 8.4002 - mae: 0.0559 - mape: 8.4002\n"
     ]
    },
    {
     "data": {
      "text/plain": [
       "[8.400249481201172, 0.05590040609240532, 8.400249481201172]"
      ]
     },
     "execution_count": 54,
     "metadata": {},
     "output_type": "execute_result"
    }
   ],
   "source": [
    "model_lstm.evaluate(X_test, y_test)"
   ]
  },
  {
   "cell_type": "code",
   "execution_count": 55,
   "id": "dd15ed8d",
   "metadata": {},
   "outputs": [
    {
     "data": {
      "image/png": "[encoded data removed]",
      "text/plain": [
       "<Figure size 720x360 with 1 Axes>"
      ]
     },
     "metadata": {
      "needs_background": "light"
     },
     "output_type": "display_data"
    }
   ],
   "source": [
    "plt.figure(figsize =(10,5))\n",
    "plt.plot(history2.history[\"loss\"])\n",
    "plt.xlabel(\"Epochs\")\n",
    "plt.ylabel(\"Losses\")\n",
    "plt.title(\"LSTM model, Accuracy vs Epoch\")\n",
    "plt.show()"
   ]
  },
  {
   "cell_type": "code",
   "execution_count": 56,
   "id": "f220f978",
   "metadata": {
    "scrolled": true
   },
   "outputs": [
    {
     "data": {
      "image/png": "[encoded data removed]",
      "text/plain": [
       "<Figure size 2160x864 with 1 Axes>"
      ]
     },
     "metadata": {
      "needs_background": "light"
     },
     "output_type": "display_data"
    }
   ],
   "source": [
    "plt.subplots(figsize =(30,12))\n",
    "plt.plot(scaler.inverse_transform(model_lstm.predict(X_test)), label = \"y_pred_of_test\", c = \"orange\" )\n",
    "plt.plot(scaler.inverse_transform(y_test), label = \"y_test\", color = \"g\")\n",
    "plt.xlabel(\"Days\")\n",
    "plt.ylabel(\"Ratio\")\n",
    "plt.title(\"LSTM model, Predictions with input X_test vs y_test\")\n",
    "plt.legend()\n",
    "plt.show()"
   ]
  },
  {
   "cell_type": "markdown",
   "id": "063a1ae1",
   "metadata": {},
   "source": [
    "## Creating mixed model"
   ]
  },
  {
   "cell_type": "code",
   "execution_count": null,
   "id": "e0d78ad1",
   "metadata": {},
   "outputs": [],
   "source": [
    "# baseline \n",
    "from keras.layers import LSTM\n",
    "\n",
    "model_lstm = Sequential()\n",
    "\n",
    "model_lstm.add(LSTM(64,return_sequences=True,input_shape = (X_train.shape[1],1))) #64 lstm neuron block\n",
    "model_lstm.add(LSTM(64, return_sequences= False))\n",
    "model_lstm.add(Dense(32))\n",
    "model_lstm.add(Dense(1))\n",
    "\n",
    "model_lstm.compile(loss = \"mean_squared_error\", optimizer = \"rmsprop\", metrics = [\"mae\", \"mape\"])\n",
    "history2 = model_lstm.fit(X_train, y_train, epochs = 100, batch_size = 10)"
   ]
  },
  {
   "cell_type": "code",
   "execution_count": null,
   "id": "4b348a08",
   "metadata": {},
   "outputs": [],
   "source": [
    "# baseline \n",
    "from keras.layers import LSTM\n",
    "\n",
    "model_lstm = Sequential()\n",
    "\n",
    "model_lstm.add(LSTM(64,return_sequences=True,input_shape = (X_train.shape[1],1))) #64 lstm neuron block\n",
    "model_lstm.add(LSTM(64, return_sequences= False))\n",
    "model_lstm.add(Dense(32))\n",
    "model_lstm.add(Dense(1))\n",
    "\n",
    "model_lstm.compile(loss = \"mean_squared_error\", optimizer = \"rmsprop\", metrics = [\"mae\", \"mape\"])\n",
    "history2 = model_lstm.fit(X_train, y_train, epochs = 100, batch_size = 10)"
   ]
  },
  {
   "cell_type": "code",
   "execution_count": null,
   "id": "a71bf807",
   "metadata": {},
   "outputs": [],
   "source": []
  },
  {
   "cell_type": "code",
   "execution_count": null,
   "id": "50740efc",
   "metadata": {},
   "outputs": [],
   "source": []
  },
  {
   "cell_type": "markdown",
   "id": "a2d513da",
   "metadata": {},
   "source": [
    "## Future price prediction"
   ]
  },
  {
   "cell_type": "code",
   "execution_count": null,
   "id": "3a0b622d",
   "metadata": {},
   "outputs": [],
   "source": [
    "#last day in our data?\n",
    "df.iloc[-1]"
   ]
  },
  {
   "cell_type": "markdown",
   "id": "19b71138",
   "metadata": {},
   "source": [
    "### We can predict the ratio for the day after 2022-08-23--> for 2022-08-24.\n",
    "We will use last ratios as input of our model for this prediction."
   ]
  },
  {
   "cell_type": "code",
   "execution_count": null,
   "id": "3d0ad87f",
   "metadata": {},
   "outputs": [],
   "source": [
    "X_input = df.iloc[-time_step:].ALB_ZBRA.values             # getting last rows and converting to array\n",
    "X_input = scaler.fit_transform(X_input.reshape(-1,1))     # converting to 2D array and scaling\n",
    "X_input = np.reshape(X_input, (1,time_step,1))                    # reshaping: converting to 3D array\n",
    "print(\"Shape of X_input :\", X_input.shape)\n",
    "X_input"
   ]
  },
  {
   "cell_type": "code",
   "execution_count": null,
   "id": "244f1d55",
   "metadata": {},
   "outputs": [],
   "source": [
    "simple_RNN_prediction = scaler.inverse_transform(regressor.predict(X_input))\n",
    "LSTM_prediction = scaler.inverse_transform(model_lstm.predict(X_input))\n",
    "print(\"Simple RNN, prediction for 2022-08-24:\", simple_RNN_prediction[0,0])\n",
    "print(\"LSTM, prediction for 2022-08-24:\", LSTM_prediction[0,0])"
   ]
  }
 ],
 "metadata": {
  "kernelspec": {
   "display_name": "Python 3 (ipykernel)",
   "language": "python",
   "name": "python3"
  },
  "language_info": {
   "codemirror_mode": {
    "name": "ipython",
    "version": 3
   },
   "file_extension": ".py",
   "mimetype": "text/x-python",
   "name": "python",
   "nbconvert_exporter": "python",
   "pygments_lexer": "ipython3",
   "version": "3.8.13"
  },
  "toc": {
   "base_numbering": 1,
   "nav_menu": {},
   "number_sections": true,
   "sideBar": true,
   "skip_h1_title": false,
   "title_cell": "Table of Contents",
   "title_sidebar": "Contents",
   "toc_cell": false,
   "toc_position": {
    "height": "calc(100% - 180px)",
    "left": "10px",
    "top": "150px",
    "width": "364.8px"
   },
   "toc_section_display": true,
   "toc_window_display": true
  }
 },
 "nbformat": 4,
 "nbformat_minor": 5
}
