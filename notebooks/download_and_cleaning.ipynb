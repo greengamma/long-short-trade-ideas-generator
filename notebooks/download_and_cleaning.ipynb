{
 "cells": [
  {
   "cell_type": "markdown",
   "id": "b0abe242-319f-446b-8bf7-f825be4e8014",
   "metadata": {},
   "source": [
    "### 0. Imports"
   ]
  },
  {
   "cell_type": "code",
   "execution_count": 11,
   "id": "0ae2cfca-548a-4c82-b6f8-0ed629ceb84d",
   "metadata": {},
   "outputs": [],
   "source": [
    "import pandas as pd\n",
    "import yfinance as yf\n",
    "import numpy as np\n",
    "import xlrd\n",
    "import time\n",
    "import random\n",
    "import numpy as np\n",
    "import sys\n",
    "import os"
   ]
  },
  {
   "cell_type": "markdown",
   "id": "c6b1e39e-95ac-465d-8b9a-d1138798d195",
   "metadata": {},
   "source": [
    "### 1. Data download"
   ]
  },
  {
   "cell_type": "code",
   "execution_count": 2,
   "id": "7e52569c-f665-46ef-9298-069744bd9f94",
   "metadata": {},
   "outputs": [],
   "source": [
    "# read ticker data as Series and convert to list\n",
    "tickers = pd.read_csv('../raw_data/tickers.csv', squeeze=True)\n",
    "tickers = tickers.tolist()"
   ]
  },
  {
   "cell_type": "code",
   "execution_count": 3,
   "id": "303eb226-77ff-4318-8add-4d8c0b1c0792",
   "metadata": {
    "tags": []
   },
   "outputs": [],
   "source": [
    "price_list = []\n",
    "\n",
    "for ticker in tickers:\n",
    "    stock = yf.Ticker(ticker).history(period=\"3mo\").reset_index()\n",
    "    stock = stock[['Date', 'Close']]\n",
    "    stock.rename(columns={'Close': ticker}, inplace=True)\n",
    "    price_list.append(stock)"
   ]
  },
  {
   "cell_type": "markdown",
   "id": "5443e605-020d-45c8-8ade-7da38acb0954",
   "metadata": {
    "tags": []
   },
   "source": [
    "### 2. Compute ratios"
   ]
  },
  {
   "cell_type": "code",
   "execution_count": 4,
   "id": "9087d8f5-0596-4457-a32a-1241a35b8cdb",
   "metadata": {},
   "outputs": [],
   "source": [
    "# concatenate all prices into one big dataframe\n",
    "df = pd.concat(price_list, axis=1)\n",
    "df = df.loc[:,~df.columns.duplicated()].copy()"
   ]
  },
  {
   "cell_type": "code",
   "execution_count": 5,
   "id": "c57552a9-7392-40cf-adfb-95980d4a402d",
   "metadata": {
    "tags": []
   },
   "outputs": [],
   "source": [
    "df.set_index('Date', inplace=True)"
   ]
  },
  {
   "cell_type": "code",
   "execution_count": 6,
   "id": "ceb2717d-0a60-4d80-b5ea-0286fc5eb32e",
   "metadata": {},
   "outputs": [],
   "source": [
    "# compute all ratios\n",
    "ratio_df = pd.concat([df[df.columns.difference([col])].div(df.where(df !=0, np.nan)[col], axis=0)\\\n",
    "                           .add_suffix(\"_\" + col) for col in df.columns], axis=1)"
   ]
  },
  {
   "cell_type": "markdown",
   "id": "d24a8cfd-cf9b-4b98-bcb7-065207219d65",
   "metadata": {},
   "source": [
    "### 3. Compute daily price change in %"
   ]
  },
  {
   "cell_type": "code",
   "execution_count": 7,
   "id": "5c8a1683-ba1b-4e84-a134-d2e3845f667c",
   "metadata": {
    "tags": []
   },
   "outputs": [],
   "source": [
    "# compute the % change of the ratio between today and yesterday for the last X days\n",
    "df_delta = ratio_df.pct_change(periods=1)\n",
    "df_delta = df_delta.iloc[-4:]\n",
    "\n",
    "# only select ratios with consistent positive price changes\n",
    "df_newstocks = df_delta[df_delta.iloc[:] >= 0]\n",
    "positiveRatiosPercent = df_newstocks.drop(df_newstocks.columns[df_newstocks.apply(lambda col: col.isnull().sum() > 0)], axis=1)\n",
    "labelList = list(positiveRatiosPercent.columns.values)\n",
    "df_positiveRatios = ratio_df[labelList]"
   ]
  },
  {
   "cell_type": "markdown",
   "id": "e4948b99-efe7-447a-bdf0-f6c6528abbf8",
   "metadata": {},
   "source": [
    "### 4. Friday closing"
   ]
  },
  {
   "cell_type": "code",
   "execution_count": 8,
   "id": "588b7f54-cc82-4466-be18-b3ef1ab10de2",
   "metadata": {},
   "outputs": [],
   "source": [
    "df_positiveRatios.reset_index(inplace=True)"
   ]
  },
  {
   "cell_type": "code",
   "execution_count": 9,
   "id": "b66fc39b-cc30-4c52-8adb-9a78da140500",
   "metadata": {
    "tags": []
   },
   "outputs": [],
   "source": [
    "# assign weekdays to dataframe\n",
    "df1 = df_positiveRatios.copy()\n",
    "df1['Date'] = pd.to_datetime(df1['Date']).copy()\n",
    "day_of_week_df = df1.copy()\n",
    "day_of_week_df['day_of_week'] = day_of_week_df['Date'].dt.day_name()\n",
    "# only keep the Fridays\n",
    "friday_df = day_of_week_df.copy()\n",
    "mask = day_of_week_df['day_of_week'] == \"Friday\"\n",
    "friday_df = friday_df[mask]\n",
    "# drop the other weekdays\n",
    "friday_df.drop(\"day_of_week\", axis=1, inplace=True)"
   ]
  },
  {
   "cell_type": "markdown",
   "id": "d4769211-d0e3-4a2d-a3dc-40b19a29359f",
   "metadata": {},
   "source": [
    "### 5. Increasing trend"
   ]
  },
  {
   "cell_type": "code",
   "execution_count": 17,
   "id": "a8cece2f-e1f8-412b-b9b4-09803f19c8e4",
   "metadata": {
    "tags": []
   },
   "outputs": [
    {
     "name": "stdin",
     "output_type": "stream",
     "text": [
      "For last n weeks:  10\n"
     ]
    },
    {
     "name": "stdout",
     "output_type": "stream",
     "text": [
      "<class 'IndexError'> 3519110276.py 19\n"
     ]
    }
   ],
   "source": [
    "# returns only those ratios which had an increasing trend for n weeks, based on Fridays' closing prices\n",
    "\n",
    "while 1:\n",
    "    try:\n",
    "        week_count = int(eval(input('For last n weeks: ')))\n",
    "        break\n",
    "    except:\n",
    "        print('Please enter an integer')\n",
    "\n",
    "new_df = friday_df.iloc[-week_count:, :]\n",
    "\n",
    "column_index = 0\n",
    "increasing_trend_df = []\n",
    "\n",
    "increasing_trend_list = [] \n",
    "\n",
    "while 1:\n",
    "    try:\n",
    "\n",
    "        # parsing by column\n",
    "        temp_series = new_df.iloc[:, column_index]\n",
    "        temp_series_list = temp_series.values.tolist()\n",
    "        temp_series_list_sorted = sorted(temp_series_list, key=float, reverse=False) \n",
    "              \n",
    "        if temp_series_list == temp_series_list_sorted:\n",
    "            increasing_trend_list.append(True)\n",
    "        else:\n",
    "            increasing_trend_list.append(False)\n",
    "        column_index += 1\n",
    "\n",
    "    except Exception as e:\n",
    "        exc_type, exc_obj, exc_tb = sys.exc_info()\n",
    "        fname = os.path.split(exc_tb.tb_frame.f_code.co_filename)[1]\n",
    "        print(exc_type, fname, exc_tb.tb_lineno)\n",
    "        break\n",
    "\n",
    "increasing_trend_df = new_df.iloc[:, increasing_trend_list] #passed a list of true and false to make new increasing trend df"
   ]
  },
  {
   "cell_type": "code",
   "execution_count": 24,
   "id": "e212a88a-b918-4029-9e03-9a9163df239a",
   "metadata": {
    "tags": []
   },
   "outputs": [],
   "source": [
    "# filters the dataframe accoring to last n weeks with a positive trend:\n",
    "# increasing_trend_df: contains WEEKLY closing prices for 'n' Fridays\n",
    "# complete_df: contains DAILY closing prices for the last 3 months\n",
    "complete_df = df_positiveRatios[increasing_trend_df.columns]"
   ]
  }
 ],
 "metadata": {
  "kernelspec": {
   "display_name": "Python 3 (ipykernel)",
   "language": "python",
   "name": "python3"
  },
  "language_info": {
   "codemirror_mode": {
    "name": "ipython",
    "version": 3
   },
   "file_extension": ".py",
   "mimetype": "text/x-python",
   "name": "python",
   "nbconvert_exporter": "python",
   "pygments_lexer": "ipython3",
   "version": "3.8.12"
  }
 },
 "nbformat": 4,
 "nbformat_minor": 5
}
