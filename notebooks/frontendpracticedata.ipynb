{
 "cells": [
  {
   "cell_type": "code",
   "execution_count": 3,
   "metadata": {},
   "outputs": [],
   "source": [
    "import numpy as np \n",
    "import pandas as pd\n",
    "import matplotlib.pyplot as plt"
   ]
  },
  {
   "cell_type": "code",
   "execution_count": 163,
   "metadata": {},
   "outputs": [
    {
     "data": {
      "text/html": [
       "<div>\n",
       "<style scoped>\n",
       "    .dataframe tbody tr th:only-of-type {\n",
       "        vertical-align: middle;\n",
       "    }\n",
       "\n",
       "    .dataframe tbody tr th {\n",
       "        vertical-align: top;\n",
       "    }\n",
       "\n",
       "    .dataframe thead th {\n",
       "        text-align: right;\n",
       "    }\n",
       "</style>\n",
       "<table border=\"1\" class=\"dataframe\">\n",
       "  <thead>\n",
       "    <tr style=\"text-align: right;\">\n",
       "      <th></th>\n",
       "      <th>Date</th>\n",
       "      <th>BBWI_COO</th>\n",
       "      <th>F_COO</th>\n",
       "      <th>JCI_COO</th>\n",
       "      <th>TDG_COO</th>\n",
       "      <th>F_MTD</th>\n",
       "      <th>F_LH</th>\n",
       "      <th>HWM_LH</th>\n",
       "      <th>MLM_LH</th>\n",
       "      <th>NUE_LH</th>\n",
       "      <th>...</th>\n",
       "      <th>MSI_ROL</th>\n",
       "      <th>PCAR_ROL</th>\n",
       "      <th>GM_FIS</th>\n",
       "      <th>F_EBAY</th>\n",
       "      <th>NUE_EBAY</th>\n",
       "      <th>FDS_WELL</th>\n",
       "      <th>MOS_WELL</th>\n",
       "      <th>MPC_PPL</th>\n",
       "      <th>ALB_EXPE</th>\n",
       "      <th>RCL_TECH</th>\n",
       "    </tr>\n",
       "  </thead>\n",
       "  <tbody>\n",
       "    <tr>\n",
       "      <th>0</th>\n",
       "      <td>2022-02-28</td>\n",
       "      <td>0.129193</td>\n",
       "      <td>0.042231</td>\n",
       "      <td>0.156810</td>\n",
       "      <td>1.584798</td>\n",
       "      <td>0.012260</td>\n",
       "      <td>0.064036</td>\n",
       "      <td>0.133031</td>\n",
       "      <td>1.404187</td>\n",
       "      <td>0.484114</td>\n",
       "      <td>...</td>\n",
       "      <td>6.742737</td>\n",
       "      <td>2.808011</td>\n",
       "      <td>0.495365</td>\n",
       "      <td>0.319138</td>\n",
       "      <td>2.412710</td>\n",
       "      <td>4.935906</td>\n",
       "      <td>0.635854</td>\n",
       "      <td>2.988404</td>\n",
       "      <td>0.995263</td>\n",
       "      <td>0.192802</td>\n",
       "    </tr>\n",
       "    <tr>\n",
       "      <th>1</th>\n",
       "      <td>2022-03-01</td>\n",
       "      <td>0.122627</td>\n",
       "      <td>0.039940</td>\n",
       "      <td>0.150227</td>\n",
       "      <td>1.548209</td>\n",
       "      <td>0.011789</td>\n",
       "      <td>0.061400</td>\n",
       "      <td>0.123631</td>\n",
       "      <td>1.362175</td>\n",
       "      <td>0.485791</td>\n",
       "      <td>...</td>\n",
       "      <td>6.507946</td>\n",
       "      <td>2.687288</td>\n",
       "      <td>0.479900</td>\n",
       "      <td>0.304849</td>\n",
       "      <td>2.411949</td>\n",
       "      <td>5.063797</td>\n",
       "      <td>0.636321</td>\n",
       "      <td>2.960085</td>\n",
       "      <td>0.988901</td>\n",
       "      <td>0.175641</td>\n",
       "    </tr>\n",
       "    <tr>\n",
       "      <th>2</th>\n",
       "      <td>2022-03-02</td>\n",
       "      <td>0.127060</td>\n",
       "      <td>0.042827</td>\n",
       "      <td>0.153257</td>\n",
       "      <td>1.580083</td>\n",
       "      <td>0.012833</td>\n",
       "      <td>0.066205</td>\n",
       "      <td>0.130499</td>\n",
       "      <td>1.396640</td>\n",
       "      <td>0.509156</td>\n",
       "      <td>...</td>\n",
       "      <td>6.522044</td>\n",
       "      <td>2.683561</td>\n",
       "      <td>0.491021</td>\n",
       "      <td>0.325967</td>\n",
       "      <td>2.506883</td>\n",
       "      <td>5.016822</td>\n",
       "      <td>0.645197</td>\n",
       "      <td>3.006327</td>\n",
       "      <td>0.990627</td>\n",
       "      <td>0.178398</td>\n",
       "    </tr>\n",
       "    <tr>\n",
       "      <th>3</th>\n",
       "      <td>2022-03-03</td>\n",
       "      <td>0.123758</td>\n",
       "      <td>0.041503</td>\n",
       "      <td>0.153000</td>\n",
       "      <td>1.525741</td>\n",
       "      <td>0.012324</td>\n",
       "      <td>0.064374</td>\n",
       "      <td>0.129454</td>\n",
       "      <td>1.394769</td>\n",
       "      <td>0.507366</td>\n",
       "      <td>...</td>\n",
       "      <td>6.605538</td>\n",
       "      <td>2.732250</td>\n",
       "      <td>0.489219</td>\n",
       "      <td>0.320865</td>\n",
       "      <td>2.528921</td>\n",
       "      <td>4.881579</td>\n",
       "      <td>0.660018</td>\n",
       "      <td>2.987481</td>\n",
       "      <td>1.002189</td>\n",
       "      <td>0.171448</td>\n",
       "    </tr>\n",
       "    <tr>\n",
       "      <th>4</th>\n",
       "      <td>2022-03-04</td>\n",
       "      <td>0.116190</td>\n",
       "      <td>0.039042</td>\n",
       "      <td>0.146333</td>\n",
       "      <td>1.450059</td>\n",
       "      <td>0.011934</td>\n",
       "      <td>0.061930</td>\n",
       "      <td>0.126352</td>\n",
       "      <td>1.398574</td>\n",
       "      <td>0.514247</td>\n",
       "      <td>...</td>\n",
       "      <td>6.543394</td>\n",
       "      <td>2.580805</td>\n",
       "      <td>0.473214</td>\n",
       "      <td>0.300348</td>\n",
       "      <td>2.493976</td>\n",
       "      <td>4.801994</td>\n",
       "      <td>0.695534</td>\n",
       "      <td>2.951453</td>\n",
       "      <td>1.012437</td>\n",
       "      <td>0.166966</td>\n",
       "    </tr>\n",
       "  </tbody>\n",
       "</table>\n",
       "<p>5 rows × 231 columns</p>\n",
       "</div>"
      ],
      "text/plain": [
       "        Date  BBWI_COO     F_COO   JCI_COO   TDG_COO     F_MTD      F_LH  \\\n",
       "0 2022-02-28  0.129193  0.042231  0.156810  1.584798  0.012260  0.064036   \n",
       "1 2022-03-01  0.122627  0.039940  0.150227  1.548209  0.011789  0.061400   \n",
       "2 2022-03-02  0.127060  0.042827  0.153257  1.580083  0.012833  0.066205   \n",
       "3 2022-03-03  0.123758  0.041503  0.153000  1.525741  0.012324  0.064374   \n",
       "4 2022-03-04  0.116190  0.039042  0.146333  1.450059  0.011934  0.061930   \n",
       "\n",
       "     HWM_LH    MLM_LH    NUE_LH  ...   MSI_ROL  PCAR_ROL    GM_FIS    F_EBAY  \\\n",
       "0  0.133031  1.404187  0.484114  ...  6.742737  2.808011  0.495365  0.319138   \n",
       "1  0.123631  1.362175  0.485791  ...  6.507946  2.687288  0.479900  0.304849   \n",
       "2  0.130499  1.396640  0.509156  ...  6.522044  2.683561  0.491021  0.325967   \n",
       "3  0.129454  1.394769  0.507366  ...  6.605538  2.732250  0.489219  0.320865   \n",
       "4  0.126352  1.398574  0.514247  ...  6.543394  2.580805  0.473214  0.300348   \n",
       "\n",
       "   NUE_EBAY  FDS_WELL  MOS_WELL   MPC_PPL  ALB_EXPE  RCL_TECH  \n",
       "0  2.412710  4.935906  0.635854  2.988404  0.995263  0.192802  \n",
       "1  2.411949  5.063797  0.636321  2.960085  0.988901  0.175641  \n",
       "2  2.506883  5.016822  0.645197  3.006327  0.990627  0.178398  \n",
       "3  2.528921  4.881579  0.660018  2.987481  1.002189  0.171448  \n",
       "4  2.493976  4.801994  0.695534  2.951453  1.012437  0.166966  \n",
       "\n",
       "[5 rows x 231 columns]"
      ]
     },
     "execution_count": 163,
     "metadata": {},
     "output_type": "execute_result"
    }
   ],
   "source": [
    "df = pd.read_excel('../raw_data/cleaned_data.xlsx').drop('Unnamed: 0',axis=1)\n",
    "df.head()"
   ]
  },
  {
   "cell_type": "code",
   "execution_count": 177,
   "metadata": {},
   "outputs": [
    {
     "data": {
      "text/plain": [
       "<matplotlib.legend.Legend at 0x7f2495f57bb0>"
      ]
     },
     "execution_count": 177,
     "metadata": {},
     "output_type": "execute_result"
    },
    {
     "data": {
      "image/png": "[encoded data removed]",
      "text/plain": [
       "<Figure size 720x432 with 1 Axes>"
      ]
     },
     "metadata": {
      "needs_background": "light"
     },
     "output_type": "display_data"
    }
   ],
   "source": [
    "fig2, ax2 = plt.subplots(figsize=(10, 6))\n",
    "line1= ax2.plot(df['Date'],df[df.columns[1]])\n",
    "ax2.legend(handles=line1,labels='ratio',loc='upper left',fontsize=20,mode='expand')"
   ]
  },
  {
   "cell_type": "code",
   "execution_count": 184,
   "metadata": {},
   "outputs": [],
   "source": [
    "df = pd.read_excel('../raw_data/cleaned_data.xlsx').drop('Unnamed: 0',axis=1)\n",
    "df.head()\n",
    "no_dates = df.drop('Date',axis=1).max()"
   ]
  },
  {
   "cell_type": "code",
   "execution_count": 187,
   "metadata": {},
   "outputs": [
    {
     "data": {
      "text/plain": [
       "0.01283270796827949"
      ]
     },
     "execution_count": 187,
     "metadata": {},
     "output_type": "execute_result"
    }
   ],
   "source": [
    "l = []\n",
    "for vals in no_dates:\n",
    "    l.append(vals)\n",
    "max(l)\n",
    "min(l)"
   ]
  },
  {
   "cell_type": "code",
   "execution_count": null,
   "metadata": {},
   "outputs": [],
   "source": []
  }
 ],
 "metadata": {
  "kernelspec": {
   "display_name": "Python 3 (ipykernel)",
   "language": "python",
   "name": "python3"
  },
  "language_info": {
   "codemirror_mode": {
    "name": "ipython",
    "version": 3
   },
   "file_extension": ".py",
   "mimetype": "text/x-python",
   "name": "python",
   "nbconvert_exporter": "python",
   "pygments_lexer": "ipython3",
   "version": "3.8.12"
  },
  "toc": {
   "base_numbering": 1,
   "nav_menu": {},
   "number_sections": true,
   "sideBar": true,
   "skip_h1_title": false,
   "title_cell": "Table of Contents",
   "title_sidebar": "Contents",
   "toc_cell": false,
   "toc_position": {},
   "toc_section_display": true,
   "toc_window_display": false
  },
  "vscode": {
   "interpreter": {
    "hash": "e725b363646cd94d7b27c522199f01d3b897a27db59540512cd0a13e4ec233d0"
   }
  }
 },
 "nbformat": 4,
 "nbformat_minor": 2
}
