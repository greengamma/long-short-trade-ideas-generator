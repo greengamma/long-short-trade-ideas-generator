{
 "cells": [
  {
   "cell_type": "code",
   "execution_count": 3,
   "metadata": {},
   "outputs": [],
   "source": [
    "import numpy as np \n",
    "import pandas as pd\n",
    "import matplotlib.pyplot as plt"
   ]
  },
  {
   "cell_type": "code",
   "execution_count": 8,
   "metadata": {},
   "outputs": [
    {
     "data": {
      "text/html": [
       "<div>\n",
       "<style scoped>\n",
       "    .dataframe tbody tr th:only-of-type {\n",
       "        vertical-align: middle;\n",
       "    }\n",
       "\n",
       "    .dataframe tbody tr th {\n",
       "        vertical-align: top;\n",
       "    }\n",
       "\n",
       "    .dataframe thead th {\n",
       "        text-align: right;\n",
       "    }\n",
       "</style>\n",
       "<table border=\"1\" class=\"dataframe\">\n",
       "  <thead>\n",
       "    <tr style=\"text-align: right;\">\n",
       "      <th></th>\n",
       "      <th>Date</th>\n",
       "      <th>OKE_LYB</th>\n",
       "      <th>AAPL_MKTX</th>\n",
       "      <th>MOH_VZ</th>\n",
       "      <th>UNH_VZ</th>\n",
       "      <th>LW_OGN</th>\n",
       "      <th>AJG_BXP</th>\n",
       "      <th>AON_BXP</th>\n",
       "      <th>BRO_BXP</th>\n",
       "      <th>OKE_BXP</th>\n",
       "      <th>...</th>\n",
       "      <th>TFC_NEM</th>\n",
       "      <th>TRV_NEM</th>\n",
       "      <th>TSCO_NEM</th>\n",
       "      <th>TT_NEM</th>\n",
       "      <th>UNP_NEM</th>\n",
       "      <th>UPS_NEM</th>\n",
       "      <th>WFC_NEM</th>\n",
       "      <th>WRB_NEM</th>\n",
       "      <th>WTW_NEM</th>\n",
       "      <th>ZION_NEM</th>\n",
       "    </tr>\n",
       "  </thead>\n",
       "  <tbody>\n",
       "    <tr>\n",
       "      <th>0</th>\n",
       "      <td>2022-05-20</td>\n",
       "      <td>0.613960</td>\n",
       "      <td>0.493205</td>\n",
       "      <td>6.327967</td>\n",
       "      <td>9.894877</td>\n",
       "      <td>1.688154</td>\n",
       "      <td>1.484198</td>\n",
       "      <td>2.518762</td>\n",
       "      <td>0.527496</td>\n",
       "      <td>0.600911</td>\n",
       "      <td>...</td>\n",
       "      <td>0.678417</td>\n",
       "      <td>2.511066</td>\n",
       "      <td>2.674172</td>\n",
       "      <td>1.951788</td>\n",
       "      <td>3.185898</td>\n",
       "      <td>2.547338</td>\n",
       "      <td>0.620976</td>\n",
       "      <td>0.988444</td>\n",
       "      <td>2.965878</td>\n",
       "      <td>0.774677</td>\n",
       "    </tr>\n",
       "    <tr>\n",
       "      <th>1</th>\n",
       "      <td>2022-05-23</td>\n",
       "      <td>0.620830</td>\n",
       "      <td>0.506572</td>\n",
       "      <td>6.356612</td>\n",
       "      <td>9.995980</td>\n",
       "      <td>1.714812</td>\n",
       "      <td>1.505977</td>\n",
       "      <td>2.534675</td>\n",
       "      <td>0.532548</td>\n",
       "      <td>0.596340</td>\n",
       "      <td>...</td>\n",
       "      <td>0.699532</td>\n",
       "      <td>2.559536</td>\n",
       "      <td>2.618457</td>\n",
       "      <td>1.956595</td>\n",
       "      <td>3.223757</td>\n",
       "      <td>2.587986</td>\n",
       "      <td>0.650692</td>\n",
       "      <td>1.005074</td>\n",
       "      <td>3.037960</td>\n",
       "      <td>0.806218</td>\n",
       "    </tr>\n",
       "    <tr>\n",
       "      <th>2</th>\n",
       "      <td>2022-05-24</td>\n",
       "      <td>0.624069</td>\n",
       "      <td>0.503657</td>\n",
       "      <td>6.245515</td>\n",
       "      <td>9.905870</td>\n",
       "      <td>1.708567</td>\n",
       "      <td>1.505618</td>\n",
       "      <td>2.562301</td>\n",
       "      <td>0.534924</td>\n",
       "      <td>0.600710</td>\n",
       "      <td>...</td>\n",
       "      <td>0.676767</td>\n",
       "      <td>2.526871</td>\n",
       "      <td>2.479758</td>\n",
       "      <td>1.914719</td>\n",
       "      <td>3.152396</td>\n",
       "      <td>2.524308</td>\n",
       "      <td>0.628013</td>\n",
       "      <td>0.995237</td>\n",
       "      <td>2.955466</td>\n",
       "      <td>0.776621</td>\n",
       "    </tr>\n",
       "    <tr>\n",
       "      <th>3</th>\n",
       "      <td>2022-05-25</td>\n",
       "      <td>0.622838</td>\n",
       "      <td>0.508753</td>\n",
       "      <td>6.218560</td>\n",
       "      <td>9.808046</td>\n",
       "      <td>1.679917</td>\n",
       "      <td>1.471815</td>\n",
       "      <td>2.481932</td>\n",
       "      <td>0.525870</td>\n",
       "      <td>0.601245</td>\n",
       "      <td>...</td>\n",
       "      <td>0.683329</td>\n",
       "      <td>2.503361</td>\n",
       "      <td>2.551275</td>\n",
       "      <td>1.931707</td>\n",
       "      <td>3.133580</td>\n",
       "      <td>2.501834</td>\n",
       "      <td>0.635268</td>\n",
       "      <td>0.991386</td>\n",
       "      <td>2.917628</td>\n",
       "      <td>0.791257</td>\n",
       "    </tr>\n",
       "    <tr>\n",
       "      <th>4</th>\n",
       "      <td>2022-05-26</td>\n",
       "      <td>0.615286</td>\n",
       "      <td>0.510260</td>\n",
       "      <td>5.938066</td>\n",
       "      <td>9.938056</td>\n",
       "      <td>1.715962</td>\n",
       "      <td>1.479555</td>\n",
       "      <td>2.509289</td>\n",
       "      <td>0.534717</td>\n",
       "      <td>0.597327</td>\n",
       "      <td>...</td>\n",
       "      <td>0.703057</td>\n",
       "      <td>2.552283</td>\n",
       "      <td>2.715456</td>\n",
       "      <td>1.997530</td>\n",
       "      <td>3.227883</td>\n",
       "      <td>2.597884</td>\n",
       "      <td>0.664509</td>\n",
       "      <td>1.019355</td>\n",
       "      <td>3.040985</td>\n",
       "      <td>0.821652</td>\n",
       "    </tr>\n",
       "  </tbody>\n",
       "</table>\n",
       "<p>5 rows × 80 columns</p>\n",
       "</div>"
      ],
      "text/plain": [
       "        Date   OKE_LYB  AAPL_MKTX    MOH_VZ    UNH_VZ    LW_OGN   AJG_BXP  \\\n",
       "0 2022-05-20  0.613960   0.493205  6.327967  9.894877  1.688154  1.484198   \n",
       "1 2022-05-23  0.620830   0.506572  6.356612  9.995980  1.714812  1.505977   \n",
       "2 2022-05-24  0.624069   0.503657  6.245515  9.905870  1.708567  1.505618   \n",
       "3 2022-05-25  0.622838   0.508753  6.218560  9.808046  1.679917  1.471815   \n",
       "4 2022-05-26  0.615286   0.510260  5.938066  9.938056  1.715962  1.479555   \n",
       "\n",
       "    AON_BXP   BRO_BXP   OKE_BXP  ...   TFC_NEM   TRV_NEM  TSCO_NEM    TT_NEM  \\\n",
       "0  2.518762  0.527496  0.600911  ...  0.678417  2.511066  2.674172  1.951788   \n",
       "1  2.534675  0.532548  0.596340  ...  0.699532  2.559536  2.618457  1.956595   \n",
       "2  2.562301  0.534924  0.600710  ...  0.676767  2.526871  2.479758  1.914719   \n",
       "3  2.481932  0.525870  0.601245  ...  0.683329  2.503361  2.551275  1.931707   \n",
       "4  2.509289  0.534717  0.597327  ...  0.703057  2.552283  2.715456  1.997530   \n",
       "\n",
       "    UNP_NEM   UPS_NEM   WFC_NEM   WRB_NEM   WTW_NEM  ZION_NEM  \n",
       "0  3.185898  2.547338  0.620976  0.988444  2.965878  0.774677  \n",
       "1  3.223757  2.587986  0.650692  1.005074  3.037960  0.806218  \n",
       "2  3.152396  2.524308  0.628013  0.995237  2.955466  0.776621  \n",
       "3  3.133580  2.501834  0.635268  0.991386  2.917628  0.791257  \n",
       "4  3.227883  2.597884  0.664509  1.019355  3.040985  0.821652  \n",
       "\n",
       "[5 rows x 80 columns]"
      ]
     },
     "execution_count": 8,
     "metadata": {},
     "output_type": "execute_result"
    }
   ],
   "source": [
    "df = pd.read_excel('../raw_data/cleaned_data.xlsx')\n",
    "df.head()"
   ]
  },
  {
   "cell_type": "code",
   "execution_count": 46,
   "metadata": {},
   "outputs": [
    {
     "data": {
      "text/plain": [
       "'OKE_LYB'"
      ]
     },
     "execution_count": 46,
     "metadata": {},
     "output_type": "execute_result"
    },
    {
     "data": {
      "image/png": "[encoded data removed]",
      "text/plain": [
       "<Figure size 432x288 with 1 Axes>"
      ]
     },
     "metadata": {
      "needs_background": "light"
     },
     "output_type": "display_data"
    }
   ],
   "source": [
    "plt.plot(df['OKE_LYB'])\n",
    "df.columns[1]\n",
    "\n"
   ]
  },
  {
   "cell_type": "code",
   "execution_count": 29,
   "metadata": {},
   "outputs": [
    {
     "data": {
      "text/plain": [
       "Index(['Date', 'OKE_LYB', 'AAPL_MKTX', 'MOH_VZ', 'UNH_VZ', 'LW_OGN', 'AJG_BXP',\n",
       "       'AON_BXP', 'BRO_BXP', 'OKE_BXP', 'PSA_BXP', 'UPS_BXP', 'AAPL_NEM',\n",
       "       'AFL_NEM', 'AIG_NEM', 'AJG_NEM', 'ALL_NEM', 'AMP_NEM', 'AXP_NEM',\n",
       "       'BAC_NEM', 'BR_NEM', 'BRO_NEM', 'C_NEM', 'CAH_NEM', 'CEG_NEM',\n",
       "       'CFG_NEM', 'CHRW_NEM', 'CMA_NEM', 'DFS_NEM', 'DIS_NEM', 'DOV_NEM',\n",
       "       'DRE_NEM', 'DRI_NEM', 'ECL_NEM', 'EMN_NEM', 'FAST_NEM', 'FITB_NEM',\n",
       "       'FOXA_NEM', 'FRT_NEM', 'FTV_NEM', 'GD_NEM', 'GS_NEM', 'GWW_NEM',\n",
       "       'HBAN_NEM', 'HIG_NEM', 'HWM_NEM', 'IT_NEM', 'MCK_NEM', 'MET_NEM',\n",
       "       'MLM_NEM', 'MMC_NEM', 'MS_NEM', 'MTB_NEM', 'NDSN_NEM', 'NRG_NEM',\n",
       "       'NSC_NEM', 'NTRS_NEM', 'NWS_NEM', 'NWSA_NEM', 'OMC_NEM', 'PFG_NEM',\n",
       "       'PH_NEM', 'PLD_NEM', 'PNC_NEM', 'RF_NEM', 'RHI_NEM', 'RJF_NEM',\n",
       "       'SCHW_NEM', 'SPGI_NEM', 'TDG_NEM', 'TFC_NEM', 'TRV_NEM', 'TSCO_NEM',\n",
       "       'TT_NEM', 'UNP_NEM', 'UPS_NEM', 'WFC_NEM', 'WRB_NEM', 'WTW_NEM',\n",
       "       'ZION_NEM'],\n",
       "      dtype='object')"
      ]
     },
     "execution_count": 29,
     "metadata": {},
     "output_type": "execute_result"
    }
   ],
   "source": [
    "df.columns"
   ]
  },
  {
   "cell_type": "code",
   "execution_count": 30,
   "metadata": {},
   "outputs": [],
   "source": []
  },
  {
   "cell_type": "code",
   "execution_count": 33,
   "metadata": {},
   "outputs": [
    {
     "name": "stdout",
     "output_type": "stream",
     "text": [
      "[['OKE', 'LYB'], ['AAPL', 'MKTX'], ['MOH', 'VZ'], ['UNH', 'VZ'], ['LW', 'OGN'], ['AJG', 'BXP'], ['AON', 'BXP'], ['BRO', 'BXP'], ['OKE', 'BXP'], ['PSA', 'BXP'], ['UPS', 'BXP'], ['AAPL', 'NEM'], ['AFL', 'NEM'], ['AIG', 'NEM'], ['AJG', 'NEM'], ['ALL', 'NEM'], ['AMP', 'NEM'], ['AXP', 'NEM'], ['BAC', 'NEM'], ['BR', 'NEM'], ['BRO', 'NEM'], ['C', 'NEM'], ['CAH', 'NEM'], ['CEG', 'NEM'], ['CFG', 'NEM'], ['CHRW', 'NEM'], ['CMA', 'NEM'], ['DFS', 'NEM'], ['DIS', 'NEM'], ['DOV', 'NEM'], ['DRE', 'NEM'], ['DRI', 'NEM'], ['ECL', 'NEM'], ['EMN', 'NEM'], ['FAST', 'NEM'], ['FITB', 'NEM'], ['FOXA', 'NEM'], ['FRT', 'NEM'], ['FTV', 'NEM'], ['GD', 'NEM'], ['GS', 'NEM'], ['GWW', 'NEM'], ['HBAN', 'NEM'], ['HIG', 'NEM'], ['HWM', 'NEM'], ['IT', 'NEM'], ['MCK', 'NEM'], ['MET', 'NEM'], ['MLM', 'NEM'], ['MMC', 'NEM'], ['MS', 'NEM'], ['MTB', 'NEM'], ['NDSN', 'NEM'], ['NRG', 'NEM'], ['NSC', 'NEM'], ['NTRS', 'NEM'], ['NWS', 'NEM'], ['NWSA', 'NEM'], ['OMC', 'NEM'], ['PFG', 'NEM'], ['PH', 'NEM'], ['PLD', 'NEM'], ['PNC', 'NEM'], ['RF', 'NEM'], ['RHI', 'NEM'], ['RJF', 'NEM'], ['SCHW', 'NEM'], ['SPGI', 'NEM'], ['TDG', 'NEM'], ['TFC', 'NEM'], ['TRV', 'NEM'], ['TSCO', 'NEM'], ['TT', 'NEM'], ['UNP', 'NEM'], ['UPS', 'NEM'], ['WFC', 'NEM'], ['WRB', 'NEM'], ['WTW', 'NEM'], ['ZION', 'NEM']]\n"
     ]
    }
   ],
   "source": [
    "df = pd.read_excel('../raw_data/cleaned_data.xlsx')\n",
    "hedges = df.columns[1:]\n",
    "hedge_pairs = []\n",
    "for hedge in hedges:\n",
    "    hedge_pairs.append(hedge.split('_'))\n",
    "print( hedge_pairs)"
   ]
  },
  {
   "cell_type": "code",
   "execution_count": 34,
   "metadata": {},
   "outputs": [],
   "source": [
    "def merge(stockA, stockB):\n",
    "    merged_stocks = pd.merge(stock_dict[stockA], stock_dict[stockB], on='Date')\n",
    "    return merged_stocks\n"
   ]
  },
  {
   "cell_type": "code",
   "execution_count": null,
   "metadata": {},
   "outputs": [],
   "source": [
    "for pairs in hedge_pairs:\n",
    "    merge(pairs[0],pairs[1])"
   ]
  },
  {
   "cell_type": "code",
   "execution_count": 44,
   "metadata": {},
   "outputs": [
    {
     "data": {
      "text/plain": [
       "Text(0.5, 0, 'x_label')"
      ]
     },
     "execution_count": 44,
     "metadata": {},
     "output_type": "execute_result"
    },
    {
     "data": {
      "image/png": "[encoded data removed]",
      "text/plain": [
       "<Figure size 720x432 with 1 Axes>"
      ]
     },
     "metadata": {
      "needs_background": "light"
     },
     "output_type": "display_data"
    }
   ],
   "source": [
    "fig, ax = plt.subplots(figsize=(10, 6))\n",
    "ax.plot(df['Date'],df['OKE_LYB'])\n",
    "ax.set_xlabel('x_label')\n"
   ]
  }
 ],
 "metadata": {
  "kernelspec": {
   "display_name": "Python 3 (ipykernel)",
   "language": "python",
   "name": "python3"
  },
  "language_info": {
   "codemirror_mode": {
    "name": "ipython",
    "version": 3
   },
   "file_extension": ".py",
   "mimetype": "text/x-python",
   "name": "python",
   "nbconvert_exporter": "python",
   "pygments_lexer": "ipython3",
   "version": "3.8.12"
  },
  "toc": {
   "base_numbering": 1,
   "nav_menu": {},
   "number_sections": true,
   "sideBar": true,
   "skip_h1_title": false,
   "title_cell": "Table of Contents",
   "title_sidebar": "Contents",
   "toc_cell": false,
   "toc_position": {},
   "toc_section_display": true,
   "toc_window_display": false
  },
  "vscode": {
   "interpreter": {
    "hash": "e725b363646cd94d7b27c522199f01d3b897a27db59540512cd0a13e4ec233d0"
   }
  }
 },
 "nbformat": 4,
 "nbformat_minor": 2
}
